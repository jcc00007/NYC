{
 "cells": [
  {
   "cell_type": "markdown",
   "source": [
    "# Preprocess SA2 shapefile\n",
    "This notebook is to preprocess the SA2 shapefile, retriving relevant columns for geovisualisation in the later steps\n"
   ],
   "metadata": {
    "collapsed": false
   }
  },
  {
   "cell_type": "markdown",
   "source": [
    "#### Import packages"
   ],
   "metadata": {
    "collapsed": false
   }
  },
  {
   "cell_type": "code",
   "execution_count": 1,
   "outputs": [],
   "source": [
    "import pandas as pd"
   ],
   "metadata": {
    "collapsed": false
   }
  },
  {
   "cell_type": "code",
   "execution_count": 3,
   "outputs": [
    {
     "name": "stdout",
     "output_type": "stream",
     "text": [
      "\u001B[33mDEPRECATION: Configuring installation scheme with distutils config files is deprecated and will no longer work in the near future. If you are using a Homebrew or Linuxbrew Python, please see discussion at https://github.com/Homebrew/homebrew-core/issues/76621\u001B[0m\u001B[33m\r\n",
      "\u001B[0mCollecting openpyxl\r\n",
      "  Downloading openpyxl-3.1.2-py2.py3-none-any.whl (249 kB)\r\n",
      "\u001B[2K     \u001B[90m━━━━━━━━━━━━━━━━━━━━━━━━━━━━━━━━━━━━━━━\u001B[0m \u001B[32m250.0/250.0 kB\u001B[0m \u001B[31m4.7 MB/s\u001B[0m eta \u001B[36m0:00:00\u001B[0m00:01\u001B[0m\r\n",
      "\u001B[?25hCollecting et-xmlfile\r\n",
      "  Using cached et_xmlfile-1.1.0-py3-none-any.whl (4.7 kB)\r\n",
      "Installing collected packages: et-xmlfile, openpyxl\r\n",
      "\u001B[33m  DEPRECATION: Configuring installation scheme with distutils config files is deprecated and will no longer work in the near future. If you are using a Homebrew or Linuxbrew Python, please see discussion at https://github.com/Homebrew/homebrew-core/issues/76621\u001B[0m\u001B[33m\r\n",
      "\u001B[0m\u001B[33m  DEPRECATION: Configuring installation scheme with distutils config files is deprecated and will no longer work in the near future. If you are using a Homebrew or Linuxbrew Python, please see discussion at https://github.com/Homebrew/homebrew-core/issues/76621\u001B[0m\u001B[33m\r\n",
      "\u001B[0m\u001B[33mDEPRECATION: Configuring installation scheme with distutils config files is deprecated and will no longer work in the near future. If you are using a Homebrew or Linuxbrew Python, please see discussion at https://github.com/Homebrew/homebrew-core/issues/76621\u001B[0m\u001B[33m\r\n",
      "\u001B[0mSuccessfully installed et-xmlfile-1.1.0 openpyxl-3.1.2\r\n",
      "\r\n",
      "\u001B[1m[\u001B[0m\u001B[34;49mnotice\u001B[0m\u001B[1;39;49m]\u001B[0m\u001B[39;49m A new release of pip available: \u001B[0m\u001B[31;49m22.3.1\u001B[0m\u001B[39;49m -> \u001B[0m\u001B[32;49m23.2.1\u001B[0m\r\n",
      "\u001B[1m[\u001B[0m\u001B[34;49mnotice\u001B[0m\u001B[1;39;49m]\u001B[0m\u001B[39;49m To update, run: \u001B[0m\u001B[32;49mpython3.9 -m pip install --upgrade pip\u001B[0m\r\n",
      "Note: you may need to restart the kernel to use updated packages.\n"
     ]
    }
   ],
   "source": [
    "pip install openpyxl"
   ],
   "metadata": {
    "collapsed": false
   }
  },
  {
   "cell_type": "markdown",
   "source": [
    "#### Read the file"
   ],
   "metadata": {
    "collapsed": false
   }
  },
  {
   "cell_type": "code",
   "execution_count": 6,
   "outputs": [
    {
     "data": {
      "text/plain": "                                 S/T code  S/T name GCCSA code    GCCSA name  \\\n0                                     NaN       NaN        NaN           NaN   \n1                                       2  Victoria      2RVIC  Rest of Vic.   \n2                                       2  Victoria      2RVIC  Rest of Vic.   \n3                                       2  Victoria      2RVIC  Rest of Vic.   \n4                                       2  Victoria      2RVIC  Rest of Vic.   \n..                                    ...       ...        ...           ...   \n525                                   NaN       NaN        NaN           NaN   \n526                                   NaN       NaN        NaN           NaN   \n527  Source: Regional population, 2021-22       NaN        NaN           NaN   \n528                                   NaN       NaN        NaN           NaN   \n529      © Commonwealth of Australia 2023       NaN        NaN           NaN   \n\n     SA4 code  SA4 name  SA3 code  SA3 name     SA2 code   SA2 name  ...  \\\n0         NaN       NaN       NaN       NaN          NaN        NaN  ...   \n1       201.0  Ballarat   20101.0  Ballarat  201011001.0  Alfredton  ...   \n2       201.0  Ballarat   20101.0  Ballarat  201011002.0   Ballarat  ...   \n3       201.0  Ballarat   20101.0  Ballarat  201011005.0  Buninyong  ...   \n4       201.0  Ballarat   20101.0  Ballarat  201011006.0  Delacombe  ...   \n..        ...       ...       ...       ...          ...        ...  ...   \n525       NaN       NaN       NaN       NaN          NaN        NaN  ...   \n526       NaN       NaN       NaN       NaN          NaN        NaN  ...   \n527       NaN       NaN       NaN       NaN          NaN        NaN  ...   \n528       NaN       NaN       NaN       NaN          NaN        NaN  ...   \n529       NaN       NaN       NaN       NaN          NaN        NaN  ...   \n\n     Unnamed: 12   no..2     %  Unnamed: 15  no..3  no..4  no..5  Unnamed: 19  \\\n0            NaN     NaN   NaN          NaN    NaN    NaN    NaN          NaN   \n1            NaN  1150.0   6.8          NaN  169.0  899.0   82.0          NaN   \n2            NaN  -140.0  -1.2          NaN  -83.0 -134.0   77.0          NaN   \n3            NaN    15.0   0.2          NaN   32.0  -53.0   36.0          NaN   \n4            NaN  1142.0  10.7          NaN  123.0  996.0   23.0          NaN   \n..           ...     ...   ...          ...    ...    ...    ...          ...   \n525          NaN     NaN   NaN          NaN    NaN    NaN    NaN          NaN   \n526          NaN     NaN   NaN          NaN    NaN    NaN    NaN          NaN   \n527          NaN     NaN   NaN          NaN    NaN    NaN    NaN          NaN   \n528          NaN     NaN   NaN          NaN    NaN    NaN    NaN          NaN   \n529          NaN     NaN   NaN          NaN    NaN    NaN    NaN          NaN   \n\n      km2  persons/km2  \n0     NaN          NaN  \n1    52.7        341.3  \n2    12.4        963.8  \n3    51.6        140.4  \n4    34.2        345.1  \n..    ...          ...  \n525   NaN          NaN  \n526   NaN          NaN  \n527   NaN          NaN  \n528   NaN          NaN  \n529   NaN          NaN  \n\n[530 rows x 22 columns]",
      "text/html": "<div>\n<style scoped>\n    .dataframe tbody tr th:only-of-type {\n        vertical-align: middle;\n    }\n\n    .dataframe tbody tr th {\n        vertical-align: top;\n    }\n\n    .dataframe thead th {\n        text-align: right;\n    }\n</style>\n<table border=\"1\" class=\"dataframe\">\n  <thead>\n    <tr style=\"text-align: right;\">\n      <th></th>\n      <th>S/T code</th>\n      <th>S/T name</th>\n      <th>GCCSA code</th>\n      <th>GCCSA name</th>\n      <th>SA4 code</th>\n      <th>SA4 name</th>\n      <th>SA3 code</th>\n      <th>SA3 name</th>\n      <th>SA2 code</th>\n      <th>SA2 name</th>\n      <th>...</th>\n      <th>Unnamed: 12</th>\n      <th>no..2</th>\n      <th>%</th>\n      <th>Unnamed: 15</th>\n      <th>no..3</th>\n      <th>no..4</th>\n      <th>no..5</th>\n      <th>Unnamed: 19</th>\n      <th>km2</th>\n      <th>persons/km2</th>\n    </tr>\n  </thead>\n  <tbody>\n    <tr>\n      <th>0</th>\n      <td>NaN</td>\n      <td>NaN</td>\n      <td>NaN</td>\n      <td>NaN</td>\n      <td>NaN</td>\n      <td>NaN</td>\n      <td>NaN</td>\n      <td>NaN</td>\n      <td>NaN</td>\n      <td>NaN</td>\n      <td>...</td>\n      <td>NaN</td>\n      <td>NaN</td>\n      <td>NaN</td>\n      <td>NaN</td>\n      <td>NaN</td>\n      <td>NaN</td>\n      <td>NaN</td>\n      <td>NaN</td>\n      <td>NaN</td>\n      <td>NaN</td>\n    </tr>\n    <tr>\n      <th>1</th>\n      <td>2</td>\n      <td>Victoria</td>\n      <td>2RVIC</td>\n      <td>Rest of Vic.</td>\n      <td>201.0</td>\n      <td>Ballarat</td>\n      <td>20101.0</td>\n      <td>Ballarat</td>\n      <td>201011001.0</td>\n      <td>Alfredton</td>\n      <td>...</td>\n      <td>NaN</td>\n      <td>1150.0</td>\n      <td>6.8</td>\n      <td>NaN</td>\n      <td>169.0</td>\n      <td>899.0</td>\n      <td>82.0</td>\n      <td>NaN</td>\n      <td>52.7</td>\n      <td>341.3</td>\n    </tr>\n    <tr>\n      <th>2</th>\n      <td>2</td>\n      <td>Victoria</td>\n      <td>2RVIC</td>\n      <td>Rest of Vic.</td>\n      <td>201.0</td>\n      <td>Ballarat</td>\n      <td>20101.0</td>\n      <td>Ballarat</td>\n      <td>201011002.0</td>\n      <td>Ballarat</td>\n      <td>...</td>\n      <td>NaN</td>\n      <td>-140.0</td>\n      <td>-1.2</td>\n      <td>NaN</td>\n      <td>-83.0</td>\n      <td>-134.0</td>\n      <td>77.0</td>\n      <td>NaN</td>\n      <td>12.4</td>\n      <td>963.8</td>\n    </tr>\n    <tr>\n      <th>3</th>\n      <td>2</td>\n      <td>Victoria</td>\n      <td>2RVIC</td>\n      <td>Rest of Vic.</td>\n      <td>201.0</td>\n      <td>Ballarat</td>\n      <td>20101.0</td>\n      <td>Ballarat</td>\n      <td>201011005.0</td>\n      <td>Buninyong</td>\n      <td>...</td>\n      <td>NaN</td>\n      <td>15.0</td>\n      <td>0.2</td>\n      <td>NaN</td>\n      <td>32.0</td>\n      <td>-53.0</td>\n      <td>36.0</td>\n      <td>NaN</td>\n      <td>51.6</td>\n      <td>140.4</td>\n    </tr>\n    <tr>\n      <th>4</th>\n      <td>2</td>\n      <td>Victoria</td>\n      <td>2RVIC</td>\n      <td>Rest of Vic.</td>\n      <td>201.0</td>\n      <td>Ballarat</td>\n      <td>20101.0</td>\n      <td>Ballarat</td>\n      <td>201011006.0</td>\n      <td>Delacombe</td>\n      <td>...</td>\n      <td>NaN</td>\n      <td>1142.0</td>\n      <td>10.7</td>\n      <td>NaN</td>\n      <td>123.0</td>\n      <td>996.0</td>\n      <td>23.0</td>\n      <td>NaN</td>\n      <td>34.2</td>\n      <td>345.1</td>\n    </tr>\n    <tr>\n      <th>...</th>\n      <td>...</td>\n      <td>...</td>\n      <td>...</td>\n      <td>...</td>\n      <td>...</td>\n      <td>...</td>\n      <td>...</td>\n      <td>...</td>\n      <td>...</td>\n      <td>...</td>\n      <td>...</td>\n      <td>...</td>\n      <td>...</td>\n      <td>...</td>\n      <td>...</td>\n      <td>...</td>\n      <td>...</td>\n      <td>...</td>\n      <td>...</td>\n      <td>...</td>\n      <td>...</td>\n    </tr>\n    <tr>\n      <th>525</th>\n      <td>NaN</td>\n      <td>NaN</td>\n      <td>NaN</td>\n      <td>NaN</td>\n      <td>NaN</td>\n      <td>NaN</td>\n      <td>NaN</td>\n      <td>NaN</td>\n      <td>NaN</td>\n      <td>NaN</td>\n      <td>...</td>\n      <td>NaN</td>\n      <td>NaN</td>\n      <td>NaN</td>\n      <td>NaN</td>\n      <td>NaN</td>\n      <td>NaN</td>\n      <td>NaN</td>\n      <td>NaN</td>\n      <td>NaN</td>\n      <td>NaN</td>\n    </tr>\n    <tr>\n      <th>526</th>\n      <td>NaN</td>\n      <td>NaN</td>\n      <td>NaN</td>\n      <td>NaN</td>\n      <td>NaN</td>\n      <td>NaN</td>\n      <td>NaN</td>\n      <td>NaN</td>\n      <td>NaN</td>\n      <td>NaN</td>\n      <td>...</td>\n      <td>NaN</td>\n      <td>NaN</td>\n      <td>NaN</td>\n      <td>NaN</td>\n      <td>NaN</td>\n      <td>NaN</td>\n      <td>NaN</td>\n      <td>NaN</td>\n      <td>NaN</td>\n      <td>NaN</td>\n    </tr>\n    <tr>\n      <th>527</th>\n      <td>Source: Regional population, 2021-22</td>\n      <td>NaN</td>\n      <td>NaN</td>\n      <td>NaN</td>\n      <td>NaN</td>\n      <td>NaN</td>\n      <td>NaN</td>\n      <td>NaN</td>\n      <td>NaN</td>\n      <td>NaN</td>\n      <td>...</td>\n      <td>NaN</td>\n      <td>NaN</td>\n      <td>NaN</td>\n      <td>NaN</td>\n      <td>NaN</td>\n      <td>NaN</td>\n      <td>NaN</td>\n      <td>NaN</td>\n      <td>NaN</td>\n      <td>NaN</td>\n    </tr>\n    <tr>\n      <th>528</th>\n      <td>NaN</td>\n      <td>NaN</td>\n      <td>NaN</td>\n      <td>NaN</td>\n      <td>NaN</td>\n      <td>NaN</td>\n      <td>NaN</td>\n      <td>NaN</td>\n      <td>NaN</td>\n      <td>NaN</td>\n      <td>...</td>\n      <td>NaN</td>\n      <td>NaN</td>\n      <td>NaN</td>\n      <td>NaN</td>\n      <td>NaN</td>\n      <td>NaN</td>\n      <td>NaN</td>\n      <td>NaN</td>\n      <td>NaN</td>\n      <td>NaN</td>\n    </tr>\n    <tr>\n      <th>529</th>\n      <td>© Commonwealth of Australia 2023</td>\n      <td>NaN</td>\n      <td>NaN</td>\n      <td>NaN</td>\n      <td>NaN</td>\n      <td>NaN</td>\n      <td>NaN</td>\n      <td>NaN</td>\n      <td>NaN</td>\n      <td>NaN</td>\n      <td>...</td>\n      <td>NaN</td>\n      <td>NaN</td>\n      <td>NaN</td>\n      <td>NaN</td>\n      <td>NaN</td>\n      <td>NaN</td>\n      <td>NaN</td>\n      <td>NaN</td>\n      <td>NaN</td>\n      <td>NaN</td>\n    </tr>\n  </tbody>\n</table>\n<p>530 rows × 22 columns</p>\n</div>"
     },
     "execution_count": 6,
     "metadata": {},
     "output_type": "execute_result"
    }
   ],
   "source": [
    "# load 2021 ABS Census data on family number\n",
    "# table 2\n",
    "SA2_listing_2021_path = \"../data/raw/2021-22 SA2 ERP VIC.xlsx\"\n",
    "skip_rows = 7\n",
    "SA2_listing_2021_data = pd.read_excel(SA2_listing_2021_path, sheet_name='Table 2', skiprows=skip_rows)\n",
    "SA2_listing_2021_data"
   ],
   "metadata": {
    "collapsed": false
   }
  },
  {
   "cell_type": "code",
   "execution_count": 7,
   "outputs": [
    {
     "data": {
      "text/plain": "                                 S/T code  S/T name GCCSA code    GCCSA name  \\\n1                                       2  Victoria      2RVIC  Rest of Vic.   \n2                                       2  Victoria      2RVIC  Rest of Vic.   \n3                                       2  Victoria      2RVIC  Rest of Vic.   \n4                                       2  Victoria      2RVIC  Rest of Vic.   \n5                                       2  Victoria      2RVIC  Rest of Vic.   \n..                                    ...       ...        ...           ...   \n525                                   NaN       NaN        NaN           NaN   \n526                                   NaN       NaN        NaN           NaN   \n527  Source: Regional population, 2021-22       NaN        NaN           NaN   \n528                                   NaN       NaN        NaN           NaN   \n529      © Commonwealth of Australia 2023       NaN        NaN           NaN   \n\n     SA4 code  SA4 name  SA3 code  SA3 name     SA2 code       SA2 name  ...  \\\n1       201.0  Ballarat   20101.0  Ballarat  201011001.0      Alfredton  ...   \n2       201.0  Ballarat   20101.0  Ballarat  201011002.0       Ballarat  ...   \n3       201.0  Ballarat   20101.0  Ballarat  201011005.0      Buninyong  ...   \n4       201.0  Ballarat   20101.0  Ballarat  201011006.0      Delacombe  ...   \n5       201.0  Ballarat   20101.0  Ballarat  201011007.0  Smythes Creek  ...   \n..        ...       ...       ...       ...          ...            ...  ...   \n525       NaN       NaN       NaN       NaN          NaN            NaN  ...   \n526       NaN       NaN       NaN       NaN          NaN            NaN  ...   \n527       NaN       NaN       NaN       NaN          NaN            NaN  ...   \n528       NaN       NaN       NaN       NaN          NaN            NaN  ...   \n529       NaN       NaN       NaN       NaN          NaN            NaN  ...   \n\n     Unnamed: 12   no..2     %  Unnamed: 15  no..3  no..4  no..5  Unnamed: 19  \\\n1            NaN  1150.0   6.8          NaN  169.0  899.0   82.0          NaN   \n2            NaN  -140.0  -1.2          NaN  -83.0 -134.0   77.0          NaN   \n3            NaN    15.0   0.2          NaN   32.0  -53.0   36.0          NaN   \n4            NaN  1142.0  10.7          NaN  123.0  996.0   23.0          NaN   \n5            NaN    11.0   0.3          NaN   17.0   -8.0    2.0          NaN   \n..           ...     ...   ...          ...    ...    ...    ...          ...   \n525          NaN     NaN   NaN          NaN    NaN    NaN    NaN          NaN   \n526          NaN     NaN   NaN          NaN    NaN    NaN    NaN          NaN   \n527          NaN     NaN   NaN          NaN    NaN    NaN    NaN          NaN   \n528          NaN     NaN   NaN          NaN    NaN    NaN    NaN          NaN   \n529          NaN     NaN   NaN          NaN    NaN    NaN    NaN          NaN   \n\n       km2  persons/km2  \n1     52.7        341.3  \n2     12.4        963.8  \n3     51.6        140.4  \n4     34.2        345.1  \n5    104.7         40.3  \n..     ...          ...  \n525    NaN          NaN  \n526    NaN          NaN  \n527    NaN          NaN  \n528    NaN          NaN  \n529    NaN          NaN  \n\n[529 rows x 22 columns]",
      "text/html": "<div>\n<style scoped>\n    .dataframe tbody tr th:only-of-type {\n        vertical-align: middle;\n    }\n\n    .dataframe tbody tr th {\n        vertical-align: top;\n    }\n\n    .dataframe thead th {\n        text-align: right;\n    }\n</style>\n<table border=\"1\" class=\"dataframe\">\n  <thead>\n    <tr style=\"text-align: right;\">\n      <th></th>\n      <th>S/T code</th>\n      <th>S/T name</th>\n      <th>GCCSA code</th>\n      <th>GCCSA name</th>\n      <th>SA4 code</th>\n      <th>SA4 name</th>\n      <th>SA3 code</th>\n      <th>SA3 name</th>\n      <th>SA2 code</th>\n      <th>SA2 name</th>\n      <th>...</th>\n      <th>Unnamed: 12</th>\n      <th>no..2</th>\n      <th>%</th>\n      <th>Unnamed: 15</th>\n      <th>no..3</th>\n      <th>no..4</th>\n      <th>no..5</th>\n      <th>Unnamed: 19</th>\n      <th>km2</th>\n      <th>persons/km2</th>\n    </tr>\n  </thead>\n  <tbody>\n    <tr>\n      <th>1</th>\n      <td>2</td>\n      <td>Victoria</td>\n      <td>2RVIC</td>\n      <td>Rest of Vic.</td>\n      <td>201.0</td>\n      <td>Ballarat</td>\n      <td>20101.0</td>\n      <td>Ballarat</td>\n      <td>201011001.0</td>\n      <td>Alfredton</td>\n      <td>...</td>\n      <td>NaN</td>\n      <td>1150.0</td>\n      <td>6.8</td>\n      <td>NaN</td>\n      <td>169.0</td>\n      <td>899.0</td>\n      <td>82.0</td>\n      <td>NaN</td>\n      <td>52.7</td>\n      <td>341.3</td>\n    </tr>\n    <tr>\n      <th>2</th>\n      <td>2</td>\n      <td>Victoria</td>\n      <td>2RVIC</td>\n      <td>Rest of Vic.</td>\n      <td>201.0</td>\n      <td>Ballarat</td>\n      <td>20101.0</td>\n      <td>Ballarat</td>\n      <td>201011002.0</td>\n      <td>Ballarat</td>\n      <td>...</td>\n      <td>NaN</td>\n      <td>-140.0</td>\n      <td>-1.2</td>\n      <td>NaN</td>\n      <td>-83.0</td>\n      <td>-134.0</td>\n      <td>77.0</td>\n      <td>NaN</td>\n      <td>12.4</td>\n      <td>963.8</td>\n    </tr>\n    <tr>\n      <th>3</th>\n      <td>2</td>\n      <td>Victoria</td>\n      <td>2RVIC</td>\n      <td>Rest of Vic.</td>\n      <td>201.0</td>\n      <td>Ballarat</td>\n      <td>20101.0</td>\n      <td>Ballarat</td>\n      <td>201011005.0</td>\n      <td>Buninyong</td>\n      <td>...</td>\n      <td>NaN</td>\n      <td>15.0</td>\n      <td>0.2</td>\n      <td>NaN</td>\n      <td>32.0</td>\n      <td>-53.0</td>\n      <td>36.0</td>\n      <td>NaN</td>\n      <td>51.6</td>\n      <td>140.4</td>\n    </tr>\n    <tr>\n      <th>4</th>\n      <td>2</td>\n      <td>Victoria</td>\n      <td>2RVIC</td>\n      <td>Rest of Vic.</td>\n      <td>201.0</td>\n      <td>Ballarat</td>\n      <td>20101.0</td>\n      <td>Ballarat</td>\n      <td>201011006.0</td>\n      <td>Delacombe</td>\n      <td>...</td>\n      <td>NaN</td>\n      <td>1142.0</td>\n      <td>10.7</td>\n      <td>NaN</td>\n      <td>123.0</td>\n      <td>996.0</td>\n      <td>23.0</td>\n      <td>NaN</td>\n      <td>34.2</td>\n      <td>345.1</td>\n    </tr>\n    <tr>\n      <th>5</th>\n      <td>2</td>\n      <td>Victoria</td>\n      <td>2RVIC</td>\n      <td>Rest of Vic.</td>\n      <td>201.0</td>\n      <td>Ballarat</td>\n      <td>20101.0</td>\n      <td>Ballarat</td>\n      <td>201011007.0</td>\n      <td>Smythes Creek</td>\n      <td>...</td>\n      <td>NaN</td>\n      <td>11.0</td>\n      <td>0.3</td>\n      <td>NaN</td>\n      <td>17.0</td>\n      <td>-8.0</td>\n      <td>2.0</td>\n      <td>NaN</td>\n      <td>104.7</td>\n      <td>40.3</td>\n    </tr>\n    <tr>\n      <th>...</th>\n      <td>...</td>\n      <td>...</td>\n      <td>...</td>\n      <td>...</td>\n      <td>...</td>\n      <td>...</td>\n      <td>...</td>\n      <td>...</td>\n      <td>...</td>\n      <td>...</td>\n      <td>...</td>\n      <td>...</td>\n      <td>...</td>\n      <td>...</td>\n      <td>...</td>\n      <td>...</td>\n      <td>...</td>\n      <td>...</td>\n      <td>...</td>\n      <td>...</td>\n      <td>...</td>\n    </tr>\n    <tr>\n      <th>525</th>\n      <td>NaN</td>\n      <td>NaN</td>\n      <td>NaN</td>\n      <td>NaN</td>\n      <td>NaN</td>\n      <td>NaN</td>\n      <td>NaN</td>\n      <td>NaN</td>\n      <td>NaN</td>\n      <td>NaN</td>\n      <td>...</td>\n      <td>NaN</td>\n      <td>NaN</td>\n      <td>NaN</td>\n      <td>NaN</td>\n      <td>NaN</td>\n      <td>NaN</td>\n      <td>NaN</td>\n      <td>NaN</td>\n      <td>NaN</td>\n      <td>NaN</td>\n    </tr>\n    <tr>\n      <th>526</th>\n      <td>NaN</td>\n      <td>NaN</td>\n      <td>NaN</td>\n      <td>NaN</td>\n      <td>NaN</td>\n      <td>NaN</td>\n      <td>NaN</td>\n      <td>NaN</td>\n      <td>NaN</td>\n      <td>NaN</td>\n      <td>...</td>\n      <td>NaN</td>\n      <td>NaN</td>\n      <td>NaN</td>\n      <td>NaN</td>\n      <td>NaN</td>\n      <td>NaN</td>\n      <td>NaN</td>\n      <td>NaN</td>\n      <td>NaN</td>\n      <td>NaN</td>\n    </tr>\n    <tr>\n      <th>527</th>\n      <td>Source: Regional population, 2021-22</td>\n      <td>NaN</td>\n      <td>NaN</td>\n      <td>NaN</td>\n      <td>NaN</td>\n      <td>NaN</td>\n      <td>NaN</td>\n      <td>NaN</td>\n      <td>NaN</td>\n      <td>NaN</td>\n      <td>...</td>\n      <td>NaN</td>\n      <td>NaN</td>\n      <td>NaN</td>\n      <td>NaN</td>\n      <td>NaN</td>\n      <td>NaN</td>\n      <td>NaN</td>\n      <td>NaN</td>\n      <td>NaN</td>\n      <td>NaN</td>\n    </tr>\n    <tr>\n      <th>528</th>\n      <td>NaN</td>\n      <td>NaN</td>\n      <td>NaN</td>\n      <td>NaN</td>\n      <td>NaN</td>\n      <td>NaN</td>\n      <td>NaN</td>\n      <td>NaN</td>\n      <td>NaN</td>\n      <td>NaN</td>\n      <td>...</td>\n      <td>NaN</td>\n      <td>NaN</td>\n      <td>NaN</td>\n      <td>NaN</td>\n      <td>NaN</td>\n      <td>NaN</td>\n      <td>NaN</td>\n      <td>NaN</td>\n      <td>NaN</td>\n      <td>NaN</td>\n    </tr>\n    <tr>\n      <th>529</th>\n      <td>© Commonwealth of Australia 2023</td>\n      <td>NaN</td>\n      <td>NaN</td>\n      <td>NaN</td>\n      <td>NaN</td>\n      <td>NaN</td>\n      <td>NaN</td>\n      <td>NaN</td>\n      <td>NaN</td>\n      <td>NaN</td>\n      <td>...</td>\n      <td>NaN</td>\n      <td>NaN</td>\n      <td>NaN</td>\n      <td>NaN</td>\n      <td>NaN</td>\n      <td>NaN</td>\n      <td>NaN</td>\n      <td>NaN</td>\n      <td>NaN</td>\n      <td>NaN</td>\n    </tr>\n  </tbody>\n</table>\n<p>529 rows × 22 columns</p>\n</div>"
     },
     "execution_count": 7,
     "metadata": {},
     "output_type": "execute_result"
    }
   ],
   "source": [
    "SA2_listing_2021_data.drop(SA2_listing_2021_data.index[0], inplace = True)\n",
    "SA2_listing_2021_data"
   ],
   "metadata": {
    "collapsed": false
   }
  },
  {
   "cell_type": "code",
   "execution_count": null,
   "outputs": [],
   "source": [
    "selected_columns = [['Name', 'City']]"
   ],
   "metadata": {
    "collapsed": false
   }
  }
 ],
 "metadata": {
  "kernelspec": {
   "display_name": "Python 3",
   "language": "python",
   "name": "python3"
  },
  "language_info": {
   "codemirror_mode": {
    "name": "ipython",
    "version": 2
   },
   "file_extension": ".py",
   "mimetype": "text/x-python",
   "name": "python",
   "nbconvert_exporter": "python",
   "pygments_lexer": "ipython2",
   "version": "2.7.6"
  }
 },
 "nbformat": 4,
 "nbformat_minor": 0
}
