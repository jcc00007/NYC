{
 "cells": [
  {
   "cell_type": "markdown",
   "source": [
    "# Preprocess shopping center data\n",
    "This notebook is to preprocess the shopping center data, at the end, we will get the number of shopping centers in each suburb and their geo location"
   ],
   "metadata": {
    "collapsed": false
   }
  },
  {
   "cell_type": "markdown",
   "source": [
    "### Import packages"
   ],
   "metadata": {
    "collapsed": false
   }
  },
  {
   "cell_type": "code",
   "execution_count": 1,
   "outputs": [],
   "source": [
    "import re\n",
    "import pandas as pd\n",
    "import numpy as np\n",
    "import geopandas as gpd\n",
    "from shapely.geometry import Point"
   ],
   "metadata": {
    "collapsed": false
   }
  },
  {
   "cell_type": "markdown",
   "source": [
    "### Read the files"
   ],
   "metadata": {
    "collapsed": false
   }
  },
  {
   "cell_type": "code",
   "execution_count": 2,
   "id": "c8e12a31-79be-4919-965c-6983d2a8ce3c",
   "metadata": {},
   "outputs": [],
   "source": [
    "shopping_centers = pd.read_csv('../data/landing/shopping_center.csv')"
   ]
  },
  {
   "cell_type": "code",
   "execution_count": 3,
   "id": "d2002bb1-094e-4ce2-8a17-30c391acbf30",
   "metadata": {},
   "outputs": [
    {
     "data": {
      "text/html": [
       "<div>\n",
       "<style scoped>\n",
       "    .dataframe tbody tr th:only-of-type {\n",
       "        vertical-align: middle;\n",
       "    }\n",
       "\n",
       "    .dataframe tbody tr th {\n",
       "        vertical-align: top;\n",
       "    }\n",
       "\n",
       "    .dataframe thead th {\n",
       "        text-align: right;\n",
       "    }\n",
       "</style>\n",
       "<table border=\"1\" class=\"dataframe\">\n",
       "  <thead>\n",
       "    <tr style=\"text-align: right;\">\n",
       "      <th></th>\n",
       "      <th>name</th>\n",
       "      <th>information</th>\n",
       "    </tr>\n",
       "  </thead>\n",
       "  <tbody>\n",
       "    <tr>\n",
       "      <th>0</th>\n",
       "      <td>206 Bourke Street</td>\n",
       "      <td>Victoria, Melbourne, GPS: -37.812733, 144.9669...</td>\n",
       "    </tr>\n",
       "    <tr>\n",
       "      <th>1</th>\n",
       "      <td>670 Chapel</td>\n",
       "      <td>Victoria, Melbourne, GPS: -37.837395, 144.9961...</td>\n",
       "    </tr>\n",
       "    <tr>\n",
       "      <th>2</th>\n",
       "      <td>Acland Court Shopping Centre</td>\n",
       "      <td>Victoria, St Kilda, GPS: -37.868967, 144.98061...</td>\n",
       "    </tr>\n",
       "    <tr>\n",
       "      <th>3</th>\n",
       "      <td>Altona Gate Shopping Centre</td>\n",
       "      <td>Victoria, Melbourne, GPS: -37.828989, 144.8462...</td>\n",
       "    </tr>\n",
       "    <tr>\n",
       "      <th>4</th>\n",
       "      <td>Arena Shopping Centre</td>\n",
       "      <td>Victoria, Officer, GPS: -38.064493171914, 145....</td>\n",
       "    </tr>\n",
       "  </tbody>\n",
       "</table>\n",
       "</div>"
      ],
      "text/plain": [
       "                           name  \\\n",
       "0             206 Bourke Street   \n",
       "1                    670 Chapel   \n",
       "2  Acland Court Shopping Centre   \n",
       "3   Altona Gate Shopping Centre   \n",
       "4         Arena Shopping Centre   \n",
       "\n",
       "                                         information  \n",
       "0  Victoria, Melbourne, GPS: -37.812733, 144.9669...  \n",
       "1  Victoria, Melbourne, GPS: -37.837395, 144.9961...  \n",
       "2  Victoria, St Kilda, GPS: -37.868967, 144.98061...  \n",
       "3  Victoria, Melbourne, GPS: -37.828989, 144.8462...  \n",
       "4  Victoria, Officer, GPS: -38.064493171914, 145....  "
      ]
     },
     "execution_count": 3,
     "metadata": {},
     "output_type": "execute_result"
    }
   ],
   "source": [
    "shopping_centers.head()"
   ]
  },
  {
   "cell_type": "markdown",
   "id": "f89c8151-cd06-4059-a09b-34ff7341fde3",
   "metadata": {},
   "source": [
    "# Retrieve information for each shopping center "
   ]
  },
  {
   "cell_type": "code",
   "execution_count": 4,
   "id": "8d35a69d-eec4-42bc-8e8f-5e535942c580",
   "metadata": {},
   "outputs": [],
   "source": [
    "def fill_shopping_info (i, state, city, lantitude, longitude, num_store):\n",
    "    '''fill in the ith row of a dataframe with relevant information about a shopping center'''\n",
    "    shopping_centers.loc[i, 'state'] = state\n",
    "    shopping_centers.loc[i, 'city'] = city \n",
    "    shopping_centers.loc[i, 'longitude'] = longitude\n",
    "    shopping_centers.loc[i, 'latitude'] = lantitude\n",
    "    shopping_centers.loc[i, 'num_store'] = num_store"
   ]
  },
  {
   "cell_type": "code",
   "execution_count": 5,
   "id": "5e100b53-014c-4666-913f-d70a79abc923",
   "metadata": {},
   "outputs": [],
   "source": [
    "for i in range(shopping_centers.shape[0]):\n",
    "    info = shopping_centers.loc[i, 'information']\n",
    "    # match the informations\n",
    "    try:\n",
    "        retrieved_info= re.findall('(.+),\\s(.+),\\sGPS:\\s(.+),\\s(.+)\\s\\|\\sphone:\\s(?:\\+61\\s)?.+\\s\\|\\sstores:\\s(.+)', info)[0]\n",
    "        fill_shopping_info(i, *retrieved_info)\n",
    "\n",
    "    # some shopping contain information in a different format, we deal with them seperately\n",
    "    except IndexError:\n",
    "        if i in [30,174,189,198]:\n",
    "            retrieved_info = re.findall('(.+),\\s(.+),\\sGPS:\\s(.+),\\s(.+)\\s\\|\\sphone:.+', info)[0]\n",
    "            fill_shopping_info(i, *retrieved_info, num_store=np.nan)\n",
    "\n",
    "        else:\n",
    "            retrieved_info = re.findall('(.+),\\s(.+),\\sGPS:\\s(.+),\\s(.+)\\s\\s\\|\\sstores:\\s(.+)', info)[0]\n",
    "            fill_shopping_info(i, *retrieved_info)           "
   ]
  },
  {
   "cell_type": "code",
   "execution_count": 6,
   "id": "c3211b11-d8f0-4174-aeaf-e90d5a4aaead",
   "metadata": {},
   "outputs": [
    {
     "data": {
      "text/html": [
       "<div>\n",
       "<style scoped>\n",
       "    .dataframe tbody tr th:only-of-type {\n",
       "        vertical-align: middle;\n",
       "    }\n",
       "\n",
       "    .dataframe tbody tr th {\n",
       "        vertical-align: top;\n",
       "    }\n",
       "\n",
       "    .dataframe thead th {\n",
       "        text-align: right;\n",
       "    }\n",
       "</style>\n",
       "<table border=\"1\" class=\"dataframe\">\n",
       "  <thead>\n",
       "    <tr style=\"text-align: right;\">\n",
       "      <th></th>\n",
       "      <th>name</th>\n",
       "      <th>state</th>\n",
       "      <th>city</th>\n",
       "      <th>longitude</th>\n",
       "      <th>latitude</th>\n",
       "      <th>num_store</th>\n",
       "    </tr>\n",
       "  </thead>\n",
       "  <tbody>\n",
       "    <tr>\n",
       "      <th>0</th>\n",
       "      <td>206 Bourke Street</td>\n",
       "      <td>Victoria</td>\n",
       "      <td>Melbourne</td>\n",
       "      <td>144.966947</td>\n",
       "      <td>-37.812733</td>\n",
       "      <td>14</td>\n",
       "    </tr>\n",
       "    <tr>\n",
       "      <th>1</th>\n",
       "      <td>670 Chapel</td>\n",
       "      <td>Victoria</td>\n",
       "      <td>Melbourne</td>\n",
       "      <td>144.996158</td>\n",
       "      <td>-37.837395</td>\n",
       "      <td>28</td>\n",
       "    </tr>\n",
       "    <tr>\n",
       "      <th>2</th>\n",
       "      <td>Acland Court Shopping Centre</td>\n",
       "      <td>Victoria</td>\n",
       "      <td>St Kilda</td>\n",
       "      <td>144.980617</td>\n",
       "      <td>-37.868967</td>\n",
       "      <td>11</td>\n",
       "    </tr>\n",
       "    <tr>\n",
       "      <th>3</th>\n",
       "      <td>Altona Gate Shopping Centre</td>\n",
       "      <td>Victoria</td>\n",
       "      <td>Melbourne</td>\n",
       "      <td>144.84627</td>\n",
       "      <td>-37.828989</td>\n",
       "      <td>63</td>\n",
       "    </tr>\n",
       "    <tr>\n",
       "      <th>4</th>\n",
       "      <td>Arena Shopping Centre</td>\n",
       "      <td>Victoria</td>\n",
       "      <td>Officer</td>\n",
       "      <td>145.43517539621</td>\n",
       "      <td>-38.064493171914</td>\n",
       "      <td>30</td>\n",
       "    </tr>\n",
       "  </tbody>\n",
       "</table>\n",
       "</div>"
      ],
      "text/plain": [
       "                           name     state       city        longitude  \\\n",
       "0             206 Bourke Street  Victoria  Melbourne       144.966947   \n",
       "1                    670 Chapel  Victoria  Melbourne       144.996158   \n",
       "2  Acland Court Shopping Centre  Victoria   St Kilda       144.980617   \n",
       "3   Altona Gate Shopping Centre  Victoria  Melbourne        144.84627   \n",
       "4         Arena Shopping Centre  Victoria    Officer  145.43517539621   \n",
       "\n",
       "           latitude num_store  \n",
       "0        -37.812733        14  \n",
       "1        -37.837395        28  \n",
       "2        -37.868967        11  \n",
       "3        -37.828989        63  \n",
       "4  -38.064493171914        30  "
      ]
     },
     "execution_count": 6,
     "metadata": {},
     "output_type": "execute_result"
    }
   ],
   "source": [
    "shopping_centers.drop('information', inplace=True, axis=1)\n",
    "shopping_centers.head()"
   ]
  },
  {
   "cell_type": "code",
   "execution_count": 7,
   "id": "6dcd180c-094f-458b-848f-0c5602771693",
   "metadata": {},
   "outputs": [],
   "source": [
    "# number of store should be an integer however, since it contain nan, we leave it as float\n",
    "shopping_centers['num_store'] = shopping_centers['num_store'].astype(float)\n",
    "\n",
    "# the longitude and lantitude info should be float instead of string\n",
    "shopping_centers['longitude'] = shopping_centers['longitude'].astype(float)\n",
    "shopping_centers['latitude'] = shopping_centers['latitude'].astype(float)"
   ]
  },
  {
   "cell_type": "code",
   "execution_count": 8,
   "id": "581956d2-4246-4e54-ae9d-9eb92cf89862",
   "metadata": {},
   "outputs": [
    {
     "data": {
      "text/plain": [
       "name          object\n",
       "state         object\n",
       "city          object\n",
       "longitude    float64\n",
       "latitude     float64\n",
       "num_store    float64\n",
       "dtype: object"
      ]
     },
     "execution_count": 8,
     "metadata": {},
     "output_type": "execute_result"
    }
   ],
   "source": [
    "shopping_centers.dtypes"
   ]
  },
  {
   "cell_type": "markdown",
   "id": "0ba8dcbc-b785-4c9a-8569-261adb8120e6",
   "metadata": {},
   "source": [
    "# Get the SA2 region for each shopping center"
   ]
  },
  {
   "cell_type": "code",
   "execution_count": 9,
   "id": "f9d85c03-ddd5-498c-9e7e-0cbcdd6d3651",
   "metadata": {},
   "outputs": [],
   "source": [
    "# read the shpae file that contain SA2 info\n",
    "suburbs = gpd.read_file(\"../data/curated/SA2_2021_AUST_GDA2020.shp\")"
   ]
  },
  {
   "cell_type": "code",
   "execution_count": 10,
   "id": "7e7b6262-0fde-4052-a8ed-ce724e4be843",
   "metadata": {},
   "outputs": [],
   "source": [
    "# get the relevant columns\n",
    "suburbs = suburbs.loc[suburbs['STE_NAME21']=='Victoria']\n",
    "suburbs = suburbs[['SA2_CODE21','SA2_NAME21','geometry']]"
   ]
  },
  {
   "cell_type": "code",
   "execution_count": 11,
   "id": "c86a2241-737d-4feb-90cc-101934ad228f",
   "metadata": {},
   "outputs": [],
   "source": [
    "# Convert the shopping center dataframe to a gdf\n",
    "geometry = [Point(xy) for xy in zip(shopping_centers['longitude'], shopping_centers['latitude'])]\n",
    "shopping_gdf = gpd.GeoDataFrame(shopping_centers, geometry=geometry)"
   ]
  },
  {
   "cell_type": "code",
   "execution_count": 12,
   "id": "0badc1d2-4c32-47c5-9331-c0077813e280",
   "metadata": {},
   "outputs": [
    {
     "name": "stderr",
     "output_type": "stream",
     "text": [
      "/Users/sunnywu/Library/Python/3.9/lib/python/site-packages/IPython/core/interactiveshell.py:3448: FutureWarning: The `op` parameter is deprecated and will be removed in a future release. Please use the `predicate` parameter instead.\n",
      "  if await self.run_code(code, result, async_=asy):\n",
      "/var/folders/_9/rb9s3yd952d26d6ytbnwjc3h0000gn/T/ipykernel_98678/1763719919.py:2: UserWarning: CRS mismatch between the CRS of left geometries and the CRS of right geometries.\n",
      "Use `to_crs()` to reproject one of the input geometries to match the CRS of the other.\n",
      "\n",
      "Left CRS: None\n",
      "Right CRS: EPSG:7844\n",
      "\n",
      "  joined = gpd.sjoin(shopping_gdf, suburbs, how=\"left\", op=\"within\")\n"
     ]
    }
   ],
   "source": [
    "# Use sjoin to find out which suburb each point belongs to\n",
    "joined = gpd.sjoin(shopping_gdf, suburbs, how=\"left\", op=\"within\")\n",
    "\n",
    "# If your suburbs shapefile has a column named 'suburb_name' that specifies the name of the suburb\n",
    "shopping_gdf['SA2_NAME'] = joined['SA2_NAME21']\n",
    "shopping_gdf['SA2_CODE'] = joined['SA2_CODE21']"
   ]
  },
  {
   "cell_type": "code",
   "execution_count": 16,
   "id": "b2556285-73e4-44ec-a966-674beb6055e8",
   "metadata": {},
   "outputs": [],
   "source": [
    "# saved the shopping centers to curated data file\n",
    "shopping_gdf.to_csv('../data/curated/shopping_centers.csv', index=False)"
   ]
  },
  {
   "cell_type": "code",
   "execution_count": null,
   "id": "51c68525-bacd-46d4-b871-1bf45b938a5f",
   "metadata": {},
   "outputs": [],
   "source": []
  }
 ],
 "metadata": {
  "kernelspec": {
   "display_name": "Python 3 (ipykernel)",
   "language": "python",
   "name": "python3"
  },
  "language_info": {
   "codemirror_mode": {
    "name": "ipython",
    "version": 3
   },
   "file_extension": ".py",
   "mimetype": "text/x-python",
   "name": "python",
   "nbconvert_exporter": "python",
   "pygments_lexer": "ipython3",
   "version": "3.9.6"
  }
 },
 "nbformat": 4,
 "nbformat_minor": 5
}
