{
 "cells": [
  {
   "cell_type": "markdown",
   "source": [
    "# Map SA2 to SAL region\n",
    "The purpose of this file is to get a 1 to 1 correspondance between SAL and SA2 regions"
   ],
   "metadata": {
    "collapsed": false
   }
  },
  {
   "cell_type": "markdown",
   "source": [
    "### Import packages"
   ],
   "metadata": {
    "collapsed": false
   }
  },
  {
   "cell_type": "code",
   "execution_count": 1,
   "outputs": [],
   "source": [
    "import geopandas as gpd\n",
    "import pandas as pd"
   ],
   "metadata": {
    "collapsed": false
   }
  },
  {
   "cell_type": "markdown",
   "source": [
    "### Read file"
   ],
   "metadata": {
    "collapsed": false
   }
  },
  {
   "cell_type": "code",
   "execution_count": 2,
   "outputs": [],
   "source": [
    "# Read the geopandas shapefile for the SA2 and SAL data\n",
    "SA2 = gpd.read_file('../data/raw/victoria_region_gdf/SA2_region_gdf.geojson')\n",
    "SAL = gpd.read_file('../data/raw/victoria_region_gdf/SAL_region_gdf.geojson')"
   ],
   "metadata": {
    "collapsed": false
   }
  },
  {
   "cell_type": "code",
   "execution_count": 4,
   "id": "2bcb74e5-7bf6-4017-9d71-5f050840c544",
   "metadata": {},
   "outputs": [],
   "source": [
    "# Select only relevant columns\n",
    "SA2 = SA2[['SA2_CODE21', 'geometry']]\n",
    "SAL = SAL[['SAL_CODE21', 'geometry']]"
   ]
  },
  {
   "cell_type": "code",
   "execution_count": 5,
   "id": "4cbb9307-5975-45d0-a1b8-12cc1ed5c7d5",
   "metadata": {},
   "outputs": [
    {
     "name": "stderr",
     "output_type": "stream",
     "text": [
      "/var/folders/_9/rb9s3yd952d26d6ytbnwjc3h0000gn/T/ipykernel_29215/2613400819.py:2: SettingWithCopyWarning: \n",
      "A value is trying to be set on a copy of a slice from a DataFrame\n",
      "\n",
      "See the caveats in the documentation: https://pandas.pydata.org/pandas-docs/stable/user_guide/indexing.html#returning-a-view-versus-a-copy\n",
      "  SA2.dropna(inplace = True)\n"
     ]
    }
   ],
   "source": [
    "# drop nan values for SA2 and SAL regions that doesn't have a shape\n",
    "SA2.dropna(inplace = True)\n",
    "SAL.dropna(inplace = True)"
   ]
  },
  {
   "cell_type": "markdown",
   "source": [
    "### Start mapping"
   ],
   "metadata": {
    "collapsed": false
   }
  },
  {
   "cell_type": "code",
   "execution_count": 6,
   "id": "8dae68c5-dc13-45da-bb43-8c3a92ef4855",
   "metadata": {},
   "outputs": [],
   "source": [
    "# For each SAL region, find the SA2 region that it belongs to by the most overlap\n",
    "max_overlap_mapping = []\n",
    "for sal_idx, sal_row in SAL.iterrows():\n",
    "    max_overlap_area = 0\n",
    "    max_overlap_index = None\n",
    "    \n",
    "    # Iterate over each SA2 shape and compute intersection area\n",
    "    for sa2_idx, sa2_row in SA2.iterrows():\n",
    "        intersection_area = sal_row['geometry'].intersection(sa2_row['geometry']).area\n",
    "        \n",
    "        if intersection_area > max_overlap_area:\n",
    "            max_overlap_area = intersection_area\n",
    "            max_overlap_index = sa2_idx\n",
    "    \n",
    "    max_overlap_mapping.append((sal_idx, max_overlap_index))\n",
    "\n",
    "# Convert the mapping to a dataframe\n",
    "mapping_df = pd.DataFrame(max_overlap_mapping, columns=['SAL_CODE21', 'SA2_CODE21'])\n",
    "\n",
    "# Join SAL with the mapping\n",
    "result_df = SAL.join(mapping_df.set_index('SAL_CODE21'), how='left')\n",
    "\n",
    "# Join the result with SA2 to get SA2 details\n",
    "result_df = result_df.join(SA2, on='SA2_CODE21', rsuffix='_SA2')"
   ]
  },
  {
   "cell_type": "code",
   "execution_count": 7,
   "id": "fa6ed9b2-6e22-4eac-adba-fd6a398d9dca",
   "metadata": {},
   "outputs": [],
   "source": [
    "# Select the relevant columns in the result dataframe\n",
    "result_df = result_df[['SAL_CODE21', 'SA2_CODE21_SA2']].rename(columns = {'SA2_CODE21_SA2': 'SA2_CODE21'})"
   ]
  },
  {
   "cell_type": "markdown",
   "source": [
    "### Save the file"
   ],
   "metadata": {
    "collapsed": false
   }
  },
  {
   "cell_type": "code",
   "execution_count": 8,
   "id": "0fbd71e2-0a1e-4095-bb9b-0759b3b9833a",
   "metadata": {},
   "outputs": [],
   "source": [
    "# Save the SA2 to SAL correspondance file to csv\n",
    "result_df.to_csv('../data/curated/SA2_to_SAL.csv', index = False)"
   ]
  },
  {
   "cell_type": "code",
   "execution_count": null,
   "id": "96992f9e-8342-4e52-ad9d-63496b193cd8",
   "metadata": {},
   "outputs": [],
   "source": []
  },
  {
   "cell_type": "code",
   "execution_count": null,
   "id": "b13114a5-0e64-4229-b90d-00d394ce2e0b",
   "metadata": {},
   "outputs": [],
   "source": []
  }
 ],
 "metadata": {
  "kernelspec": {
   "display_name": "Python 3 (ipykernel)",
   "language": "python",
   "name": "python3"
  },
  "language_info": {
   "codemirror_mode": {
    "name": "ipython",
    "version": 3
   },
   "file_extension": ".py",
   "mimetype": "text/x-python",
   "name": "python",
   "nbconvert_exporter": "python",
   "pygments_lexer": "ipython3",
   "version": "3.9.6"
  }
 },
 "nbformat": 4,
 "nbformat_minor": 5
}
