{
 "cells": [
  {
   "cell_type": "markdown",
   "source": [
    "# Preprocessing 2021 ABS census data on population\n",
    "\n",
    "This notebook is to preprocess the external population data per SA2 in 2021"
   ],
   "metadata": {
    "collapsed": false
   }
  },
  {
   "cell_type": "markdown",
   "source": [
    "## Import package"
   ],
   "metadata": {
    "collapsed": false
   }
  },
  {
   "cell_type": "code",
   "execution_count": 28,
   "outputs": [],
   "source": [
    "import pandas as pd"
   ],
   "metadata": {
    "collapsed": false
   }
  },
  {
   "cell_type": "markdown",
   "source": [
    "#### Preprocessing Population data\n",
    "First, we want to know how many people per SA2 code in 2021\n"
   ],
   "metadata": {
    "collapsed": false
   }
  },
  {
   "cell_type": "code",
   "execution_count": 135,
   "outputs": [
    {
     "data": {
      "text/plain": "                                    FNOF Family Number  \\\n0                                             SA2 (EN)   \n1                                            Alfredton   \n2                                             Ballarat   \n3                                            Buninyong   \n4                                            Delacombe   \n..                                                 ...   \n524                                              Total   \n525  Dataset: Census of Population and Housing, 202...   \n526                                               INFO   \n527  Copyright Commonwealth of Australia, 2021, see...   \n528  ABS data licensed under Creative Commons, see ...   \n\n                                        Primary family  Second family  \\\n0                                                  NaN            NaN   \n1                                                 4485           77.0   \n2                                                 3028           20.0   \n3                                                 1989           23.0   \n4                                                 2887           45.0   \n..                                                 ...            ...   \n524                                            1676132        41094.0   \n525                                                NaN            NaN   \n526  Cells in this table have been randomly adjuste...            NaN   \n527                                                NaN            NaN   \n528                                                NaN            NaN   \n\n     Third family  Not applicable      Total  Unnamed: 6  \n0             NaN             NaN        NaN         NaN  \n1             0.0          1728.0     6287.0         NaN  \n2             0.0          2426.0     5486.0         NaN  \n3             0.0           708.0     2716.0         NaN  \n4             0.0          1332.0     4266.0         NaN  \n..            ...             ...        ...         ...  \n524        1546.0        931140.0  2649914.0         NaN  \n525           NaN             NaN        NaN         NaN  \n526           NaN             NaN        NaN         NaN  \n527           NaN             NaN        NaN         NaN  \n528           NaN             NaN        NaN         NaN  \n\n[529 rows x 7 columns]",
      "text/html": "<div>\n<style scoped>\n    .dataframe tbody tr th:only-of-type {\n        vertical-align: middle;\n    }\n\n    .dataframe tbody tr th {\n        vertical-align: top;\n    }\n\n    .dataframe thead th {\n        text-align: right;\n    }\n</style>\n<table border=\"1\" class=\"dataframe\">\n  <thead>\n    <tr style=\"text-align: right;\">\n      <th></th>\n      <th>FNOF Family Number</th>\n      <th>Primary family</th>\n      <th>Second family</th>\n      <th>Third family</th>\n      <th>Not applicable</th>\n      <th>Total</th>\n      <th>Unnamed: 6</th>\n    </tr>\n  </thead>\n  <tbody>\n    <tr>\n      <th>0</th>\n      <td>SA2 (EN)</td>\n      <td>NaN</td>\n      <td>NaN</td>\n      <td>NaN</td>\n      <td>NaN</td>\n      <td>NaN</td>\n      <td>NaN</td>\n    </tr>\n    <tr>\n      <th>1</th>\n      <td>Alfredton</td>\n      <td>4485</td>\n      <td>77.0</td>\n      <td>0.0</td>\n      <td>1728.0</td>\n      <td>6287.0</td>\n      <td>NaN</td>\n    </tr>\n    <tr>\n      <th>2</th>\n      <td>Ballarat</td>\n      <td>3028</td>\n      <td>20.0</td>\n      <td>0.0</td>\n      <td>2426.0</td>\n      <td>5486.0</td>\n      <td>NaN</td>\n    </tr>\n    <tr>\n      <th>3</th>\n      <td>Buninyong</td>\n      <td>1989</td>\n      <td>23.0</td>\n      <td>0.0</td>\n      <td>708.0</td>\n      <td>2716.0</td>\n      <td>NaN</td>\n    </tr>\n    <tr>\n      <th>4</th>\n      <td>Delacombe</td>\n      <td>2887</td>\n      <td>45.0</td>\n      <td>0.0</td>\n      <td>1332.0</td>\n      <td>4266.0</td>\n      <td>NaN</td>\n    </tr>\n    <tr>\n      <th>...</th>\n      <td>...</td>\n      <td>...</td>\n      <td>...</td>\n      <td>...</td>\n      <td>...</td>\n      <td>...</td>\n      <td>...</td>\n    </tr>\n    <tr>\n      <th>524</th>\n      <td>Total</td>\n      <td>1676132</td>\n      <td>41094.0</td>\n      <td>1546.0</td>\n      <td>931140.0</td>\n      <td>2649914.0</td>\n      <td>NaN</td>\n    </tr>\n    <tr>\n      <th>525</th>\n      <td>Dataset: Census of Population and Housing, 202...</td>\n      <td>NaN</td>\n      <td>NaN</td>\n      <td>NaN</td>\n      <td>NaN</td>\n      <td>NaN</td>\n      <td>NaN</td>\n    </tr>\n    <tr>\n      <th>526</th>\n      <td>INFO</td>\n      <td>Cells in this table have been randomly adjuste...</td>\n      <td>NaN</td>\n      <td>NaN</td>\n      <td>NaN</td>\n      <td>NaN</td>\n      <td>NaN</td>\n    </tr>\n    <tr>\n      <th>527</th>\n      <td>Copyright Commonwealth of Australia, 2021, see...</td>\n      <td>NaN</td>\n      <td>NaN</td>\n      <td>NaN</td>\n      <td>NaN</td>\n      <td>NaN</td>\n      <td>NaN</td>\n    </tr>\n    <tr>\n      <th>528</th>\n      <td>ABS data licensed under Creative Commons, see ...</td>\n      <td>NaN</td>\n      <td>NaN</td>\n      <td>NaN</td>\n      <td>NaN</td>\n      <td>NaN</td>\n      <td>NaN</td>\n    </tr>\n  </tbody>\n</table>\n<p>529 rows × 7 columns</p>\n</div>"
     },
     "execution_count": 135,
     "metadata": {},
     "output_type": "execute_result"
    }
   ],
   "source": [
    "# load 2021 ABS Census data on family number\n",
    "family_count_2021_path = \"../data/landing/ABS_data/SA2_(EN)_by_FNOF_Family_Number.csv\"\n",
    "skip_rows = 9\n",
    "family_count_2021_data = pd.read_csv(family_count_2021_path, skiprows=skip_rows)\n",
    "family_count_2021_data"
   ],
   "metadata": {
    "collapsed": false
   }
  },
  {
   "cell_type": "code",
   "execution_count": 136,
   "outputs": [
    {
     "name": "stdout",
     "output_type": "stream",
     "text": [
      "<class 'pandas.core.frame.DataFrame'>\n",
      "RangeIndex: 529 entries, 0 to 528\n",
      "Data columns (total 7 columns):\n",
      " #   Column              Non-Null Count  Dtype  \n",
      "---  ------              --------------  -----  \n",
      " 0   FNOF Family Number  529 non-null    object \n",
      " 1   Primary family      525 non-null    object \n",
      " 2   Second family       524 non-null    float64\n",
      " 3   Third family        524 non-null    float64\n",
      " 4   Not applicable      524 non-null    float64\n",
      " 5   Total               524 non-null    float64\n",
      " 6   Unnamed: 6          0 non-null      float64\n",
      "dtypes: float64(5), object(2)\n",
      "memory usage: 29.1+ KB\n"
     ]
    }
   ],
   "source": [
    "family_count_2021_data.info()"
   ],
   "metadata": {
    "collapsed": false
   }
  },
  {
   "cell_type": "code",
   "execution_count": 137,
   "outputs": [],
   "source": [
    "family_count_2021_data = family_count_2021_data.applymap(lambda x: 0 if \"Cells \"\n",
    "                                                                          \"in this table have been randomly adjusted to avoid the release of confidential data. \"\n",
    "                                                                          \"No reliance should be \"\n",
    "                                                                          \"placed on small cells.\"\n",
    "                                                                          \"\" in str(x) else x)"
   ],
   "metadata": {
    "collapsed": false
   }
  },
  {
   "cell_type": "code",
   "execution_count": 138,
   "outputs": [
    {
     "name": "stdout",
     "output_type": "stream",
     "text": [
      "<class 'pandas.core.frame.DataFrame'>\n",
      "RangeIndex: 529 entries, 0 to 528\n",
      "Data columns (total 7 columns):\n",
      " #   Column              Non-Null Count  Dtype  \n",
      "---  ------              --------------  -----  \n",
      " 0   FNOF Family Number  529 non-null    object \n",
      " 1   Primary family      525 non-null    float64\n",
      " 2   Second family       524 non-null    float64\n",
      " 3   Third family        524 non-null    float64\n",
      " 4   Not applicable      524 non-null    float64\n",
      " 5   Total               524 non-null    float64\n",
      " 6   Unnamed: 6          0 non-null      float64\n",
      "dtypes: float64(6), object(1)\n",
      "memory usage: 29.1+ KB\n"
     ]
    }
   ],
   "source": [
    "family_count_2021_data['Primary family'] = family_count_2021_data['Primary family'].astype(float)\n",
    "family_count_2021_data.info()"
   ],
   "metadata": {
    "collapsed": false
   }
  },
  {
   "cell_type": "code",
   "execution_count": 139,
   "outputs": [
    {
     "data": {
      "text/plain": "                                    FNOF Family Number  Primary family  \\\n1                                            Alfredton          4485.0   \n2                                             Ballarat          3028.0   \n3                                            Buninyong          1989.0   \n4                                            Delacombe          2887.0   \n5                                        Smythes Creek          1174.0   \n..                                                 ...             ...   \n524                                              Total       1676132.0   \n525  Dataset: Census of Population and Housing, 202...             NaN   \n526                                               INFO             0.0   \n527  Copyright Commonwealth of Australia, 2021, see...             NaN   \n528  ABS data licensed under Creative Commons, see ...             NaN   \n\n     Second family  Third family  Not applicable      Total  \n1             77.0           0.0          1728.0     6287.0  \n2             20.0           0.0          2426.0     5486.0  \n3             23.0           0.0           708.0     2716.0  \n4             45.0           0.0          1332.0     4266.0  \n5             41.0           0.0           314.0     1528.0  \n..             ...           ...             ...        ...  \n524        41094.0        1546.0        931140.0  2649914.0  \n525            NaN           NaN             NaN        NaN  \n526            NaN           NaN             NaN        NaN  \n527            NaN           NaN             NaN        NaN  \n528            NaN           NaN             NaN        NaN  \n\n[528 rows x 6 columns]",
      "text/html": "<div>\n<style scoped>\n    .dataframe tbody tr th:only-of-type {\n        vertical-align: middle;\n    }\n\n    .dataframe tbody tr th {\n        vertical-align: top;\n    }\n\n    .dataframe thead th {\n        text-align: right;\n    }\n</style>\n<table border=\"1\" class=\"dataframe\">\n  <thead>\n    <tr style=\"text-align: right;\">\n      <th></th>\n      <th>FNOF Family Number</th>\n      <th>Primary family</th>\n      <th>Second family</th>\n      <th>Third family</th>\n      <th>Not applicable</th>\n      <th>Total</th>\n    </tr>\n  </thead>\n  <tbody>\n    <tr>\n      <th>1</th>\n      <td>Alfredton</td>\n      <td>4485.0</td>\n      <td>77.0</td>\n      <td>0.0</td>\n      <td>1728.0</td>\n      <td>6287.0</td>\n    </tr>\n    <tr>\n      <th>2</th>\n      <td>Ballarat</td>\n      <td>3028.0</td>\n      <td>20.0</td>\n      <td>0.0</td>\n      <td>2426.0</td>\n      <td>5486.0</td>\n    </tr>\n    <tr>\n      <th>3</th>\n      <td>Buninyong</td>\n      <td>1989.0</td>\n      <td>23.0</td>\n      <td>0.0</td>\n      <td>708.0</td>\n      <td>2716.0</td>\n    </tr>\n    <tr>\n      <th>4</th>\n      <td>Delacombe</td>\n      <td>2887.0</td>\n      <td>45.0</td>\n      <td>0.0</td>\n      <td>1332.0</td>\n      <td>4266.0</td>\n    </tr>\n    <tr>\n      <th>5</th>\n      <td>Smythes Creek</td>\n      <td>1174.0</td>\n      <td>41.0</td>\n      <td>0.0</td>\n      <td>314.0</td>\n      <td>1528.0</td>\n    </tr>\n    <tr>\n      <th>...</th>\n      <td>...</td>\n      <td>...</td>\n      <td>...</td>\n      <td>...</td>\n      <td>...</td>\n      <td>...</td>\n    </tr>\n    <tr>\n      <th>524</th>\n      <td>Total</td>\n      <td>1676132.0</td>\n      <td>41094.0</td>\n      <td>1546.0</td>\n      <td>931140.0</td>\n      <td>2649914.0</td>\n    </tr>\n    <tr>\n      <th>525</th>\n      <td>Dataset: Census of Population and Housing, 202...</td>\n      <td>NaN</td>\n      <td>NaN</td>\n      <td>NaN</td>\n      <td>NaN</td>\n      <td>NaN</td>\n    </tr>\n    <tr>\n      <th>526</th>\n      <td>INFO</td>\n      <td>0.0</td>\n      <td>NaN</td>\n      <td>NaN</td>\n      <td>NaN</td>\n      <td>NaN</td>\n    </tr>\n    <tr>\n      <th>527</th>\n      <td>Copyright Commonwealth of Australia, 2021, see...</td>\n      <td>NaN</td>\n      <td>NaN</td>\n      <td>NaN</td>\n      <td>NaN</td>\n      <td>NaN</td>\n    </tr>\n    <tr>\n      <th>528</th>\n      <td>ABS data licensed under Creative Commons, see ...</td>\n      <td>NaN</td>\n      <td>NaN</td>\n      <td>NaN</td>\n      <td>NaN</td>\n      <td>NaN</td>\n    </tr>\n  </tbody>\n</table>\n<p>528 rows × 6 columns</p>\n</div>"
     },
     "execution_count": 139,
     "metadata": {},
     "output_type": "execute_result"
    }
   ],
   "source": [
    "# preprocessing\n",
    "family_count_2021_data.drop(family_count_2021_data.index[0], inplace = True)\n",
    "family_count_2021_data.drop(columns=family_count_2021_data.columns[-1], inplace = True)\n",
    "family_count_2021_data"
   ],
   "metadata": {
    "collapsed": false
   }
  },
  {
   "cell_type": "code",
   "execution_count": 140,
   "outputs": [
    {
     "data": {
      "text/plain": "                                              SA2 Name  Primary family  \\\n1                                            Alfredton          4485.0   \n2                                             Ballarat          3028.0   \n3                                            Buninyong          1989.0   \n4                                            Delacombe          2887.0   \n5                                        Smythes Creek          1174.0   \n..                                                 ...             ...   \n524                                              Total       1676132.0   \n525  Dataset: Census of Population and Housing, 202...             NaN   \n526                                               INFO             0.0   \n527  Copyright Commonwealth of Australia, 2021, see...             NaN   \n528  ABS data licensed under Creative Commons, see ...             NaN   \n\n     Second family  Third family  Extended Family  Total Suburb Population  \n1             77.0           0.0           1728.0                   6287.0  \n2             20.0           0.0           2426.0                   5486.0  \n3             23.0           0.0            708.0                   2716.0  \n4             45.0           0.0           1332.0                   4266.0  \n5             41.0           0.0            314.0                   1528.0  \n..             ...           ...              ...                      ...  \n524        41094.0        1546.0         931140.0                2649914.0  \n525            NaN           NaN              NaN                      NaN  \n526            NaN           NaN              NaN                      NaN  \n527            NaN           NaN              NaN                      NaN  \n528            NaN           NaN              NaN                      NaN  \n\n[528 rows x 6 columns]",
      "text/html": "<div>\n<style scoped>\n    .dataframe tbody tr th:only-of-type {\n        vertical-align: middle;\n    }\n\n    .dataframe tbody tr th {\n        vertical-align: top;\n    }\n\n    .dataframe thead th {\n        text-align: right;\n    }\n</style>\n<table border=\"1\" class=\"dataframe\">\n  <thead>\n    <tr style=\"text-align: right;\">\n      <th></th>\n      <th>SA2 Name</th>\n      <th>Primary family</th>\n      <th>Second family</th>\n      <th>Third family</th>\n      <th>Extended Family</th>\n      <th>Total Suburb Population</th>\n    </tr>\n  </thead>\n  <tbody>\n    <tr>\n      <th>1</th>\n      <td>Alfredton</td>\n      <td>4485.0</td>\n      <td>77.0</td>\n      <td>0.0</td>\n      <td>1728.0</td>\n      <td>6287.0</td>\n    </tr>\n    <tr>\n      <th>2</th>\n      <td>Ballarat</td>\n      <td>3028.0</td>\n      <td>20.0</td>\n      <td>0.0</td>\n      <td>2426.0</td>\n      <td>5486.0</td>\n    </tr>\n    <tr>\n      <th>3</th>\n      <td>Buninyong</td>\n      <td>1989.0</td>\n      <td>23.0</td>\n      <td>0.0</td>\n      <td>708.0</td>\n      <td>2716.0</td>\n    </tr>\n    <tr>\n      <th>4</th>\n      <td>Delacombe</td>\n      <td>2887.0</td>\n      <td>45.0</td>\n      <td>0.0</td>\n      <td>1332.0</td>\n      <td>4266.0</td>\n    </tr>\n    <tr>\n      <th>5</th>\n      <td>Smythes Creek</td>\n      <td>1174.0</td>\n      <td>41.0</td>\n      <td>0.0</td>\n      <td>314.0</td>\n      <td>1528.0</td>\n    </tr>\n    <tr>\n      <th>...</th>\n      <td>...</td>\n      <td>...</td>\n      <td>...</td>\n      <td>...</td>\n      <td>...</td>\n      <td>...</td>\n    </tr>\n    <tr>\n      <th>524</th>\n      <td>Total</td>\n      <td>1676132.0</td>\n      <td>41094.0</td>\n      <td>1546.0</td>\n      <td>931140.0</td>\n      <td>2649914.0</td>\n    </tr>\n    <tr>\n      <th>525</th>\n      <td>Dataset: Census of Population and Housing, 202...</td>\n      <td>NaN</td>\n      <td>NaN</td>\n      <td>NaN</td>\n      <td>NaN</td>\n      <td>NaN</td>\n    </tr>\n    <tr>\n      <th>526</th>\n      <td>INFO</td>\n      <td>0.0</td>\n      <td>NaN</td>\n      <td>NaN</td>\n      <td>NaN</td>\n      <td>NaN</td>\n    </tr>\n    <tr>\n      <th>527</th>\n      <td>Copyright Commonwealth of Australia, 2021, see...</td>\n      <td>NaN</td>\n      <td>NaN</td>\n      <td>NaN</td>\n      <td>NaN</td>\n      <td>NaN</td>\n    </tr>\n    <tr>\n      <th>528</th>\n      <td>ABS data licensed under Creative Commons, see ...</td>\n      <td>NaN</td>\n      <td>NaN</td>\n      <td>NaN</td>\n      <td>NaN</td>\n      <td>NaN</td>\n    </tr>\n  </tbody>\n</table>\n<p>528 rows × 6 columns</p>\n</div>"
     },
     "execution_count": 140,
     "metadata": {},
     "output_type": "execute_result"
    }
   ],
   "source": [
    "family_count_2021_data.rename(columns={'Not applicable': 'Extended Family'}, inplace=True)\n",
    "family_count_2021_data.rename(columns={'FNOF Family Number': 'SA2 Name'}, inplace=True)\n",
    "family_count_2021_data.rename(columns={'Total': 'Total Suburb Population'}, inplace=True)\n",
    "\n",
    "family_count_2021_data"
   ],
   "metadata": {
    "collapsed": false
   }
  },
  {
   "cell_type": "code",
   "execution_count": 141,
   "outputs": [
    {
     "data": {
      "text/plain": "                                              SA2 Name  Primary family  \\\n1                                            Alfredton          4485.0   \n2                                             Ballarat          3028.0   \n3                                            Buninyong          1989.0   \n4                                            Delacombe          2887.0   \n5                                        Smythes Creek          1174.0   \n..                                                 ...             ...   \n524                                              Total       1676132.0   \n525  Dataset: Census of Population and Housing, 202...             NaN   \n526                                               INFO             0.0   \n527  Copyright Commonwealth of Australia, 2021, see...             NaN   \n528  ABS data licensed under Creative Commons, see ...             NaN   \n\n     Second family  Third family  Extended Family  Total Suburb Population  \\\n1             77.0           0.0           1728.0                   6287.0   \n2             20.0           0.0           2426.0                   5486.0   \n3             23.0           0.0            708.0                   2716.0   \n4             45.0           0.0           1332.0                   4266.0   \n5             41.0           0.0            314.0                   1528.0   \n..             ...           ...              ...                      ...   \n524        41094.0        1546.0         931140.0                2649914.0   \n525            NaN           NaN              NaN                      NaN   \n526            NaN           NaN              NaN                      NaN   \n527            NaN           NaN              NaN                      NaN   \n528            NaN           NaN              NaN                      NaN   \n\n     Immediate Family  \n1              4559.0  \n2              3060.0  \n3              2008.0  \n4              2934.0  \n5              1214.0  \n..                ...  \n524         1718774.0  \n525               NaN  \n526               NaN  \n527               NaN  \n528               NaN  \n\n[528 rows x 7 columns]",
      "text/html": "<div>\n<style scoped>\n    .dataframe tbody tr th:only-of-type {\n        vertical-align: middle;\n    }\n\n    .dataframe tbody tr th {\n        vertical-align: top;\n    }\n\n    .dataframe thead th {\n        text-align: right;\n    }\n</style>\n<table border=\"1\" class=\"dataframe\">\n  <thead>\n    <tr style=\"text-align: right;\">\n      <th></th>\n      <th>SA2 Name</th>\n      <th>Primary family</th>\n      <th>Second family</th>\n      <th>Third family</th>\n      <th>Extended Family</th>\n      <th>Total Suburb Population</th>\n      <th>Immediate Family</th>\n    </tr>\n  </thead>\n  <tbody>\n    <tr>\n      <th>1</th>\n      <td>Alfredton</td>\n      <td>4485.0</td>\n      <td>77.0</td>\n      <td>0.0</td>\n      <td>1728.0</td>\n      <td>6287.0</td>\n      <td>4559.0</td>\n    </tr>\n    <tr>\n      <th>2</th>\n      <td>Ballarat</td>\n      <td>3028.0</td>\n      <td>20.0</td>\n      <td>0.0</td>\n      <td>2426.0</td>\n      <td>5486.0</td>\n      <td>3060.0</td>\n    </tr>\n    <tr>\n      <th>3</th>\n      <td>Buninyong</td>\n      <td>1989.0</td>\n      <td>23.0</td>\n      <td>0.0</td>\n      <td>708.0</td>\n      <td>2716.0</td>\n      <td>2008.0</td>\n    </tr>\n    <tr>\n      <th>4</th>\n      <td>Delacombe</td>\n      <td>2887.0</td>\n      <td>45.0</td>\n      <td>0.0</td>\n      <td>1332.0</td>\n      <td>4266.0</td>\n      <td>2934.0</td>\n    </tr>\n    <tr>\n      <th>5</th>\n      <td>Smythes Creek</td>\n      <td>1174.0</td>\n      <td>41.0</td>\n      <td>0.0</td>\n      <td>314.0</td>\n      <td>1528.0</td>\n      <td>1214.0</td>\n    </tr>\n    <tr>\n      <th>...</th>\n      <td>...</td>\n      <td>...</td>\n      <td>...</td>\n      <td>...</td>\n      <td>...</td>\n      <td>...</td>\n      <td>...</td>\n    </tr>\n    <tr>\n      <th>524</th>\n      <td>Total</td>\n      <td>1676132.0</td>\n      <td>41094.0</td>\n      <td>1546.0</td>\n      <td>931140.0</td>\n      <td>2649914.0</td>\n      <td>1718774.0</td>\n    </tr>\n    <tr>\n      <th>525</th>\n      <td>Dataset: Census of Population and Housing, 202...</td>\n      <td>NaN</td>\n      <td>NaN</td>\n      <td>NaN</td>\n      <td>NaN</td>\n      <td>NaN</td>\n      <td>NaN</td>\n    </tr>\n    <tr>\n      <th>526</th>\n      <td>INFO</td>\n      <td>0.0</td>\n      <td>NaN</td>\n      <td>NaN</td>\n      <td>NaN</td>\n      <td>NaN</td>\n      <td>NaN</td>\n    </tr>\n    <tr>\n      <th>527</th>\n      <td>Copyright Commonwealth of Australia, 2021, see...</td>\n      <td>NaN</td>\n      <td>NaN</td>\n      <td>NaN</td>\n      <td>NaN</td>\n      <td>NaN</td>\n      <td>NaN</td>\n    </tr>\n    <tr>\n      <th>528</th>\n      <td>ABS data licensed under Creative Commons, see ...</td>\n      <td>NaN</td>\n      <td>NaN</td>\n      <td>NaN</td>\n      <td>NaN</td>\n      <td>NaN</td>\n      <td>NaN</td>\n    </tr>\n  </tbody>\n</table>\n<p>528 rows × 7 columns</p>\n</div>"
     },
     "execution_count": 141,
     "metadata": {},
     "output_type": "execute_result"
    }
   ],
   "source": [
    "# family_count_2021_data.info()\n",
    "family_count_2021_data['Immediate Family'] = family_count_2021_data['Total Suburb Population'] - family_count_2021_data['Extended Family']\n",
    "family_count_2021_data"
   ],
   "metadata": {
    "collapsed": false
   }
  },
  {
   "cell_type": "code",
   "execution_count": 142,
   "outputs": [
    {
     "data": {
      "text/plain": "                                              SA2 Name  Extended Family  \\\n1                                            Alfredton           1728.0   \n2                                             Ballarat           2426.0   \n3                                            Buninyong            708.0   \n4                                            Delacombe           1332.0   \n5                                        Smythes Creek            314.0   \n..                                                 ...              ...   \n524                                              Total         931140.0   \n525  Dataset: Census of Population and Housing, 202...              NaN   \n526                                               INFO              NaN   \n527  Copyright Commonwealth of Australia, 2021, see...              NaN   \n528  ABS data licensed under Creative Commons, see ...              NaN   \n\n     Total Suburb Population  Immediate Family  \n1                     6287.0            4559.0  \n2                     5486.0            3060.0  \n3                     2716.0            2008.0  \n4                     4266.0            2934.0  \n5                     1528.0            1214.0  \n..                       ...               ...  \n524                2649914.0         1718774.0  \n525                      NaN               NaN  \n526                      NaN               NaN  \n527                      NaN               NaN  \n528                      NaN               NaN  \n\n[528 rows x 4 columns]",
      "text/html": "<div>\n<style scoped>\n    .dataframe tbody tr th:only-of-type {\n        vertical-align: middle;\n    }\n\n    .dataframe tbody tr th {\n        vertical-align: top;\n    }\n\n    .dataframe thead th {\n        text-align: right;\n    }\n</style>\n<table border=\"1\" class=\"dataframe\">\n  <thead>\n    <tr style=\"text-align: right;\">\n      <th></th>\n      <th>SA2 Name</th>\n      <th>Extended Family</th>\n      <th>Total Suburb Population</th>\n      <th>Immediate Family</th>\n    </tr>\n  </thead>\n  <tbody>\n    <tr>\n      <th>1</th>\n      <td>Alfredton</td>\n      <td>1728.0</td>\n      <td>6287.0</td>\n      <td>4559.0</td>\n    </tr>\n    <tr>\n      <th>2</th>\n      <td>Ballarat</td>\n      <td>2426.0</td>\n      <td>5486.0</td>\n      <td>3060.0</td>\n    </tr>\n    <tr>\n      <th>3</th>\n      <td>Buninyong</td>\n      <td>708.0</td>\n      <td>2716.0</td>\n      <td>2008.0</td>\n    </tr>\n    <tr>\n      <th>4</th>\n      <td>Delacombe</td>\n      <td>1332.0</td>\n      <td>4266.0</td>\n      <td>2934.0</td>\n    </tr>\n    <tr>\n      <th>5</th>\n      <td>Smythes Creek</td>\n      <td>314.0</td>\n      <td>1528.0</td>\n      <td>1214.0</td>\n    </tr>\n    <tr>\n      <th>...</th>\n      <td>...</td>\n      <td>...</td>\n      <td>...</td>\n      <td>...</td>\n    </tr>\n    <tr>\n      <th>524</th>\n      <td>Total</td>\n      <td>931140.0</td>\n      <td>2649914.0</td>\n      <td>1718774.0</td>\n    </tr>\n    <tr>\n      <th>525</th>\n      <td>Dataset: Census of Population and Housing, 202...</td>\n      <td>NaN</td>\n      <td>NaN</td>\n      <td>NaN</td>\n    </tr>\n    <tr>\n      <th>526</th>\n      <td>INFO</td>\n      <td>NaN</td>\n      <td>NaN</td>\n      <td>NaN</td>\n    </tr>\n    <tr>\n      <th>527</th>\n      <td>Copyright Commonwealth of Australia, 2021, see...</td>\n      <td>NaN</td>\n      <td>NaN</td>\n      <td>NaN</td>\n    </tr>\n    <tr>\n      <th>528</th>\n      <td>ABS data licensed under Creative Commons, see ...</td>\n      <td>NaN</td>\n      <td>NaN</td>\n      <td>NaN</td>\n    </tr>\n  </tbody>\n</table>\n<p>528 rows × 4 columns</p>\n</div>"
     },
     "execution_count": 142,
     "metadata": {},
     "output_type": "execute_result"
    }
   ],
   "source": [
    "family_count_2021_data.drop(columns=family_count_2021_data.columns[1:4], inplace = True)\n",
    "family_count_2021_data"
   ],
   "metadata": {
    "collapsed": false
   }
  },
  {
   "cell_type": "code",
   "execution_count": 143,
   "outputs": [
    {
     "data": {
      "text/plain": "                                              SA2 Name  Immediate Family  \\\n1                                            Alfredton            4559.0   \n2                                             Ballarat            3060.0   \n3                                            Buninyong            2008.0   \n4                                            Delacombe            2934.0   \n5                                        Smythes Creek            1214.0   \n..                                                 ...               ...   \n524                                              Total         1718774.0   \n525  Dataset: Census of Population and Housing, 202...               NaN   \n526                                               INFO               NaN   \n527  Copyright Commonwealth of Australia, 2021, see...               NaN   \n528  ABS data licensed under Creative Commons, see ...               NaN   \n\n     Extended Family  Total Suburb Population  \n1             1728.0                   6287.0  \n2             2426.0                   5486.0  \n3              708.0                   2716.0  \n4             1332.0                   4266.0  \n5              314.0                   1528.0  \n..               ...                      ...  \n524         931140.0                2649914.0  \n525              NaN                      NaN  \n526              NaN                      NaN  \n527              NaN                      NaN  \n528              NaN                      NaN  \n\n[528 rows x 4 columns]",
      "text/html": "<div>\n<style scoped>\n    .dataframe tbody tr th:only-of-type {\n        vertical-align: middle;\n    }\n\n    .dataframe tbody tr th {\n        vertical-align: top;\n    }\n\n    .dataframe thead th {\n        text-align: right;\n    }\n</style>\n<table border=\"1\" class=\"dataframe\">\n  <thead>\n    <tr style=\"text-align: right;\">\n      <th></th>\n      <th>SA2 Name</th>\n      <th>Immediate Family</th>\n      <th>Extended Family</th>\n      <th>Total Suburb Population</th>\n    </tr>\n  </thead>\n  <tbody>\n    <tr>\n      <th>1</th>\n      <td>Alfredton</td>\n      <td>4559.0</td>\n      <td>1728.0</td>\n      <td>6287.0</td>\n    </tr>\n    <tr>\n      <th>2</th>\n      <td>Ballarat</td>\n      <td>3060.0</td>\n      <td>2426.0</td>\n      <td>5486.0</td>\n    </tr>\n    <tr>\n      <th>3</th>\n      <td>Buninyong</td>\n      <td>2008.0</td>\n      <td>708.0</td>\n      <td>2716.0</td>\n    </tr>\n    <tr>\n      <th>4</th>\n      <td>Delacombe</td>\n      <td>2934.0</td>\n      <td>1332.0</td>\n      <td>4266.0</td>\n    </tr>\n    <tr>\n      <th>5</th>\n      <td>Smythes Creek</td>\n      <td>1214.0</td>\n      <td>314.0</td>\n      <td>1528.0</td>\n    </tr>\n    <tr>\n      <th>...</th>\n      <td>...</td>\n      <td>...</td>\n      <td>...</td>\n      <td>...</td>\n    </tr>\n    <tr>\n      <th>524</th>\n      <td>Total</td>\n      <td>1718774.0</td>\n      <td>931140.0</td>\n      <td>2649914.0</td>\n    </tr>\n    <tr>\n      <th>525</th>\n      <td>Dataset: Census of Population and Housing, 202...</td>\n      <td>NaN</td>\n      <td>NaN</td>\n      <td>NaN</td>\n    </tr>\n    <tr>\n      <th>526</th>\n      <td>INFO</td>\n      <td>NaN</td>\n      <td>NaN</td>\n      <td>NaN</td>\n    </tr>\n    <tr>\n      <th>527</th>\n      <td>Copyright Commonwealth of Australia, 2021, see...</td>\n      <td>NaN</td>\n      <td>NaN</td>\n      <td>NaN</td>\n    </tr>\n    <tr>\n      <th>528</th>\n      <td>ABS data licensed under Creative Commons, see ...</td>\n      <td>NaN</td>\n      <td>NaN</td>\n      <td>NaN</td>\n    </tr>\n  </tbody>\n</table>\n<p>528 rows × 4 columns</p>\n</div>"
     },
     "execution_count": 143,
     "metadata": {},
     "output_type": "execute_result"
    }
   ],
   "source": [
    "# rearrange columns positions\n",
    "family_count_2021_data = family_count_2021_data[['SA2 Name', 'Immediate Family', 'Extended Family', 'Total Suburb Population']]\n",
    "family_count_2021_data"
   ],
   "metadata": {
    "collapsed": false
   }
  },
  {
   "cell_type": "code",
   "execution_count": 145,
   "outputs": [
    {
     "data": {
      "text/plain": "                SA2 Name  Immediate Family  Extended Family  \\\n513           Camperdown             929.0            710.0   \n514                Colac            3210.0           2394.0   \n515      Colac Surrounds            1549.0            823.0   \n516  Corangamite - North            1431.0           1016.0   \n517  Corangamite - South            1948.0           1053.0   \n518                Otway            1004.0           1078.0   \n519         Moyne - East            1871.0            996.0   \n520         Moyne - West            2793.0           1417.0   \n521  Warrnambool - North            6111.0           3379.0   \n522  Warrnambool - South            3406.0           2639.0   \n\n     Total Suburb Population  \n513                   1639.0  \n514                   5604.0  \n515                   2372.0  \n516                   2447.0  \n517                   3001.0  \n518                   2082.0  \n519                   2867.0  \n520                   4210.0  \n521                   9490.0  \n522                   6045.0  ",
      "text/html": "<div>\n<style scoped>\n    .dataframe tbody tr th:only-of-type {\n        vertical-align: middle;\n    }\n\n    .dataframe tbody tr th {\n        vertical-align: top;\n    }\n\n    .dataframe thead th {\n        text-align: right;\n    }\n</style>\n<table border=\"1\" class=\"dataframe\">\n  <thead>\n    <tr style=\"text-align: right;\">\n      <th></th>\n      <th>SA2 Name</th>\n      <th>Immediate Family</th>\n      <th>Extended Family</th>\n      <th>Total Suburb Population</th>\n    </tr>\n  </thead>\n  <tbody>\n    <tr>\n      <th>513</th>\n      <td>Camperdown</td>\n      <td>929.0</td>\n      <td>710.0</td>\n      <td>1639.0</td>\n    </tr>\n    <tr>\n      <th>514</th>\n      <td>Colac</td>\n      <td>3210.0</td>\n      <td>2394.0</td>\n      <td>5604.0</td>\n    </tr>\n    <tr>\n      <th>515</th>\n      <td>Colac Surrounds</td>\n      <td>1549.0</td>\n      <td>823.0</td>\n      <td>2372.0</td>\n    </tr>\n    <tr>\n      <th>516</th>\n      <td>Corangamite - North</td>\n      <td>1431.0</td>\n      <td>1016.0</td>\n      <td>2447.0</td>\n    </tr>\n    <tr>\n      <th>517</th>\n      <td>Corangamite - South</td>\n      <td>1948.0</td>\n      <td>1053.0</td>\n      <td>3001.0</td>\n    </tr>\n    <tr>\n      <th>518</th>\n      <td>Otway</td>\n      <td>1004.0</td>\n      <td>1078.0</td>\n      <td>2082.0</td>\n    </tr>\n    <tr>\n      <th>519</th>\n      <td>Moyne - East</td>\n      <td>1871.0</td>\n      <td>996.0</td>\n      <td>2867.0</td>\n    </tr>\n    <tr>\n      <th>520</th>\n      <td>Moyne - West</td>\n      <td>2793.0</td>\n      <td>1417.0</td>\n      <td>4210.0</td>\n    </tr>\n    <tr>\n      <th>521</th>\n      <td>Warrnambool - North</td>\n      <td>6111.0</td>\n      <td>3379.0</td>\n      <td>9490.0</td>\n    </tr>\n    <tr>\n      <th>522</th>\n      <td>Warrnambool - South</td>\n      <td>3406.0</td>\n      <td>2639.0</td>\n      <td>6045.0</td>\n    </tr>\n  </tbody>\n</table>\n</div>"
     },
     "execution_count": 145,
     "metadata": {},
     "output_type": "execute_result"
    }
   ],
   "source": [
    "family_count_2021_data = family_count_2021_data.iloc[:-6, :]\n",
    "family_count_2021_data.tail(10)"
   ],
   "metadata": {
    "collapsed": false
   }
  },
  {
   "cell_type": "code",
   "execution_count": 146,
   "outputs": [],
   "source": [
    "# Specify the file path where you want to save the CSV file\n",
    "family_file_path = \"../data/curated/ABS_data/SA2_Family_Number_2021.csv\"\n",
    "\n",
    "# Use the to_csv method to save the DataFrame to a CSV file\n",
    "family_count_2021_data.to_csv(family_file_path, index=False)"
   ],
   "metadata": {
    "collapsed": false
   }
  },
  {
   "cell_type": "markdown",
   "source": [
    "#### Then, we want to count how many people"
   ],
   "metadata": {
    "collapsed": false
   }
  },
  {
   "cell_type": "code",
   "execution_count": 148,
   "outputs": [
    {
     "data": {
      "text/plain": "                       CPRF Count of Persons in Family  \\\n0                                             SA2 (EN)   \n1                                            Alfredton   \n2                                             Ballarat   \n3                                            Buninyong   \n4                                            Delacombe   \n..                                                 ...   \n524                                              Total   \n525  Dataset: Census of Population and Housing, 202...   \n526                                               INFO   \n527  Copyright Commonwealth of Australia, 2021, see...   \n528  ABS data licensed under Creative Commons, see ...   \n\n                                 Two persons in family  \\\n0                                                  NaN   \n1                                                 1812   \n2                                                 1687   \n3                                                  954   \n4                                                 1361   \n..                                                 ...   \n524                                             789690   \n525                                                NaN   \n526  Cells in this table have been randomly adjuste...   \n527                                                NaN   \n528                                                NaN   \n\n     Three persons in family  Four persons in family  Five persons in family  \\\n0                        NaN                     NaN                     NaN   \n1                      952.0                  1144.0                   506.0   \n2                      598.0                   512.0                   205.0   \n3                      359.0                   442.0                   188.0   \n4                      687.0                   588.0                   215.0   \n..                       ...                     ...                     ...   \n524                 376100.0                370279.0                135812.0   \n525                      NaN                     NaN                     NaN   \n526                      NaN                     NaN                     NaN   \n527                      NaN                     NaN                     NaN   \n528                      NaN                     NaN                     NaN   \n\n     Six or more persons in family  Not applicable      Total  Unnamed: 8  \n0                              NaN             NaN        NaN         NaN  \n1                            151.0          1728.0     6287.0         NaN  \n2                             48.0          2426.0     5486.0         NaN  \n3                             60.0           708.0     2716.0         NaN  \n4                             82.0          1332.0     4266.0         NaN  \n..                             ...             ...        ...         ...  \n524                        46901.0        931140.0  2649914.0         NaN  \n525                            NaN             NaN        NaN         NaN  \n526                            NaN             NaN        NaN         NaN  \n527                            NaN             NaN        NaN         NaN  \n528                            NaN             NaN        NaN         NaN  \n\n[529 rows x 9 columns]",
      "text/html": "<div>\n<style scoped>\n    .dataframe tbody tr th:only-of-type {\n        vertical-align: middle;\n    }\n\n    .dataframe tbody tr th {\n        vertical-align: top;\n    }\n\n    .dataframe thead th {\n        text-align: right;\n    }\n</style>\n<table border=\"1\" class=\"dataframe\">\n  <thead>\n    <tr style=\"text-align: right;\">\n      <th></th>\n      <th>CPRF Count of Persons in Family</th>\n      <th>Two persons in family</th>\n      <th>Three persons in family</th>\n      <th>Four persons in family</th>\n      <th>Five persons in family</th>\n      <th>Six or more persons in family</th>\n      <th>Not applicable</th>\n      <th>Total</th>\n      <th>Unnamed: 8</th>\n    </tr>\n  </thead>\n  <tbody>\n    <tr>\n      <th>0</th>\n      <td>SA2 (EN)</td>\n      <td>NaN</td>\n      <td>NaN</td>\n      <td>NaN</td>\n      <td>NaN</td>\n      <td>NaN</td>\n      <td>NaN</td>\n      <td>NaN</td>\n      <td>NaN</td>\n    </tr>\n    <tr>\n      <th>1</th>\n      <td>Alfredton</td>\n      <td>1812</td>\n      <td>952.0</td>\n      <td>1144.0</td>\n      <td>506.0</td>\n      <td>151.0</td>\n      <td>1728.0</td>\n      <td>6287.0</td>\n      <td>NaN</td>\n    </tr>\n    <tr>\n      <th>2</th>\n      <td>Ballarat</td>\n      <td>1687</td>\n      <td>598.0</td>\n      <td>512.0</td>\n      <td>205.0</td>\n      <td>48.0</td>\n      <td>2426.0</td>\n      <td>5486.0</td>\n      <td>NaN</td>\n    </tr>\n    <tr>\n      <th>3</th>\n      <td>Buninyong</td>\n      <td>954</td>\n      <td>359.0</td>\n      <td>442.0</td>\n      <td>188.0</td>\n      <td>60.0</td>\n      <td>708.0</td>\n      <td>2716.0</td>\n      <td>NaN</td>\n    </tr>\n    <tr>\n      <th>4</th>\n      <td>Delacombe</td>\n      <td>1361</td>\n      <td>687.0</td>\n      <td>588.0</td>\n      <td>215.0</td>\n      <td>82.0</td>\n      <td>1332.0</td>\n      <td>4266.0</td>\n      <td>NaN</td>\n    </tr>\n    <tr>\n      <th>...</th>\n      <td>...</td>\n      <td>...</td>\n      <td>...</td>\n      <td>...</td>\n      <td>...</td>\n      <td>...</td>\n      <td>...</td>\n      <td>...</td>\n      <td>...</td>\n    </tr>\n    <tr>\n      <th>524</th>\n      <td>Total</td>\n      <td>789690</td>\n      <td>376100.0</td>\n      <td>370279.0</td>\n      <td>135812.0</td>\n      <td>46901.0</td>\n      <td>931140.0</td>\n      <td>2649914.0</td>\n      <td>NaN</td>\n    </tr>\n    <tr>\n      <th>525</th>\n      <td>Dataset: Census of Population and Housing, 202...</td>\n      <td>NaN</td>\n      <td>NaN</td>\n      <td>NaN</td>\n      <td>NaN</td>\n      <td>NaN</td>\n      <td>NaN</td>\n      <td>NaN</td>\n      <td>NaN</td>\n    </tr>\n    <tr>\n      <th>526</th>\n      <td>INFO</td>\n      <td>Cells in this table have been randomly adjuste...</td>\n      <td>NaN</td>\n      <td>NaN</td>\n      <td>NaN</td>\n      <td>NaN</td>\n      <td>NaN</td>\n      <td>NaN</td>\n      <td>NaN</td>\n    </tr>\n    <tr>\n      <th>527</th>\n      <td>Copyright Commonwealth of Australia, 2021, see...</td>\n      <td>NaN</td>\n      <td>NaN</td>\n      <td>NaN</td>\n      <td>NaN</td>\n      <td>NaN</td>\n      <td>NaN</td>\n      <td>NaN</td>\n      <td>NaN</td>\n    </tr>\n    <tr>\n      <th>528</th>\n      <td>ABS data licensed under Creative Commons, see ...</td>\n      <td>NaN</td>\n      <td>NaN</td>\n      <td>NaN</td>\n      <td>NaN</td>\n      <td>NaN</td>\n      <td>NaN</td>\n      <td>NaN</td>\n      <td>NaN</td>\n    </tr>\n  </tbody>\n</table>\n<p>529 rows × 9 columns</p>\n</div>"
     },
     "execution_count": 148,
     "metadata": {},
     "output_type": "execute_result"
    }
   ],
   "source": [
    "# load 2021 ABS Census data on family number\n",
    "person_count_2021_path = \"../data/landing/ABS_data/SA2_(EN)_by_CPRF_Count_of_Persons_in_Family.csv\"\n",
    "\n",
    "skip_rows = 9\n",
    "person_count_2021_data = pd.read_csv(person_count_2021_path, skiprows=skip_rows)\n",
    "person_count_2021_data"
   ],
   "metadata": {
    "collapsed": false
   }
  },
  {
   "cell_type": "code",
   "execution_count": 149,
   "outputs": [
    {
     "data": {
      "text/plain": "                       CPRF Count of Persons in Family  \\\n1                                            Alfredton   \n2                                             Ballarat   \n3                                            Buninyong   \n4                                            Delacombe   \n5                                        Smythes Creek   \n..                                                 ...   \n524                                              Total   \n525  Dataset: Census of Population and Housing, 202...   \n526                                               INFO   \n527  Copyright Commonwealth of Australia, 2021, see...   \n528  ABS data licensed under Creative Commons, see ...   \n\n                                 Two persons in family  \\\n1                                                 1812   \n2                                                 1687   \n3                                                  954   \n4                                                 1361   \n5                                                  496   \n..                                                 ...   \n524                                             789690   \n525                                                NaN   \n526  Cells in this table have been randomly adjuste...   \n527                                                NaN   \n528                                                NaN   \n\n     Three persons in family  Four persons in family  Five persons in family  \\\n1                      952.0                  1144.0                   506.0   \n2                      598.0                   512.0                   205.0   \n3                      359.0                   442.0                   188.0   \n4                      687.0                   588.0                   215.0   \n5                      241.0                   279.0                   133.0   \n..                       ...                     ...                     ...   \n524                 376100.0                370279.0                135812.0   \n525                      NaN                     NaN                     NaN   \n526                      NaN                     NaN                     NaN   \n527                      NaN                     NaN                     NaN   \n528                      NaN                     NaN                     NaN   \n\n     Six or more persons in family  Not applicable      Total  \n1                            151.0          1728.0     6287.0  \n2                             48.0          2426.0     5486.0  \n3                             60.0           708.0     2716.0  \n4                             82.0          1332.0     4266.0  \n5                             64.0           314.0     1528.0  \n..                             ...             ...        ...  \n524                        46901.0        931140.0  2649914.0  \n525                            NaN             NaN        NaN  \n526                            NaN             NaN        NaN  \n527                            NaN             NaN        NaN  \n528                            NaN             NaN        NaN  \n\n[528 rows x 8 columns]",
      "text/html": "<div>\n<style scoped>\n    .dataframe tbody tr th:only-of-type {\n        vertical-align: middle;\n    }\n\n    .dataframe tbody tr th {\n        vertical-align: top;\n    }\n\n    .dataframe thead th {\n        text-align: right;\n    }\n</style>\n<table border=\"1\" class=\"dataframe\">\n  <thead>\n    <tr style=\"text-align: right;\">\n      <th></th>\n      <th>CPRF Count of Persons in Family</th>\n      <th>Two persons in family</th>\n      <th>Three persons in family</th>\n      <th>Four persons in family</th>\n      <th>Five persons in family</th>\n      <th>Six or more persons in family</th>\n      <th>Not applicable</th>\n      <th>Total</th>\n    </tr>\n  </thead>\n  <tbody>\n    <tr>\n      <th>1</th>\n      <td>Alfredton</td>\n      <td>1812</td>\n      <td>952.0</td>\n      <td>1144.0</td>\n      <td>506.0</td>\n      <td>151.0</td>\n      <td>1728.0</td>\n      <td>6287.0</td>\n    </tr>\n    <tr>\n      <th>2</th>\n      <td>Ballarat</td>\n      <td>1687</td>\n      <td>598.0</td>\n      <td>512.0</td>\n      <td>205.0</td>\n      <td>48.0</td>\n      <td>2426.0</td>\n      <td>5486.0</td>\n    </tr>\n    <tr>\n      <th>3</th>\n      <td>Buninyong</td>\n      <td>954</td>\n      <td>359.0</td>\n      <td>442.0</td>\n      <td>188.0</td>\n      <td>60.0</td>\n      <td>708.0</td>\n      <td>2716.0</td>\n    </tr>\n    <tr>\n      <th>4</th>\n      <td>Delacombe</td>\n      <td>1361</td>\n      <td>687.0</td>\n      <td>588.0</td>\n      <td>215.0</td>\n      <td>82.0</td>\n      <td>1332.0</td>\n      <td>4266.0</td>\n    </tr>\n    <tr>\n      <th>5</th>\n      <td>Smythes Creek</td>\n      <td>496</td>\n      <td>241.0</td>\n      <td>279.0</td>\n      <td>133.0</td>\n      <td>64.0</td>\n      <td>314.0</td>\n      <td>1528.0</td>\n    </tr>\n    <tr>\n      <th>...</th>\n      <td>...</td>\n      <td>...</td>\n      <td>...</td>\n      <td>...</td>\n      <td>...</td>\n      <td>...</td>\n      <td>...</td>\n      <td>...</td>\n    </tr>\n    <tr>\n      <th>524</th>\n      <td>Total</td>\n      <td>789690</td>\n      <td>376100.0</td>\n      <td>370279.0</td>\n      <td>135812.0</td>\n      <td>46901.0</td>\n      <td>931140.0</td>\n      <td>2649914.0</td>\n    </tr>\n    <tr>\n      <th>525</th>\n      <td>Dataset: Census of Population and Housing, 202...</td>\n      <td>NaN</td>\n      <td>NaN</td>\n      <td>NaN</td>\n      <td>NaN</td>\n      <td>NaN</td>\n      <td>NaN</td>\n      <td>NaN</td>\n    </tr>\n    <tr>\n      <th>526</th>\n      <td>INFO</td>\n      <td>Cells in this table have been randomly adjuste...</td>\n      <td>NaN</td>\n      <td>NaN</td>\n      <td>NaN</td>\n      <td>NaN</td>\n      <td>NaN</td>\n      <td>NaN</td>\n    </tr>\n    <tr>\n      <th>527</th>\n      <td>Copyright Commonwealth of Australia, 2021, see...</td>\n      <td>NaN</td>\n      <td>NaN</td>\n      <td>NaN</td>\n      <td>NaN</td>\n      <td>NaN</td>\n      <td>NaN</td>\n      <td>NaN</td>\n    </tr>\n    <tr>\n      <th>528</th>\n      <td>ABS data licensed under Creative Commons, see ...</td>\n      <td>NaN</td>\n      <td>NaN</td>\n      <td>NaN</td>\n      <td>NaN</td>\n      <td>NaN</td>\n      <td>NaN</td>\n      <td>NaN</td>\n    </tr>\n  </tbody>\n</table>\n<p>528 rows × 8 columns</p>\n</div>"
     },
     "execution_count": 149,
     "metadata": {},
     "output_type": "execute_result"
    }
   ],
   "source": [
    "# preprocessing\n",
    "person_count_2021_data.drop(person_count_2021_data.index[0], inplace = True)\n",
    "person_count_2021_data.drop(columns=person_count_2021_data.columns[-1], inplace = True)\n",
    "person_count_2021_data"
   ],
   "metadata": {
    "collapsed": false
   }
  },
  {
   "cell_type": "code",
   "execution_count": 150,
   "outputs": [
    {
     "name": "stdout",
     "output_type": "stream",
     "text": [
      "<class 'pandas.core.frame.DataFrame'>\n",
      "RangeIndex: 528 entries, 1 to 528\n",
      "Data columns (total 8 columns):\n",
      " #   Column                           Non-Null Count  Dtype  \n",
      "---  ------                           --------------  -----  \n",
      " 0   CPRF Count of Persons in Family  528 non-null    object \n",
      " 1   Two persons in family            525 non-null    object \n",
      " 2   Three persons in family          524 non-null    float64\n",
      " 3   Four persons in family           524 non-null    float64\n",
      " 4   Five persons in family           524 non-null    float64\n",
      " 5   Six or more persons in family    524 non-null    float64\n",
      " 6   Not applicable                   524 non-null    float64\n",
      " 7   Total                            524 non-null    float64\n",
      "dtypes: float64(6), object(2)\n",
      "memory usage: 33.1+ KB\n"
     ]
    }
   ],
   "source": [
    "person_count_2021_data.info()"
   ],
   "metadata": {
    "collapsed": false
   }
  },
  {
   "cell_type": "code",
   "execution_count": 151,
   "outputs": [],
   "source": [
    "person_count_2021_data = person_count_2021_data.applymap(lambda x: 0 if \"Cells \"\n",
    "                                                                        \"in this table have been randomly adjusted to avoid the release of confidential data. \"\n",
    "                                                                        \"No reliance should be \"\n",
    "                                                                        \"placed on small cells.\"\n",
    "                                                                        \"\" in str(x) else x)"
   ],
   "metadata": {
    "collapsed": false
   }
  },
  {
   "cell_type": "code",
   "execution_count": 152,
   "outputs": [
    {
     "name": "stdout",
     "output_type": "stream",
     "text": [
      "<class 'pandas.core.frame.DataFrame'>\n",
      "RangeIndex: 528 entries, 1 to 528\n",
      "Data columns (total 8 columns):\n",
      " #   Column                           Non-Null Count  Dtype  \n",
      "---  ------                           --------------  -----  \n",
      " 0   CPRF Count of Persons in Family  528 non-null    object \n",
      " 1   Two persons in family            525 non-null    float64\n",
      " 2   Three persons in family          524 non-null    float64\n",
      " 3   Four persons in family           524 non-null    float64\n",
      " 4   Five persons in family           524 non-null    float64\n",
      " 5   Six or more persons in family    524 non-null    float64\n",
      " 6   Not applicable                   524 non-null    float64\n",
      " 7   Total                            524 non-null    float64\n",
      "dtypes: float64(7), object(1)\n",
      "memory usage: 33.1+ KB\n"
     ]
    }
   ],
   "source": [
    "\n",
    "person_count_2021_data['Two persons in family'] = person_count_2021_data['Two persons in family'].astype(float)\n",
    "person_count_2021_data.info()"
   ],
   "metadata": {
    "collapsed": false
   }
  },
  {
   "cell_type": "code",
   "execution_count": 153,
   "outputs": [
    {
     "data": {
      "text/plain": "                                              SA2 Name  Two persons in family  \\\n1                                            Alfredton                 1812.0   \n2                                             Ballarat                 1687.0   \n3                                            Buninyong                  954.0   \n4                                            Delacombe                 1361.0   \n5                                        Smythes Creek                  496.0   \n..                                                 ...                    ...   \n524                                              Total               789690.0   \n525  Dataset: Census of Population and Housing, 202...                    NaN   \n526                                               INFO                    0.0   \n527  Copyright Commonwealth of Australia, 2021, see...                    NaN   \n528  ABS data licensed under Creative Commons, see ...                    NaN   \n\n     Three persons in family  Four persons in family  Five persons in family  \\\n1                      952.0                  1144.0                   506.0   \n2                      598.0                   512.0                   205.0   \n3                      359.0                   442.0                   188.0   \n4                      687.0                   588.0                   215.0   \n5                      241.0                   279.0                   133.0   \n..                       ...                     ...                     ...   \n524                 376100.0                370279.0                135812.0   \n525                      NaN                     NaN                     NaN   \n526                      NaN                     NaN                     NaN   \n527                      NaN                     NaN                     NaN   \n528                      NaN                     NaN                     NaN   \n\n     Six or more persons in family  Not applicable  Total Suburb Population  \n1                            151.0          1728.0                   6287.0  \n2                             48.0          2426.0                   5486.0  \n3                             60.0           708.0                   2716.0  \n4                             82.0          1332.0                   4266.0  \n5                             64.0           314.0                   1528.0  \n..                             ...             ...                      ...  \n524                        46901.0        931140.0                2649914.0  \n525                            NaN             NaN                      NaN  \n526                            NaN             NaN                      NaN  \n527                            NaN             NaN                      NaN  \n528                            NaN             NaN                      NaN  \n\n[528 rows x 8 columns]",
      "text/html": "<div>\n<style scoped>\n    .dataframe tbody tr th:only-of-type {\n        vertical-align: middle;\n    }\n\n    .dataframe tbody tr th {\n        vertical-align: top;\n    }\n\n    .dataframe thead th {\n        text-align: right;\n    }\n</style>\n<table border=\"1\" class=\"dataframe\">\n  <thead>\n    <tr style=\"text-align: right;\">\n      <th></th>\n      <th>SA2 Name</th>\n      <th>Two persons in family</th>\n      <th>Three persons in family</th>\n      <th>Four persons in family</th>\n      <th>Five persons in family</th>\n      <th>Six or more persons in family</th>\n      <th>Not applicable</th>\n      <th>Total Suburb Population</th>\n    </tr>\n  </thead>\n  <tbody>\n    <tr>\n      <th>1</th>\n      <td>Alfredton</td>\n      <td>1812.0</td>\n      <td>952.0</td>\n      <td>1144.0</td>\n      <td>506.0</td>\n      <td>151.0</td>\n      <td>1728.0</td>\n      <td>6287.0</td>\n    </tr>\n    <tr>\n      <th>2</th>\n      <td>Ballarat</td>\n      <td>1687.0</td>\n      <td>598.0</td>\n      <td>512.0</td>\n      <td>205.0</td>\n      <td>48.0</td>\n      <td>2426.0</td>\n      <td>5486.0</td>\n    </tr>\n    <tr>\n      <th>3</th>\n      <td>Buninyong</td>\n      <td>954.0</td>\n      <td>359.0</td>\n      <td>442.0</td>\n      <td>188.0</td>\n      <td>60.0</td>\n      <td>708.0</td>\n      <td>2716.0</td>\n    </tr>\n    <tr>\n      <th>4</th>\n      <td>Delacombe</td>\n      <td>1361.0</td>\n      <td>687.0</td>\n      <td>588.0</td>\n      <td>215.0</td>\n      <td>82.0</td>\n      <td>1332.0</td>\n      <td>4266.0</td>\n    </tr>\n    <tr>\n      <th>5</th>\n      <td>Smythes Creek</td>\n      <td>496.0</td>\n      <td>241.0</td>\n      <td>279.0</td>\n      <td>133.0</td>\n      <td>64.0</td>\n      <td>314.0</td>\n      <td>1528.0</td>\n    </tr>\n    <tr>\n      <th>...</th>\n      <td>...</td>\n      <td>...</td>\n      <td>...</td>\n      <td>...</td>\n      <td>...</td>\n      <td>...</td>\n      <td>...</td>\n      <td>...</td>\n    </tr>\n    <tr>\n      <th>524</th>\n      <td>Total</td>\n      <td>789690.0</td>\n      <td>376100.0</td>\n      <td>370279.0</td>\n      <td>135812.0</td>\n      <td>46901.0</td>\n      <td>931140.0</td>\n      <td>2649914.0</td>\n    </tr>\n    <tr>\n      <th>525</th>\n      <td>Dataset: Census of Population and Housing, 202...</td>\n      <td>NaN</td>\n      <td>NaN</td>\n      <td>NaN</td>\n      <td>NaN</td>\n      <td>NaN</td>\n      <td>NaN</td>\n      <td>NaN</td>\n    </tr>\n    <tr>\n      <th>526</th>\n      <td>INFO</td>\n      <td>0.0</td>\n      <td>NaN</td>\n      <td>NaN</td>\n      <td>NaN</td>\n      <td>NaN</td>\n      <td>NaN</td>\n      <td>NaN</td>\n    </tr>\n    <tr>\n      <th>527</th>\n      <td>Copyright Commonwealth of Australia, 2021, see...</td>\n      <td>NaN</td>\n      <td>NaN</td>\n      <td>NaN</td>\n      <td>NaN</td>\n      <td>NaN</td>\n      <td>NaN</td>\n      <td>NaN</td>\n    </tr>\n    <tr>\n      <th>528</th>\n      <td>ABS data licensed under Creative Commons, see ...</td>\n      <td>NaN</td>\n      <td>NaN</td>\n      <td>NaN</td>\n      <td>NaN</td>\n      <td>NaN</td>\n      <td>NaN</td>\n      <td>NaN</td>\n    </tr>\n  </tbody>\n</table>\n<p>528 rows × 8 columns</p>\n</div>"
     },
     "execution_count": 153,
     "metadata": {},
     "output_type": "execute_result"
    }
   ],
   "source": [
    "person_count_2021_data.rename(columns={'CPRF Count of Persons in Family': 'SA2 Name'}, inplace=True)\n",
    "person_count_2021_data.rename(columns={'Total': 'Total Suburb Population'}, inplace=True)\n",
    "\n",
    "person_count_2021_data"
   ],
   "metadata": {
    "collapsed": false
   }
  },
  {
   "cell_type": "code",
   "execution_count": 154,
   "outputs": [
    {
     "data": {
      "text/plain": "                SA2 Name  Two persons in family  Three persons in family  \\\n513           Camperdown                  557.0                    150.0   \n514                Colac                 1673.0                    621.0   \n515      Colac Surrounds                  811.0                    266.0   \n516  Corangamite - North                  831.0                    241.0   \n517  Corangamite - South                 1057.0                    345.0   \n518                Otway                  656.0                    149.0   \n519         Moyne - East                  943.0                    341.0   \n520         Moyne - West                 1512.0                    469.0   \n521  Warrnambool - North                 3080.0                   1282.0   \n522  Warrnambool - South                 1879.0                    669.0   \n\n     Four persons in family  Five persons in family  \\\n513                   127.0                    68.0   \n514                   554.0                   264.0   \n515                   249.0                   167.0   \n516                   192.0                   125.0   \n517                   279.0                   175.0   \n518                   144.0                    45.0   \n519                   308.0                   184.0   \n520                   503.0                   242.0   \n521                  1104.0                   508.0   \n522                   573.0                   229.0   \n\n     Six or more persons in family  Not applicable  Total Suburb Population  \n513                           25.0           710.0                   1639.0  \n514                           93.0          2394.0                   5604.0  \n515                           54.0           823.0                   2372.0  \n516                           41.0          1016.0                   2447.0  \n517                           91.0          1053.0                   3001.0  \n518                           14.0          1078.0                   2082.0  \n519                          100.0           996.0                   2867.0  \n520                           69.0          1417.0                   4210.0  \n521                          149.0          3379.0                   9490.0  \n522                           62.0          2639.0                   6045.0  ",
      "text/html": "<div>\n<style scoped>\n    .dataframe tbody tr th:only-of-type {\n        vertical-align: middle;\n    }\n\n    .dataframe tbody tr th {\n        vertical-align: top;\n    }\n\n    .dataframe thead th {\n        text-align: right;\n    }\n</style>\n<table border=\"1\" class=\"dataframe\">\n  <thead>\n    <tr style=\"text-align: right;\">\n      <th></th>\n      <th>SA2 Name</th>\n      <th>Two persons in family</th>\n      <th>Three persons in family</th>\n      <th>Four persons in family</th>\n      <th>Five persons in family</th>\n      <th>Six or more persons in family</th>\n      <th>Not applicable</th>\n      <th>Total Suburb Population</th>\n    </tr>\n  </thead>\n  <tbody>\n    <tr>\n      <th>513</th>\n      <td>Camperdown</td>\n      <td>557.0</td>\n      <td>150.0</td>\n      <td>127.0</td>\n      <td>68.0</td>\n      <td>25.0</td>\n      <td>710.0</td>\n      <td>1639.0</td>\n    </tr>\n    <tr>\n      <th>514</th>\n      <td>Colac</td>\n      <td>1673.0</td>\n      <td>621.0</td>\n      <td>554.0</td>\n      <td>264.0</td>\n      <td>93.0</td>\n      <td>2394.0</td>\n      <td>5604.0</td>\n    </tr>\n    <tr>\n      <th>515</th>\n      <td>Colac Surrounds</td>\n      <td>811.0</td>\n      <td>266.0</td>\n      <td>249.0</td>\n      <td>167.0</td>\n      <td>54.0</td>\n      <td>823.0</td>\n      <td>2372.0</td>\n    </tr>\n    <tr>\n      <th>516</th>\n      <td>Corangamite - North</td>\n      <td>831.0</td>\n      <td>241.0</td>\n      <td>192.0</td>\n      <td>125.0</td>\n      <td>41.0</td>\n      <td>1016.0</td>\n      <td>2447.0</td>\n    </tr>\n    <tr>\n      <th>517</th>\n      <td>Corangamite - South</td>\n      <td>1057.0</td>\n      <td>345.0</td>\n      <td>279.0</td>\n      <td>175.0</td>\n      <td>91.0</td>\n      <td>1053.0</td>\n      <td>3001.0</td>\n    </tr>\n    <tr>\n      <th>518</th>\n      <td>Otway</td>\n      <td>656.0</td>\n      <td>149.0</td>\n      <td>144.0</td>\n      <td>45.0</td>\n      <td>14.0</td>\n      <td>1078.0</td>\n      <td>2082.0</td>\n    </tr>\n    <tr>\n      <th>519</th>\n      <td>Moyne - East</td>\n      <td>943.0</td>\n      <td>341.0</td>\n      <td>308.0</td>\n      <td>184.0</td>\n      <td>100.0</td>\n      <td>996.0</td>\n      <td>2867.0</td>\n    </tr>\n    <tr>\n      <th>520</th>\n      <td>Moyne - West</td>\n      <td>1512.0</td>\n      <td>469.0</td>\n      <td>503.0</td>\n      <td>242.0</td>\n      <td>69.0</td>\n      <td>1417.0</td>\n      <td>4210.0</td>\n    </tr>\n    <tr>\n      <th>521</th>\n      <td>Warrnambool - North</td>\n      <td>3080.0</td>\n      <td>1282.0</td>\n      <td>1104.0</td>\n      <td>508.0</td>\n      <td>149.0</td>\n      <td>3379.0</td>\n      <td>9490.0</td>\n    </tr>\n    <tr>\n      <th>522</th>\n      <td>Warrnambool - South</td>\n      <td>1879.0</td>\n      <td>669.0</td>\n      <td>573.0</td>\n      <td>229.0</td>\n      <td>62.0</td>\n      <td>2639.0</td>\n      <td>6045.0</td>\n    </tr>\n  </tbody>\n</table>\n</div>"
     },
     "execution_count": 154,
     "metadata": {},
     "output_type": "execute_result"
    }
   ],
   "source": [
    "\n",
    "person_count_2021_data = person_count_2021_data.iloc[:-6, :]\n",
    "person_count_2021_data.tail(10)"
   ],
   "metadata": {
    "collapsed": false
   }
  },
  {
   "cell_type": "markdown",
   "source": [
    "#### Save the data"
   ],
   "metadata": {
    "collapsed": false
   }
  },
  {
   "cell_type": "code",
   "execution_count": 155,
   "outputs": [],
   "source": [
    "# Specify the file path where you want to save the CSV file\n",
    "person_file_path = \"../data/curated/ABS_data/SA2_Person_in_Family_2021.csv\"\n",
    "\n",
    "# Use the to_csv method to save the DataFrame to a CSV file\n",
    "person_count_2021_data.to_csv(person_file_path, index=False)\n",
    "\n"
   ],
   "metadata": {
    "collapsed": false
   }
  },
  {
   "cell_type": "code",
   "execution_count": null,
   "outputs": [],
   "source": [],
   "metadata": {
    "collapsed": false
   }
  }
 ],
 "metadata": {
  "kernelspec": {
   "display_name": "Python 3",
   "language": "python",
   "name": "python3"
  },
  "language_info": {
   "codemirror_mode": {
    "name": "ipython",
    "version": 2
   },
   "file_extension": ".py",
   "mimetype": "text/x-python",
   "name": "python",
   "nbconvert_exporter": "python",
   "pygments_lexer": "ipython2",
   "version": "2.7.6"
  }
 },
 "nbformat": 4,
 "nbformat_minor": 0
}
