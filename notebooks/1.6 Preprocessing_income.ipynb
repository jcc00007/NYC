{
 "cells": [
  {
   "cell_type": "markdown",
   "source": [
    "# Preprocessing income\n",
    "This notebook is to preprocess the income data and join to the domain listing."
   ],
   "metadata": {
    "collapsed": false
   }
  },
  {
   "cell_type": "markdown",
   "source": [
    "### Import packages"
   ],
   "metadata": {
    "collapsed": false
   }
  },
  {
   "cell_type": "code",
   "execution_count": 1,
   "outputs": [],
   "source": [
    "import pandas as pd"
   ],
   "metadata": {
    "collapsed": false
   }
  },
  {
   "cell_type": "markdown",
   "source": [
    "### Read the file"
   ],
   "metadata": {
    "collapsed": false
   }
  },
  {
   "cell_type": "code",
   "execution_count": 10,
   "outputs": [],
   "source": [
    "income_path = \"../data/landing/ABS_data/income.csv\""
   ],
   "metadata": {
    "collapsed": false
   }
  },
  {
   "cell_type": "code",
   "execution_count": 11,
   "outputs": [],
   "source": [
    "income_df = pd.read_csv(income_path)"
   ],
   "metadata": {
    "collapsed": false
   }
  },
  {
   "cell_type": "code",
   "execution_count": 12,
   "outputs": [
    {
     "data": {
      "text/plain": "   rank         suburb   value  \\\n0     1     Canterbury  $2,352   \n1     2  Park Orchards  $2,329   \n2     3     Wonga Park  $2,221   \n3     4       Brighton  $2,200   \n4     5     Camberwell  $2,122   \n\n                                                link  page  \n0  http://house.speakingsame.com/profile.php?sta=...     0  \n1  http://house.speakingsame.com/profile.php?sta=...     0  \n2  http://house.speakingsame.com/profile.php?sta=...     0  \n3  http://house.speakingsame.com/profile.php?sta=...     0  \n4  http://house.speakingsame.com/profile.php?sta=...     0  ",
      "text/html": "<div>\n<style scoped>\n    .dataframe tbody tr th:only-of-type {\n        vertical-align: middle;\n    }\n\n    .dataframe tbody tr th {\n        vertical-align: top;\n    }\n\n    .dataframe thead th {\n        text-align: right;\n    }\n</style>\n<table border=\"1\" class=\"dataframe\">\n  <thead>\n    <tr style=\"text-align: right;\">\n      <th></th>\n      <th>rank</th>\n      <th>suburb</th>\n      <th>value</th>\n      <th>link</th>\n      <th>page</th>\n    </tr>\n  </thead>\n  <tbody>\n    <tr>\n      <th>0</th>\n      <td>1</td>\n      <td>Canterbury</td>\n      <td>$2,352</td>\n      <td>http://house.speakingsame.com/profile.php?sta=...</td>\n      <td>0</td>\n    </tr>\n    <tr>\n      <th>1</th>\n      <td>2</td>\n      <td>Park Orchards</td>\n      <td>$2,329</td>\n      <td>http://house.speakingsame.com/profile.php?sta=...</td>\n      <td>0</td>\n    </tr>\n    <tr>\n      <th>2</th>\n      <td>3</td>\n      <td>Wonga Park</td>\n      <td>$2,221</td>\n      <td>http://house.speakingsame.com/profile.php?sta=...</td>\n      <td>0</td>\n    </tr>\n    <tr>\n      <th>3</th>\n      <td>4</td>\n      <td>Brighton</td>\n      <td>$2,200</td>\n      <td>http://house.speakingsame.com/profile.php?sta=...</td>\n      <td>0</td>\n    </tr>\n    <tr>\n      <th>4</th>\n      <td>5</td>\n      <td>Camberwell</td>\n      <td>$2,122</td>\n      <td>http://house.speakingsame.com/profile.php?sta=...</td>\n      <td>0</td>\n    </tr>\n  </tbody>\n</table>\n</div>"
     },
     "execution_count": 12,
     "metadata": {},
     "output_type": "execute_result"
    }
   ],
   "source": [
    "income_df.head()"
   ],
   "metadata": {
    "collapsed": false
   }
  },
  {
   "cell_type": "code",
   "execution_count": 13,
   "outputs": [
    {
     "data": {
      "text/plain": "(665, 5)"
     },
     "execution_count": 13,
     "metadata": {},
     "output_type": "execute_result"
    }
   ],
   "source": [
    "income_df.shape"
   ],
   "metadata": {
    "collapsed": false
   }
  },
  {
   "cell_type": "code",
   "execution_count": 14,
   "outputs": [
    {
     "name": "stdout",
     "output_type": "stream",
     "text": [
      "<class 'pandas.core.frame.DataFrame'>\n",
      "RangeIndex: 665 entries, 0 to 664\n",
      "Data columns (total 5 columns):\n",
      " #   Column  Non-Null Count  Dtype \n",
      "---  ------  --------------  ----- \n",
      " 0   rank    665 non-null    int64 \n",
      " 1   suburb  665 non-null    object\n",
      " 2   value   665 non-null    object\n",
      " 3   link    665 non-null    object\n",
      " 4   page    665 non-null    int64 \n",
      "dtypes: int64(2), object(3)\n",
      "memory usage: 26.1+ KB\n"
     ]
    }
   ],
   "source": [
    "income_df.info()"
   ],
   "metadata": {
    "collapsed": false
   }
  },
  {
   "cell_type": "code",
   "execution_count": 15,
   "outputs": [
    {
     "name": "stderr",
     "output_type": "stream",
     "text": [
      "<ipython-input-15-118e0f4ed58a>:1: FutureWarning: The default value of regex will change from True to False in a future version. In addition, single character regular expressions will *not* be treated as literal strings when regex=True.\n",
      "  income_df['Weekly Income($)'] = income_df['value'].str.replace('$', '').str.replace(',', '').astype(float)\n"
     ]
    },
    {
     "data": {
      "text/plain": "   rank         suburb   value  \\\n0     1     Canterbury  $2,352   \n1     2  Park Orchards  $2,329   \n2     3     Wonga Park  $2,221   \n3     4       Brighton  $2,200   \n4     5     Camberwell  $2,122   \n\n                                                link  page  Weekly Income($)  \n0  http://house.speakingsame.com/profile.php?sta=...     0            2352.0  \n1  http://house.speakingsame.com/profile.php?sta=...     0            2329.0  \n2  http://house.speakingsame.com/profile.php?sta=...     0            2221.0  \n3  http://house.speakingsame.com/profile.php?sta=...     0            2200.0  \n4  http://house.speakingsame.com/profile.php?sta=...     0            2122.0  ",
      "text/html": "<div>\n<style scoped>\n    .dataframe tbody tr th:only-of-type {\n        vertical-align: middle;\n    }\n\n    .dataframe tbody tr th {\n        vertical-align: top;\n    }\n\n    .dataframe thead th {\n        text-align: right;\n    }\n</style>\n<table border=\"1\" class=\"dataframe\">\n  <thead>\n    <tr style=\"text-align: right;\">\n      <th></th>\n      <th>rank</th>\n      <th>suburb</th>\n      <th>value</th>\n      <th>link</th>\n      <th>page</th>\n      <th>Weekly Income($)</th>\n    </tr>\n  </thead>\n  <tbody>\n    <tr>\n      <th>0</th>\n      <td>1</td>\n      <td>Canterbury</td>\n      <td>$2,352</td>\n      <td>http://house.speakingsame.com/profile.php?sta=...</td>\n      <td>0</td>\n      <td>2352.0</td>\n    </tr>\n    <tr>\n      <th>1</th>\n      <td>2</td>\n      <td>Park Orchards</td>\n      <td>$2,329</td>\n      <td>http://house.speakingsame.com/profile.php?sta=...</td>\n      <td>0</td>\n      <td>2329.0</td>\n    </tr>\n    <tr>\n      <th>2</th>\n      <td>3</td>\n      <td>Wonga Park</td>\n      <td>$2,221</td>\n      <td>http://house.speakingsame.com/profile.php?sta=...</td>\n      <td>0</td>\n      <td>2221.0</td>\n    </tr>\n    <tr>\n      <th>3</th>\n      <td>4</td>\n      <td>Brighton</td>\n      <td>$2,200</td>\n      <td>http://house.speakingsame.com/profile.php?sta=...</td>\n      <td>0</td>\n      <td>2200.0</td>\n    </tr>\n    <tr>\n      <th>4</th>\n      <td>5</td>\n      <td>Camberwell</td>\n      <td>$2,122</td>\n      <td>http://house.speakingsame.com/profile.php?sta=...</td>\n      <td>0</td>\n      <td>2122.0</td>\n    </tr>\n  </tbody>\n</table>\n</div>"
     },
     "execution_count": 15,
     "metadata": {},
     "output_type": "execute_result"
    }
   ],
   "source": [
    "# extract the weekly income column\n",
    "income_df['Weekly Income($)'] = income_df['value'].str.replace('$', '').str.replace(',', '').astype(float)\n",
    "income_df.head()\n"
   ],
   "metadata": {
    "collapsed": false
   }
  },
  {
   "cell_type": "code",
   "execution_count": 16,
   "outputs": [
    {
     "data": {
      "text/plain": "          suburb  Weekly Income($)\n0     Canterbury            2352.0\n1  Park Orchards            2329.0\n2     Wonga Park            2221.0\n3       Brighton            2200.0\n4     Camberwell            2122.0",
      "text/html": "<div>\n<style scoped>\n    .dataframe tbody tr th:only-of-type {\n        vertical-align: middle;\n    }\n\n    .dataframe tbody tr th {\n        vertical-align: top;\n    }\n\n    .dataframe thead th {\n        text-align: right;\n    }\n</style>\n<table border=\"1\" class=\"dataframe\">\n  <thead>\n    <tr style=\"text-align: right;\">\n      <th></th>\n      <th>suburb</th>\n      <th>Weekly Income($)</th>\n    </tr>\n  </thead>\n  <tbody>\n    <tr>\n      <th>0</th>\n      <td>Canterbury</td>\n      <td>2352.0</td>\n    </tr>\n    <tr>\n      <th>1</th>\n      <td>Park Orchards</td>\n      <td>2329.0</td>\n    </tr>\n    <tr>\n      <th>2</th>\n      <td>Wonga Park</td>\n      <td>2221.0</td>\n    </tr>\n    <tr>\n      <th>3</th>\n      <td>Brighton</td>\n      <td>2200.0</td>\n    </tr>\n    <tr>\n      <th>4</th>\n      <td>Camberwell</td>\n      <td>2122.0</td>\n    </tr>\n  </tbody>\n</table>\n</div>"
     },
     "execution_count": 16,
     "metadata": {},
     "output_type": "execute_result"
    }
   ],
   "source": [
    "selected_columns = ['suburb', 'Weekly Income($)']\n",
    "final_income = income_df[selected_columns]\n",
    "final_income.head()"
   ],
   "metadata": {
    "collapsed": false
   }
  },
  {
   "cell_type": "markdown",
   "source": [
    "## Save the file"
   ],
   "metadata": {
    "collapsed": false
   }
  },
  {
   "cell_type": "code",
   "execution_count": 17,
   "outputs": [],
   "source": [
    "# Specify the file path where you want to save the CSV file\n",
    "file_path = \"../data/raw/ABS_data/income_suburb.csv\"\n",
    "\n",
    "# Use the to_csv method to save the DataFrame to a CSV file\n",
    "final_income.to_csv(file_path, index=False)"
   ],
   "metadata": {
    "collapsed": false
   }
  },
  {
   "cell_type": "markdown",
   "source": [
    "## Join with the property data"
   ],
   "metadata": {
    "collapsed": false
   }
  },
  {
   "cell_type": "code",
   "execution_count": 18,
   "outputs": [
    {
     "data": {
      "text/plain": "   Unnamed: 0        SA2          SA2 NAME          2012          2013  \\\n0           0  201011001         Alfredton  51670.073951  52993.212211   \n1           1  201011002          Ballarat  61177.132231  63669.220872   \n2           2  201011003  Ballarat - North  48946.980038  50871.715079   \n3           3  201011004  Ballarat - South  41918.131939  43625.173890   \n4           4  201011005         Buninyong  53538.216040  55674.656008   \n\n           2014          2015          2016          2017          2018  \\\n0  54624.783507  56373.600964  57746.696785  60026.081134  62315.127415   \n1  65506.668018  67216.710660  72754.453378  71895.145248  74671.366381   \n2  52023.790882  53016.994081  54660.327661  56067.366669  59786.487796   \n3  44721.796782  45473.451837  46143.213201  47676.111970  49041.036441   \n4  56765.499102  58010.968734  58292.425144  60008.747450  61564.815018   \n\n           2019  \n0  63668.274127  \n1  77875.693878  \n2  60366.697603  \n3  50778.316302  \n4  63257.766533  ",
      "text/html": "<div>\n<style scoped>\n    .dataframe tbody tr th:only-of-type {\n        vertical-align: middle;\n    }\n\n    .dataframe tbody tr th {\n        vertical-align: top;\n    }\n\n    .dataframe thead th {\n        text-align: right;\n    }\n</style>\n<table border=\"1\" class=\"dataframe\">\n  <thead>\n    <tr style=\"text-align: right;\">\n      <th></th>\n      <th>Unnamed: 0</th>\n      <th>SA2</th>\n      <th>SA2 NAME</th>\n      <th>2012</th>\n      <th>2013</th>\n      <th>2014</th>\n      <th>2015</th>\n      <th>2016</th>\n      <th>2017</th>\n      <th>2018</th>\n      <th>2019</th>\n    </tr>\n  </thead>\n  <tbody>\n    <tr>\n      <th>0</th>\n      <td>0</td>\n      <td>201011001</td>\n      <td>Alfredton</td>\n      <td>51670.073951</td>\n      <td>52993.212211</td>\n      <td>54624.783507</td>\n      <td>56373.600964</td>\n      <td>57746.696785</td>\n      <td>60026.081134</td>\n      <td>62315.127415</td>\n      <td>63668.274127</td>\n    </tr>\n    <tr>\n      <th>1</th>\n      <td>1</td>\n      <td>201011002</td>\n      <td>Ballarat</td>\n      <td>61177.132231</td>\n      <td>63669.220872</td>\n      <td>65506.668018</td>\n      <td>67216.710660</td>\n      <td>72754.453378</td>\n      <td>71895.145248</td>\n      <td>74671.366381</td>\n      <td>77875.693878</td>\n    </tr>\n    <tr>\n      <th>2</th>\n      <td>2</td>\n      <td>201011003</td>\n      <td>Ballarat - North</td>\n      <td>48946.980038</td>\n      <td>50871.715079</td>\n      <td>52023.790882</td>\n      <td>53016.994081</td>\n      <td>54660.327661</td>\n      <td>56067.366669</td>\n      <td>59786.487796</td>\n      <td>60366.697603</td>\n    </tr>\n    <tr>\n      <th>3</th>\n      <td>3</td>\n      <td>201011004</td>\n      <td>Ballarat - South</td>\n      <td>41918.131939</td>\n      <td>43625.173890</td>\n      <td>44721.796782</td>\n      <td>45473.451837</td>\n      <td>46143.213201</td>\n      <td>47676.111970</td>\n      <td>49041.036441</td>\n      <td>50778.316302</td>\n    </tr>\n    <tr>\n      <th>4</th>\n      <td>4</td>\n      <td>201011005</td>\n      <td>Buninyong</td>\n      <td>53538.216040</td>\n      <td>55674.656008</td>\n      <td>56765.499102</td>\n      <td>58010.968734</td>\n      <td>58292.425144</td>\n      <td>60008.747450</td>\n      <td>61564.815018</td>\n      <td>63257.766533</td>\n    </tr>\n  </tbody>\n</table>\n</div>"
     },
     "execution_count": 18,
     "metadata": {},
     "output_type": "execute_result"
    }
   ],
   "source": [
    "income_sa2_path = \"../data/landing/ABS_data/income_per_person_sa2.csv\"\n",
    "income_sa2 = pd.read_csv(income_sa2_path)\n",
    "income_sa2.head()"
   ],
   "metadata": {
    "collapsed": false
   }
  },
  {
   "cell_type": "code",
   "execution_count": 23,
   "outputs": [
    {
     "data": {
      "text/plain": "   Unnamed: 0        SA2        SAL_NAME21          2012          2013  \\\n0           0  201011001         Alfredton  51670.073951  52993.212211   \n1           1  201011002          Ballarat  61177.132231  63669.220872   \n2           2  201011003  Ballarat - North  48946.980038  50871.715079   \n3           3  201011004  Ballarat - South  41918.131939  43625.173890   \n4           4  201011005         Buninyong  53538.216040  55674.656008   \n\n           2014          2015          2016          2017          2018  \\\n0  54624.783507  56373.600964  57746.696785  60026.081134  62315.127415   \n1  65506.668018  67216.710660  72754.453378  71895.145248  74671.366381   \n2  52023.790882  53016.994081  54660.327661  56067.366669  59786.487796   \n3  44721.796782  45473.451837  46143.213201  47676.111970  49041.036441   \n4  56765.499102  58010.968734  58292.425144  60008.747450  61564.815018   \n\n           2019  \n0  63668.274127  \n1  77875.693878  \n2  60366.697603  \n3  50778.316302  \n4  63257.766533  ",
      "text/html": "<div>\n<style scoped>\n    .dataframe tbody tr th:only-of-type {\n        vertical-align: middle;\n    }\n\n    .dataframe tbody tr th {\n        vertical-align: top;\n    }\n\n    .dataframe thead th {\n        text-align: right;\n    }\n</style>\n<table border=\"1\" class=\"dataframe\">\n  <thead>\n    <tr style=\"text-align: right;\">\n      <th></th>\n      <th>Unnamed: 0</th>\n      <th>SA2</th>\n      <th>SAL_NAME21</th>\n      <th>2012</th>\n      <th>2013</th>\n      <th>2014</th>\n      <th>2015</th>\n      <th>2016</th>\n      <th>2017</th>\n      <th>2018</th>\n      <th>2019</th>\n    </tr>\n  </thead>\n  <tbody>\n    <tr>\n      <th>0</th>\n      <td>0</td>\n      <td>201011001</td>\n      <td>Alfredton</td>\n      <td>51670.073951</td>\n      <td>52993.212211</td>\n      <td>54624.783507</td>\n      <td>56373.600964</td>\n      <td>57746.696785</td>\n      <td>60026.081134</td>\n      <td>62315.127415</td>\n      <td>63668.274127</td>\n    </tr>\n    <tr>\n      <th>1</th>\n      <td>1</td>\n      <td>201011002</td>\n      <td>Ballarat</td>\n      <td>61177.132231</td>\n      <td>63669.220872</td>\n      <td>65506.668018</td>\n      <td>67216.710660</td>\n      <td>72754.453378</td>\n      <td>71895.145248</td>\n      <td>74671.366381</td>\n      <td>77875.693878</td>\n    </tr>\n    <tr>\n      <th>2</th>\n      <td>2</td>\n      <td>201011003</td>\n      <td>Ballarat - North</td>\n      <td>48946.980038</td>\n      <td>50871.715079</td>\n      <td>52023.790882</td>\n      <td>53016.994081</td>\n      <td>54660.327661</td>\n      <td>56067.366669</td>\n      <td>59786.487796</td>\n      <td>60366.697603</td>\n    </tr>\n    <tr>\n      <th>3</th>\n      <td>3</td>\n      <td>201011004</td>\n      <td>Ballarat - South</td>\n      <td>41918.131939</td>\n      <td>43625.173890</td>\n      <td>44721.796782</td>\n      <td>45473.451837</td>\n      <td>46143.213201</td>\n      <td>47676.111970</td>\n      <td>49041.036441</td>\n      <td>50778.316302</td>\n    </tr>\n    <tr>\n      <th>4</th>\n      <td>4</td>\n      <td>201011005</td>\n      <td>Buninyong</td>\n      <td>53538.216040</td>\n      <td>55674.656008</td>\n      <td>56765.499102</td>\n      <td>58010.968734</td>\n      <td>58292.425144</td>\n      <td>60008.747450</td>\n      <td>61564.815018</td>\n      <td>63257.766533</td>\n    </tr>\n  </tbody>\n</table>\n</div>"
     },
     "execution_count": 23,
     "metadata": {},
     "output_type": "execute_result"
    }
   ],
   "source": [
    "income_sa2 = income_sa2.rename(columns={'SA2 NAME': 'SAL_NAME21'})\n",
    "income_sa2.head()"
   ],
   "metadata": {
    "collapsed": false
   }
  },
  {
   "cell_type": "code",
   "execution_count": null,
   "outputs": [],
   "source": [],
   "metadata": {
    "collapsed": false
   }
  },
  {
   "cell_type": "code",
   "execution_count": 19,
   "outputs": [
    {
     "data": {
      "text/plain": "          suburb  Weekly Income($)\n0     Canterbury            2352.0\n1  Park Orchards            2329.0\n2     Wonga Park            2221.0\n3       Brighton            2200.0\n4     Camberwell            2122.0",
      "text/html": "<div>\n<style scoped>\n    .dataframe tbody tr th:only-of-type {\n        vertical-align: middle;\n    }\n\n    .dataframe tbody tr th {\n        vertical-align: top;\n    }\n\n    .dataframe thead th {\n        text-align: right;\n    }\n</style>\n<table border=\"1\" class=\"dataframe\">\n  <thead>\n    <tr style=\"text-align: right;\">\n      <th></th>\n      <th>suburb</th>\n      <th>Weekly Income($)</th>\n    </tr>\n  </thead>\n  <tbody>\n    <tr>\n      <th>0</th>\n      <td>Canterbury</td>\n      <td>2352.0</td>\n    </tr>\n    <tr>\n      <th>1</th>\n      <td>Park Orchards</td>\n      <td>2329.0</td>\n    </tr>\n    <tr>\n      <th>2</th>\n      <td>Wonga Park</td>\n      <td>2221.0</td>\n    </tr>\n    <tr>\n      <th>3</th>\n      <td>Brighton</td>\n      <td>2200.0</td>\n    </tr>\n    <tr>\n      <th>4</th>\n      <td>Camberwell</td>\n      <td>2122.0</td>\n    </tr>\n  </tbody>\n</table>\n</div>"
     },
     "execution_count": 19,
     "metadata": {},
     "output_type": "execute_result"
    }
   ],
   "source": [
    "final_income.head()"
   ],
   "metadata": {
    "collapsed": false
   }
  },
  {
   "cell_type": "code",
   "execution_count": null,
   "outputs": [],
   "source": [],
   "metadata": {
    "collapsed": false
   }
  },
  {
   "cell_type": "code",
   "execution_count": 26,
   "outputs": [],
   "source": [
    "final_path = '../data/raw/final_data_1.csv'\n",
    "final_df = pd.read_csv(final_path)\n",
    "final_df.head()"
   ],
   "metadata": {
    "collapsed": false
   }
  },
  {
   "cell_type": "markdown",
   "source": [
    "### Drop unnecessary columns"
   ],
   "metadata": {
    "collapsed": false
   }
  },
  {
   "cell_type": "code",
   "execution_count": 27,
   "outputs": [
    {
     "data": {
      "text/plain": "   Unnamed: 0                                     Location  \\\n0           0         4506/33 Rose Lane Melbourne VIC 3000   \n1           1   1715/220 Spencer Street Melbourne VIC 3000   \n2           2  5801/648 Lonsdale Street Melbourne VIC 3000   \n3           3        521/422 Collins St Melbourne VIC 3000   \n4           4    603/199 William Street Melbourne VIC 3000   \n\n             type_property          price  LT_resident_pcg  owner_pcg  \\\n0  Apartment / Unit / Flat  $520 per week             12.0       28.0   \n1  Apartment / Unit / Flat           $750             12.0       28.0   \n2  Apartment / Unit / Flat           $800             12.0       20.0   \n3  Apartment / Unit / Flat    $500 weekly             18.0       28.0   \n4  Apartment / Unit / Flat           $700             22.0       29.0   \n\n   family_pcg state  rooms  bath  ...  Non-residential properties  \\\n0        27.0   VIC    1.0   1.0  ...                       123.0   \n1        27.0   VIC    2.0   2.0  ...                       123.0   \n2        34.0   VIC    2.0   2.0  ...                       123.0   \n3        39.0   VIC    1.0   1.0  ...                       123.0   \n4        24.0   VIC    2.0   2.0  ...                       123.0   \n\n  Total Suburb Dwellings                  coordinate  \\\n0                13443.0  [-37.8150001, 144.9538708]   \n1                13443.0   [-37.815781, 144.9529156]   \n2                13443.0  [-37.8144537, 144.9534426]   \n3                13443.0  [-37.8170971, 144.9601487]   \n4                13443.0  [-37.8145716, 144.9573479]   \n\n   distance_to_melbourne_cbd_km nearest_shopping_center_distance_km  \\\n0                      0.884547                            0.202829   \n1                      0.970252                            0.082822   \n2                      0.925663                            0.226635   \n3                      0.393584                            0.340323   \n4                      0.583106                            0.474756   \n\n   nearest_park_distance_km nearest_tram_station_distance_km  \\\n0                 29.641073                         0.135415   \n1                 29.661964                         0.070096   \n2                 29.706333                         0.114239   \n3                 29.054073                         0.036919   \n4                 29.415873                         0.120055   \n\n   nearest_train_station_distance_km  nearest_bus_stop_distance_km  \\\n0                           0.370453                      0.135597   \n1                           0.273663                      0.087685   \n2                           0.336648                      0.126732   \n3                           0.613539                      0.112485   \n4                           0.324232                      0.080214   \n\n   nearest_school_distance_km  \n0                    0.239541  \n1                    0.296386  \n2                    0.193919  \n3                    0.356671  \n4                    0.242857  \n\n[5 rows x 50 columns]",
      "text/html": "<div>\n<style scoped>\n    .dataframe tbody tr th:only-of-type {\n        vertical-align: middle;\n    }\n\n    .dataframe tbody tr th {\n        vertical-align: top;\n    }\n\n    .dataframe thead th {\n        text-align: right;\n    }\n</style>\n<table border=\"1\" class=\"dataframe\">\n  <thead>\n    <tr style=\"text-align: right;\">\n      <th></th>\n      <th>Unnamed: 0</th>\n      <th>Location</th>\n      <th>type_property</th>\n      <th>price</th>\n      <th>LT_resident_pcg</th>\n      <th>owner_pcg</th>\n      <th>family_pcg</th>\n      <th>state</th>\n      <th>rooms</th>\n      <th>bath</th>\n      <th>...</th>\n      <th>Non-residential properties</th>\n      <th>Total Suburb Dwellings</th>\n      <th>coordinate</th>\n      <th>distance_to_melbourne_cbd_km</th>\n      <th>nearest_shopping_center_distance_km</th>\n      <th>nearest_park_distance_km</th>\n      <th>nearest_tram_station_distance_km</th>\n      <th>nearest_train_station_distance_km</th>\n      <th>nearest_bus_stop_distance_km</th>\n      <th>nearest_school_distance_km</th>\n    </tr>\n  </thead>\n  <tbody>\n    <tr>\n      <th>0</th>\n      <td>0</td>\n      <td>4506/33 Rose Lane Melbourne VIC 3000</td>\n      <td>Apartment / Unit / Flat</td>\n      <td>$520 per week</td>\n      <td>12.0</td>\n      <td>28.0</td>\n      <td>27.0</td>\n      <td>VIC</td>\n      <td>1.0</td>\n      <td>1.0</td>\n      <td>...</td>\n      <td>123.0</td>\n      <td>13443.0</td>\n      <td>[-37.8150001, 144.9538708]</td>\n      <td>0.884547</td>\n      <td>0.202829</td>\n      <td>29.641073</td>\n      <td>0.135415</td>\n      <td>0.370453</td>\n      <td>0.135597</td>\n      <td>0.239541</td>\n    </tr>\n    <tr>\n      <th>1</th>\n      <td>1</td>\n      <td>1715/220 Spencer Street Melbourne VIC 3000</td>\n      <td>Apartment / Unit / Flat</td>\n      <td>$750</td>\n      <td>12.0</td>\n      <td>28.0</td>\n      <td>27.0</td>\n      <td>VIC</td>\n      <td>2.0</td>\n      <td>2.0</td>\n      <td>...</td>\n      <td>123.0</td>\n      <td>13443.0</td>\n      <td>[-37.815781, 144.9529156]</td>\n      <td>0.970252</td>\n      <td>0.082822</td>\n      <td>29.661964</td>\n      <td>0.070096</td>\n      <td>0.273663</td>\n      <td>0.087685</td>\n      <td>0.296386</td>\n    </tr>\n    <tr>\n      <th>2</th>\n      <td>2</td>\n      <td>5801/648 Lonsdale Street Melbourne VIC 3000</td>\n      <td>Apartment / Unit / Flat</td>\n      <td>$800</td>\n      <td>12.0</td>\n      <td>20.0</td>\n      <td>34.0</td>\n      <td>VIC</td>\n      <td>2.0</td>\n      <td>2.0</td>\n      <td>...</td>\n      <td>123.0</td>\n      <td>13443.0</td>\n      <td>[-37.8144537, 144.9534426]</td>\n      <td>0.925663</td>\n      <td>0.226635</td>\n      <td>29.706333</td>\n      <td>0.114239</td>\n      <td>0.336648</td>\n      <td>0.126732</td>\n      <td>0.193919</td>\n    </tr>\n    <tr>\n      <th>3</th>\n      <td>3</td>\n      <td>521/422 Collins St Melbourne VIC 3000</td>\n      <td>Apartment / Unit / Flat</td>\n      <td>$500 weekly</td>\n      <td>18.0</td>\n      <td>28.0</td>\n      <td>39.0</td>\n      <td>VIC</td>\n      <td>1.0</td>\n      <td>1.0</td>\n      <td>...</td>\n      <td>123.0</td>\n      <td>13443.0</td>\n      <td>[-37.8170971, 144.9601487]</td>\n      <td>0.393584</td>\n      <td>0.340323</td>\n      <td>29.054073</td>\n      <td>0.036919</td>\n      <td>0.613539</td>\n      <td>0.112485</td>\n      <td>0.356671</td>\n    </tr>\n    <tr>\n      <th>4</th>\n      <td>4</td>\n      <td>603/199 William Street Melbourne VIC 3000</td>\n      <td>Apartment / Unit / Flat</td>\n      <td>$700</td>\n      <td>22.0</td>\n      <td>29.0</td>\n      <td>24.0</td>\n      <td>VIC</td>\n      <td>2.0</td>\n      <td>2.0</td>\n      <td>...</td>\n      <td>123.0</td>\n      <td>13443.0</td>\n      <td>[-37.8145716, 144.9573479]</td>\n      <td>0.583106</td>\n      <td>0.474756</td>\n      <td>29.415873</td>\n      <td>0.120055</td>\n      <td>0.324232</td>\n      <td>0.080214</td>\n      <td>0.242857</td>\n    </tr>\n  </tbody>\n</table>\n<p>5 rows × 50 columns</p>\n</div>"
     },
     "execution_count": 27,
     "metadata": {},
     "output_type": "execute_result"
    }
   ],
   "source": [
    "final_df.drop('Weekly Income($)', axis=1, inplace=True)\n",
    "final_df.head()"
   ],
   "metadata": {
    "collapsed": false
   }
  },
  {
   "cell_type": "code",
   "execution_count": 30,
   "outputs": [
    {
     "data": {
      "text/plain": "   Unnamed: 0                                     Location  \\\n0           0         4506/33 Rose Lane Melbourne VIC 3000   \n1           1   1715/220 Spencer Street Melbourne VIC 3000   \n2           2  5801/648 Lonsdale Street Melbourne VIC 3000   \n3           3        521/422 Collins St Melbourne VIC 3000   \n4           4    603/199 William Street Melbourne VIC 3000   \n\n             type_property          price  LT_resident_pcg  owner_pcg  \\\n0  Apartment / Unit / Flat  $520 per week             12.0       28.0   \n1  Apartment / Unit / Flat           $750             12.0       28.0   \n2  Apartment / Unit / Flat           $800             12.0       20.0   \n3  Apartment / Unit / Flat    $500 weekly             18.0       28.0   \n4  Apartment / Unit / Flat           $700             22.0       29.0   \n\n   family_pcg state  rooms  bath  ...  Flat or Apartment  \\\n0        27.0   VIC    1.0   1.0  ...            13278.0   \n1        27.0   VIC    2.0   2.0  ...            13278.0   \n2        34.0   VIC    2.0   2.0  ...            13278.0   \n3        39.0   VIC    1.0   1.0  ...            13278.0   \n4        24.0   VIC    2.0   2.0  ...            13278.0   \n\n  Non-residential properties Total Suburb Dwellings  \\\n0                      123.0                13443.0   \n1                      123.0                13443.0   \n2                      123.0                13443.0   \n3                      123.0                13443.0   \n4                      123.0                13443.0   \n\n                   coordinate distance_to_melbourne_cbd_km  \\\n0  [-37.8150001, 144.9538708]                     0.884547   \n1   [-37.815781, 144.9529156]                     0.970252   \n2  [-37.8144537, 144.9534426]                     0.925663   \n3  [-37.8170971, 144.9601487]                     0.393584   \n4  [-37.8145716, 144.9573479]                     0.583106   \n\n   nearest_shopping_center_distance_km nearest_tram_station_distance_km  \\\n0                             0.202829                         0.135415   \n1                             0.082822                         0.070096   \n2                             0.226635                         0.114239   \n3                             0.340323                         0.036919   \n4                             0.474756                         0.120055   \n\n   nearest_train_station_distance_km  nearest_bus_stop_distance_km  \\\n0                           0.370453                      0.135597   \n1                           0.273663                      0.087685   \n2                           0.336648                      0.126732   \n3                           0.613539                      0.112485   \n4                           0.324232                      0.080214   \n\n   nearest_school_distance_km  \n0                    0.239541  \n1                    0.296386  \n2                    0.193919  \n3                    0.356671  \n4                    0.242857  \n\n[5 rows x 49 columns]",
      "text/html": "<div>\n<style scoped>\n    .dataframe tbody tr th:only-of-type {\n        vertical-align: middle;\n    }\n\n    .dataframe tbody tr th {\n        vertical-align: top;\n    }\n\n    .dataframe thead th {\n        text-align: right;\n    }\n</style>\n<table border=\"1\" class=\"dataframe\">\n  <thead>\n    <tr style=\"text-align: right;\">\n      <th></th>\n      <th>Unnamed: 0</th>\n      <th>Location</th>\n      <th>type_property</th>\n      <th>price</th>\n      <th>LT_resident_pcg</th>\n      <th>owner_pcg</th>\n      <th>family_pcg</th>\n      <th>state</th>\n      <th>rooms</th>\n      <th>bath</th>\n      <th>...</th>\n      <th>Flat or Apartment</th>\n      <th>Non-residential properties</th>\n      <th>Total Suburb Dwellings</th>\n      <th>coordinate</th>\n      <th>distance_to_melbourne_cbd_km</th>\n      <th>nearest_shopping_center_distance_km</th>\n      <th>nearest_tram_station_distance_km</th>\n      <th>nearest_train_station_distance_km</th>\n      <th>nearest_bus_stop_distance_km</th>\n      <th>nearest_school_distance_km</th>\n    </tr>\n  </thead>\n  <tbody>\n    <tr>\n      <th>0</th>\n      <td>0</td>\n      <td>4506/33 Rose Lane Melbourne VIC 3000</td>\n      <td>Apartment / Unit / Flat</td>\n      <td>$520 per week</td>\n      <td>12.0</td>\n      <td>28.0</td>\n      <td>27.0</td>\n      <td>VIC</td>\n      <td>1.0</td>\n      <td>1.0</td>\n      <td>...</td>\n      <td>13278.0</td>\n      <td>123.0</td>\n      <td>13443.0</td>\n      <td>[-37.8150001, 144.9538708]</td>\n      <td>0.884547</td>\n      <td>0.202829</td>\n      <td>0.135415</td>\n      <td>0.370453</td>\n      <td>0.135597</td>\n      <td>0.239541</td>\n    </tr>\n    <tr>\n      <th>1</th>\n      <td>1</td>\n      <td>1715/220 Spencer Street Melbourne VIC 3000</td>\n      <td>Apartment / Unit / Flat</td>\n      <td>$750</td>\n      <td>12.0</td>\n      <td>28.0</td>\n      <td>27.0</td>\n      <td>VIC</td>\n      <td>2.0</td>\n      <td>2.0</td>\n      <td>...</td>\n      <td>13278.0</td>\n      <td>123.0</td>\n      <td>13443.0</td>\n      <td>[-37.815781, 144.9529156]</td>\n      <td>0.970252</td>\n      <td>0.082822</td>\n      <td>0.070096</td>\n      <td>0.273663</td>\n      <td>0.087685</td>\n      <td>0.296386</td>\n    </tr>\n    <tr>\n      <th>2</th>\n      <td>2</td>\n      <td>5801/648 Lonsdale Street Melbourne VIC 3000</td>\n      <td>Apartment / Unit / Flat</td>\n      <td>$800</td>\n      <td>12.0</td>\n      <td>20.0</td>\n      <td>34.0</td>\n      <td>VIC</td>\n      <td>2.0</td>\n      <td>2.0</td>\n      <td>...</td>\n      <td>13278.0</td>\n      <td>123.0</td>\n      <td>13443.0</td>\n      <td>[-37.8144537, 144.9534426]</td>\n      <td>0.925663</td>\n      <td>0.226635</td>\n      <td>0.114239</td>\n      <td>0.336648</td>\n      <td>0.126732</td>\n      <td>0.193919</td>\n    </tr>\n    <tr>\n      <th>3</th>\n      <td>3</td>\n      <td>521/422 Collins St Melbourne VIC 3000</td>\n      <td>Apartment / Unit / Flat</td>\n      <td>$500 weekly</td>\n      <td>18.0</td>\n      <td>28.0</td>\n      <td>39.0</td>\n      <td>VIC</td>\n      <td>1.0</td>\n      <td>1.0</td>\n      <td>...</td>\n      <td>13278.0</td>\n      <td>123.0</td>\n      <td>13443.0</td>\n      <td>[-37.8170971, 144.9601487]</td>\n      <td>0.393584</td>\n      <td>0.340323</td>\n      <td>0.036919</td>\n      <td>0.613539</td>\n      <td>0.112485</td>\n      <td>0.356671</td>\n    </tr>\n    <tr>\n      <th>4</th>\n      <td>4</td>\n      <td>603/199 William Street Melbourne VIC 3000</td>\n      <td>Apartment / Unit / Flat</td>\n      <td>$700</td>\n      <td>22.0</td>\n      <td>29.0</td>\n      <td>24.0</td>\n      <td>VIC</td>\n      <td>2.0</td>\n      <td>2.0</td>\n      <td>...</td>\n      <td>13278.0</td>\n      <td>123.0</td>\n      <td>13443.0</td>\n      <td>[-37.8145716, 144.9573479]</td>\n      <td>0.583106</td>\n      <td>0.474756</td>\n      <td>0.120055</td>\n      <td>0.324232</td>\n      <td>0.080214</td>\n      <td>0.242857</td>\n    </tr>\n  </tbody>\n</table>\n<p>5 rows × 49 columns</p>\n</div>"
     },
     "execution_count": 30,
     "metadata": {},
     "output_type": "execute_result"
    }
   ],
   "source": [
    "final_df.drop('nearest_park_distance_km', axis=1, inplace=True)\n",
    "final_df.head()"
   ],
   "metadata": {
    "collapsed": false
   }
  },
  {
   "cell_type": "code",
   "execution_count": 31,
   "outputs": [
    {
     "data": {
      "text/plain": "       Unnamed: 0                                     Location  \\\n0               0         4506/33 Rose Lane Melbourne VIC 3000   \n1               1   1715/220 Spencer Street Melbourne VIC 3000   \n2               2  5801/648 Lonsdale Street Melbourne VIC 3000   \n3               3        521/422 Collins St Melbourne VIC 3000   \n4               4    603/199 William Street Melbourne VIC 3000   \n...           ...                                          ...   \n12017       12017     62 Athenaeum Avenue Clyde North VIC 3978   \n12018       12018         5 Kenana Street Clyde North VIC 3978   \n12020       12020    81 Ramlegh Boulevard Clyde North VIC 3978   \n12023       12023       26 Keighery Drive Clyde North VIC 3978   \n12024       12024        44 Kalbian Drive Clyde North VIC 3978   \n\n                 type_property                 price state  rooms  bath  \\\n0      Apartment / Unit / Flat         $520 per week   VIC    1.0   1.0   \n1      Apartment / Unit / Flat                  $750   VIC    2.0   2.0   \n2      Apartment / Unit / Flat                  $800   VIC    2.0   2.0   \n3      Apartment / Unit / Flat           $500 weekly   VIC    1.0   1.0   \n4      Apartment / Unit / Flat                  $700   VIC    2.0   2.0   \n...                        ...                   ...   ...    ...   ...   \n12017                    House         $480 per week   VIC    3.0   2.0   \n12018                    House                  $580   VIC    4.0   2.0   \n12020                Townhouse    $495pw | $2,151pcm   VIC    3.0   2.0   \n12023                    House  $600 per week leased   VIC    4.0   2.0   \n12024                    House  $780 per week leased   VIC    5.0   3.0   \n\n       parking                                               link  \\\n0          0.0  https://www.domain.com.au/4506-33-rose-lane-me...   \n1          1.0  https://www.domain.com.au/1715-220-spencer-str...   \n2          0.0  https://www.domain.com.au/5801-648-lonsdale-st...   \n3          0.0  https://www.domain.com.au/521-422-collins-st-m...   \n4          0.0  https://www.domain.com.au/603-199-william-stre...   \n...        ...                                                ...   \n12017      2.0  https://www.domain.com.au/62-athenaeum-avenue-...   \n12018      2.0  https://www.domain.com.au/5-kenana-street-clyd...   \n12020      2.0  https://www.domain.com.au/81-ramlegh-boulevard...   \n12023      2.0  https://www.domain.com.au/26-keighery-drive-cl...   \n12024      2.0  https://www.domain.com.au/44-kalbian-drive-cly...   \n\n                          public_1  ...  Flat or Apartment  \\\n0         Docklands Primary School  ...            13278.0   \n1         Docklands Primary School  ...            13278.0   \n2         Docklands Primary School  ...            13278.0   \n3         Docklands Primary School  ...            13278.0   \n4         Docklands Primary School  ...            13278.0   \n...                            ...  ...                ...   \n12017      Clyde Secondary College  ...                0.0   \n12018  Ramlegh Park Primary School  ...                0.0   \n12020  Ramlegh Park Primary School  ...                0.0   \n12023  Ramlegh Park Primary School  ...                0.0   \n12024  Ramlegh Park Primary School  ...                0.0   \n\n      Non-residential properties  Total Suburb Dwellings  \\\n0                          123.0                 13443.0   \n1                          123.0                 13443.0   \n2                          123.0                 13443.0   \n3                          123.0                 13443.0   \n4                          123.0                 13443.0   \n...                          ...                     ...   \n12017                        7.0                  4529.0   \n12018                        7.0                  4529.0   \n12020                        7.0                  4529.0   \n12023                        7.0                  4529.0   \n12024                        7.0                  4529.0   \n\n                              coordinate  distance_to_melbourne_cbd_km  \\\n0             [-37.8150001, 144.9538708]                      0.884547   \n1              [-37.815781, 144.9529156]                      0.970252   \n2             [-37.8144537, 144.9534426]                      0.925663   \n3             [-37.8170971, 144.9601487]                      0.393584   \n4             [-37.8145716, 144.9573479]                      0.583106   \n...                                  ...                           ...   \n12017  [-38.12142679999999, 145.3735367]                     49.483555   \n12018         [-38.1039797, 145.3612992]                     47.377999   \n12020         [-38.1168601, 145.3449293]                     47.334706   \n12023          [-38.111692, 145.3467194]                     47.041894   \n12024         [-38.1107072, 145.3328191]                     46.102564   \n\n       nearest_shopping_center_distance_km  nearest_tram_station_distance_km  \\\n0                                 0.202829                          0.135415   \n1                                 0.082822                          0.070096   \n2                                 0.226635                          0.114239   \n3                                 0.340323                          0.036919   \n4                                 0.474756                          0.120055   \n...                                    ...                               ...   \n12017                             4.579141                         33.913455   \n12018                             3.850631                         31.697865   \n12020                             2.072609                         32.288701   \n12023                             2.345958                         31.845421   \n12024                             1.325289                         31.212571   \n\n       nearest_train_station_distance_km nearest_bus_stop_distance_km  \\\n0                               0.370453                     0.135597   \n1                               0.273663                     0.087685   \n2                               0.336648                     0.126732   \n3                               0.613539                     0.112485   \n4                               0.324232                     0.080214   \n...                                  ...                          ...   \n12017                           6.966027                     2.484480   \n12018                           5.924626                     2.368958   \n12020                           5.948969                     0.468924   \n12023                           5.941091                     1.052354   \n12024                           4.734927                     0.360580   \n\n       nearest_school_distance_km  \n0                        0.239541  \n1                        0.296386  \n2                        0.193919  \n3                        0.356671  \n4                        0.242857  \n...                           ...  \n12017                    1.773057  \n12018                    1.544524  \n12020                    0.621983  \n12023                    0.819029  \n12024                    0.665994  \n\n[10187 rows x 46 columns]",
      "text/html": "<div>\n<style scoped>\n    .dataframe tbody tr th:only-of-type {\n        vertical-align: middle;\n    }\n\n    .dataframe tbody tr th {\n        vertical-align: top;\n    }\n\n    .dataframe thead th {\n        text-align: right;\n    }\n</style>\n<table border=\"1\" class=\"dataframe\">\n  <thead>\n    <tr style=\"text-align: right;\">\n      <th></th>\n      <th>Unnamed: 0</th>\n      <th>Location</th>\n      <th>type_property</th>\n      <th>price</th>\n      <th>state</th>\n      <th>rooms</th>\n      <th>bath</th>\n      <th>parking</th>\n      <th>link</th>\n      <th>public_1</th>\n      <th>...</th>\n      <th>Flat or Apartment</th>\n      <th>Non-residential properties</th>\n      <th>Total Suburb Dwellings</th>\n      <th>coordinate</th>\n      <th>distance_to_melbourne_cbd_km</th>\n      <th>nearest_shopping_center_distance_km</th>\n      <th>nearest_tram_station_distance_km</th>\n      <th>nearest_train_station_distance_km</th>\n      <th>nearest_bus_stop_distance_km</th>\n      <th>nearest_school_distance_km</th>\n    </tr>\n  </thead>\n  <tbody>\n    <tr>\n      <th>0</th>\n      <td>0</td>\n      <td>4506/33 Rose Lane Melbourne VIC 3000</td>\n      <td>Apartment / Unit / Flat</td>\n      <td>$520 per week</td>\n      <td>VIC</td>\n      <td>1.0</td>\n      <td>1.0</td>\n      <td>0.0</td>\n      <td>https://www.domain.com.au/4506-33-rose-lane-me...</td>\n      <td>Docklands Primary School</td>\n      <td>...</td>\n      <td>13278.0</td>\n      <td>123.0</td>\n      <td>13443.0</td>\n      <td>[-37.8150001, 144.9538708]</td>\n      <td>0.884547</td>\n      <td>0.202829</td>\n      <td>0.135415</td>\n      <td>0.370453</td>\n      <td>0.135597</td>\n      <td>0.239541</td>\n    </tr>\n    <tr>\n      <th>1</th>\n      <td>1</td>\n      <td>1715/220 Spencer Street Melbourne VIC 3000</td>\n      <td>Apartment / Unit / Flat</td>\n      <td>$750</td>\n      <td>VIC</td>\n      <td>2.0</td>\n      <td>2.0</td>\n      <td>1.0</td>\n      <td>https://www.domain.com.au/1715-220-spencer-str...</td>\n      <td>Docklands Primary School</td>\n      <td>...</td>\n      <td>13278.0</td>\n      <td>123.0</td>\n      <td>13443.0</td>\n      <td>[-37.815781, 144.9529156]</td>\n      <td>0.970252</td>\n      <td>0.082822</td>\n      <td>0.070096</td>\n      <td>0.273663</td>\n      <td>0.087685</td>\n      <td>0.296386</td>\n    </tr>\n    <tr>\n      <th>2</th>\n      <td>2</td>\n      <td>5801/648 Lonsdale Street Melbourne VIC 3000</td>\n      <td>Apartment / Unit / Flat</td>\n      <td>$800</td>\n      <td>VIC</td>\n      <td>2.0</td>\n      <td>2.0</td>\n      <td>0.0</td>\n      <td>https://www.domain.com.au/5801-648-lonsdale-st...</td>\n      <td>Docklands Primary School</td>\n      <td>...</td>\n      <td>13278.0</td>\n      <td>123.0</td>\n      <td>13443.0</td>\n      <td>[-37.8144537, 144.9534426]</td>\n      <td>0.925663</td>\n      <td>0.226635</td>\n      <td>0.114239</td>\n      <td>0.336648</td>\n      <td>0.126732</td>\n      <td>0.193919</td>\n    </tr>\n    <tr>\n      <th>3</th>\n      <td>3</td>\n      <td>521/422 Collins St Melbourne VIC 3000</td>\n      <td>Apartment / Unit / Flat</td>\n      <td>$500 weekly</td>\n      <td>VIC</td>\n      <td>1.0</td>\n      <td>1.0</td>\n      <td>0.0</td>\n      <td>https://www.domain.com.au/521-422-collins-st-m...</td>\n      <td>Docklands Primary School</td>\n      <td>...</td>\n      <td>13278.0</td>\n      <td>123.0</td>\n      <td>13443.0</td>\n      <td>[-37.8170971, 144.9601487]</td>\n      <td>0.393584</td>\n      <td>0.340323</td>\n      <td>0.036919</td>\n      <td>0.613539</td>\n      <td>0.112485</td>\n      <td>0.356671</td>\n    </tr>\n    <tr>\n      <th>4</th>\n      <td>4</td>\n      <td>603/199 William Street Melbourne VIC 3000</td>\n      <td>Apartment / Unit / Flat</td>\n      <td>$700</td>\n      <td>VIC</td>\n      <td>2.0</td>\n      <td>2.0</td>\n      <td>0.0</td>\n      <td>https://www.domain.com.au/603-199-william-stre...</td>\n      <td>Docklands Primary School</td>\n      <td>...</td>\n      <td>13278.0</td>\n      <td>123.0</td>\n      <td>13443.0</td>\n      <td>[-37.8145716, 144.9573479]</td>\n      <td>0.583106</td>\n      <td>0.474756</td>\n      <td>0.120055</td>\n      <td>0.324232</td>\n      <td>0.080214</td>\n      <td>0.242857</td>\n    </tr>\n    <tr>\n      <th>...</th>\n      <td>...</td>\n      <td>...</td>\n      <td>...</td>\n      <td>...</td>\n      <td>...</td>\n      <td>...</td>\n      <td>...</td>\n      <td>...</td>\n      <td>...</td>\n      <td>...</td>\n      <td>...</td>\n      <td>...</td>\n      <td>...</td>\n      <td>...</td>\n      <td>...</td>\n      <td>...</td>\n      <td>...</td>\n      <td>...</td>\n      <td>...</td>\n      <td>...</td>\n      <td>...</td>\n    </tr>\n    <tr>\n      <th>12017</th>\n      <td>12017</td>\n      <td>62 Athenaeum Avenue Clyde North VIC 3978</td>\n      <td>House</td>\n      <td>$480 per week</td>\n      <td>VIC</td>\n      <td>3.0</td>\n      <td>2.0</td>\n      <td>2.0</td>\n      <td>https://www.domain.com.au/62-athenaeum-avenue-...</td>\n      <td>Clyde Secondary College</td>\n      <td>...</td>\n      <td>0.0</td>\n      <td>7.0</td>\n      <td>4529.0</td>\n      <td>[-38.12142679999999, 145.3735367]</td>\n      <td>49.483555</td>\n      <td>4.579141</td>\n      <td>33.913455</td>\n      <td>6.966027</td>\n      <td>2.484480</td>\n      <td>1.773057</td>\n    </tr>\n    <tr>\n      <th>12018</th>\n      <td>12018</td>\n      <td>5 Kenana Street Clyde North VIC 3978</td>\n      <td>House</td>\n      <td>$580</td>\n      <td>VIC</td>\n      <td>4.0</td>\n      <td>2.0</td>\n      <td>2.0</td>\n      <td>https://www.domain.com.au/5-kenana-street-clyd...</td>\n      <td>Ramlegh Park Primary School</td>\n      <td>...</td>\n      <td>0.0</td>\n      <td>7.0</td>\n      <td>4529.0</td>\n      <td>[-38.1039797, 145.3612992]</td>\n      <td>47.377999</td>\n      <td>3.850631</td>\n      <td>31.697865</td>\n      <td>5.924626</td>\n      <td>2.368958</td>\n      <td>1.544524</td>\n    </tr>\n    <tr>\n      <th>12020</th>\n      <td>12020</td>\n      <td>81 Ramlegh Boulevard Clyde North VIC 3978</td>\n      <td>Townhouse</td>\n      <td>$495pw | $2,151pcm</td>\n      <td>VIC</td>\n      <td>3.0</td>\n      <td>2.0</td>\n      <td>2.0</td>\n      <td>https://www.domain.com.au/81-ramlegh-boulevard...</td>\n      <td>Ramlegh Park Primary School</td>\n      <td>...</td>\n      <td>0.0</td>\n      <td>7.0</td>\n      <td>4529.0</td>\n      <td>[-38.1168601, 145.3449293]</td>\n      <td>47.334706</td>\n      <td>2.072609</td>\n      <td>32.288701</td>\n      <td>5.948969</td>\n      <td>0.468924</td>\n      <td>0.621983</td>\n    </tr>\n    <tr>\n      <th>12023</th>\n      <td>12023</td>\n      <td>26 Keighery Drive Clyde North VIC 3978</td>\n      <td>House</td>\n      <td>$600 per week leased</td>\n      <td>VIC</td>\n      <td>4.0</td>\n      <td>2.0</td>\n      <td>2.0</td>\n      <td>https://www.domain.com.au/26-keighery-drive-cl...</td>\n      <td>Ramlegh Park Primary School</td>\n      <td>...</td>\n      <td>0.0</td>\n      <td>7.0</td>\n      <td>4529.0</td>\n      <td>[-38.111692, 145.3467194]</td>\n      <td>47.041894</td>\n      <td>2.345958</td>\n      <td>31.845421</td>\n      <td>5.941091</td>\n      <td>1.052354</td>\n      <td>0.819029</td>\n    </tr>\n    <tr>\n      <th>12024</th>\n      <td>12024</td>\n      <td>44 Kalbian Drive Clyde North VIC 3978</td>\n      <td>House</td>\n      <td>$780 per week leased</td>\n      <td>VIC</td>\n      <td>5.0</td>\n      <td>3.0</td>\n      <td>2.0</td>\n      <td>https://www.domain.com.au/44-kalbian-drive-cly...</td>\n      <td>Ramlegh Park Primary School</td>\n      <td>...</td>\n      <td>0.0</td>\n      <td>7.0</td>\n      <td>4529.0</td>\n      <td>[-38.1107072, 145.3328191]</td>\n      <td>46.102564</td>\n      <td>1.325289</td>\n      <td>31.212571</td>\n      <td>4.734927</td>\n      <td>0.360580</td>\n      <td>0.665994</td>\n    </tr>\n  </tbody>\n</table>\n<p>10187 rows × 46 columns</p>\n</div>"
     },
     "execution_count": 31,
     "metadata": {},
     "output_type": "execute_result"
    }
   ],
   "source": [
    "drop_columns = ['LT_resident_pcg', 'owner_pcg', 'family_pcg']\n",
    "final_df.drop(columns = ['LT_resident_pcg', 'owner_pcg', 'family_pcg'], inplace = True)\n",
    "final_df.dropna()"
   ],
   "metadata": {
    "collapsed": false
   }
  },
  {
   "cell_type": "code",
   "execution_count": null,
   "outputs": [],
   "source": [
    "final_df.head()"
   ],
   "metadata": {
    "collapsed": false
   }
  },
  {
   "cell_type": "code",
   "execution_count": 32,
   "outputs": [],
   "source": [
    "file_path = \"../data/raw/final_drop_pcg.csv\"\n",
    "\n",
    "# Use the to_csv method to save the DataFrame to a CSV file\n",
    "final_df.to_csv(file_path, index=False)"
   ],
   "metadata": {
    "collapsed": false
   }
  },
  {
   "cell_type": "markdown",
   "source": [
    "## Save the final datasets for processing"
   ],
   "metadata": {
    "collapsed": false
   }
  },
  {
   "cell_type": "code",
   "execution_count": 24,
   "outputs": [],
   "source": [
    "result = pd.merge(final_df, income_sa2, on='SAL_NAME21', how='outer')\n",
    "result.head()"
   ],
   "metadata": {
    "collapsed": false
   }
  },
  {
   "cell_type": "code",
   "execution_count": 25,
   "outputs": [],
   "source": [
    "# Specify the file path where you want to save the CSV file\n",
    "file_path = \"../data/raw/ABS_data/final_2.csv\"\n",
    "\n",
    "# Use the to_csv method to save the DataFrame to a CSV file\n",
    "result.to_csv(file_path, index=False)"
   ],
   "metadata": {
    "collapsed": false
   }
  },
  {
   "cell_type": "code",
   "execution_count": null,
   "outputs": [],
   "source": [],
   "metadata": {
    "collapsed": false
   }
  }
 ],
 "metadata": {
  "kernelspec": {
   "display_name": "Python 3",
   "language": "python",
   "name": "python3"
  },
  "language_info": {
   "codemirror_mode": {
    "name": "ipython",
    "version": 2
   },
   "file_extension": ".py",
   "mimetype": "text/x-python",
   "name": "python",
   "nbconvert_exporter": "python",
   "pygments_lexer": "ipython2",
   "version": "2.7.6"
  }
 },
 "nbformat": 4,
 "nbformat_minor": 0
}
