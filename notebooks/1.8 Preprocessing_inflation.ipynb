{
 "cells": [
  {
   "cell_type": "markdown",
   "source": [
    "# Inflation\n",
    "This notebooke is to preprocess inflation file\n"
   ],
   "metadata": {
    "collapsed": false
   }
  },
  {
   "cell_type": "code",
   "execution_count": null,
   "outputs": [],
   "source": [
    "# import packages"
   ],
   "metadata": {
    "collapsed": false
   }
  },
  {
   "cell_type": "code",
   "execution_count": 1,
   "outputs": [],
   "source": [
    "# 2021SA2 (UR) by 1-digit level OCCP Occupation.csv\n",
    "import pandas as pd"
   ],
   "metadata": {
    "collapsed": false
   }
  },
  {
   "cell_type": "code",
   "execution_count": 2,
   "outputs": [
    {
     "data": {
      "text/plain": "          date   Inflation Rate (%)   Annual Change    \n0   1960-12-31               3.7288             NaN NaN\n1   1961-12-31               2.2876           -1.44 NaN\n2   1962-12-31              -0.3195           -2.61 NaN\n3   1963-12-31               0.6410            0.96 NaN\n4   1964-12-31               2.8662            2.23 NaN\n..         ...                  ...             ...  ..\n58  2018-12-31               1.9114           -0.04 NaN\n59  2019-12-31               1.6108           -0.30 NaN\n60  2020-12-31               0.8469           -0.76 NaN\n61  2021-12-31               2.8639            2.02 NaN\n62  2022-12-31               6.5941            3.73 NaN\n\n[63 rows x 4 columns]",
      "text/html": "<div>\n<style scoped>\n    .dataframe tbody tr th:only-of-type {\n        vertical-align: middle;\n    }\n\n    .dataframe tbody tr th {\n        vertical-align: top;\n    }\n\n    .dataframe thead th {\n        text-align: right;\n    }\n</style>\n<table border=\"1\" class=\"dataframe\">\n  <thead>\n    <tr style=\"text-align: right;\">\n      <th></th>\n      <th>date</th>\n      <th>Inflation Rate (%)</th>\n      <th>Annual Change</th>\n      <th></th>\n    </tr>\n  </thead>\n  <tbody>\n    <tr>\n      <th>0</th>\n      <td>1960-12-31</td>\n      <td>3.7288</td>\n      <td>NaN</td>\n      <td>NaN</td>\n    </tr>\n    <tr>\n      <th>1</th>\n      <td>1961-12-31</td>\n      <td>2.2876</td>\n      <td>-1.44</td>\n      <td>NaN</td>\n    </tr>\n    <tr>\n      <th>2</th>\n      <td>1962-12-31</td>\n      <td>-0.3195</td>\n      <td>-2.61</td>\n      <td>NaN</td>\n    </tr>\n    <tr>\n      <th>3</th>\n      <td>1963-12-31</td>\n      <td>0.6410</td>\n      <td>0.96</td>\n      <td>NaN</td>\n    </tr>\n    <tr>\n      <th>4</th>\n      <td>1964-12-31</td>\n      <td>2.8662</td>\n      <td>2.23</td>\n      <td>NaN</td>\n    </tr>\n    <tr>\n      <th>...</th>\n      <td>...</td>\n      <td>...</td>\n      <td>...</td>\n      <td>...</td>\n    </tr>\n    <tr>\n      <th>58</th>\n      <td>2018-12-31</td>\n      <td>1.9114</td>\n      <td>-0.04</td>\n      <td>NaN</td>\n    </tr>\n    <tr>\n      <th>59</th>\n      <td>2019-12-31</td>\n      <td>1.6108</td>\n      <td>-0.30</td>\n      <td>NaN</td>\n    </tr>\n    <tr>\n      <th>60</th>\n      <td>2020-12-31</td>\n      <td>0.8469</td>\n      <td>-0.76</td>\n      <td>NaN</td>\n    </tr>\n    <tr>\n      <th>61</th>\n      <td>2021-12-31</td>\n      <td>2.8639</td>\n      <td>2.02</td>\n      <td>NaN</td>\n    </tr>\n    <tr>\n      <th>62</th>\n      <td>2022-12-31</td>\n      <td>6.5941</td>\n      <td>3.73</td>\n      <td>NaN</td>\n    </tr>\n  </tbody>\n</table>\n<p>63 rows × 4 columns</p>\n</div>"
     },
     "execution_count": 2,
     "metadata": {},
     "output_type": "execute_result"
    }
   ],
   "source": [
    "\n",
    "# load 2021 ABS Census data on family number\n",
    "inflation_rate_path = \"../data/landing/inflation_rate.csv\"\n",
    "skip_rows = 16\n",
    "inflation_rate_data = pd.read_csv(inflation_rate_path, skiprows=skip_rows)\n",
    "inflation_rate_data"
   ],
   "metadata": {
    "collapsed": false
   }
  },
  {
   "cell_type": "code",
   "execution_count": 3,
   "outputs": [
    {
     "data": {
      "text/plain": "          date   Inflation Rate (%)   Annual Change\n0   1960-12-31               3.7288             NaN\n1   1961-12-31               2.2876           -1.44\n2   1962-12-31              -0.3195           -2.61\n3   1963-12-31               0.6410            0.96\n4   1964-12-31               2.8662            2.23\n..         ...                  ...             ...\n58  2018-12-31               1.9114           -0.04\n59  2019-12-31               1.6108           -0.30\n60  2020-12-31               0.8469           -0.76\n61  2021-12-31               2.8639            2.02\n62  2022-12-31               6.5941            3.73\n\n[63 rows x 3 columns]",
      "text/html": "<div>\n<style scoped>\n    .dataframe tbody tr th:only-of-type {\n        vertical-align: middle;\n    }\n\n    .dataframe tbody tr th {\n        vertical-align: top;\n    }\n\n    .dataframe thead th {\n        text-align: right;\n    }\n</style>\n<table border=\"1\" class=\"dataframe\">\n  <thead>\n    <tr style=\"text-align: right;\">\n      <th></th>\n      <th>date</th>\n      <th>Inflation Rate (%)</th>\n      <th>Annual Change</th>\n    </tr>\n  </thead>\n  <tbody>\n    <tr>\n      <th>0</th>\n      <td>1960-12-31</td>\n      <td>3.7288</td>\n      <td>NaN</td>\n    </tr>\n    <tr>\n      <th>1</th>\n      <td>1961-12-31</td>\n      <td>2.2876</td>\n      <td>-1.44</td>\n    </tr>\n    <tr>\n      <th>2</th>\n      <td>1962-12-31</td>\n      <td>-0.3195</td>\n      <td>-2.61</td>\n    </tr>\n    <tr>\n      <th>3</th>\n      <td>1963-12-31</td>\n      <td>0.6410</td>\n      <td>0.96</td>\n    </tr>\n    <tr>\n      <th>4</th>\n      <td>1964-12-31</td>\n      <td>2.8662</td>\n      <td>2.23</td>\n    </tr>\n    <tr>\n      <th>...</th>\n      <td>...</td>\n      <td>...</td>\n      <td>...</td>\n    </tr>\n    <tr>\n      <th>58</th>\n      <td>2018-12-31</td>\n      <td>1.9114</td>\n      <td>-0.04</td>\n    </tr>\n    <tr>\n      <th>59</th>\n      <td>2019-12-31</td>\n      <td>1.6108</td>\n      <td>-0.30</td>\n    </tr>\n    <tr>\n      <th>60</th>\n      <td>2020-12-31</td>\n      <td>0.8469</td>\n      <td>-0.76</td>\n    </tr>\n    <tr>\n      <th>61</th>\n      <td>2021-12-31</td>\n      <td>2.8639</td>\n      <td>2.02</td>\n    </tr>\n    <tr>\n      <th>62</th>\n      <td>2022-12-31</td>\n      <td>6.5941</td>\n      <td>3.73</td>\n    </tr>\n  </tbody>\n</table>\n<p>63 rows × 3 columns</p>\n</div>"
     },
     "execution_count": 3,
     "metadata": {},
     "output_type": "execute_result"
    }
   ],
   "source": [
    "inflation_rate_data.drop(columns=inflation_rate_data.columns[-1], inplace = True)\n",
    "inflation_rate_data"
   ],
   "metadata": {
    "collapsed": false
   }
  },
  {
   "cell_type": "code",
   "execution_count": 4,
   "outputs": [
    {
     "name": "stdout",
     "output_type": "stream",
     "text": [
      "<class 'pandas.core.frame.DataFrame'>\n",
      "RangeIndex: 63 entries, 0 to 62\n",
      "Data columns (total 3 columns):\n",
      " #   Column               Non-Null Count  Dtype  \n",
      "---  ------               --------------  -----  \n",
      " 0   date                 63 non-null     object \n",
      " 1    Inflation Rate (%)  63 non-null     float64\n",
      " 2    Annual Change       62 non-null     float64\n",
      "dtypes: float64(2), object(1)\n",
      "memory usage: 1.6+ KB\n"
     ]
    }
   ],
   "source": [
    "inflation_rate_data.info()"
   ],
   "metadata": {
    "collapsed": false
   }
  },
  {
   "cell_type": "code",
   "execution_count": 5,
   "outputs": [],
   "source": [
    "# Specify the file path where you want to save the CSV file\n",
    "file_path = \"../data/curated/inflation.csv\"\n",
    "\n",
    "# Use the to_csv method to save the DataFrame to a CSV file\n",
    "inflation_rate_data.to_csv(file_path, index=False)"
   ],
   "metadata": {
    "collapsed": false
   }
  },
  {
   "cell_type": "code",
   "execution_count": null,
   "outputs": [],
   "source": [],
   "metadata": {
    "collapsed": false
   }
  }
 ],
 "metadata": {
  "kernelspec": {
   "display_name": "Python 3",
   "language": "python",
   "name": "python3"
  },
  "language_info": {
   "codemirror_mode": {
    "name": "ipython",
    "version": 2
   },
   "file_extension": ".py",
   "mimetype": "text/x-python",
   "name": "python",
   "nbconvert_exporter": "python",
   "pygments_lexer": "ipython2",
   "version": "2.7.6"
  }
 },
 "nbformat": 4,
 "nbformat_minor": 0
}
