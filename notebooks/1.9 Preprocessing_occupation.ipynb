{
 "cells": [
  {
   "cell_type": "markdown",
   "source": [
    "## Preprocessing occupational data from 2021 census"
   ],
   "metadata": {
    "collapsed": false
   }
  },
  {
   "cell_type": "code",
   "execution_count": 45,
   "outputs": [],
   "source": [
    "# 2021SA2 (UR) by 1-digit level OCCP Occupation.csv\n",
    "import pandas as pd"
   ],
   "metadata": {
    "collapsed": false
   }
  },
  {
   "cell_type": "code",
   "execution_count": 46,
   "outputs": [
    {
     "data": {
      "text/plain": "                         1-digit level OCCP Occupation  \\\n0                                             SA2 (UR)   \n1                                            Alfredton   \n2                                             Ballarat   \n3                                            Buninyong   \n4                                            Delacombe   \n..                                                 ...   \n525                                              Total   \n526  Dataset: Census of Population and Housing, 202...   \n527                                               INFO   \n528  Copyright Commonwealth of Australia, 2021, see...   \n529  ABS data licensed under Creative Commons, see ...   \n\n                                              Managers  Professionals  \\\n0                                                  NaN            NaN   \n1                                                 1013         2113.0   \n2                                                  859         1959.0   \n3                                                  493          967.0   \n4                                                  487          903.0   \n..                                                 ...            ...   \n525                                             442109       790960.0   \n526                                                NaN            NaN   \n527  Cells in this table have been randomly adjuste...            NaN   \n528                                                NaN            NaN   \n529                                                NaN            NaN   \n\n     Technicians and Trades Workers  Community and Personal Service Workers  \\\n0                               NaN                                     NaN   \n1                            1073.0                                  1106.0   \n2                             546.0                                   706.0   \n3                             407.0                                   403.0   \n4                             838.0                                   758.0   \n..                              ...                                     ...   \n525                        399460.0                                347570.0   \n526                             NaN                                     NaN   \n527                             NaN                                     NaN   \n528                             NaN                                     NaN   \n529                             NaN                                     NaN   \n\n     Clerical and Administrative Workers  Sales Workers  \\\n0                                    NaN            NaN   \n1                                 1128.0          861.0   \n2                                  670.0          463.0   \n3                                  448.0          310.0   \n4                                  660.0          557.0   \n..                                   ...            ...   \n525                             392444.0       263317.0   \n526                                  NaN            NaN   \n527                                  NaN            NaN   \n528                                  NaN            NaN   \n529                                  NaN            NaN   \n\n     Machinery Operators and Drivers  Labourers  Inadequately described  \\\n0                                NaN        NaN                     NaN   \n1                              378.0      738.0                    71.0   \n2                              164.0      351.0                    45.0   \n3                              147.0      264.0                    29.0   \n4                              344.0      586.0                    49.0   \n..                               ...        ...                     ...   \n525                         187939.0   277292.0                 36366.0   \n526                              NaN        NaN                     NaN   \n527                              NaN        NaN                     NaN   \n528                              NaN        NaN                     NaN   \n529                              NaN        NaN                     NaN   \n\n     Not stated  Not applicable      Total  Unnamed: 13  \n0           NaN             NaN        NaN          NaN  \n1          45.0          8309.0    16835.0          NaN  \n2          33.0          6330.0    12131.0          NaN  \n3          23.0          3765.0     7261.0          NaN  \n4          29.0          5458.0    10661.0          NaN  \n..          ...             ...        ...          ...  \n525     25435.0       3340594.0  6503491.0          NaN  \n526         NaN             NaN        NaN          NaN  \n527         NaN             NaN        NaN          NaN  \n528         NaN             NaN        NaN          NaN  \n529         NaN             NaN        NaN          NaN  \n\n[530 rows x 14 columns]",
      "text/html": "<div>\n<style scoped>\n    .dataframe tbody tr th:only-of-type {\n        vertical-align: middle;\n    }\n\n    .dataframe tbody tr th {\n        vertical-align: top;\n    }\n\n    .dataframe thead th {\n        text-align: right;\n    }\n</style>\n<table border=\"1\" class=\"dataframe\">\n  <thead>\n    <tr style=\"text-align: right;\">\n      <th></th>\n      <th>1-digit level OCCP Occupation</th>\n      <th>Managers</th>\n      <th>Professionals</th>\n      <th>Technicians and Trades Workers</th>\n      <th>Community and Personal Service Workers</th>\n      <th>Clerical and Administrative Workers</th>\n      <th>Sales Workers</th>\n      <th>Machinery Operators and Drivers</th>\n      <th>Labourers</th>\n      <th>Inadequately described</th>\n      <th>Not stated</th>\n      <th>Not applicable</th>\n      <th>Total</th>\n      <th>Unnamed: 13</th>\n    </tr>\n  </thead>\n  <tbody>\n    <tr>\n      <th>0</th>\n      <td>SA2 (UR)</td>\n      <td>NaN</td>\n      <td>NaN</td>\n      <td>NaN</td>\n      <td>NaN</td>\n      <td>NaN</td>\n      <td>NaN</td>\n      <td>NaN</td>\n      <td>NaN</td>\n      <td>NaN</td>\n      <td>NaN</td>\n      <td>NaN</td>\n      <td>NaN</td>\n      <td>NaN</td>\n    </tr>\n    <tr>\n      <th>1</th>\n      <td>Alfredton</td>\n      <td>1013</td>\n      <td>2113.0</td>\n      <td>1073.0</td>\n      <td>1106.0</td>\n      <td>1128.0</td>\n      <td>861.0</td>\n      <td>378.0</td>\n      <td>738.0</td>\n      <td>71.0</td>\n      <td>45.0</td>\n      <td>8309.0</td>\n      <td>16835.0</td>\n      <td>NaN</td>\n    </tr>\n    <tr>\n      <th>2</th>\n      <td>Ballarat</td>\n      <td>859</td>\n      <td>1959.0</td>\n      <td>546.0</td>\n      <td>706.0</td>\n      <td>670.0</td>\n      <td>463.0</td>\n      <td>164.0</td>\n      <td>351.0</td>\n      <td>45.0</td>\n      <td>33.0</td>\n      <td>6330.0</td>\n      <td>12131.0</td>\n      <td>NaN</td>\n    </tr>\n    <tr>\n      <th>3</th>\n      <td>Buninyong</td>\n      <td>493</td>\n      <td>967.0</td>\n      <td>407.0</td>\n      <td>403.0</td>\n      <td>448.0</td>\n      <td>310.0</td>\n      <td>147.0</td>\n      <td>264.0</td>\n      <td>29.0</td>\n      <td>23.0</td>\n      <td>3765.0</td>\n      <td>7261.0</td>\n      <td>NaN</td>\n    </tr>\n    <tr>\n      <th>4</th>\n      <td>Delacombe</td>\n      <td>487</td>\n      <td>903.0</td>\n      <td>838.0</td>\n      <td>758.0</td>\n      <td>660.0</td>\n      <td>557.0</td>\n      <td>344.0</td>\n      <td>586.0</td>\n      <td>49.0</td>\n      <td>29.0</td>\n      <td>5458.0</td>\n      <td>10661.0</td>\n      <td>NaN</td>\n    </tr>\n    <tr>\n      <th>...</th>\n      <td>...</td>\n      <td>...</td>\n      <td>...</td>\n      <td>...</td>\n      <td>...</td>\n      <td>...</td>\n      <td>...</td>\n      <td>...</td>\n      <td>...</td>\n      <td>...</td>\n      <td>...</td>\n      <td>...</td>\n      <td>...</td>\n      <td>...</td>\n    </tr>\n    <tr>\n      <th>525</th>\n      <td>Total</td>\n      <td>442109</td>\n      <td>790960.0</td>\n      <td>399460.0</td>\n      <td>347570.0</td>\n      <td>392444.0</td>\n      <td>263317.0</td>\n      <td>187939.0</td>\n      <td>277292.0</td>\n      <td>36366.0</td>\n      <td>25435.0</td>\n      <td>3340594.0</td>\n      <td>6503491.0</td>\n      <td>NaN</td>\n    </tr>\n    <tr>\n      <th>526</th>\n      <td>Dataset: Census of Population and Housing, 202...</td>\n      <td>NaN</td>\n      <td>NaN</td>\n      <td>NaN</td>\n      <td>NaN</td>\n      <td>NaN</td>\n      <td>NaN</td>\n      <td>NaN</td>\n      <td>NaN</td>\n      <td>NaN</td>\n      <td>NaN</td>\n      <td>NaN</td>\n      <td>NaN</td>\n      <td>NaN</td>\n    </tr>\n    <tr>\n      <th>527</th>\n      <td>INFO</td>\n      <td>Cells in this table have been randomly adjuste...</td>\n      <td>NaN</td>\n      <td>NaN</td>\n      <td>NaN</td>\n      <td>NaN</td>\n      <td>NaN</td>\n      <td>NaN</td>\n      <td>NaN</td>\n      <td>NaN</td>\n      <td>NaN</td>\n      <td>NaN</td>\n      <td>NaN</td>\n      <td>NaN</td>\n    </tr>\n    <tr>\n      <th>528</th>\n      <td>Copyright Commonwealth of Australia, 2021, see...</td>\n      <td>NaN</td>\n      <td>NaN</td>\n      <td>NaN</td>\n      <td>NaN</td>\n      <td>NaN</td>\n      <td>NaN</td>\n      <td>NaN</td>\n      <td>NaN</td>\n      <td>NaN</td>\n      <td>NaN</td>\n      <td>NaN</td>\n      <td>NaN</td>\n      <td>NaN</td>\n    </tr>\n    <tr>\n      <th>529</th>\n      <td>ABS data licensed under Creative Commons, see ...</td>\n      <td>NaN</td>\n      <td>NaN</td>\n      <td>NaN</td>\n      <td>NaN</td>\n      <td>NaN</td>\n      <td>NaN</td>\n      <td>NaN</td>\n      <td>NaN</td>\n      <td>NaN</td>\n      <td>NaN</td>\n      <td>NaN</td>\n      <td>NaN</td>\n      <td>NaN</td>\n    </tr>\n  </tbody>\n</table>\n<p>530 rows × 14 columns</p>\n</div>"
     },
     "execution_count": 46,
     "metadata": {},
     "output_type": "execute_result"
    }
   ],
   "source": [
    "# load 2021 ABS Census data on family number\n",
    "occupation_2021_path = \"../data/landing/ABS_data/2021SA2 (UR) by 1-digit level OCCP Occupation.csv\"\n",
    "skip_rows = 9\n",
    "occupation_2021_data = pd.read_csv(occupation_2021_path, skiprows=skip_rows)\n",
    "occupation_2021_data"
   ],
   "metadata": {
    "collapsed": false
   }
  },
  {
   "cell_type": "code",
   "execution_count": 47,
   "outputs": [
    {
     "name": "stdout",
     "output_type": "stream",
     "text": [
      "<class 'pandas.core.frame.DataFrame'>\n",
      "RangeIndex: 530 entries, 0 to 529\n",
      "Data columns (total 14 columns):\n",
      " #   Column                                  Non-Null Count  Dtype  \n",
      "---  ------                                  --------------  -----  \n",
      " 0   1-digit level OCCP Occupation           530 non-null    object \n",
      " 1   Managers                                526 non-null    object \n",
      " 2   Professionals                           525 non-null    float64\n",
      " 3   Technicians and Trades Workers          525 non-null    float64\n",
      " 4   Community and Personal Service Workers  525 non-null    float64\n",
      " 5   Clerical and Administrative Workers     525 non-null    float64\n",
      " 6   Sales Workers                           525 non-null    float64\n",
      " 7   Machinery Operators and Drivers         525 non-null    float64\n",
      " 8   Labourers                               525 non-null    float64\n",
      " 9   Inadequately described                  525 non-null    float64\n",
      " 10  Not stated                              525 non-null    float64\n",
      " 11  Not applicable                          525 non-null    float64\n",
      " 12  Total                                   525 non-null    float64\n",
      " 13  Unnamed: 13                             0 non-null      float64\n",
      "dtypes: float64(12), object(2)\n",
      "memory usage: 58.1+ KB\n"
     ]
    }
   ],
   "source": [
    "occupation_2021_data.info()"
   ],
   "metadata": {
    "collapsed": false
   }
  },
  {
   "cell_type": "code",
   "execution_count": 48,
   "outputs": [],
   "source": [
    "occupation_2021_data = occupation_2021_data.applymap(lambda x: 0 if \"Cells \"\n",
    "                                                                          \"in this table have been randomly adjusted to avoid the release of confidential data. \"\n",
    "                                                                          \"No reliance should be \"\n",
    "                                                                          \"placed on small cells.\"\n",
    "                                                                          \"\" in str(x) else x)"
   ],
   "metadata": {
    "collapsed": false
   }
  },
  {
   "cell_type": "code",
   "execution_count": 49,
   "outputs": [
    {
     "name": "stdout",
     "output_type": "stream",
     "text": [
      "<class 'pandas.core.frame.DataFrame'>\n",
      "RangeIndex: 530 entries, 0 to 529\n",
      "Data columns (total 14 columns):\n",
      " #   Column                                  Non-Null Count  Dtype  \n",
      "---  ------                                  --------------  -----  \n",
      " 0   1-digit level OCCP Occupation           530 non-null    object \n",
      " 1   Managers                                526 non-null    float64\n",
      " 2   Professionals                           525 non-null    float64\n",
      " 3   Technicians and Trades Workers          525 non-null    float64\n",
      " 4   Community and Personal Service Workers  525 non-null    float64\n",
      " 5   Clerical and Administrative Workers     525 non-null    float64\n",
      " 6   Sales Workers                           525 non-null    float64\n",
      " 7   Machinery Operators and Drivers         525 non-null    float64\n",
      " 8   Labourers                               525 non-null    float64\n",
      " 9   Inadequately described                  525 non-null    float64\n",
      " 10  Not stated                              525 non-null    float64\n",
      " 11  Not applicable                          525 non-null    float64\n",
      " 12  Total                                   525 non-null    float64\n",
      " 13  Unnamed: 13                             0 non-null      float64\n",
      "dtypes: float64(13), object(1)\n",
      "memory usage: 58.1+ KB\n"
     ]
    }
   ],
   "source": [
    "occupation_2021_data['Managers'] = occupation_2021_data['Managers'].astype(float)\n",
    "occupation_2021_data.info()"
   ],
   "metadata": {
    "collapsed": false
   }
  },
  {
   "cell_type": "code",
   "execution_count": 50,
   "outputs": [
    {
     "data": {
      "text/plain": "                         1-digit level OCCP Occupation  Managers  \\\n1                                            Alfredton    1013.0   \n2                                             Ballarat     859.0   \n3                                            Buninyong     493.0   \n4                                            Delacombe     487.0   \n5                                        Smythes Creek     268.0   \n..                                                 ...       ...   \n525                                              Total  442109.0   \n526  Dataset: Census of Population and Housing, 202...       NaN   \n527                                               INFO       0.0   \n528  Copyright Commonwealth of Australia, 2021, see...       NaN   \n529  ABS data licensed under Creative Commons, see ...       NaN   \n\n     Professionals  Technicians and Trades Workers  \\\n1           2113.0                          1073.0   \n2           1959.0                           546.0   \n3            967.0                           407.0   \n4            903.0                           838.0   \n5            378.0                           416.0   \n..             ...                             ...   \n525       790960.0                        399460.0   \n526            NaN                             NaN   \n527            NaN                             NaN   \n528            NaN                             NaN   \n529            NaN                             NaN   \n\n     Community and Personal Service Workers  \\\n1                                    1106.0   \n2                                     706.0   \n3                                     403.0   \n4                                     758.0   \n5                                     277.0   \n..                                      ...   \n525                                347570.0   \n526                                     NaN   \n527                                     NaN   \n528                                     NaN   \n529                                     NaN   \n\n     Clerical and Administrative Workers  Sales Workers  \\\n1                                 1128.0          861.0   \n2                                  670.0          463.0   \n3                                  448.0          310.0   \n4                                  660.0          557.0   \n5                                  270.0          198.0   \n..                                   ...            ...   \n525                             392444.0       263317.0   \n526                                  NaN            NaN   \n527                                  NaN            NaN   \n528                                  NaN            NaN   \n529                                  NaN            NaN   \n\n     Machinery Operators and Drivers  Labourers  Inadequately described  \\\n1                              378.0      738.0                    71.0   \n2                              164.0      351.0                    45.0   \n3                              147.0      264.0                    29.0   \n4                              344.0      586.0                    49.0   \n5                              166.0      216.0                    27.0   \n..                               ...        ...                     ...   \n525                         187939.0   277292.0                 36366.0   \n526                              NaN        NaN                     NaN   \n527                              NaN        NaN                     NaN   \n528                              NaN        NaN                     NaN   \n529                              NaN        NaN                     NaN   \n\n     Not stated  Not applicable      Total  \n1          45.0          8309.0    16835.0  \n2          33.0          6330.0    12131.0  \n3          23.0          3765.0     7261.0  \n4          29.0          5458.0    10661.0  \n5          10.0          2004.0     4230.0  \n..          ...             ...        ...  \n525     25435.0       3340594.0  6503491.0  \n526         NaN             NaN        NaN  \n527         NaN             NaN        NaN  \n528         NaN             NaN        NaN  \n529         NaN             NaN        NaN  \n\n[529 rows x 13 columns]",
      "text/html": "<div>\n<style scoped>\n    .dataframe tbody tr th:only-of-type {\n        vertical-align: middle;\n    }\n\n    .dataframe tbody tr th {\n        vertical-align: top;\n    }\n\n    .dataframe thead th {\n        text-align: right;\n    }\n</style>\n<table border=\"1\" class=\"dataframe\">\n  <thead>\n    <tr style=\"text-align: right;\">\n      <th></th>\n      <th>1-digit level OCCP Occupation</th>\n      <th>Managers</th>\n      <th>Professionals</th>\n      <th>Technicians and Trades Workers</th>\n      <th>Community and Personal Service Workers</th>\n      <th>Clerical and Administrative Workers</th>\n      <th>Sales Workers</th>\n      <th>Machinery Operators and Drivers</th>\n      <th>Labourers</th>\n      <th>Inadequately described</th>\n      <th>Not stated</th>\n      <th>Not applicable</th>\n      <th>Total</th>\n    </tr>\n  </thead>\n  <tbody>\n    <tr>\n      <th>1</th>\n      <td>Alfredton</td>\n      <td>1013.0</td>\n      <td>2113.0</td>\n      <td>1073.0</td>\n      <td>1106.0</td>\n      <td>1128.0</td>\n      <td>861.0</td>\n      <td>378.0</td>\n      <td>738.0</td>\n      <td>71.0</td>\n      <td>45.0</td>\n      <td>8309.0</td>\n      <td>16835.0</td>\n    </tr>\n    <tr>\n      <th>2</th>\n      <td>Ballarat</td>\n      <td>859.0</td>\n      <td>1959.0</td>\n      <td>546.0</td>\n      <td>706.0</td>\n      <td>670.0</td>\n      <td>463.0</td>\n      <td>164.0</td>\n      <td>351.0</td>\n      <td>45.0</td>\n      <td>33.0</td>\n      <td>6330.0</td>\n      <td>12131.0</td>\n    </tr>\n    <tr>\n      <th>3</th>\n      <td>Buninyong</td>\n      <td>493.0</td>\n      <td>967.0</td>\n      <td>407.0</td>\n      <td>403.0</td>\n      <td>448.0</td>\n      <td>310.0</td>\n      <td>147.0</td>\n      <td>264.0</td>\n      <td>29.0</td>\n      <td>23.0</td>\n      <td>3765.0</td>\n      <td>7261.0</td>\n    </tr>\n    <tr>\n      <th>4</th>\n      <td>Delacombe</td>\n      <td>487.0</td>\n      <td>903.0</td>\n      <td>838.0</td>\n      <td>758.0</td>\n      <td>660.0</td>\n      <td>557.0</td>\n      <td>344.0</td>\n      <td>586.0</td>\n      <td>49.0</td>\n      <td>29.0</td>\n      <td>5458.0</td>\n      <td>10661.0</td>\n    </tr>\n    <tr>\n      <th>5</th>\n      <td>Smythes Creek</td>\n      <td>268.0</td>\n      <td>378.0</td>\n      <td>416.0</td>\n      <td>277.0</td>\n      <td>270.0</td>\n      <td>198.0</td>\n      <td>166.0</td>\n      <td>216.0</td>\n      <td>27.0</td>\n      <td>10.0</td>\n      <td>2004.0</td>\n      <td>4230.0</td>\n    </tr>\n    <tr>\n      <th>...</th>\n      <td>...</td>\n      <td>...</td>\n      <td>...</td>\n      <td>...</td>\n      <td>...</td>\n      <td>...</td>\n      <td>...</td>\n      <td>...</td>\n      <td>...</td>\n      <td>...</td>\n      <td>...</td>\n      <td>...</td>\n      <td>...</td>\n    </tr>\n    <tr>\n      <th>525</th>\n      <td>Total</td>\n      <td>442109.0</td>\n      <td>790960.0</td>\n      <td>399460.0</td>\n      <td>347570.0</td>\n      <td>392444.0</td>\n      <td>263317.0</td>\n      <td>187939.0</td>\n      <td>277292.0</td>\n      <td>36366.0</td>\n      <td>25435.0</td>\n      <td>3340594.0</td>\n      <td>6503491.0</td>\n    </tr>\n    <tr>\n      <th>526</th>\n      <td>Dataset: Census of Population and Housing, 202...</td>\n      <td>NaN</td>\n      <td>NaN</td>\n      <td>NaN</td>\n      <td>NaN</td>\n      <td>NaN</td>\n      <td>NaN</td>\n      <td>NaN</td>\n      <td>NaN</td>\n      <td>NaN</td>\n      <td>NaN</td>\n      <td>NaN</td>\n      <td>NaN</td>\n    </tr>\n    <tr>\n      <th>527</th>\n      <td>INFO</td>\n      <td>0.0</td>\n      <td>NaN</td>\n      <td>NaN</td>\n      <td>NaN</td>\n      <td>NaN</td>\n      <td>NaN</td>\n      <td>NaN</td>\n      <td>NaN</td>\n      <td>NaN</td>\n      <td>NaN</td>\n      <td>NaN</td>\n      <td>NaN</td>\n    </tr>\n    <tr>\n      <th>528</th>\n      <td>Copyright Commonwealth of Australia, 2021, see...</td>\n      <td>NaN</td>\n      <td>NaN</td>\n      <td>NaN</td>\n      <td>NaN</td>\n      <td>NaN</td>\n      <td>NaN</td>\n      <td>NaN</td>\n      <td>NaN</td>\n      <td>NaN</td>\n      <td>NaN</td>\n      <td>NaN</td>\n      <td>NaN</td>\n    </tr>\n    <tr>\n      <th>529</th>\n      <td>ABS data licensed under Creative Commons, see ...</td>\n      <td>NaN</td>\n      <td>NaN</td>\n      <td>NaN</td>\n      <td>NaN</td>\n      <td>NaN</td>\n      <td>NaN</td>\n      <td>NaN</td>\n      <td>NaN</td>\n      <td>NaN</td>\n      <td>NaN</td>\n      <td>NaN</td>\n      <td>NaN</td>\n    </tr>\n  </tbody>\n</table>\n<p>529 rows × 13 columns</p>\n</div>"
     },
     "execution_count": 50,
     "metadata": {},
     "output_type": "execute_result"
    }
   ],
   "source": [
    "# preprocessing\n",
    "occupation_2021_data.drop(occupation_2021_data.index[0], inplace = True)\n",
    "occupation_2021_data.drop(columns=occupation_2021_data.columns[-1], inplace = True)\n",
    "occupation_2021_data"
   ],
   "metadata": {
    "collapsed": false
   }
  },
  {
   "cell_type": "code",
   "execution_count": 51,
   "outputs": [],
   "source": [
    "\n",
    "occupation_2021_data.rename(columns={'1-digit level OCCP Occupation': 'SA2 Name'}, inplace=True)\n",
    "occupation_2021_data.rename(columns={'Total': 'Total Suburb Occupation Types'}, inplace=True)"
   ],
   "metadata": {
    "collapsed": false
   }
  },
  {
   "cell_type": "code",
   "execution_count": 52,
   "outputs": [
    {
     "data": {
      "text/plain": "                SA2 Name  Managers  Professionals  \\\n513           Camperdown     188.0          256.0   \n514                Colac     574.0          677.0   \n515      Colac Surrounds     782.0          400.0   \n516  Corangamite - North     653.0          273.0   \n517  Corangamite - South    1169.0          358.0   \n518                Otway     407.0          303.0   \n519         Moyne - East    1101.0          418.0   \n520         Moyne - West    1043.0          863.0   \n521  Warrnambool - North    1157.0         2058.0   \n522  Warrnambool - South     769.0         1427.0   \n\n     Technicians and Trades Workers  Community and Personal Service Workers  \\\n513                           214.0                                   191.0   \n514                           849.0                                   798.0   \n515                           355.0                                   283.0   \n516                           290.0                                   276.0   \n517                           401.0                                   284.0   \n518                           235.0                                   177.0   \n519                           419.0                                   334.0   \n520                           639.0                                   529.0   \n521                          1570.0                                  1465.0   \n522                           870.0                                   833.0   \n\n     Clerical and Administrative Workers  Sales Workers  \\\n513                                137.0          130.0   \n514                                521.0          537.0   \n515                                249.0          184.0   \n516                                216.0          153.0   \n517                                230.0          213.0   \n518                                155.0          135.0   \n519                                236.0          222.0   \n520                                444.0          350.0   \n521                               1252.0         1223.0   \n522                                625.0          573.0   \n\n     Machinery Operators and Drivers  Labourers  Inadequately described  \\\n513                            119.0      215.0                    11.0   \n514                            493.0     1350.0                    65.0   \n515                            227.0      394.0                    19.0   \n516                            223.0      350.0                    22.0   \n517                            280.0      601.0                    24.0   \n518                             75.0      270.0                    15.0   \n519                            209.0      550.0                    20.0   \n520                            260.0      555.0                    33.0   \n521                            631.0     1473.0                   103.0   \n522                            325.0      935.0                    62.0   \n\n     Not stated  Not applicable  Total Suburb Occupation Types  \n513        19.0          2008.0                         3491.0  \n514        62.0          6832.0                        12756.0  \n515        32.0          2736.0                         5669.0  \n516        18.0          2917.0                         5395.0  \n517        42.0          3572.0                         7180.0  \n518        20.0          2215.0                         4008.0  \n519        47.0          3463.0                         7018.0  \n520        57.0          5234.0                        10014.0  \n521        81.0         11391.0                        22405.0  \n522        60.0          6853.0                        13337.0  ",
      "text/html": "<div>\n<style scoped>\n    .dataframe tbody tr th:only-of-type {\n        vertical-align: middle;\n    }\n\n    .dataframe tbody tr th {\n        vertical-align: top;\n    }\n\n    .dataframe thead th {\n        text-align: right;\n    }\n</style>\n<table border=\"1\" class=\"dataframe\">\n  <thead>\n    <tr style=\"text-align: right;\">\n      <th></th>\n      <th>SA2 Name</th>\n      <th>Managers</th>\n      <th>Professionals</th>\n      <th>Technicians and Trades Workers</th>\n      <th>Community and Personal Service Workers</th>\n      <th>Clerical and Administrative Workers</th>\n      <th>Sales Workers</th>\n      <th>Machinery Operators and Drivers</th>\n      <th>Labourers</th>\n      <th>Inadequately described</th>\n      <th>Not stated</th>\n      <th>Not applicable</th>\n      <th>Total Suburb Occupation Types</th>\n    </tr>\n  </thead>\n  <tbody>\n    <tr>\n      <th>513</th>\n      <td>Camperdown</td>\n      <td>188.0</td>\n      <td>256.0</td>\n      <td>214.0</td>\n      <td>191.0</td>\n      <td>137.0</td>\n      <td>130.0</td>\n      <td>119.0</td>\n      <td>215.0</td>\n      <td>11.0</td>\n      <td>19.0</td>\n      <td>2008.0</td>\n      <td>3491.0</td>\n    </tr>\n    <tr>\n      <th>514</th>\n      <td>Colac</td>\n      <td>574.0</td>\n      <td>677.0</td>\n      <td>849.0</td>\n      <td>798.0</td>\n      <td>521.0</td>\n      <td>537.0</td>\n      <td>493.0</td>\n      <td>1350.0</td>\n      <td>65.0</td>\n      <td>62.0</td>\n      <td>6832.0</td>\n      <td>12756.0</td>\n    </tr>\n    <tr>\n      <th>515</th>\n      <td>Colac Surrounds</td>\n      <td>782.0</td>\n      <td>400.0</td>\n      <td>355.0</td>\n      <td>283.0</td>\n      <td>249.0</td>\n      <td>184.0</td>\n      <td>227.0</td>\n      <td>394.0</td>\n      <td>19.0</td>\n      <td>32.0</td>\n      <td>2736.0</td>\n      <td>5669.0</td>\n    </tr>\n    <tr>\n      <th>516</th>\n      <td>Corangamite - North</td>\n      <td>653.0</td>\n      <td>273.0</td>\n      <td>290.0</td>\n      <td>276.0</td>\n      <td>216.0</td>\n      <td>153.0</td>\n      <td>223.0</td>\n      <td>350.0</td>\n      <td>22.0</td>\n      <td>18.0</td>\n      <td>2917.0</td>\n      <td>5395.0</td>\n    </tr>\n    <tr>\n      <th>517</th>\n      <td>Corangamite - South</td>\n      <td>1169.0</td>\n      <td>358.0</td>\n      <td>401.0</td>\n      <td>284.0</td>\n      <td>230.0</td>\n      <td>213.0</td>\n      <td>280.0</td>\n      <td>601.0</td>\n      <td>24.0</td>\n      <td>42.0</td>\n      <td>3572.0</td>\n      <td>7180.0</td>\n    </tr>\n    <tr>\n      <th>518</th>\n      <td>Otway</td>\n      <td>407.0</td>\n      <td>303.0</td>\n      <td>235.0</td>\n      <td>177.0</td>\n      <td>155.0</td>\n      <td>135.0</td>\n      <td>75.0</td>\n      <td>270.0</td>\n      <td>15.0</td>\n      <td>20.0</td>\n      <td>2215.0</td>\n      <td>4008.0</td>\n    </tr>\n    <tr>\n      <th>519</th>\n      <td>Moyne - East</td>\n      <td>1101.0</td>\n      <td>418.0</td>\n      <td>419.0</td>\n      <td>334.0</td>\n      <td>236.0</td>\n      <td>222.0</td>\n      <td>209.0</td>\n      <td>550.0</td>\n      <td>20.0</td>\n      <td>47.0</td>\n      <td>3463.0</td>\n      <td>7018.0</td>\n    </tr>\n    <tr>\n      <th>520</th>\n      <td>Moyne - West</td>\n      <td>1043.0</td>\n      <td>863.0</td>\n      <td>639.0</td>\n      <td>529.0</td>\n      <td>444.0</td>\n      <td>350.0</td>\n      <td>260.0</td>\n      <td>555.0</td>\n      <td>33.0</td>\n      <td>57.0</td>\n      <td>5234.0</td>\n      <td>10014.0</td>\n    </tr>\n    <tr>\n      <th>521</th>\n      <td>Warrnambool - North</td>\n      <td>1157.0</td>\n      <td>2058.0</td>\n      <td>1570.0</td>\n      <td>1465.0</td>\n      <td>1252.0</td>\n      <td>1223.0</td>\n      <td>631.0</td>\n      <td>1473.0</td>\n      <td>103.0</td>\n      <td>81.0</td>\n      <td>11391.0</td>\n      <td>22405.0</td>\n    </tr>\n    <tr>\n      <th>522</th>\n      <td>Warrnambool - South</td>\n      <td>769.0</td>\n      <td>1427.0</td>\n      <td>870.0</td>\n      <td>833.0</td>\n      <td>625.0</td>\n      <td>573.0</td>\n      <td>325.0</td>\n      <td>935.0</td>\n      <td>62.0</td>\n      <td>60.0</td>\n      <td>6853.0</td>\n      <td>13337.0</td>\n    </tr>\n  </tbody>\n</table>\n</div>"
     },
     "execution_count": 52,
     "metadata": {},
     "output_type": "execute_result"
    }
   ],
   "source": [
    "\n",
    "occupation_2021_data = occupation_2021_data.iloc[:-7, :]\n",
    "occupation_2021_data.tail(10)\n"
   ],
   "metadata": {
    "collapsed": false
   }
  },
  {
   "cell_type": "markdown",
   "source": [
    "#### Save the data"
   ],
   "metadata": {
    "collapsed": false
   }
  },
  {
   "cell_type": "code",
   "execution_count": 53,
   "outputs": [],
   "source": [
    "# Specify the file path where you want to save the CSV file\n",
    "file_path = \"../data/curated/ABS_data/SA2_Occupation_Types_2021.csv\"\n",
    "\n",
    "# Use the to_csv method to save the DataFrame to a CSV file\n",
    "occupation_2021_data.to_csv(file_path, index=False)"
   ],
   "metadata": {
    "collapsed": false
   }
  },
  {
   "cell_type": "code",
   "execution_count": null,
   "outputs": [],
   "source": [],
   "metadata": {
    "collapsed": false
   }
  }
 ],
 "metadata": {
  "kernelspec": {
   "display_name": "Python 3",
   "language": "python",
   "name": "python3"
  },
  "language_info": {
   "codemirror_mode": {
    "name": "ipython",
    "version": 2
   },
   "file_extension": ".py",
   "mimetype": "text/x-python",
   "name": "python",
   "nbconvert_exporter": "python",
   "pygments_lexer": "ipython2",
   "version": "2.7.6"
  }
 },
 "nbformat": 4,
 "nbformat_minor": 0
}
