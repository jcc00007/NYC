{
 "cells": [
  {
   "cell_type": "markdown",
   "source": [
    "# Analysis external ABS datasets\n",
    "- This notebook is to analysis the external data that were downloaded from the ABS, and merged to the listing domain data\n",
    "\n",
    "External datasets are:\n",
    "- population density\n",
    "- population counts\n",
    "- income\n",
    "\n",
    "\n",
    "\n",
    "\n",
    "\n"
   ],
   "metadata": {
    "collapsed": false
   }
  },
  {
   "cell_type": "markdown",
   "source": [
    "### Read the shapefiles"
   ],
   "metadata": {
    "collapsed": false
   }
  },
  {
   "cell_type": "code",
   "execution_count": 76,
   "outputs": [],
   "source": [
    "from shapely.geometry import Point\n",
    "import geopandas as gpd\n",
    "import pandas as pd"
   ],
   "metadata": {
    "collapsed": false
   }
  },
  {
   "cell_type": "code",
   "execution_count": 85,
   "outputs": [],
   "source": [
    "shapefile_path = \"../data/landing/SA2_2021_AUST_SHP_GDA2020/SA2_2021_AUST_GDA2020.shp\""
   ],
   "metadata": {
    "collapsed": false
   }
  },
  {
   "cell_type": "code",
   "execution_count": 110,
   "outputs": [],
   "source": [
    "listing_path = \"../data/curated/listings_suburbs_SA2.csv\""
   ],
   "metadata": {
    "collapsed": false
   }
  },
  {
   "cell_type": "code",
   "execution_count": 107,
   "outputs": [],
   "source": [
    "suburbs_path = \"../data/landing/SAL_2021_AUST_GDA2020_SHP/SAL_2021_AUST_GDA2020.shp\""
   ],
   "metadata": {
    "collapsed": false
   }
  },
  {
   "cell_type": "code",
   "execution_count": 105,
   "outputs": [],
   "source": [
    "SA2_list = gpd.read_file(shapefile_path)"
   ],
   "metadata": {
    "collapsed": false
   }
  },
  {
   "cell_type": "code",
   "execution_count": 111,
   "outputs": [
    {
     "data": {
      "text/plain": "                                          Location            type_property  \\\n0             4506/33 Rose Lane Melbourne VIC 3000  Apartment / Unit / Flat   \n1       1715/220 Spencer Street Melbourne VIC 3000  Apartment / Unit / Flat   \n2       512/118 Franklin Street Melbourne VIC 3000  Apartment / Unit / Flat   \n3      5801/648 Lonsdale Street Melbourne VIC 3000  Apartment / Unit / Flat   \n4        1.2/187 Collins Street Melbourne VIC 3000  Apartment / Unit / Flat   \n...                                            ...                      ...   \n12043          16 Nautilus Road Inverloch VIC 3996                    House   \n12044      1/59 Williams Street Inverloch VIC 3996                Townhouse   \n12045   10 Beacon Crt Inverloch Inverloch VIC 3996                    House   \n12046          10 Blue Wren Way Inverloch VIC 3996                    House   \n12047     2/37 A'Beckett Street Inverloch VIC 3996                Townhouse   \n\n               price  LT_resident_pcg  owner_pcg  family_pcg state  rooms  \\\n0      $520 per week             12.0       28.0        27.0   VIC    1.0   \n1               $750             12.0       28.0        27.0   VIC    2.0   \n2               $430              NaN       29.0        16.0   VIC    1.0   \n3               $800             12.0       20.0        34.0   VIC    2.0   \n4            $475 pw             37.0       49.0        51.0   VIC    1.0   \n...              ...              ...        ...         ...   ...    ...   \n12043           $400             47.0       72.0        61.0   VIC    3.0   \n12044  $460 per week             63.0       57.0        50.0   VIC    3.0   \n12045           $410             52.0       81.0        65.0   VIC    2.0   \n12046           $600              NaN       79.0        73.0   VIC    3.0   \n12047           $450             55.0       66.0        54.0   VIC    3.0   \n\n       bath  parking  ... pulic_2_dis   rent  is_furnished   latitude  \\\n0       1.0      0.0  ...         2.0  520.0         False -37.815000   \n1       2.0      1.0  ...         2.1  750.0         False -37.815781   \n2       1.0      0.0  ...         1.3  430.0         False -37.808205   \n3       2.0      0.0  ...         1.9  800.0         False -37.814454   \n4       1.0      0.0  ...         2.3  475.0         False -37.815405   \n...     ...      ...  ...         ...    ...           ...        ...   \n12043   1.0      1.0  ...        12.5  400.0         False -38.631059   \n12044   2.0      1.0  ...        11.8  460.0         False -38.626891   \n12045   1.0      1.0  ...        10.8  410.0         False -38.639329   \n12046   2.0      2.0  ...        10.1  600.0         False -38.629971   \n12047   2.0      1.0  ...        11.5  450.0         False -38.633966   \n\n        longitude                                geometry  \\\n0      144.953871         POINT (144.9538708 -37.8150001)   \n1      144.952916          POINT (144.9529156 -37.815781)   \n2      144.958903         POINT (144.9589035 -37.8082052)   \n3      144.953443         POINT (144.9534426 -37.8144537)   \n4      144.967852  POINT (144.9678522 -37.81540469999999)   \n...           ...                                     ...   \n12043  145.737726          POINT (145.7377255 -38.631059)   \n12044  145.730945         POINT (145.7309454 -38.6268906)   \n12045  145.715185         POINT (145.7151855 -38.6393294)   \n12046  145.709898         POINT (145.7098975 -38.6299709)   \n12047  145.725372         POINT (145.7253717 -38.6339662)   \n\n                    SA2_NAME     SA2_CODE  SAL_NAME21  SAL_CODE  \n0       Melbourne CBD - West  206041505.0   Melbourne   21640.0  \n1       Melbourne CBD - West  206041505.0   Melbourne   21640.0  \n2      Melbourne CBD - North  206041504.0   Melbourne   21640.0  \n3       Melbourne CBD - West  206041505.0   Melbourne   21640.0  \n4       Melbourne CBD - East  206041503.0   Melbourne   21640.0  \n...                      ...          ...         ...       ...  \n12043  Wonthaggi - Inverloch  205031093.0   Inverloch   21235.0  \n12044  Wonthaggi - Inverloch  205031093.0   Inverloch   21235.0  \n12045  Wonthaggi - Inverloch  205031093.0   Inverloch   21235.0  \n12046  Wonthaggi - Inverloch  205031093.0   Inverloch   21235.0  \n12047  Wonthaggi - Inverloch  205031093.0   Inverloch   21235.0  \n\n[12048 rows x 28 columns]",
      "text/html": "<div>\n<style scoped>\n    .dataframe tbody tr th:only-of-type {\n        vertical-align: middle;\n    }\n\n    .dataframe tbody tr th {\n        vertical-align: top;\n    }\n\n    .dataframe thead th {\n        text-align: right;\n    }\n</style>\n<table border=\"1\" class=\"dataframe\">\n  <thead>\n    <tr style=\"text-align: right;\">\n      <th></th>\n      <th>Location</th>\n      <th>type_property</th>\n      <th>price</th>\n      <th>LT_resident_pcg</th>\n      <th>owner_pcg</th>\n      <th>family_pcg</th>\n      <th>state</th>\n      <th>rooms</th>\n      <th>bath</th>\n      <th>parking</th>\n      <th>...</th>\n      <th>pulic_2_dis</th>\n      <th>rent</th>\n      <th>is_furnished</th>\n      <th>latitude</th>\n      <th>longitude</th>\n      <th>geometry</th>\n      <th>SA2_NAME</th>\n      <th>SA2_CODE</th>\n      <th>SAL_NAME21</th>\n      <th>SAL_CODE</th>\n    </tr>\n  </thead>\n  <tbody>\n    <tr>\n      <th>0</th>\n      <td>4506/33 Rose Lane Melbourne VIC 3000</td>\n      <td>Apartment / Unit / Flat</td>\n      <td>$520 per week</td>\n      <td>12.0</td>\n      <td>28.0</td>\n      <td>27.0</td>\n      <td>VIC</td>\n      <td>1.0</td>\n      <td>1.0</td>\n      <td>0.0</td>\n      <td>...</td>\n      <td>2.0</td>\n      <td>520.0</td>\n      <td>False</td>\n      <td>-37.815000</td>\n      <td>144.953871</td>\n      <td>POINT (144.9538708 -37.8150001)</td>\n      <td>Melbourne CBD - West</td>\n      <td>206041505.0</td>\n      <td>Melbourne</td>\n      <td>21640.0</td>\n    </tr>\n    <tr>\n      <th>1</th>\n      <td>1715/220 Spencer Street Melbourne VIC 3000</td>\n      <td>Apartment / Unit / Flat</td>\n      <td>$750</td>\n      <td>12.0</td>\n      <td>28.0</td>\n      <td>27.0</td>\n      <td>VIC</td>\n      <td>2.0</td>\n      <td>2.0</td>\n      <td>1.0</td>\n      <td>...</td>\n      <td>2.1</td>\n      <td>750.0</td>\n      <td>False</td>\n      <td>-37.815781</td>\n      <td>144.952916</td>\n      <td>POINT (144.9529156 -37.815781)</td>\n      <td>Melbourne CBD - West</td>\n      <td>206041505.0</td>\n      <td>Melbourne</td>\n      <td>21640.0</td>\n    </tr>\n    <tr>\n      <th>2</th>\n      <td>512/118 Franklin Street Melbourne VIC 3000</td>\n      <td>Apartment / Unit / Flat</td>\n      <td>$430</td>\n      <td>NaN</td>\n      <td>29.0</td>\n      <td>16.0</td>\n      <td>VIC</td>\n      <td>1.0</td>\n      <td>1.0</td>\n      <td>0.0</td>\n      <td>...</td>\n      <td>1.3</td>\n      <td>430.0</td>\n      <td>False</td>\n      <td>-37.808205</td>\n      <td>144.958903</td>\n      <td>POINT (144.9589035 -37.8082052)</td>\n      <td>Melbourne CBD - North</td>\n      <td>206041504.0</td>\n      <td>Melbourne</td>\n      <td>21640.0</td>\n    </tr>\n    <tr>\n      <th>3</th>\n      <td>5801/648 Lonsdale Street Melbourne VIC 3000</td>\n      <td>Apartment / Unit / Flat</td>\n      <td>$800</td>\n      <td>12.0</td>\n      <td>20.0</td>\n      <td>34.0</td>\n      <td>VIC</td>\n      <td>2.0</td>\n      <td>2.0</td>\n      <td>0.0</td>\n      <td>...</td>\n      <td>1.9</td>\n      <td>800.0</td>\n      <td>False</td>\n      <td>-37.814454</td>\n      <td>144.953443</td>\n      <td>POINT (144.9534426 -37.8144537)</td>\n      <td>Melbourne CBD - West</td>\n      <td>206041505.0</td>\n      <td>Melbourne</td>\n      <td>21640.0</td>\n    </tr>\n    <tr>\n      <th>4</th>\n      <td>1.2/187 Collins Street Melbourne VIC 3000</td>\n      <td>Apartment / Unit / Flat</td>\n      <td>$475 pw</td>\n      <td>37.0</td>\n      <td>49.0</td>\n      <td>51.0</td>\n      <td>VIC</td>\n      <td>1.0</td>\n      <td>1.0</td>\n      <td>0.0</td>\n      <td>...</td>\n      <td>2.3</td>\n      <td>475.0</td>\n      <td>False</td>\n      <td>-37.815405</td>\n      <td>144.967852</td>\n      <td>POINT (144.9678522 -37.81540469999999)</td>\n      <td>Melbourne CBD - East</td>\n      <td>206041503.0</td>\n      <td>Melbourne</td>\n      <td>21640.0</td>\n    </tr>\n    <tr>\n      <th>...</th>\n      <td>...</td>\n      <td>...</td>\n      <td>...</td>\n      <td>...</td>\n      <td>...</td>\n      <td>...</td>\n      <td>...</td>\n      <td>...</td>\n      <td>...</td>\n      <td>...</td>\n      <td>...</td>\n      <td>...</td>\n      <td>...</td>\n      <td>...</td>\n      <td>...</td>\n      <td>...</td>\n      <td>...</td>\n      <td>...</td>\n      <td>...</td>\n      <td>...</td>\n      <td>...</td>\n    </tr>\n    <tr>\n      <th>12043</th>\n      <td>16 Nautilus Road Inverloch VIC 3996</td>\n      <td>House</td>\n      <td>$400</td>\n      <td>47.0</td>\n      <td>72.0</td>\n      <td>61.0</td>\n      <td>VIC</td>\n      <td>3.0</td>\n      <td>1.0</td>\n      <td>1.0</td>\n      <td>...</td>\n      <td>12.5</td>\n      <td>400.0</td>\n      <td>False</td>\n      <td>-38.631059</td>\n      <td>145.737726</td>\n      <td>POINT (145.7377255 -38.631059)</td>\n      <td>Wonthaggi - Inverloch</td>\n      <td>205031093.0</td>\n      <td>Inverloch</td>\n      <td>21235.0</td>\n    </tr>\n    <tr>\n      <th>12044</th>\n      <td>1/59 Williams Street Inverloch VIC 3996</td>\n      <td>Townhouse</td>\n      <td>$460 per week</td>\n      <td>63.0</td>\n      <td>57.0</td>\n      <td>50.0</td>\n      <td>VIC</td>\n      <td>3.0</td>\n      <td>2.0</td>\n      <td>1.0</td>\n      <td>...</td>\n      <td>11.8</td>\n      <td>460.0</td>\n      <td>False</td>\n      <td>-38.626891</td>\n      <td>145.730945</td>\n      <td>POINT (145.7309454 -38.6268906)</td>\n      <td>Wonthaggi - Inverloch</td>\n      <td>205031093.0</td>\n      <td>Inverloch</td>\n      <td>21235.0</td>\n    </tr>\n    <tr>\n      <th>12045</th>\n      <td>10 Beacon Crt Inverloch Inverloch VIC 3996</td>\n      <td>House</td>\n      <td>$410</td>\n      <td>52.0</td>\n      <td>81.0</td>\n      <td>65.0</td>\n      <td>VIC</td>\n      <td>2.0</td>\n      <td>1.0</td>\n      <td>1.0</td>\n      <td>...</td>\n      <td>10.8</td>\n      <td>410.0</td>\n      <td>False</td>\n      <td>-38.639329</td>\n      <td>145.715185</td>\n      <td>POINT (145.7151855 -38.6393294)</td>\n      <td>Wonthaggi - Inverloch</td>\n      <td>205031093.0</td>\n      <td>Inverloch</td>\n      <td>21235.0</td>\n    </tr>\n    <tr>\n      <th>12046</th>\n      <td>10 Blue Wren Way Inverloch VIC 3996</td>\n      <td>House</td>\n      <td>$600</td>\n      <td>NaN</td>\n      <td>79.0</td>\n      <td>73.0</td>\n      <td>VIC</td>\n      <td>3.0</td>\n      <td>2.0</td>\n      <td>2.0</td>\n      <td>...</td>\n      <td>10.1</td>\n      <td>600.0</td>\n      <td>False</td>\n      <td>-38.629971</td>\n      <td>145.709898</td>\n      <td>POINT (145.7098975 -38.6299709)</td>\n      <td>Wonthaggi - Inverloch</td>\n      <td>205031093.0</td>\n      <td>Inverloch</td>\n      <td>21235.0</td>\n    </tr>\n    <tr>\n      <th>12047</th>\n      <td>2/37 A'Beckett Street Inverloch VIC 3996</td>\n      <td>Townhouse</td>\n      <td>$450</td>\n      <td>55.0</td>\n      <td>66.0</td>\n      <td>54.0</td>\n      <td>VIC</td>\n      <td>3.0</td>\n      <td>2.0</td>\n      <td>1.0</td>\n      <td>...</td>\n      <td>11.5</td>\n      <td>450.0</td>\n      <td>False</td>\n      <td>-38.633966</td>\n      <td>145.725372</td>\n      <td>POINT (145.7253717 -38.6339662)</td>\n      <td>Wonthaggi - Inverloch</td>\n      <td>205031093.0</td>\n      <td>Inverloch</td>\n      <td>21235.0</td>\n    </tr>\n  </tbody>\n</table>\n<p>12048 rows × 28 columns</p>\n</div>"
     },
     "execution_count": 111,
     "metadata": {},
     "output_type": "execute_result"
    }
   ],
   "source": [
    "listing_domain = pd.read_csv(listing_path)\n",
    "listing_domain"
   ],
   "metadata": {
    "collapsed": false
   }
  },
  {
   "cell_type": "markdown",
   "source": [
    "### Retrieve relevant columns"
   ],
   "metadata": {
    "collapsed": false
   }
  },
  {
   "cell_type": "code",
   "execution_count": 106,
   "outputs": [
    {
     "data": {
      "text/plain": "        SA2_NAME21  AREASQKM21\n644      Alfredton     52.7109\n645       Ballarat     12.3787\n646      Buninyong     51.5855\n647      Delacombe     34.1607\n648  Smythes Creek    104.7274",
      "text/html": "<div>\n<style scoped>\n    .dataframe tbody tr th:only-of-type {\n        vertical-align: middle;\n    }\n\n    .dataframe tbody tr th {\n        vertical-align: top;\n    }\n\n    .dataframe thead th {\n        text-align: right;\n    }\n</style>\n<table border=\"1\" class=\"dataframe\">\n  <thead>\n    <tr style=\"text-align: right;\">\n      <th></th>\n      <th>SA2_NAME21</th>\n      <th>AREASQKM21</th>\n    </tr>\n  </thead>\n  <tbody>\n    <tr>\n      <th>644</th>\n      <td>Alfredton</td>\n      <td>52.7109</td>\n    </tr>\n    <tr>\n      <th>645</th>\n      <td>Ballarat</td>\n      <td>12.3787</td>\n    </tr>\n    <tr>\n      <th>646</th>\n      <td>Buninyong</td>\n      <td>51.5855</td>\n    </tr>\n    <tr>\n      <th>647</th>\n      <td>Delacombe</td>\n      <td>34.1607</td>\n    </tr>\n    <tr>\n      <th>648</th>\n      <td>Smythes Creek</td>\n      <td>104.7274</td>\n    </tr>\n  </tbody>\n</table>\n</div>"
     },
     "execution_count": 106,
     "metadata": {},
     "output_type": "execute_result"
    }
   ],
   "source": [
    "SA2_list = SA2_list.loc[SA2_list['STE_NAME21']=='Victoria']\n",
    "SA2_list = SA2_list[['SA2_NAME21','AREASQKM21']]\n",
    "SA2_list.head()"
   ],
   "metadata": {
    "collapsed": false
   }
  },
  {
   "cell_type": "code",
   "execution_count": 113,
   "outputs": [
    {
     "data": {
      "text/plain": "  SAL_CODE21         SAL_NAME21 STE_CODE21       STE_NAME21 AUS_CODE21  \\\n0      10001        Aarons Pass          1  New South Wales        AUS   \n1      10002         Abbotsbury          1  New South Wales        AUS   \n2      10003   Abbotsford (NSW)          1  New South Wales        AUS   \n3      10004        Abercrombie          1  New South Wales        AUS   \n4      10005  Abercrombie River          1  New South Wales        AUS   \n\n  AUS_NAME21  AREASQKM21                                         LOCI_URI21  \\\n0  Australia     82.7639  http://linked.data.gov.au/dataset/asgsed3/SAL/...   \n1  Australia      4.9788  http://linked.data.gov.au/dataset/asgsed3/SAL/...   \n2  Australia      1.0180  http://linked.data.gov.au/dataset/asgsed3/SAL/...   \n3  Australia      2.9775  http://linked.data.gov.au/dataset/asgsed3/SAL/...   \n4  Australia    127.1701  http://linked.data.gov.au/dataset/asgsed3/SAL/...   \n\n   SHAPE_Leng  SHAPE_Area                                           geometry  \n0    0.554241    0.007975  POLYGON ((149.82477 -32.84384, 149.83271 -32.8...  \n1    0.123051    0.000485  POLYGON ((150.86523 -33.88264, 150.86479 -33.8...  \n2    0.053423    0.000099  POLYGON ((151.13472 -33.85492, 151.13445 -33.8...  \n3    0.097338    0.000289  POLYGON ((149.55192 -33.39280, 149.55148 -33.3...  \n4    0.848903    0.012397  POLYGON ((149.25562 -33.96535, 149.25563 -33.9...  ",
      "text/html": "<div>\n<style scoped>\n    .dataframe tbody tr th:only-of-type {\n        vertical-align: middle;\n    }\n\n    .dataframe tbody tr th {\n        vertical-align: top;\n    }\n\n    .dataframe thead th {\n        text-align: right;\n    }\n</style>\n<table border=\"1\" class=\"dataframe\">\n  <thead>\n    <tr style=\"text-align: right;\">\n      <th></th>\n      <th>SAL_CODE21</th>\n      <th>SAL_NAME21</th>\n      <th>STE_CODE21</th>\n      <th>STE_NAME21</th>\n      <th>AUS_CODE21</th>\n      <th>AUS_NAME21</th>\n      <th>AREASQKM21</th>\n      <th>LOCI_URI21</th>\n      <th>SHAPE_Leng</th>\n      <th>SHAPE_Area</th>\n      <th>geometry</th>\n    </tr>\n  </thead>\n  <tbody>\n    <tr>\n      <th>0</th>\n      <td>10001</td>\n      <td>Aarons Pass</td>\n      <td>1</td>\n      <td>New South Wales</td>\n      <td>AUS</td>\n      <td>Australia</td>\n      <td>82.7639</td>\n      <td>http://linked.data.gov.au/dataset/asgsed3/SAL/...</td>\n      <td>0.554241</td>\n      <td>0.007975</td>\n      <td>POLYGON ((149.82477 -32.84384, 149.83271 -32.8...</td>\n    </tr>\n    <tr>\n      <th>1</th>\n      <td>10002</td>\n      <td>Abbotsbury</td>\n      <td>1</td>\n      <td>New South Wales</td>\n      <td>AUS</td>\n      <td>Australia</td>\n      <td>4.9788</td>\n      <td>http://linked.data.gov.au/dataset/asgsed3/SAL/...</td>\n      <td>0.123051</td>\n      <td>0.000485</td>\n      <td>POLYGON ((150.86523 -33.88264, 150.86479 -33.8...</td>\n    </tr>\n    <tr>\n      <th>2</th>\n      <td>10003</td>\n      <td>Abbotsford (NSW)</td>\n      <td>1</td>\n      <td>New South Wales</td>\n      <td>AUS</td>\n      <td>Australia</td>\n      <td>1.0180</td>\n      <td>http://linked.data.gov.au/dataset/asgsed3/SAL/...</td>\n      <td>0.053423</td>\n      <td>0.000099</td>\n      <td>POLYGON ((151.13472 -33.85492, 151.13445 -33.8...</td>\n    </tr>\n    <tr>\n      <th>3</th>\n      <td>10004</td>\n      <td>Abercrombie</td>\n      <td>1</td>\n      <td>New South Wales</td>\n      <td>AUS</td>\n      <td>Australia</td>\n      <td>2.9775</td>\n      <td>http://linked.data.gov.au/dataset/asgsed3/SAL/...</td>\n      <td>0.097338</td>\n      <td>0.000289</td>\n      <td>POLYGON ((149.55192 -33.39280, 149.55148 -33.3...</td>\n    </tr>\n    <tr>\n      <th>4</th>\n      <td>10005</td>\n      <td>Abercrombie River</td>\n      <td>1</td>\n      <td>New South Wales</td>\n      <td>AUS</td>\n      <td>Australia</td>\n      <td>127.1701</td>\n      <td>http://linked.data.gov.au/dataset/asgsed3/SAL/...</td>\n      <td>0.848903</td>\n      <td>0.012397</td>\n      <td>POLYGON ((149.25562 -33.96535, 149.25563 -33.9...</td>\n    </tr>\n  </tbody>\n</table>\n</div>"
     },
     "execution_count": 113,
     "metadata": {},
     "output_type": "execute_result"
    }
   ],
   "source": [
    "suburb_list = gpd.read_file(suburbs_path)\n",
    "suburb_list.head()"
   ],
   "metadata": {
    "collapsed": false
   }
  },
  {
   "cell_type": "code",
   "execution_count": 114,
   "outputs": [
    {
     "ename": "KeyError",
     "evalue": "\"['SAL_NAME21'] not in index\"",
     "output_type": "error",
     "traceback": [
      "\u001B[0;31m---------------------------------------------------------------------------\u001B[0m",
      "\u001B[0;31mKeyError\u001B[0m                                  Traceback (most recent call last)",
      "\u001B[0;32m<ipython-input-114-dc333a2d07ac>\u001B[0m in \u001B[0;36m<module>\u001B[0;34m\u001B[0m\n\u001B[0;32m----> 1\u001B[0;31m \u001B[0msuburb_list\u001B[0m \u001B[0;34m=\u001B[0m \u001B[0mSA2_list\u001B[0m\u001B[0;34m[\u001B[0m\u001B[0;34m[\u001B[0m\u001B[0;34m'SAL_NAME21'\u001B[0m\u001B[0;34m,\u001B[0m\u001B[0;34m'AREASQKM21'\u001B[0m\u001B[0;34m]\u001B[0m\u001B[0;34m]\u001B[0m\u001B[0;34m\u001B[0m\u001B[0;34m\u001B[0m\u001B[0m\n\u001B[0m\u001B[1;32m      2\u001B[0m \u001B[0msuburb_list\u001B[0m\u001B[0;34m.\u001B[0m\u001B[0mhead\u001B[0m\u001B[0;34m(\u001B[0m\u001B[0;34m)\u001B[0m\u001B[0;34m\u001B[0m\u001B[0;34m\u001B[0m\u001B[0m\n",
      "\u001B[0;32m/opt/homebrew/lib/python3.9/site-packages/pandas/core/frame.py\u001B[0m in \u001B[0;36m__getitem__\u001B[0;34m(self, key)\u001B[0m\n\u001B[1;32m   3811\u001B[0m             \u001B[0;32mif\u001B[0m \u001B[0mis_iterator\u001B[0m\u001B[0;34m(\u001B[0m\u001B[0mkey\u001B[0m\u001B[0;34m)\u001B[0m\u001B[0;34m:\u001B[0m\u001B[0;34m\u001B[0m\u001B[0;34m\u001B[0m\u001B[0m\n\u001B[1;32m   3812\u001B[0m                 \u001B[0mkey\u001B[0m \u001B[0;34m=\u001B[0m \u001B[0mlist\u001B[0m\u001B[0;34m(\u001B[0m\u001B[0mkey\u001B[0m\u001B[0;34m)\u001B[0m\u001B[0;34m\u001B[0m\u001B[0;34m\u001B[0m\u001B[0m\n\u001B[0;32m-> 3813\u001B[0;31m             \u001B[0mindexer\u001B[0m \u001B[0;34m=\u001B[0m \u001B[0mself\u001B[0m\u001B[0;34m.\u001B[0m\u001B[0mcolumns\u001B[0m\u001B[0;34m.\u001B[0m\u001B[0m_get_indexer_strict\u001B[0m\u001B[0;34m(\u001B[0m\u001B[0mkey\u001B[0m\u001B[0;34m,\u001B[0m \u001B[0;34m\"columns\"\u001B[0m\u001B[0;34m)\u001B[0m\u001B[0;34m[\u001B[0m\u001B[0;36m1\u001B[0m\u001B[0;34m]\u001B[0m\u001B[0;34m\u001B[0m\u001B[0;34m\u001B[0m\u001B[0m\n\u001B[0m\u001B[1;32m   3814\u001B[0m \u001B[0;34m\u001B[0m\u001B[0m\n\u001B[1;32m   3815\u001B[0m         \u001B[0;31m# take() does not accept boolean indexers\u001B[0m\u001B[0;34m\u001B[0m\u001B[0;34m\u001B[0m\u001B[0m\n",
      "\u001B[0;32m/opt/homebrew/lib/python3.9/site-packages/pandas/core/indexes/base.py\u001B[0m in \u001B[0;36m_get_indexer_strict\u001B[0;34m(self, key, axis_name)\u001B[0m\n\u001B[1;32m   6068\u001B[0m             \u001B[0mkeyarr\u001B[0m\u001B[0;34m,\u001B[0m \u001B[0mindexer\u001B[0m\u001B[0;34m,\u001B[0m \u001B[0mnew_indexer\u001B[0m \u001B[0;34m=\u001B[0m \u001B[0mself\u001B[0m\u001B[0;34m.\u001B[0m\u001B[0m_reindex_non_unique\u001B[0m\u001B[0;34m(\u001B[0m\u001B[0mkeyarr\u001B[0m\u001B[0;34m)\u001B[0m\u001B[0;34m\u001B[0m\u001B[0;34m\u001B[0m\u001B[0m\n\u001B[1;32m   6069\u001B[0m \u001B[0;34m\u001B[0m\u001B[0m\n\u001B[0;32m-> 6070\u001B[0;31m         \u001B[0mself\u001B[0m\u001B[0;34m.\u001B[0m\u001B[0m_raise_if_missing\u001B[0m\u001B[0;34m(\u001B[0m\u001B[0mkeyarr\u001B[0m\u001B[0;34m,\u001B[0m \u001B[0mindexer\u001B[0m\u001B[0;34m,\u001B[0m \u001B[0maxis_name\u001B[0m\u001B[0;34m)\u001B[0m\u001B[0;34m\u001B[0m\u001B[0;34m\u001B[0m\u001B[0m\n\u001B[0m\u001B[1;32m   6071\u001B[0m \u001B[0;34m\u001B[0m\u001B[0m\n\u001B[1;32m   6072\u001B[0m         \u001B[0mkeyarr\u001B[0m \u001B[0;34m=\u001B[0m \u001B[0mself\u001B[0m\u001B[0;34m.\u001B[0m\u001B[0mtake\u001B[0m\u001B[0;34m(\u001B[0m\u001B[0mindexer\u001B[0m\u001B[0;34m)\u001B[0m\u001B[0;34m\u001B[0m\u001B[0;34m\u001B[0m\u001B[0m\n",
      "\u001B[0;32m/opt/homebrew/lib/python3.9/site-packages/pandas/core/indexes/base.py\u001B[0m in \u001B[0;36m_raise_if_missing\u001B[0;34m(self, key, indexer, axis_name)\u001B[0m\n\u001B[1;32m   6131\u001B[0m \u001B[0;34m\u001B[0m\u001B[0m\n\u001B[1;32m   6132\u001B[0m             \u001B[0mnot_found\u001B[0m \u001B[0;34m=\u001B[0m \u001B[0mlist\u001B[0m\u001B[0;34m(\u001B[0m\u001B[0mensure_index\u001B[0m\u001B[0;34m(\u001B[0m\u001B[0mkey\u001B[0m\u001B[0;34m)\u001B[0m\u001B[0;34m[\u001B[0m\u001B[0mmissing_mask\u001B[0m\u001B[0;34m.\u001B[0m\u001B[0mnonzero\u001B[0m\u001B[0;34m(\u001B[0m\u001B[0;34m)\u001B[0m\u001B[0;34m[\u001B[0m\u001B[0;36m0\u001B[0m\u001B[0;34m]\u001B[0m\u001B[0;34m]\u001B[0m\u001B[0;34m.\u001B[0m\u001B[0munique\u001B[0m\u001B[0;34m(\u001B[0m\u001B[0;34m)\u001B[0m\u001B[0;34m)\u001B[0m\u001B[0;34m\u001B[0m\u001B[0;34m\u001B[0m\u001B[0m\n\u001B[0;32m-> 6133\u001B[0;31m             \u001B[0;32mraise\u001B[0m \u001B[0mKeyError\u001B[0m\u001B[0;34m(\u001B[0m\u001B[0;34mf\"{not_found} not in index\"\u001B[0m\u001B[0;34m)\u001B[0m\u001B[0;34m\u001B[0m\u001B[0;34m\u001B[0m\u001B[0m\n\u001B[0m\u001B[1;32m   6134\u001B[0m \u001B[0;34m\u001B[0m\u001B[0m\n\u001B[1;32m   6135\u001B[0m     \u001B[0;34m@\u001B[0m\u001B[0moverload\u001B[0m\u001B[0;34m\u001B[0m\u001B[0;34m\u001B[0m\u001B[0m\n",
      "\u001B[0;31mKeyError\u001B[0m: \"['SAL_NAME21'] not in index\""
     ]
    }
   ],
   "source": [
    "suburb_list = SA2_list[['SAL_NAME21','AREASQKM21']]\n",
    "suburb_list.head()"
   ],
   "metadata": {
    "collapsed": false
   }
  },
  {
   "cell_type": "markdown",
   "source": [
    "#### Read the saved ABS files"
   ],
   "metadata": {
    "collapsed": false
   }
  },
  {
   "cell_type": "code",
   "execution_count": 39,
   "outputs": [],
   "source": [
    "# income_file_path = \"../data/landing/ABS_data/income.csv\"\n",
    "dwelling_file_path = \"../data/curated/ABS_data/SA2_Dwelling_Structure_2021.csv\"\n",
    "occupation_file_path = \"../data/curated/ABS_data/SA2_Occupation_Types_2021.csv\"\n",
    "person_file_path = \"../data/curated/ABS_data/SA2_Person_in_Family_2021.csv\"\n",
    "family_file_path = \"../data/curated/ABS_data/SA2_Family_Number_2021.csv\""
   ],
   "metadata": {
    "collapsed": false
   }
  },
  {
   "cell_type": "code",
   "execution_count": 40,
   "outputs": [
    {
     "data": {
      "text/plain": "        SA2 Name  Managers  Professionals  Technicians and Trades Workers  \\\n0      Alfredton    1013.0         2113.0                          1073.0   \n1       Ballarat     859.0         1959.0                           546.0   \n2      Buninyong     493.0          967.0                           407.0   \n3      Delacombe     487.0          903.0                           838.0   \n4  Smythes Creek     268.0          378.0                           416.0   \n\n   Community and Personal Service Workers  \\\n0                                  1106.0   \n1                                   706.0   \n2                                   403.0   \n3                                   758.0   \n4                                   277.0   \n\n   Clerical and Administrative Workers  Sales Workers  \\\n0                               1128.0          861.0   \n1                                670.0          463.0   \n2                                448.0          310.0   \n3                                660.0          557.0   \n4                                270.0          198.0   \n\n   Machinery Operators and Drivers  Labourers  Inadequately described  \\\n0                            378.0      738.0                    71.0   \n1                            164.0      351.0                    45.0   \n2                            147.0      264.0                    29.0   \n3                            344.0      586.0                    49.0   \n4                            166.0      216.0                    27.0   \n\n   Not stated  Not applicable  Total Suburb Occupation Types  \n0        45.0          8309.0                        16835.0  \n1        33.0          6330.0                        12131.0  \n2        23.0          3765.0                         7261.0  \n3        29.0          5458.0                        10661.0  \n4        10.0          2004.0                         4230.0  ",
      "text/html": "<div>\n<style scoped>\n    .dataframe tbody tr th:only-of-type {\n        vertical-align: middle;\n    }\n\n    .dataframe tbody tr th {\n        vertical-align: top;\n    }\n\n    .dataframe thead th {\n        text-align: right;\n    }\n</style>\n<table border=\"1\" class=\"dataframe\">\n  <thead>\n    <tr style=\"text-align: right;\">\n      <th></th>\n      <th>SA2 Name</th>\n      <th>Managers</th>\n      <th>Professionals</th>\n      <th>Technicians and Trades Workers</th>\n      <th>Community and Personal Service Workers</th>\n      <th>Clerical and Administrative Workers</th>\n      <th>Sales Workers</th>\n      <th>Machinery Operators and Drivers</th>\n      <th>Labourers</th>\n      <th>Inadequately described</th>\n      <th>Not stated</th>\n      <th>Not applicable</th>\n      <th>Total Suburb Occupation Types</th>\n    </tr>\n  </thead>\n  <tbody>\n    <tr>\n      <th>0</th>\n      <td>Alfredton</td>\n      <td>1013.0</td>\n      <td>2113.0</td>\n      <td>1073.0</td>\n      <td>1106.0</td>\n      <td>1128.0</td>\n      <td>861.0</td>\n      <td>378.0</td>\n      <td>738.0</td>\n      <td>71.0</td>\n      <td>45.0</td>\n      <td>8309.0</td>\n      <td>16835.0</td>\n    </tr>\n    <tr>\n      <th>1</th>\n      <td>Ballarat</td>\n      <td>859.0</td>\n      <td>1959.0</td>\n      <td>546.0</td>\n      <td>706.0</td>\n      <td>670.0</td>\n      <td>463.0</td>\n      <td>164.0</td>\n      <td>351.0</td>\n      <td>45.0</td>\n      <td>33.0</td>\n      <td>6330.0</td>\n      <td>12131.0</td>\n    </tr>\n    <tr>\n      <th>2</th>\n      <td>Buninyong</td>\n      <td>493.0</td>\n      <td>967.0</td>\n      <td>407.0</td>\n      <td>403.0</td>\n      <td>448.0</td>\n      <td>310.0</td>\n      <td>147.0</td>\n      <td>264.0</td>\n      <td>29.0</td>\n      <td>23.0</td>\n      <td>3765.0</td>\n      <td>7261.0</td>\n    </tr>\n    <tr>\n      <th>3</th>\n      <td>Delacombe</td>\n      <td>487.0</td>\n      <td>903.0</td>\n      <td>838.0</td>\n      <td>758.0</td>\n      <td>660.0</td>\n      <td>557.0</td>\n      <td>344.0</td>\n      <td>586.0</td>\n      <td>49.0</td>\n      <td>29.0</td>\n      <td>5458.0</td>\n      <td>10661.0</td>\n    </tr>\n    <tr>\n      <th>4</th>\n      <td>Smythes Creek</td>\n      <td>268.0</td>\n      <td>378.0</td>\n      <td>416.0</td>\n      <td>277.0</td>\n      <td>270.0</td>\n      <td>198.0</td>\n      <td>166.0</td>\n      <td>216.0</td>\n      <td>27.0</td>\n      <td>10.0</td>\n      <td>2004.0</td>\n      <td>4230.0</td>\n    </tr>\n  </tbody>\n</table>\n</div>"
     },
     "execution_count": 40,
     "metadata": {},
     "output_type": "execute_result"
    }
   ],
   "source": [
    "occupation_data = pd.read_csv(occupation_file_path)\n",
    "occupation_data.head()"
   ],
   "metadata": {
    "collapsed": false
   }
  },
  {
   "cell_type": "code",
   "execution_count": 41,
   "outputs": [
    {
     "data": {
      "text/plain": "        SA2 Name  Separate house  Semi-detached house or Townhouse  \\\n0      Alfredton          5717.0                             223.0   \n1       Ballarat          4588.0                             863.0   \n2      Buninyong          2613.0                              78.0   \n3      Delacombe          3914.0                             225.0   \n4  Smythes Creek          1489.0                               0.0   \n\n   Flat or Apartment  Non-residential properties  Total Suburb Dwellings  \n0              275.0                        27.0                  6245.0  \n1              417.0                       105.0                  5970.0  \n2               45.0                        19.0                  2768.0  \n3               15.0                        19.0                  4172.0  \n4                0.0                         0.0                  1490.0  ",
      "text/html": "<div>\n<style scoped>\n    .dataframe tbody tr th:only-of-type {\n        vertical-align: middle;\n    }\n\n    .dataframe tbody tr th {\n        vertical-align: top;\n    }\n\n    .dataframe thead th {\n        text-align: right;\n    }\n</style>\n<table border=\"1\" class=\"dataframe\">\n  <thead>\n    <tr style=\"text-align: right;\">\n      <th></th>\n      <th>SA2 Name</th>\n      <th>Separate house</th>\n      <th>Semi-detached house or Townhouse</th>\n      <th>Flat or Apartment</th>\n      <th>Non-residential properties</th>\n      <th>Total Suburb Dwellings</th>\n    </tr>\n  </thead>\n  <tbody>\n    <tr>\n      <th>0</th>\n      <td>Alfredton</td>\n      <td>5717.0</td>\n      <td>223.0</td>\n      <td>275.0</td>\n      <td>27.0</td>\n      <td>6245.0</td>\n    </tr>\n    <tr>\n      <th>1</th>\n      <td>Ballarat</td>\n      <td>4588.0</td>\n      <td>863.0</td>\n      <td>417.0</td>\n      <td>105.0</td>\n      <td>5970.0</td>\n    </tr>\n    <tr>\n      <th>2</th>\n      <td>Buninyong</td>\n      <td>2613.0</td>\n      <td>78.0</td>\n      <td>45.0</td>\n      <td>19.0</td>\n      <td>2768.0</td>\n    </tr>\n    <tr>\n      <th>3</th>\n      <td>Delacombe</td>\n      <td>3914.0</td>\n      <td>225.0</td>\n      <td>15.0</td>\n      <td>19.0</td>\n      <td>4172.0</td>\n    </tr>\n    <tr>\n      <th>4</th>\n      <td>Smythes Creek</td>\n      <td>1489.0</td>\n      <td>0.0</td>\n      <td>0.0</td>\n      <td>0.0</td>\n      <td>1490.0</td>\n    </tr>\n  </tbody>\n</table>\n</div>"
     },
     "execution_count": 41,
     "metadata": {},
     "output_type": "execute_result"
    }
   ],
   "source": [
    "dwelling_data = pd.read_csv(dwelling_file_path)\n",
    "dwelling_data.head()"
   ],
   "metadata": {
    "collapsed": false
   }
  },
  {
   "cell_type": "code",
   "execution_count": 42,
   "outputs": [
    {
     "data": {
      "text/plain": "        SA2 Name  Two persons in family  Three persons in family  \\\n0      Alfredton                 1812.0                    952.0   \n1       Ballarat                 1687.0                    598.0   \n2      Buninyong                  954.0                    359.0   \n3      Delacombe                 1361.0                    687.0   \n4  Smythes Creek                  496.0                    241.0   \n\n   Four persons in family  Five persons in family  \\\n0                  1144.0                   506.0   \n1                   512.0                   205.0   \n2                   442.0                   188.0   \n3                   588.0                   215.0   \n4                   279.0                   133.0   \n\n   Six or more persons in family  Not applicable  Total Suburb Population  \n0                          151.0          1728.0                   6287.0  \n1                           48.0          2426.0                   5486.0  \n2                           60.0           708.0                   2716.0  \n3                           82.0          1332.0                   4266.0  \n4                           64.0           314.0                   1528.0  ",
      "text/html": "<div>\n<style scoped>\n    .dataframe tbody tr th:only-of-type {\n        vertical-align: middle;\n    }\n\n    .dataframe tbody tr th {\n        vertical-align: top;\n    }\n\n    .dataframe thead th {\n        text-align: right;\n    }\n</style>\n<table border=\"1\" class=\"dataframe\">\n  <thead>\n    <tr style=\"text-align: right;\">\n      <th></th>\n      <th>SA2 Name</th>\n      <th>Two persons in family</th>\n      <th>Three persons in family</th>\n      <th>Four persons in family</th>\n      <th>Five persons in family</th>\n      <th>Six or more persons in family</th>\n      <th>Not applicable</th>\n      <th>Total Suburb Population</th>\n    </tr>\n  </thead>\n  <tbody>\n    <tr>\n      <th>0</th>\n      <td>Alfredton</td>\n      <td>1812.0</td>\n      <td>952.0</td>\n      <td>1144.0</td>\n      <td>506.0</td>\n      <td>151.0</td>\n      <td>1728.0</td>\n      <td>6287.0</td>\n    </tr>\n    <tr>\n      <th>1</th>\n      <td>Ballarat</td>\n      <td>1687.0</td>\n      <td>598.0</td>\n      <td>512.0</td>\n      <td>205.0</td>\n      <td>48.0</td>\n      <td>2426.0</td>\n      <td>5486.0</td>\n    </tr>\n    <tr>\n      <th>2</th>\n      <td>Buninyong</td>\n      <td>954.0</td>\n      <td>359.0</td>\n      <td>442.0</td>\n      <td>188.0</td>\n      <td>60.0</td>\n      <td>708.0</td>\n      <td>2716.0</td>\n    </tr>\n    <tr>\n      <th>3</th>\n      <td>Delacombe</td>\n      <td>1361.0</td>\n      <td>687.0</td>\n      <td>588.0</td>\n      <td>215.0</td>\n      <td>82.0</td>\n      <td>1332.0</td>\n      <td>4266.0</td>\n    </tr>\n    <tr>\n      <th>4</th>\n      <td>Smythes Creek</td>\n      <td>496.0</td>\n      <td>241.0</td>\n      <td>279.0</td>\n      <td>133.0</td>\n      <td>64.0</td>\n      <td>314.0</td>\n      <td>1528.0</td>\n    </tr>\n  </tbody>\n</table>\n</div>"
     },
     "execution_count": 42,
     "metadata": {},
     "output_type": "execute_result"
    }
   ],
   "source": [
    "person_data = pd.read_csv(person_file_path)\n",
    "person_data.head()"
   ],
   "metadata": {
    "collapsed": false
   }
  },
  {
   "cell_type": "code",
   "execution_count": 43,
   "outputs": [
    {
     "data": {
      "text/plain": "        SA2 Name  Immediate Family  Extended Family  Total Suburb Population\n0      Alfredton            4559.0           1728.0                   6287.0\n1       Ballarat            3060.0           2426.0                   5486.0\n2      Buninyong            2008.0            708.0                   2716.0\n3      Delacombe            2934.0           1332.0                   4266.0\n4  Smythes Creek            1214.0            314.0                   1528.0",
      "text/html": "<div>\n<style scoped>\n    .dataframe tbody tr th:only-of-type {\n        vertical-align: middle;\n    }\n\n    .dataframe tbody tr th {\n        vertical-align: top;\n    }\n\n    .dataframe thead th {\n        text-align: right;\n    }\n</style>\n<table border=\"1\" class=\"dataframe\">\n  <thead>\n    <tr style=\"text-align: right;\">\n      <th></th>\n      <th>SA2 Name</th>\n      <th>Immediate Family</th>\n      <th>Extended Family</th>\n      <th>Total Suburb Population</th>\n    </tr>\n  </thead>\n  <tbody>\n    <tr>\n      <th>0</th>\n      <td>Alfredton</td>\n      <td>4559.0</td>\n      <td>1728.0</td>\n      <td>6287.0</td>\n    </tr>\n    <tr>\n      <th>1</th>\n      <td>Ballarat</td>\n      <td>3060.0</td>\n      <td>2426.0</td>\n      <td>5486.0</td>\n    </tr>\n    <tr>\n      <th>2</th>\n      <td>Buninyong</td>\n      <td>2008.0</td>\n      <td>708.0</td>\n      <td>2716.0</td>\n    </tr>\n    <tr>\n      <th>3</th>\n      <td>Delacombe</td>\n      <td>2934.0</td>\n      <td>1332.0</td>\n      <td>4266.0</td>\n    </tr>\n    <tr>\n      <th>4</th>\n      <td>Smythes Creek</td>\n      <td>1214.0</td>\n      <td>314.0</td>\n      <td>1528.0</td>\n    </tr>\n  </tbody>\n</table>\n</div>"
     },
     "execution_count": 43,
     "metadata": {},
     "output_type": "execute_result"
    }
   ],
   "source": [
    "family_data = pd.read_csv(family_file_path)\n",
    "family_data.head()"
   ],
   "metadata": {
    "collapsed": false
   }
  },
  {
   "cell_type": "code",
   "execution_count": 44,
   "outputs": [],
   "source": [
    "merged_df = pd.merge(family_data, person_data, on=\"SA2 Name\", how=\"inner\")\n",
    "merged_df = pd.merge(merged_df, dwelling_data, on=\"SA2 Name\", how=\"inner\")"
   ],
   "metadata": {
    "collapsed": false
   }
  },
  {
   "cell_type": "code",
   "execution_count": 45,
   "outputs": [
    {
     "data": {
      "text/plain": "        SA2 Name  Immediate Family  Extended Family  \\\n0      Alfredton            4559.0           1728.0   \n1       Ballarat            3060.0           2426.0   \n2      Buninyong            2008.0            708.0   \n3      Delacombe            2934.0           1332.0   \n4  Smythes Creek            1214.0            314.0   \n\n   Total Suburb Population_x  Two persons in family  Three persons in family  \\\n0                     6287.0                 1812.0                    952.0   \n1                     5486.0                 1687.0                    598.0   \n2                     2716.0                  954.0                    359.0   \n3                     4266.0                 1361.0                    687.0   \n4                     1528.0                  496.0                    241.0   \n\n   Four persons in family  Five persons in family  \\\n0                  1144.0                   506.0   \n1                   512.0                   205.0   \n2                   442.0                   188.0   \n3                   588.0                   215.0   \n4                   279.0                   133.0   \n\n   Six or more persons in family  Not applicable  Total Suburb Population_y  \\\n0                          151.0          1728.0                     6287.0   \n1                           48.0          2426.0                     5486.0   \n2                           60.0           708.0                     2716.0   \n3                           82.0          1332.0                     4266.0   \n4                           64.0           314.0                     1528.0   \n\n   Separate house  Semi-detached house or Townhouse  Flat or Apartment  \\\n0          5717.0                             223.0              275.0   \n1          4588.0                             863.0              417.0   \n2          2613.0                              78.0               45.0   \n3          3914.0                             225.0               15.0   \n4          1489.0                               0.0                0.0   \n\n   Non-residential properties  Total Suburb Dwellings  \n0                        27.0                  6245.0  \n1                       105.0                  5970.0  \n2                        19.0                  2768.0  \n3                        19.0                  4172.0  \n4                         0.0                  1490.0  ",
      "text/html": "<div>\n<style scoped>\n    .dataframe tbody tr th:only-of-type {\n        vertical-align: middle;\n    }\n\n    .dataframe tbody tr th {\n        vertical-align: top;\n    }\n\n    .dataframe thead th {\n        text-align: right;\n    }\n</style>\n<table border=\"1\" class=\"dataframe\">\n  <thead>\n    <tr style=\"text-align: right;\">\n      <th></th>\n      <th>SA2 Name</th>\n      <th>Immediate Family</th>\n      <th>Extended Family</th>\n      <th>Total Suburb Population_x</th>\n      <th>Two persons in family</th>\n      <th>Three persons in family</th>\n      <th>Four persons in family</th>\n      <th>Five persons in family</th>\n      <th>Six or more persons in family</th>\n      <th>Not applicable</th>\n      <th>Total Suburb Population_y</th>\n      <th>Separate house</th>\n      <th>Semi-detached house or Townhouse</th>\n      <th>Flat or Apartment</th>\n      <th>Non-residential properties</th>\n      <th>Total Suburb Dwellings</th>\n    </tr>\n  </thead>\n  <tbody>\n    <tr>\n      <th>0</th>\n      <td>Alfredton</td>\n      <td>4559.0</td>\n      <td>1728.0</td>\n      <td>6287.0</td>\n      <td>1812.0</td>\n      <td>952.0</td>\n      <td>1144.0</td>\n      <td>506.0</td>\n      <td>151.0</td>\n      <td>1728.0</td>\n      <td>6287.0</td>\n      <td>5717.0</td>\n      <td>223.0</td>\n      <td>275.0</td>\n      <td>27.0</td>\n      <td>6245.0</td>\n    </tr>\n    <tr>\n      <th>1</th>\n      <td>Ballarat</td>\n      <td>3060.0</td>\n      <td>2426.0</td>\n      <td>5486.0</td>\n      <td>1687.0</td>\n      <td>598.0</td>\n      <td>512.0</td>\n      <td>205.0</td>\n      <td>48.0</td>\n      <td>2426.0</td>\n      <td>5486.0</td>\n      <td>4588.0</td>\n      <td>863.0</td>\n      <td>417.0</td>\n      <td>105.0</td>\n      <td>5970.0</td>\n    </tr>\n    <tr>\n      <th>2</th>\n      <td>Buninyong</td>\n      <td>2008.0</td>\n      <td>708.0</td>\n      <td>2716.0</td>\n      <td>954.0</td>\n      <td>359.0</td>\n      <td>442.0</td>\n      <td>188.0</td>\n      <td>60.0</td>\n      <td>708.0</td>\n      <td>2716.0</td>\n      <td>2613.0</td>\n      <td>78.0</td>\n      <td>45.0</td>\n      <td>19.0</td>\n      <td>2768.0</td>\n    </tr>\n    <tr>\n      <th>3</th>\n      <td>Delacombe</td>\n      <td>2934.0</td>\n      <td>1332.0</td>\n      <td>4266.0</td>\n      <td>1361.0</td>\n      <td>687.0</td>\n      <td>588.0</td>\n      <td>215.0</td>\n      <td>82.0</td>\n      <td>1332.0</td>\n      <td>4266.0</td>\n      <td>3914.0</td>\n      <td>225.0</td>\n      <td>15.0</td>\n      <td>19.0</td>\n      <td>4172.0</td>\n    </tr>\n    <tr>\n      <th>4</th>\n      <td>Smythes Creek</td>\n      <td>1214.0</td>\n      <td>314.0</td>\n      <td>1528.0</td>\n      <td>496.0</td>\n      <td>241.0</td>\n      <td>279.0</td>\n      <td>133.0</td>\n      <td>64.0</td>\n      <td>314.0</td>\n      <td>1528.0</td>\n      <td>1489.0</td>\n      <td>0.0</td>\n      <td>0.0</td>\n      <td>0.0</td>\n      <td>1490.0</td>\n    </tr>\n  </tbody>\n</table>\n</div>"
     },
     "execution_count": 45,
     "metadata": {},
     "output_type": "execute_result"
    }
   ],
   "source": [
    "merged_df.head()"
   ],
   "metadata": {
    "collapsed": false
   }
  },
  {
   "cell_type": "code",
   "execution_count": 47,
   "outputs": [],
   "source": [
    "columns_to_drop = [\"Total Suburb Population_y\", \"Not applicable\"]\n",
    "merged_df.drop(columns=columns_to_drop, inplace=True)"
   ],
   "metadata": {
    "collapsed": false
   }
  },
  {
   "cell_type": "code",
   "execution_count": 48,
   "outputs": [
    {
     "data": {
      "text/plain": "        SA2 Name  Immediate Family  Extended Family  \\\n0      Alfredton            4559.0           1728.0   \n1       Ballarat            3060.0           2426.0   \n2      Buninyong            2008.0            708.0   \n3      Delacombe            2934.0           1332.0   \n4  Smythes Creek            1214.0            314.0   \n\n   Total Suburb Population_x  Two persons in family  Three persons in family  \\\n0                     6287.0                 1812.0                    952.0   \n1                     5486.0                 1687.0                    598.0   \n2                     2716.0                  954.0                    359.0   \n3                     4266.0                 1361.0                    687.0   \n4                     1528.0                  496.0                    241.0   \n\n   Four persons in family  Five persons in family  \\\n0                  1144.0                   506.0   \n1                   512.0                   205.0   \n2                   442.0                   188.0   \n3                   588.0                   215.0   \n4                   279.0                   133.0   \n\n   Six or more persons in family  Separate house  \\\n0                          151.0          5717.0   \n1                           48.0          4588.0   \n2                           60.0          2613.0   \n3                           82.0          3914.0   \n4                           64.0          1489.0   \n\n   Semi-detached house or Townhouse  Flat or Apartment  \\\n0                             223.0              275.0   \n1                             863.0              417.0   \n2                              78.0               45.0   \n3                             225.0               15.0   \n4                               0.0                0.0   \n\n   Non-residential properties  Total Suburb Dwellings  \n0                        27.0                  6245.0  \n1                       105.0                  5970.0  \n2                        19.0                  2768.0  \n3                        19.0                  4172.0  \n4                         0.0                  1490.0  ",
      "text/html": "<div>\n<style scoped>\n    .dataframe tbody tr th:only-of-type {\n        vertical-align: middle;\n    }\n\n    .dataframe tbody tr th {\n        vertical-align: top;\n    }\n\n    .dataframe thead th {\n        text-align: right;\n    }\n</style>\n<table border=\"1\" class=\"dataframe\">\n  <thead>\n    <tr style=\"text-align: right;\">\n      <th></th>\n      <th>SA2 Name</th>\n      <th>Immediate Family</th>\n      <th>Extended Family</th>\n      <th>Total Suburb Population_x</th>\n      <th>Two persons in family</th>\n      <th>Three persons in family</th>\n      <th>Four persons in family</th>\n      <th>Five persons in family</th>\n      <th>Six or more persons in family</th>\n      <th>Separate house</th>\n      <th>Semi-detached house or Townhouse</th>\n      <th>Flat or Apartment</th>\n      <th>Non-residential properties</th>\n      <th>Total Suburb Dwellings</th>\n    </tr>\n  </thead>\n  <tbody>\n    <tr>\n      <th>0</th>\n      <td>Alfredton</td>\n      <td>4559.0</td>\n      <td>1728.0</td>\n      <td>6287.0</td>\n      <td>1812.0</td>\n      <td>952.0</td>\n      <td>1144.0</td>\n      <td>506.0</td>\n      <td>151.0</td>\n      <td>5717.0</td>\n      <td>223.0</td>\n      <td>275.0</td>\n      <td>27.0</td>\n      <td>6245.0</td>\n    </tr>\n    <tr>\n      <th>1</th>\n      <td>Ballarat</td>\n      <td>3060.0</td>\n      <td>2426.0</td>\n      <td>5486.0</td>\n      <td>1687.0</td>\n      <td>598.0</td>\n      <td>512.0</td>\n      <td>205.0</td>\n      <td>48.0</td>\n      <td>4588.0</td>\n      <td>863.0</td>\n      <td>417.0</td>\n      <td>105.0</td>\n      <td>5970.0</td>\n    </tr>\n    <tr>\n      <th>2</th>\n      <td>Buninyong</td>\n      <td>2008.0</td>\n      <td>708.0</td>\n      <td>2716.0</td>\n      <td>954.0</td>\n      <td>359.0</td>\n      <td>442.0</td>\n      <td>188.0</td>\n      <td>60.0</td>\n      <td>2613.0</td>\n      <td>78.0</td>\n      <td>45.0</td>\n      <td>19.0</td>\n      <td>2768.0</td>\n    </tr>\n    <tr>\n      <th>3</th>\n      <td>Delacombe</td>\n      <td>2934.0</td>\n      <td>1332.0</td>\n      <td>4266.0</td>\n      <td>1361.0</td>\n      <td>687.0</td>\n      <td>588.0</td>\n      <td>215.0</td>\n      <td>82.0</td>\n      <td>3914.0</td>\n      <td>225.0</td>\n      <td>15.0</td>\n      <td>19.0</td>\n      <td>4172.0</td>\n    </tr>\n    <tr>\n      <th>4</th>\n      <td>Smythes Creek</td>\n      <td>1214.0</td>\n      <td>314.0</td>\n      <td>1528.0</td>\n      <td>496.0</td>\n      <td>241.0</td>\n      <td>279.0</td>\n      <td>133.0</td>\n      <td>64.0</td>\n      <td>1489.0</td>\n      <td>0.0</td>\n      <td>0.0</td>\n      <td>0.0</td>\n      <td>1490.0</td>\n    </tr>\n  </tbody>\n</table>\n</div>"
     },
     "execution_count": 48,
     "metadata": {},
     "output_type": "execute_result"
    }
   ],
   "source": [
    "merged_df.head()"
   ],
   "metadata": {
    "collapsed": false
   }
  },
  {
   "cell_type": "code",
   "execution_count": 49,
   "outputs": [],
   "source": [
    "merged_df.rename(columns={\"Total Suburb Population_x\": \"Total Suburb Population\"}, inplace=True)"
   ],
   "metadata": {
    "collapsed": false
   }
  },
  {
   "cell_type": "code",
   "execution_count": 50,
   "outputs": [
    {
     "data": {
      "text/plain": "        SA2 Name  Immediate Family  Extended Family  Total Suburb Population  \\\n0      Alfredton            4559.0           1728.0                   6287.0   \n1       Ballarat            3060.0           2426.0                   5486.0   \n2      Buninyong            2008.0            708.0                   2716.0   \n3      Delacombe            2934.0           1332.0                   4266.0   \n4  Smythes Creek            1214.0            314.0                   1528.0   \n\n   Two persons in family  Three persons in family  Four persons in family  \\\n0                 1812.0                    952.0                  1144.0   \n1                 1687.0                    598.0                   512.0   \n2                  954.0                    359.0                   442.0   \n3                 1361.0                    687.0                   588.0   \n4                  496.0                    241.0                   279.0   \n\n   Five persons in family  Six or more persons in family  Separate house  \\\n0                   506.0                          151.0          5717.0   \n1                   205.0                           48.0          4588.0   \n2                   188.0                           60.0          2613.0   \n3                   215.0                           82.0          3914.0   \n4                   133.0                           64.0          1489.0   \n\n   Semi-detached house or Townhouse  Flat or Apartment  \\\n0                             223.0              275.0   \n1                             863.0              417.0   \n2                              78.0               45.0   \n3                             225.0               15.0   \n4                               0.0                0.0   \n\n   Non-residential properties  Total Suburb Dwellings  \n0                        27.0                  6245.0  \n1                       105.0                  5970.0  \n2                        19.0                  2768.0  \n3                        19.0                  4172.0  \n4                         0.0                  1490.0  ",
      "text/html": "<div>\n<style scoped>\n    .dataframe tbody tr th:only-of-type {\n        vertical-align: middle;\n    }\n\n    .dataframe tbody tr th {\n        vertical-align: top;\n    }\n\n    .dataframe thead th {\n        text-align: right;\n    }\n</style>\n<table border=\"1\" class=\"dataframe\">\n  <thead>\n    <tr style=\"text-align: right;\">\n      <th></th>\n      <th>SA2 Name</th>\n      <th>Immediate Family</th>\n      <th>Extended Family</th>\n      <th>Total Suburb Population</th>\n      <th>Two persons in family</th>\n      <th>Three persons in family</th>\n      <th>Four persons in family</th>\n      <th>Five persons in family</th>\n      <th>Six or more persons in family</th>\n      <th>Separate house</th>\n      <th>Semi-detached house or Townhouse</th>\n      <th>Flat or Apartment</th>\n      <th>Non-residential properties</th>\n      <th>Total Suburb Dwellings</th>\n    </tr>\n  </thead>\n  <tbody>\n    <tr>\n      <th>0</th>\n      <td>Alfredton</td>\n      <td>4559.0</td>\n      <td>1728.0</td>\n      <td>6287.0</td>\n      <td>1812.0</td>\n      <td>952.0</td>\n      <td>1144.0</td>\n      <td>506.0</td>\n      <td>151.0</td>\n      <td>5717.0</td>\n      <td>223.0</td>\n      <td>275.0</td>\n      <td>27.0</td>\n      <td>6245.0</td>\n    </tr>\n    <tr>\n      <th>1</th>\n      <td>Ballarat</td>\n      <td>3060.0</td>\n      <td>2426.0</td>\n      <td>5486.0</td>\n      <td>1687.0</td>\n      <td>598.0</td>\n      <td>512.0</td>\n      <td>205.0</td>\n      <td>48.0</td>\n      <td>4588.0</td>\n      <td>863.0</td>\n      <td>417.0</td>\n      <td>105.0</td>\n      <td>5970.0</td>\n    </tr>\n    <tr>\n      <th>2</th>\n      <td>Buninyong</td>\n      <td>2008.0</td>\n      <td>708.0</td>\n      <td>2716.0</td>\n      <td>954.0</td>\n      <td>359.0</td>\n      <td>442.0</td>\n      <td>188.0</td>\n      <td>60.0</td>\n      <td>2613.0</td>\n      <td>78.0</td>\n      <td>45.0</td>\n      <td>19.0</td>\n      <td>2768.0</td>\n    </tr>\n    <tr>\n      <th>3</th>\n      <td>Delacombe</td>\n      <td>2934.0</td>\n      <td>1332.0</td>\n      <td>4266.0</td>\n      <td>1361.0</td>\n      <td>687.0</td>\n      <td>588.0</td>\n      <td>215.0</td>\n      <td>82.0</td>\n      <td>3914.0</td>\n      <td>225.0</td>\n      <td>15.0</td>\n      <td>19.0</td>\n      <td>4172.0</td>\n    </tr>\n    <tr>\n      <th>4</th>\n      <td>Smythes Creek</td>\n      <td>1214.0</td>\n      <td>314.0</td>\n      <td>1528.0</td>\n      <td>496.0</td>\n      <td>241.0</td>\n      <td>279.0</td>\n      <td>133.0</td>\n      <td>64.0</td>\n      <td>1489.0</td>\n      <td>0.0</td>\n      <td>0.0</td>\n      <td>0.0</td>\n      <td>1490.0</td>\n    </tr>\n  </tbody>\n</table>\n</div>"
     },
     "execution_count": 50,
     "metadata": {},
     "output_type": "execute_result"
    }
   ],
   "source": [
    "merged_df.head()"
   ],
   "metadata": {
    "collapsed": false
   }
  },
  {
   "cell_type": "markdown",
   "source": [
    "### merged to domain listing"
   ],
   "metadata": {
    "collapsed": false
   }
  },
  {
   "cell_type": "code",
   "execution_count": 115,
   "outputs": [
    {
     "data": {
      "text/plain": "        SA2 Name  Immediate Family  Extended Family  Total Suburb Population  \\\n0      Alfredton            4559.0           1728.0                   6287.0   \n1       Ballarat            3060.0           2426.0                   5486.0   \n2      Buninyong            2008.0            708.0                   2716.0   \n3      Delacombe            2934.0           1332.0                   4266.0   \n4  Smythes Creek            1214.0            314.0                   1528.0   \n\n   Two persons in family  Three persons in family  Four persons in family  \\\n0                 1812.0                    952.0                  1144.0   \n1                 1687.0                    598.0                   512.0   \n2                  954.0                    359.0                   442.0   \n3                 1361.0                    687.0                   588.0   \n4                  496.0                    241.0                   279.0   \n\n   Five persons in family  Six or more persons in family  Separate house  \\\n0                   506.0                          151.0          5717.0   \n1                   205.0                           48.0          4588.0   \n2                   188.0                           60.0          2613.0   \n3                   215.0                           82.0          3914.0   \n4                   133.0                           64.0          1489.0   \n\n   Semi-detached house or Townhouse  Flat or Apartment  \\\n0                             223.0              275.0   \n1                             863.0              417.0   \n2                              78.0               45.0   \n3                             225.0               15.0   \n4                               0.0                0.0   \n\n   Non-residential properties  Total Suburb Dwellings  \n0                        27.0                  6245.0  \n1                       105.0                  5970.0  \n2                        19.0                  2768.0  \n3                        19.0                  4172.0  \n4                         0.0                  1490.0  ",
      "text/html": "<div>\n<style scoped>\n    .dataframe tbody tr th:only-of-type {\n        vertical-align: middle;\n    }\n\n    .dataframe tbody tr th {\n        vertical-align: top;\n    }\n\n    .dataframe thead th {\n        text-align: right;\n    }\n</style>\n<table border=\"1\" class=\"dataframe\">\n  <thead>\n    <tr style=\"text-align: right;\">\n      <th></th>\n      <th>SA2 Name</th>\n      <th>Immediate Family</th>\n      <th>Extended Family</th>\n      <th>Total Suburb Population</th>\n      <th>Two persons in family</th>\n      <th>Three persons in family</th>\n      <th>Four persons in family</th>\n      <th>Five persons in family</th>\n      <th>Six or more persons in family</th>\n      <th>Separate house</th>\n      <th>Semi-detached house or Townhouse</th>\n      <th>Flat or Apartment</th>\n      <th>Non-residential properties</th>\n      <th>Total Suburb Dwellings</th>\n    </tr>\n  </thead>\n  <tbody>\n    <tr>\n      <th>0</th>\n      <td>Alfredton</td>\n      <td>4559.0</td>\n      <td>1728.0</td>\n      <td>6287.0</td>\n      <td>1812.0</td>\n      <td>952.0</td>\n      <td>1144.0</td>\n      <td>506.0</td>\n      <td>151.0</td>\n      <td>5717.0</td>\n      <td>223.0</td>\n      <td>275.0</td>\n      <td>27.0</td>\n      <td>6245.0</td>\n    </tr>\n    <tr>\n      <th>1</th>\n      <td>Ballarat</td>\n      <td>3060.0</td>\n      <td>2426.0</td>\n      <td>5486.0</td>\n      <td>1687.0</td>\n      <td>598.0</td>\n      <td>512.0</td>\n      <td>205.0</td>\n      <td>48.0</td>\n      <td>4588.0</td>\n      <td>863.0</td>\n      <td>417.0</td>\n      <td>105.0</td>\n      <td>5970.0</td>\n    </tr>\n    <tr>\n      <th>2</th>\n      <td>Buninyong</td>\n      <td>2008.0</td>\n      <td>708.0</td>\n      <td>2716.0</td>\n      <td>954.0</td>\n      <td>359.0</td>\n      <td>442.0</td>\n      <td>188.0</td>\n      <td>60.0</td>\n      <td>2613.0</td>\n      <td>78.0</td>\n      <td>45.0</td>\n      <td>19.0</td>\n      <td>2768.0</td>\n    </tr>\n    <tr>\n      <th>3</th>\n      <td>Delacombe</td>\n      <td>2934.0</td>\n      <td>1332.0</td>\n      <td>4266.0</td>\n      <td>1361.0</td>\n      <td>687.0</td>\n      <td>588.0</td>\n      <td>215.0</td>\n      <td>82.0</td>\n      <td>3914.0</td>\n      <td>225.0</td>\n      <td>15.0</td>\n      <td>19.0</td>\n      <td>4172.0</td>\n    </tr>\n    <tr>\n      <th>4</th>\n      <td>Smythes Creek</td>\n      <td>1214.0</td>\n      <td>314.0</td>\n      <td>1528.0</td>\n      <td>496.0</td>\n      <td>241.0</td>\n      <td>279.0</td>\n      <td>133.0</td>\n      <td>64.0</td>\n      <td>1489.0</td>\n      <td>0.0</td>\n      <td>0.0</td>\n      <td>0.0</td>\n      <td>1490.0</td>\n    </tr>\n  </tbody>\n</table>\n</div>"
     },
     "execution_count": 115,
     "metadata": {},
     "output_type": "execute_result"
    }
   ],
   "source": [
    "merged_df.head()"
   ],
   "metadata": {
    "collapsed": false
   }
  },
  {
   "cell_type": "code",
   "execution_count": 117,
   "outputs": [
    {
     "data": {
      "text/plain": "        SA2_NAME  Immediate Family  Extended Family  Total Suburb Population  \\\n0      Alfredton            4559.0           1728.0                   6287.0   \n1       Ballarat            3060.0           2426.0                   5486.0   \n2      Buninyong            2008.0            708.0                   2716.0   \n3      Delacombe            2934.0           1332.0                   4266.0   \n4  Smythes Creek            1214.0            314.0                   1528.0   \n\n   Two persons in family  Three persons in family  Four persons in family  \\\n0                 1812.0                    952.0                  1144.0   \n1                 1687.0                    598.0                   512.0   \n2                  954.0                    359.0                   442.0   \n3                 1361.0                    687.0                   588.0   \n4                  496.0                    241.0                   279.0   \n\n   Five persons in family  Six or more persons in family  Separate house  \\\n0                   506.0                          151.0          5717.0   \n1                   205.0                           48.0          4588.0   \n2                   188.0                           60.0          2613.0   \n3                   215.0                           82.0          3914.0   \n4                   133.0                           64.0          1489.0   \n\n   Semi-detached house or Townhouse  Flat or Apartment  \\\n0                             223.0              275.0   \n1                             863.0              417.0   \n2                              78.0               45.0   \n3                             225.0               15.0   \n4                               0.0                0.0   \n\n   Non-residential properties  Total Suburb Dwellings  \n0                        27.0                  6245.0  \n1                       105.0                  5970.0  \n2                        19.0                  2768.0  \n3                        19.0                  4172.0  \n4                         0.0                  1490.0  ",
      "text/html": "<div>\n<style scoped>\n    .dataframe tbody tr th:only-of-type {\n        vertical-align: middle;\n    }\n\n    .dataframe tbody tr th {\n        vertical-align: top;\n    }\n\n    .dataframe thead th {\n        text-align: right;\n    }\n</style>\n<table border=\"1\" class=\"dataframe\">\n  <thead>\n    <tr style=\"text-align: right;\">\n      <th></th>\n      <th>SA2_NAME</th>\n      <th>Immediate Family</th>\n      <th>Extended Family</th>\n      <th>Total Suburb Population</th>\n      <th>Two persons in family</th>\n      <th>Three persons in family</th>\n      <th>Four persons in family</th>\n      <th>Five persons in family</th>\n      <th>Six or more persons in family</th>\n      <th>Separate house</th>\n      <th>Semi-detached house or Townhouse</th>\n      <th>Flat or Apartment</th>\n      <th>Non-residential properties</th>\n      <th>Total Suburb Dwellings</th>\n    </tr>\n  </thead>\n  <tbody>\n    <tr>\n      <th>0</th>\n      <td>Alfredton</td>\n      <td>4559.0</td>\n      <td>1728.0</td>\n      <td>6287.0</td>\n      <td>1812.0</td>\n      <td>952.0</td>\n      <td>1144.0</td>\n      <td>506.0</td>\n      <td>151.0</td>\n      <td>5717.0</td>\n      <td>223.0</td>\n      <td>275.0</td>\n      <td>27.0</td>\n      <td>6245.0</td>\n    </tr>\n    <tr>\n      <th>1</th>\n      <td>Ballarat</td>\n      <td>3060.0</td>\n      <td>2426.0</td>\n      <td>5486.0</td>\n      <td>1687.0</td>\n      <td>598.0</td>\n      <td>512.0</td>\n      <td>205.0</td>\n      <td>48.0</td>\n      <td>4588.0</td>\n      <td>863.0</td>\n      <td>417.0</td>\n      <td>105.0</td>\n      <td>5970.0</td>\n    </tr>\n    <tr>\n      <th>2</th>\n      <td>Buninyong</td>\n      <td>2008.0</td>\n      <td>708.0</td>\n      <td>2716.0</td>\n      <td>954.0</td>\n      <td>359.0</td>\n      <td>442.0</td>\n      <td>188.0</td>\n      <td>60.0</td>\n      <td>2613.0</td>\n      <td>78.0</td>\n      <td>45.0</td>\n      <td>19.0</td>\n      <td>2768.0</td>\n    </tr>\n    <tr>\n      <th>3</th>\n      <td>Delacombe</td>\n      <td>2934.0</td>\n      <td>1332.0</td>\n      <td>4266.0</td>\n      <td>1361.0</td>\n      <td>687.0</td>\n      <td>588.0</td>\n      <td>215.0</td>\n      <td>82.0</td>\n      <td>3914.0</td>\n      <td>225.0</td>\n      <td>15.0</td>\n      <td>19.0</td>\n      <td>4172.0</td>\n    </tr>\n    <tr>\n      <th>4</th>\n      <td>Smythes Creek</td>\n      <td>1214.0</td>\n      <td>314.0</td>\n      <td>1528.0</td>\n      <td>496.0</td>\n      <td>241.0</td>\n      <td>279.0</td>\n      <td>133.0</td>\n      <td>64.0</td>\n      <td>1489.0</td>\n      <td>0.0</td>\n      <td>0.0</td>\n      <td>0.0</td>\n      <td>1490.0</td>\n    </tr>\n  </tbody>\n</table>\n</div>"
     },
     "execution_count": 117,
     "metadata": {},
     "output_type": "execute_result"
    }
   ],
   "source": [
    "merged_df.rename(columns={\"SA2 Name\": \"SA2_NAME\"}, inplace=True)\n",
    "merged_df.head()"
   ],
   "metadata": {
    "collapsed": false
   }
  },
  {
   "cell_type": "code",
   "execution_count": 116,
   "outputs": [
    {
     "data": {
      "text/plain": "                                      Location            type_property  \\\n0         4506/33 Rose Lane Melbourne VIC 3000  Apartment / Unit / Flat   \n1   1715/220 Spencer Street Melbourne VIC 3000  Apartment / Unit / Flat   \n2   512/118 Franklin Street Melbourne VIC 3000  Apartment / Unit / Flat   \n3  5801/648 Lonsdale Street Melbourne VIC 3000  Apartment / Unit / Flat   \n4    1.2/187 Collins Street Melbourne VIC 3000  Apartment / Unit / Flat   \n\n           price  LT_resident_pcg  owner_pcg  family_pcg state  rooms  bath  \\\n0  $520 per week             12.0       28.0        27.0   VIC    1.0   1.0   \n1           $750             12.0       28.0        27.0   VIC    2.0   2.0   \n2           $430              NaN       29.0        16.0   VIC    1.0   1.0   \n3           $800             12.0       20.0        34.0   VIC    2.0   2.0   \n4        $475 pw             37.0       49.0        51.0   VIC    1.0   1.0   \n\n   parking  ... pulic_2_dis   rent  is_furnished   latitude   longitude  \\\n0      0.0  ...         2.0  520.0         False -37.815000  144.953871   \n1      1.0  ...         2.1  750.0         False -37.815781  144.952916   \n2      0.0  ...         1.3  430.0         False -37.808205  144.958903   \n3      0.0  ...         1.9  800.0         False -37.814454  144.953443   \n4      0.0  ...         2.3  475.0         False -37.815405  144.967852   \n\n                                 geometry               SA2_NAME     SA2_CODE  \\\n0         POINT (144.9538708 -37.8150001)   Melbourne CBD - West  206041505.0   \n1          POINT (144.9529156 -37.815781)   Melbourne CBD - West  206041505.0   \n2         POINT (144.9589035 -37.8082052)  Melbourne CBD - North  206041504.0   \n3         POINT (144.9534426 -37.8144537)   Melbourne CBD - West  206041505.0   \n4  POINT (144.9678522 -37.81540469999999)   Melbourne CBD - East  206041503.0   \n\n   SAL_NAME21  SAL_CODE  \n0   Melbourne   21640.0  \n1   Melbourne   21640.0  \n2   Melbourne   21640.0  \n3   Melbourne   21640.0  \n4   Melbourne   21640.0  \n\n[5 rows x 28 columns]",
      "text/html": "<div>\n<style scoped>\n    .dataframe tbody tr th:only-of-type {\n        vertical-align: middle;\n    }\n\n    .dataframe tbody tr th {\n        vertical-align: top;\n    }\n\n    .dataframe thead th {\n        text-align: right;\n    }\n</style>\n<table border=\"1\" class=\"dataframe\">\n  <thead>\n    <tr style=\"text-align: right;\">\n      <th></th>\n      <th>Location</th>\n      <th>type_property</th>\n      <th>price</th>\n      <th>LT_resident_pcg</th>\n      <th>owner_pcg</th>\n      <th>family_pcg</th>\n      <th>state</th>\n      <th>rooms</th>\n      <th>bath</th>\n      <th>parking</th>\n      <th>...</th>\n      <th>pulic_2_dis</th>\n      <th>rent</th>\n      <th>is_furnished</th>\n      <th>latitude</th>\n      <th>longitude</th>\n      <th>geometry</th>\n      <th>SA2_NAME</th>\n      <th>SA2_CODE</th>\n      <th>SAL_NAME21</th>\n      <th>SAL_CODE</th>\n    </tr>\n  </thead>\n  <tbody>\n    <tr>\n      <th>0</th>\n      <td>4506/33 Rose Lane Melbourne VIC 3000</td>\n      <td>Apartment / Unit / Flat</td>\n      <td>$520 per week</td>\n      <td>12.0</td>\n      <td>28.0</td>\n      <td>27.0</td>\n      <td>VIC</td>\n      <td>1.0</td>\n      <td>1.0</td>\n      <td>0.0</td>\n      <td>...</td>\n      <td>2.0</td>\n      <td>520.0</td>\n      <td>False</td>\n      <td>-37.815000</td>\n      <td>144.953871</td>\n      <td>POINT (144.9538708 -37.8150001)</td>\n      <td>Melbourne CBD - West</td>\n      <td>206041505.0</td>\n      <td>Melbourne</td>\n      <td>21640.0</td>\n    </tr>\n    <tr>\n      <th>1</th>\n      <td>1715/220 Spencer Street Melbourne VIC 3000</td>\n      <td>Apartment / Unit / Flat</td>\n      <td>$750</td>\n      <td>12.0</td>\n      <td>28.0</td>\n      <td>27.0</td>\n      <td>VIC</td>\n      <td>2.0</td>\n      <td>2.0</td>\n      <td>1.0</td>\n      <td>...</td>\n      <td>2.1</td>\n      <td>750.0</td>\n      <td>False</td>\n      <td>-37.815781</td>\n      <td>144.952916</td>\n      <td>POINT (144.9529156 -37.815781)</td>\n      <td>Melbourne CBD - West</td>\n      <td>206041505.0</td>\n      <td>Melbourne</td>\n      <td>21640.0</td>\n    </tr>\n    <tr>\n      <th>2</th>\n      <td>512/118 Franklin Street Melbourne VIC 3000</td>\n      <td>Apartment / Unit / Flat</td>\n      <td>$430</td>\n      <td>NaN</td>\n      <td>29.0</td>\n      <td>16.0</td>\n      <td>VIC</td>\n      <td>1.0</td>\n      <td>1.0</td>\n      <td>0.0</td>\n      <td>...</td>\n      <td>1.3</td>\n      <td>430.0</td>\n      <td>False</td>\n      <td>-37.808205</td>\n      <td>144.958903</td>\n      <td>POINT (144.9589035 -37.8082052)</td>\n      <td>Melbourne CBD - North</td>\n      <td>206041504.0</td>\n      <td>Melbourne</td>\n      <td>21640.0</td>\n    </tr>\n    <tr>\n      <th>3</th>\n      <td>5801/648 Lonsdale Street Melbourne VIC 3000</td>\n      <td>Apartment / Unit / Flat</td>\n      <td>$800</td>\n      <td>12.0</td>\n      <td>20.0</td>\n      <td>34.0</td>\n      <td>VIC</td>\n      <td>2.0</td>\n      <td>2.0</td>\n      <td>0.0</td>\n      <td>...</td>\n      <td>1.9</td>\n      <td>800.0</td>\n      <td>False</td>\n      <td>-37.814454</td>\n      <td>144.953443</td>\n      <td>POINT (144.9534426 -37.8144537)</td>\n      <td>Melbourne CBD - West</td>\n      <td>206041505.0</td>\n      <td>Melbourne</td>\n      <td>21640.0</td>\n    </tr>\n    <tr>\n      <th>4</th>\n      <td>1.2/187 Collins Street Melbourne VIC 3000</td>\n      <td>Apartment / Unit / Flat</td>\n      <td>$475 pw</td>\n      <td>37.0</td>\n      <td>49.0</td>\n      <td>51.0</td>\n      <td>VIC</td>\n      <td>1.0</td>\n      <td>1.0</td>\n      <td>0.0</td>\n      <td>...</td>\n      <td>2.3</td>\n      <td>475.0</td>\n      <td>False</td>\n      <td>-37.815405</td>\n      <td>144.967852</td>\n      <td>POINT (144.9678522 -37.81540469999999)</td>\n      <td>Melbourne CBD - East</td>\n      <td>206041503.0</td>\n      <td>Melbourne</td>\n      <td>21640.0</td>\n    </tr>\n  </tbody>\n</table>\n<p>5 rows × 28 columns</p>\n</div>"
     },
     "execution_count": 116,
     "metadata": {},
     "output_type": "execute_result"
    }
   ],
   "source": [
    "listing_domain.head()"
   ],
   "metadata": {
    "collapsed": false
   }
  },
  {
   "cell_type": "code",
   "execution_count": 118,
   "outputs": [
    {
     "data": {
      "text/plain": "                                      Location            type_property  \\\n0         4506/33 Rose Lane Melbourne VIC 3000  Apartment / Unit / Flat   \n1   1715/220 Spencer Street Melbourne VIC 3000  Apartment / Unit / Flat   \n2  5801/648 Lonsdale Street Melbourne VIC 3000  Apartment / Unit / Flat   \n3        521/422 Collins St Melbourne VIC 3000  Apartment / Unit / Flat   \n4    603/199 William Street Melbourne VIC 3000  Apartment / Unit / Flat   \n\n           price  LT_resident_pcg  owner_pcg  family_pcg state  rooms  bath  \\\n0  $520 per week             12.0       28.0        27.0   VIC    1.0   1.0   \n1           $750             12.0       28.0        27.0   VIC    2.0   2.0   \n2           $800             12.0       20.0        34.0   VIC    2.0   2.0   \n3    $500 weekly             18.0       28.0        39.0   VIC    1.0   1.0   \n4           $700             22.0       29.0        24.0   VIC    2.0   2.0   \n\n   parking  ... Two persons in family Three persons in family  \\\n0      0.0  ...                2445.0                   396.0   \n1      1.0  ...                2445.0                   396.0   \n2      0.0  ...                2445.0                   396.0   \n3      0.0  ...                2445.0                   396.0   \n4      0.0  ...                2445.0                   396.0   \n\n   Four persons in family Five persons in family  \\\n0                   100.0                    6.0   \n1                   100.0                    6.0   \n2                   100.0                    6.0   \n3                   100.0                    6.0   \n4                   100.0                    6.0   \n\n   Six or more persons in family Separate house  \\\n0                            6.0           14.0   \n1                            6.0           14.0   \n2                            6.0           14.0   \n3                            6.0           14.0   \n4                            6.0           14.0   \n\n   Semi-detached house or Townhouse  Flat or Apartment  \\\n0                              21.0            13278.0   \n1                              21.0            13278.0   \n2                              21.0            13278.0   \n3                              21.0            13278.0   \n4                              21.0            13278.0   \n\n   Non-residential properties  Total Suburb Dwellings  \n0                       123.0                 13443.0  \n1                       123.0                 13443.0  \n2                       123.0                 13443.0  \n3                       123.0                 13443.0  \n4                       123.0                 13443.0  \n\n[5 rows x 41 columns]",
      "text/html": "<div>\n<style scoped>\n    .dataframe tbody tr th:only-of-type {\n        vertical-align: middle;\n    }\n\n    .dataframe tbody tr th {\n        vertical-align: top;\n    }\n\n    .dataframe thead th {\n        text-align: right;\n    }\n</style>\n<table border=\"1\" class=\"dataframe\">\n  <thead>\n    <tr style=\"text-align: right;\">\n      <th></th>\n      <th>Location</th>\n      <th>type_property</th>\n      <th>price</th>\n      <th>LT_resident_pcg</th>\n      <th>owner_pcg</th>\n      <th>family_pcg</th>\n      <th>state</th>\n      <th>rooms</th>\n      <th>bath</th>\n      <th>parking</th>\n      <th>...</th>\n      <th>Two persons in family</th>\n      <th>Three persons in family</th>\n      <th>Four persons in family</th>\n      <th>Five persons in family</th>\n      <th>Six or more persons in family</th>\n      <th>Separate house</th>\n      <th>Semi-detached house or Townhouse</th>\n      <th>Flat or Apartment</th>\n      <th>Non-residential properties</th>\n      <th>Total Suburb Dwellings</th>\n    </tr>\n  </thead>\n  <tbody>\n    <tr>\n      <th>0</th>\n      <td>4506/33 Rose Lane Melbourne VIC 3000</td>\n      <td>Apartment / Unit / Flat</td>\n      <td>$520 per week</td>\n      <td>12.0</td>\n      <td>28.0</td>\n      <td>27.0</td>\n      <td>VIC</td>\n      <td>1.0</td>\n      <td>1.0</td>\n      <td>0.0</td>\n      <td>...</td>\n      <td>2445.0</td>\n      <td>396.0</td>\n      <td>100.0</td>\n      <td>6.0</td>\n      <td>6.0</td>\n      <td>14.0</td>\n      <td>21.0</td>\n      <td>13278.0</td>\n      <td>123.0</td>\n      <td>13443.0</td>\n    </tr>\n    <tr>\n      <th>1</th>\n      <td>1715/220 Spencer Street Melbourne VIC 3000</td>\n      <td>Apartment / Unit / Flat</td>\n      <td>$750</td>\n      <td>12.0</td>\n      <td>28.0</td>\n      <td>27.0</td>\n      <td>VIC</td>\n      <td>2.0</td>\n      <td>2.0</td>\n      <td>1.0</td>\n      <td>...</td>\n      <td>2445.0</td>\n      <td>396.0</td>\n      <td>100.0</td>\n      <td>6.0</td>\n      <td>6.0</td>\n      <td>14.0</td>\n      <td>21.0</td>\n      <td>13278.0</td>\n      <td>123.0</td>\n      <td>13443.0</td>\n    </tr>\n    <tr>\n      <th>2</th>\n      <td>5801/648 Lonsdale Street Melbourne VIC 3000</td>\n      <td>Apartment / Unit / Flat</td>\n      <td>$800</td>\n      <td>12.0</td>\n      <td>20.0</td>\n      <td>34.0</td>\n      <td>VIC</td>\n      <td>2.0</td>\n      <td>2.0</td>\n      <td>0.0</td>\n      <td>...</td>\n      <td>2445.0</td>\n      <td>396.0</td>\n      <td>100.0</td>\n      <td>6.0</td>\n      <td>6.0</td>\n      <td>14.0</td>\n      <td>21.0</td>\n      <td>13278.0</td>\n      <td>123.0</td>\n      <td>13443.0</td>\n    </tr>\n    <tr>\n      <th>3</th>\n      <td>521/422 Collins St Melbourne VIC 3000</td>\n      <td>Apartment / Unit / Flat</td>\n      <td>$500 weekly</td>\n      <td>18.0</td>\n      <td>28.0</td>\n      <td>39.0</td>\n      <td>VIC</td>\n      <td>1.0</td>\n      <td>1.0</td>\n      <td>0.0</td>\n      <td>...</td>\n      <td>2445.0</td>\n      <td>396.0</td>\n      <td>100.0</td>\n      <td>6.0</td>\n      <td>6.0</td>\n      <td>14.0</td>\n      <td>21.0</td>\n      <td>13278.0</td>\n      <td>123.0</td>\n      <td>13443.0</td>\n    </tr>\n    <tr>\n      <th>4</th>\n      <td>603/199 William Street Melbourne VIC 3000</td>\n      <td>Apartment / Unit / Flat</td>\n      <td>$700</td>\n      <td>22.0</td>\n      <td>29.0</td>\n      <td>24.0</td>\n      <td>VIC</td>\n      <td>2.0</td>\n      <td>2.0</td>\n      <td>0.0</td>\n      <td>...</td>\n      <td>2445.0</td>\n      <td>396.0</td>\n      <td>100.0</td>\n      <td>6.0</td>\n      <td>6.0</td>\n      <td>14.0</td>\n      <td>21.0</td>\n      <td>13278.0</td>\n      <td>123.0</td>\n      <td>13443.0</td>\n    </tr>\n  </tbody>\n</table>\n<p>5 rows × 41 columns</p>\n</div>"
     },
     "execution_count": 118,
     "metadata": {},
     "output_type": "execute_result"
    }
   ],
   "source": [
    "final_dataset = pd.merge(listing_domain, merged_df, on=\"SA2_NAME\", how=\"inner\")\n",
    "final_dataset.head()"
   ],
   "metadata": {
    "collapsed": false
   }
  },
  {
   "cell_type": "code",
   "execution_count": 119,
   "outputs": [],
   "source": [
    "file_path = \"../data/curated/ABS_data/ABS_domain.csv\"\n",
    "\n",
    "# Use the to_csv method to save the DataFrame to a CSV file\n",
    "final_dataset.to_csv(file_path, index=False)"
   ],
   "metadata": {
    "collapsed": false
   }
  },
  {
   "cell_type": "code",
   "execution_count": null,
   "outputs": [],
   "source": [],
   "metadata": {
    "collapsed": false
   }
  }
 ],
 "metadata": {
  "kernelspec": {
   "display_name": "Python 3",
   "language": "python",
   "name": "python3"
  },
  "language_info": {
   "codemirror_mode": {
    "name": "ipython",
    "version": 2
   },
   "file_extension": ".py",
   "mimetype": "text/x-python",
   "name": "python",
   "nbconvert_exporter": "python",
   "pygments_lexer": "ipython2",
   "version": "2.7.6"
  }
 },
 "nbformat": 4,
 "nbformat_minor": 0
}
