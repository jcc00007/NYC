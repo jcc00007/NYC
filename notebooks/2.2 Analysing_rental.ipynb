{
 "cells": [
  {
   "cell_type": "markdown",
   "source": [
    "# Rent\n",
    "This notebook is to analyse the time series median rental price in each suburb"
   ],
   "metadata": {
    "collapsed": false
   }
  },
  {
   "cell_type": "code",
   "execution_count": 9,
   "outputs": [],
   "source": [
    "# Import packages\n",
    "import pandas as pd\n",
    "import matplotlib.pyplot as plt"
   ],
   "metadata": {
    "collapsed": false
   }
  },
  {
   "cell_type": "code",
   "execution_count": 4,
   "outputs": [
    {
     "data": {
      "text/plain": "     SAL_NAME21  SAL_CODE21  Year  weekly_median_rental\n0  Albert Park        20018  2000                266.25\n1  Albert Park        20018  2001                281.25\n2  Albert Park        20018  2002                300.00\n3  Albert Park        20018  2003                293.75\n4  Albert Park        20018  2004                300.00",
      "text/html": "<div>\n<style scoped>\n    .dataframe tbody tr th:only-of-type {\n        vertical-align: middle;\n    }\n\n    .dataframe tbody tr th {\n        vertical-align: top;\n    }\n\n    .dataframe thead th {\n        text-align: right;\n    }\n</style>\n<table border=\"1\" class=\"dataframe\">\n  <thead>\n    <tr style=\"text-align: right;\">\n      <th></th>\n      <th>SAL_NAME21</th>\n      <th>SAL_CODE21</th>\n      <th>Year</th>\n      <th>weekly_median_rental</th>\n    </tr>\n  </thead>\n  <tbody>\n    <tr>\n      <th>0</th>\n      <td>Albert Park</td>\n      <td>20018</td>\n      <td>2000</td>\n      <td>266.25</td>\n    </tr>\n    <tr>\n      <th>1</th>\n      <td>Albert Park</td>\n      <td>20018</td>\n      <td>2001</td>\n      <td>281.25</td>\n    </tr>\n    <tr>\n      <th>2</th>\n      <td>Albert Park</td>\n      <td>20018</td>\n      <td>2002</td>\n      <td>300.00</td>\n    </tr>\n    <tr>\n      <th>3</th>\n      <td>Albert Park</td>\n      <td>20018</td>\n      <td>2003</td>\n      <td>293.75</td>\n    </tr>\n    <tr>\n      <th>4</th>\n      <td>Albert Park</td>\n      <td>20018</td>\n      <td>2004</td>\n      <td>300.00</td>\n    </tr>\n  </tbody>\n</table>\n</div>"
     },
     "execution_count": 4,
     "metadata": {},
     "output_type": "execute_result"
    }
   ],
   "source": [
    "# read the files\n",
    "rental_time_series_path = \"../data/curated/time_series_median_rental.csv\"\n",
    "rental_times_series = pd.read_csv(rental_time_series_path)\n",
    "rental_times_series.head()"
   ],
   "metadata": {
    "collapsed": false
   }
  },
  {
   "cell_type": "code",
   "execution_count": 8,
   "outputs": [
    {
     "data": {
      "text/plain": "Year\n2000    181.371429\n2001    189.574640\n2002    199.709821\n2003    206.713393\n2004    213.932738\nName: weekly_median_rental, dtype: float64"
     },
     "execution_count": 8,
     "metadata": {},
     "output_type": "execute_result"
    }
   ],
   "source": [
    "# calculate the averaged rental price for each sububr\n",
    "grouped = rental_times_series.groupby(['Year'])\n",
    "average_rental = grouped['weekly_median_rental'].mean()\n",
    "average_rental.head()\n"
   ],
   "metadata": {
    "collapsed": false
   }
  },
  {
   "cell_type": "code",
   "execution_count": 10,
   "outputs": [
    {
     "data": {
      "text/plain": "<Figure size 432x288 with 1 Axes>",
      "image/png": "[encoded data removed]"
     },
     "metadata": {
      "needs_background": "light"
     },
     "output_type": "display_data"
    }
   ],
   "source": [
    "# Plot a line graph\n",
    "average_rental.plot(x='Year', y='weekly_median_rental', kind='line')\n",
    "\n",
    "# Add labels and a title\n",
    "plt.xlabel('Year')\n",
    "plt.ylabel('Weekly Median Rental')\n",
    "plt.title('Median weekly rental price time series line plot')\n",
    "\n",
    "# Show the plot\n",
    "plt.show()"
   ],
   "metadata": {
    "collapsed": false
   }
  },
  {
   "cell_type": "code",
   "execution_count": null,
   "outputs": [],
   "source": [],
   "metadata": {
    "collapsed": false
   }
  }
 ],
 "metadata": {
  "kernelspec": {
   "display_name": "Python 3",
   "language": "python",
   "name": "python3"
  },
  "language_info": {
   "codemirror_mode": {
    "name": "ipython",
    "version": 2
   },
   "file_extension": ".py",
   "mimetype": "text/x-python",
   "name": "python",
   "nbconvert_exporter": "python",
   "pygments_lexer": "ipython2",
   "version": "2.7.6"
  }
 },
 "nbformat": 4,
 "nbformat_minor": 0
}
