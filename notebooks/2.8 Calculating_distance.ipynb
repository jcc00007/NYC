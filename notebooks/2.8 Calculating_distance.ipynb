{
 "cells": [
  {
   "cell_type": "markdown",
   "source": [
    "# Calculate distance\n",
    "This notebook is used to calculate distance by cars between property and amenities (eg. public transport stations/nearest shopping center/schools/parks/Melbourne CBD)\n",
    "\n",
    "This was achieved by self-hosting the web api to local host in docker.\n",
    "\n",
    "First step was to download the australia open route map to be used for open route service."
   ],
   "metadata": {
    "collapsed": false
   }
  },
  {
   "cell_type": "markdown",
   "source": [
    "Link to the map:\n",
    "wget http://download.geofabrik.de/australia-oceania/australia-latest.osm.pbf"
   ],
   "metadata": {
    "collapsed": false
   }
  },
  {
   "cell_type": "code",
   "execution_count": 4,
   "outputs": [],
   "source": [
    "import pandas as pd\n",
    "import numpy as np\n",
    "import json\n",
    "import requests\n",
    "from ast import literal_eval\n",
    "import time\n",
    "import re\n",
    "import sys\n",
    "import os"
   ],
   "metadata": {
    "collapsed": false
   }
  },
  {
   "cell_type": "code",
   "execution_count": 156,
   "outputs": [],
   "source": [
    "import math"
   ],
   "metadata": {
    "collapsed": false
   }
  },
  {
   "cell_type": "code",
   "execution_count": 1,
   "outputs": [],
   "source": [
    "# read the files\n",
    "domain_path = \"../data/curated/listings_suburbs_SA2.csv\""
   ],
   "metadata": {
    "collapsed": false
   }
  },
  {
   "cell_type": "code",
   "execution_count": 153,
   "outputs": [],
   "source": [
    "domain_abs_path = \"../data/curated/ABS_data/ABS_domain.csv\""
   ],
   "metadata": {
    "collapsed": false
   }
  },
  {
   "cell_type": "code",
   "execution_count": 154,
   "outputs": [
    {
     "data": {
      "text/plain": "                                      Location            type_property  \\\n0         4506/33 Rose Lane Melbourne VIC 3000  Apartment / Unit / Flat   \n1   1715/220 Spencer Street Melbourne VIC 3000  Apartment / Unit / Flat   \n2  5801/648 Lonsdale Street Melbourne VIC 3000  Apartment / Unit / Flat   \n3        521/422 Collins St Melbourne VIC 3000  Apartment / Unit / Flat   \n4    603/199 William Street Melbourne VIC 3000  Apartment / Unit / Flat   \n\n           price  LT_resident_pcg  owner_pcg  family_pcg state  rooms  bath  \\\n0  $520 per week             12.0       28.0        27.0   VIC    1.0   1.0   \n1           $750             12.0       28.0        27.0   VIC    2.0   2.0   \n2           $800             12.0       20.0        34.0   VIC    2.0   2.0   \n3    $500 weekly             18.0       28.0        39.0   VIC    1.0   1.0   \n4           $700             22.0       29.0        24.0   VIC    2.0   2.0   \n\n   parking  ... Two persons in family Three persons in family  \\\n0      0.0  ...                2445.0                   396.0   \n1      1.0  ...                2445.0                   396.0   \n2      0.0  ...                2445.0                   396.0   \n3      0.0  ...                2445.0                   396.0   \n4      0.0  ...                2445.0                   396.0   \n\n   Four persons in family Five persons in family  \\\n0                   100.0                    6.0   \n1                   100.0                    6.0   \n2                   100.0                    6.0   \n3                   100.0                    6.0   \n4                   100.0                    6.0   \n\n   Six or more persons in family Separate house  \\\n0                            6.0           14.0   \n1                            6.0           14.0   \n2                            6.0           14.0   \n3                            6.0           14.0   \n4                            6.0           14.0   \n\n   Semi-detached house or Townhouse  Flat or Apartment  \\\n0                              21.0            13278.0   \n1                              21.0            13278.0   \n2                              21.0            13278.0   \n3                              21.0            13278.0   \n4                              21.0            13278.0   \n\n   Non-residential properties  Total Suburb Dwellings  \n0                       123.0                 13443.0  \n1                       123.0                 13443.0  \n2                       123.0                 13443.0  \n3                       123.0                 13443.0  \n4                       123.0                 13443.0  \n\n[5 rows x 41 columns]",
      "text/html": "<div>\n<style scoped>\n    .dataframe tbody tr th:only-of-type {\n        vertical-align: middle;\n    }\n\n    .dataframe tbody tr th {\n        vertical-align: top;\n    }\n\n    .dataframe thead th {\n        text-align: right;\n    }\n</style>\n<table border=\"1\" class=\"dataframe\">\n  <thead>\n    <tr style=\"text-align: right;\">\n      <th></th>\n      <th>Location</th>\n      <th>type_property</th>\n      <th>price</th>\n      <th>LT_resident_pcg</th>\n      <th>owner_pcg</th>\n      <th>family_pcg</th>\n      <th>state</th>\n      <th>rooms</th>\n      <th>bath</th>\n      <th>parking</th>\n      <th>...</th>\n      <th>Two persons in family</th>\n      <th>Three persons in family</th>\n      <th>Four persons in family</th>\n      <th>Five persons in family</th>\n      <th>Six or more persons in family</th>\n      <th>Separate house</th>\n      <th>Semi-detached house or Townhouse</th>\n      <th>Flat or Apartment</th>\n      <th>Non-residential properties</th>\n      <th>Total Suburb Dwellings</th>\n    </tr>\n  </thead>\n  <tbody>\n    <tr>\n      <th>0</th>\n      <td>4506/33 Rose Lane Melbourne VIC 3000</td>\n      <td>Apartment / Unit / Flat</td>\n      <td>$520 per week</td>\n      <td>12.0</td>\n      <td>28.0</td>\n      <td>27.0</td>\n      <td>VIC</td>\n      <td>1.0</td>\n      <td>1.0</td>\n      <td>0.0</td>\n      <td>...</td>\n      <td>2445.0</td>\n      <td>396.0</td>\n      <td>100.0</td>\n      <td>6.0</td>\n      <td>6.0</td>\n      <td>14.0</td>\n      <td>21.0</td>\n      <td>13278.0</td>\n      <td>123.0</td>\n      <td>13443.0</td>\n    </tr>\n    <tr>\n      <th>1</th>\n      <td>1715/220 Spencer Street Melbourne VIC 3000</td>\n      <td>Apartment / Unit / Flat</td>\n      <td>$750</td>\n      <td>12.0</td>\n      <td>28.0</td>\n      <td>27.0</td>\n      <td>VIC</td>\n      <td>2.0</td>\n      <td>2.0</td>\n      <td>1.0</td>\n      <td>...</td>\n      <td>2445.0</td>\n      <td>396.0</td>\n      <td>100.0</td>\n      <td>6.0</td>\n      <td>6.0</td>\n      <td>14.0</td>\n      <td>21.0</td>\n      <td>13278.0</td>\n      <td>123.0</td>\n      <td>13443.0</td>\n    </tr>\n    <tr>\n      <th>2</th>\n      <td>5801/648 Lonsdale Street Melbourne VIC 3000</td>\n      <td>Apartment / Unit / Flat</td>\n      <td>$800</td>\n      <td>12.0</td>\n      <td>20.0</td>\n      <td>34.0</td>\n      <td>VIC</td>\n      <td>2.0</td>\n      <td>2.0</td>\n      <td>0.0</td>\n      <td>...</td>\n      <td>2445.0</td>\n      <td>396.0</td>\n      <td>100.0</td>\n      <td>6.0</td>\n      <td>6.0</td>\n      <td>14.0</td>\n      <td>21.0</td>\n      <td>13278.0</td>\n      <td>123.0</td>\n      <td>13443.0</td>\n    </tr>\n    <tr>\n      <th>3</th>\n      <td>521/422 Collins St Melbourne VIC 3000</td>\n      <td>Apartment / Unit / Flat</td>\n      <td>$500 weekly</td>\n      <td>18.0</td>\n      <td>28.0</td>\n      <td>39.0</td>\n      <td>VIC</td>\n      <td>1.0</td>\n      <td>1.0</td>\n      <td>0.0</td>\n      <td>...</td>\n      <td>2445.0</td>\n      <td>396.0</td>\n      <td>100.0</td>\n      <td>6.0</td>\n      <td>6.0</td>\n      <td>14.0</td>\n      <td>21.0</td>\n      <td>13278.0</td>\n      <td>123.0</td>\n      <td>13443.0</td>\n    </tr>\n    <tr>\n      <th>4</th>\n      <td>603/199 William Street Melbourne VIC 3000</td>\n      <td>Apartment / Unit / Flat</td>\n      <td>$700</td>\n      <td>22.0</td>\n      <td>29.0</td>\n      <td>24.0</td>\n      <td>VIC</td>\n      <td>2.0</td>\n      <td>2.0</td>\n      <td>0.0</td>\n      <td>...</td>\n      <td>2445.0</td>\n      <td>396.0</td>\n      <td>100.0</td>\n      <td>6.0</td>\n      <td>6.0</td>\n      <td>14.0</td>\n      <td>21.0</td>\n      <td>13278.0</td>\n      <td>123.0</td>\n      <td>13443.0</td>\n    </tr>\n  </tbody>\n</table>\n<p>5 rows × 41 columns</p>\n</div>"
     },
     "execution_count": 154,
     "metadata": {},
     "output_type": "execute_result"
    }
   ],
   "source": [
    "domain_abs = pd.read_csv(domain_abs_path)\n",
    "domain_abs.head()"
   ],
   "metadata": {
    "collapsed": false
   }
  },
  {
   "cell_type": "code",
   "execution_count": 155,
   "outputs": [
    {
     "data": {
      "text/plain": "                                      Location            type_property  \\\n0         4506/33 Rose Lane Melbourne VIC 3000  Apartment / Unit / Flat   \n1   1715/220 Spencer Street Melbourne VIC 3000  Apartment / Unit / Flat   \n2  5801/648 Lonsdale Street Melbourne VIC 3000  Apartment / Unit / Flat   \n3        521/422 Collins St Melbourne VIC 3000  Apartment / Unit / Flat   \n4    603/199 William Street Melbourne VIC 3000  Apartment / Unit / Flat   \n\n           price  LT_resident_pcg  owner_pcg  family_pcg state  rooms  bath  \\\n0  $520 per week             12.0       28.0        27.0   VIC    1.0   1.0   \n1           $750             12.0       28.0        27.0   VIC    2.0   2.0   \n2           $800             12.0       20.0        34.0   VIC    2.0   2.0   \n3    $500 weekly             18.0       28.0        39.0   VIC    1.0   1.0   \n4           $700             22.0       29.0        24.0   VIC    2.0   2.0   \n\n   parking  ... Three persons in family Four persons in family  \\\n0      0.0  ...                   396.0                  100.0   \n1      1.0  ...                   396.0                  100.0   \n2      0.0  ...                   396.0                  100.0   \n3      0.0  ...                   396.0                  100.0   \n4      0.0  ...                   396.0                  100.0   \n\n   Five persons in family Six or more persons in family  Separate house  \\\n0                     6.0                           6.0            14.0   \n1                     6.0                           6.0            14.0   \n2                     6.0                           6.0            14.0   \n3                     6.0                           6.0            14.0   \n4                     6.0                           6.0            14.0   \n\n  Semi-detached house or Townhouse  Flat or Apartment  \\\n0                             21.0            13278.0   \n1                             21.0            13278.0   \n2                             21.0            13278.0   \n3                             21.0            13278.0   \n4                             21.0            13278.0   \n\n   Non-residential properties  Total Suburb Dwellings  \\\n0                       123.0                 13443.0   \n1                       123.0                 13443.0   \n2                       123.0                 13443.0   \n3                       123.0                 13443.0   \n4                       123.0                 13443.0   \n\n                   coordinate  \n0  [-37.8150001, 144.9538708]  \n1   [-37.815781, 144.9529156]  \n2  [-37.8144537, 144.9534426]  \n3  [-37.8170971, 144.9601487]  \n4  [-37.8145716, 144.9573479]  \n\n[5 rows x 42 columns]",
      "text/html": "<div>\n<style scoped>\n    .dataframe tbody tr th:only-of-type {\n        vertical-align: middle;\n    }\n\n    .dataframe tbody tr th {\n        vertical-align: top;\n    }\n\n    .dataframe thead th {\n        text-align: right;\n    }\n</style>\n<table border=\"1\" class=\"dataframe\">\n  <thead>\n    <tr style=\"text-align: right;\">\n      <th></th>\n      <th>Location</th>\n      <th>type_property</th>\n      <th>price</th>\n      <th>LT_resident_pcg</th>\n      <th>owner_pcg</th>\n      <th>family_pcg</th>\n      <th>state</th>\n      <th>rooms</th>\n      <th>bath</th>\n      <th>parking</th>\n      <th>...</th>\n      <th>Three persons in family</th>\n      <th>Four persons in family</th>\n      <th>Five persons in family</th>\n      <th>Six or more persons in family</th>\n      <th>Separate house</th>\n      <th>Semi-detached house or Townhouse</th>\n      <th>Flat or Apartment</th>\n      <th>Non-residential properties</th>\n      <th>Total Suburb Dwellings</th>\n      <th>coordinate</th>\n    </tr>\n  </thead>\n  <tbody>\n    <tr>\n      <th>0</th>\n      <td>4506/33 Rose Lane Melbourne VIC 3000</td>\n      <td>Apartment / Unit / Flat</td>\n      <td>$520 per week</td>\n      <td>12.0</td>\n      <td>28.0</td>\n      <td>27.0</td>\n      <td>VIC</td>\n      <td>1.0</td>\n      <td>1.0</td>\n      <td>0.0</td>\n      <td>...</td>\n      <td>396.0</td>\n      <td>100.0</td>\n      <td>6.0</td>\n      <td>6.0</td>\n      <td>14.0</td>\n      <td>21.0</td>\n      <td>13278.0</td>\n      <td>123.0</td>\n      <td>13443.0</td>\n      <td>[-37.8150001, 144.9538708]</td>\n    </tr>\n    <tr>\n      <th>1</th>\n      <td>1715/220 Spencer Street Melbourne VIC 3000</td>\n      <td>Apartment / Unit / Flat</td>\n      <td>$750</td>\n      <td>12.0</td>\n      <td>28.0</td>\n      <td>27.0</td>\n      <td>VIC</td>\n      <td>2.0</td>\n      <td>2.0</td>\n      <td>1.0</td>\n      <td>...</td>\n      <td>396.0</td>\n      <td>100.0</td>\n      <td>6.0</td>\n      <td>6.0</td>\n      <td>14.0</td>\n      <td>21.0</td>\n      <td>13278.0</td>\n      <td>123.0</td>\n      <td>13443.0</td>\n      <td>[-37.815781, 144.9529156]</td>\n    </tr>\n    <tr>\n      <th>2</th>\n      <td>5801/648 Lonsdale Street Melbourne VIC 3000</td>\n      <td>Apartment / Unit / Flat</td>\n      <td>$800</td>\n      <td>12.0</td>\n      <td>20.0</td>\n      <td>34.0</td>\n      <td>VIC</td>\n      <td>2.0</td>\n      <td>2.0</td>\n      <td>0.0</td>\n      <td>...</td>\n      <td>396.0</td>\n      <td>100.0</td>\n      <td>6.0</td>\n      <td>6.0</td>\n      <td>14.0</td>\n      <td>21.0</td>\n      <td>13278.0</td>\n      <td>123.0</td>\n      <td>13443.0</td>\n      <td>[-37.8144537, 144.9534426]</td>\n    </tr>\n    <tr>\n      <th>3</th>\n      <td>521/422 Collins St Melbourne VIC 3000</td>\n      <td>Apartment / Unit / Flat</td>\n      <td>$500 weekly</td>\n      <td>18.0</td>\n      <td>28.0</td>\n      <td>39.0</td>\n      <td>VIC</td>\n      <td>1.0</td>\n      <td>1.0</td>\n      <td>0.0</td>\n      <td>...</td>\n      <td>396.0</td>\n      <td>100.0</td>\n      <td>6.0</td>\n      <td>6.0</td>\n      <td>14.0</td>\n      <td>21.0</td>\n      <td>13278.0</td>\n      <td>123.0</td>\n      <td>13443.0</td>\n      <td>[-37.8170971, 144.9601487]</td>\n    </tr>\n    <tr>\n      <th>4</th>\n      <td>603/199 William Street Melbourne VIC 3000</td>\n      <td>Apartment / Unit / Flat</td>\n      <td>$700</td>\n      <td>22.0</td>\n      <td>29.0</td>\n      <td>24.0</td>\n      <td>VIC</td>\n      <td>2.0</td>\n      <td>2.0</td>\n      <td>0.0</td>\n      <td>...</td>\n      <td>396.0</td>\n      <td>100.0</td>\n      <td>6.0</td>\n      <td>6.0</td>\n      <td>14.0</td>\n      <td>21.0</td>\n      <td>13278.0</td>\n      <td>123.0</td>\n      <td>13443.0</td>\n      <td>[-37.8145716, 144.9573479]</td>\n    </tr>\n  </tbody>\n</table>\n<p>5 rows × 42 columns</p>\n</div>"
     },
     "execution_count": 155,
     "metadata": {},
     "output_type": "execute_result"
    }
   ],
   "source": [
    "domain_abs['coordinate'] = domain_abs[['latitude', 'longitude']].apply(lambda x: [x['latitude'], x['longitude']], axis=1)\n",
    "domain_abs.head()"
   ],
   "metadata": {
    "collapsed": false
   }
  },
  {
   "cell_type": "markdown",
   "source": [
    "## Calculate distance to Melbourne CBD"
   ],
   "metadata": {
    "collapsed": false
   }
  },
  {
   "cell_type": "markdown",
   "source": [
    "#### Define a function to calculate distance to CBD"
   ],
   "metadata": {
    "collapsed": false
   }
  },
  {
   "cell_type": "code",
   "execution_count": 119,
   "outputs": [],
   "source": [
    "# osrm_url = \"http://localhost:5000/ors/v2/directions\""
   ],
   "metadata": {
    "collapsed": false
   }
  },
  {
   "cell_type": "code",
   "execution_count": 106,
   "outputs": [],
   "source": [
    "# url to the local host\n",
    "osrm_url = \"http://localhost:8080/ors\""
   ],
   "metadata": {
    "collapsed": false
   }
  },
  {
   "cell_type": "code",
   "execution_count": 120,
   "outputs": [],
   "source": [
    "def cbd_distances(property_geo):\n",
    "    '''\n",
    "    This function is to calculate distance between two locations in km\n",
    "    :param property_geo:\n",
    "    :return distance between each property to CBD in km:\n",
    "    '''\n",
    "    # CBD coordinates\n",
    "    cbd_geo = [-37.815207, 144.963937]\n",
    "\n",
    "    journey = requests.get(f\"{osrm_url}{property_geo[1]},{property_geo[0]};{cbd_geo[1]},{cbd_geo[0]}?steps=true&alternatives=true\")\n",
    "\n",
    "\n",
    "    # extract distance from trip information nested dictionary\n",
    "    distance_meters = json.loads(journey.content)['routes'][0]['legs'][0]['distance']\n",
    "\n",
    "    return distance_meters / 1000"
   ],
   "metadata": {
    "collapsed": false
   }
  },
  {
   "cell_type": "markdown",
   "source": [
    "#### Define a function to get a list of distance for the domain property data"
   ],
   "metadata": {
    "collapsed": false
   }
  },
  {
   "cell_type": "code",
   "execution_count": 121,
   "outputs": [],
   "source": [
    "def calculate_cbd_distance(domain_data):\n",
    "    '''\n",
    "    This function to get a list of distance from the domain property data\n",
    "    :param domain_data:\n",
    "    :return the distance between each coordinate:\n",
    "    '''\n",
    "    cbd_distances = []\n",
    "    for i in domain_data['coordinate']:\n",
    "        try:\n",
    "            cbd_distances.append(cbd_distances(literal_eval(i)))\n",
    "        except:\n",
    "            cbd_distances.append(np.nan)\n",
    "            continue\n",
    "\n",
    "    return cbd_distances"
   ],
   "metadata": {
    "collapsed": false
   }
  },
  {
   "cell_type": "code",
   "execution_count": 122,
   "outputs": [],
   "source": [
    "cbd_distances = calculate_cbd_distance(domain_abs)"
   ],
   "metadata": {
    "collapsed": false
   }
  },
  {
   "cell_type": "code",
   "execution_count": 123,
   "outputs": [],
   "source": [
    "domain_abs.loc[:,'CBD_Distance'] = cbd_distances"
   ],
   "metadata": {
    "collapsed": false
   }
  },
  {
   "cell_type": "markdown",
   "source": [
    "### Define a function to calculate distance in km"
   ],
   "metadata": {
    "collapsed": false
   }
  },
  {
   "cell_type": "code",
   "execution_count": 178,
   "outputs": [],
   "source": [
    "# define the function to calculate the distance between two locations in km\n",
    "def haversine_distance(lat1, lon1, lat2, lon2):\n",
    "    '''\n",
    "    This function is to calculate the distance in km\n",
    "    :param lat1: latitude for the first location\n",
    "    :param lon1: longitude for the first location\n",
    "    :param lat2: latitude for the second location\n",
    "    :param lon2: longitude for the second location\n",
    "    :return the distance:\n",
    "    '''\n",
    "    radius = 6371.0\n",
    "    lat1 = math.radians(lat1)\n",
    "    lon1 = math.radians(lon1)\n",
    "    lat2 = math.radians(lat2)\n",
    "    lon2 = math.radians(lon2)\n",
    "\n",
    "    # calculate distance between geometory locations\n",
    "    dlon = lon2 - lon1\n",
    "    dlat = lat2 - lat1\n",
    "\n",
    "    # define a haversine function\n",
    "    a = math.sin(dlat / 2)**2 + math.cos(lat1) * math.cos(lat2) * math.sin(dlon / 2)**2\n",
    "    c = 2 * math.atan2(math.sqrt(a), math.sqrt(1 - a))\n",
    "\n",
    "    # calculation distance\n",
    "    distance = radius * c\n",
    "\n",
    "    return distance\n"
   ],
   "metadata": {
    "collapsed": false
   }
  },
  {
   "cell_type": "markdown",
   "source": [
    "#### calculate distance to melbourence cbd"
   ],
   "metadata": {
    "collapsed": false
   }
  },
  {
   "cell_type": "code",
   "execution_count": 158,
   "outputs": [],
   "source": [
    "melbourne_cbd = (-37.815207, 144.963937)"
   ],
   "metadata": {
    "collapsed": false
   }
  },
  {
   "cell_type": "code",
   "execution_count": 159,
   "outputs": [],
   "source": [
    "# calculate the distance to melbourne CBD\n",
    "domain_abs['distance_to_melbourne_cbd_km'] = domain_abs['coordinate'].apply(lambda coord: haversine_distance(coord[0], coord[1], melbourne_cbd[0], melbourne_cbd[1]))\n"
   ],
   "metadata": {
    "collapsed": false
   }
  },
  {
   "cell_type": "code",
   "execution_count": 160,
   "outputs": [
    {
     "data": {
      "text/plain": "                                      Location            type_property  \\\n0         4506/33 Rose Lane Melbourne VIC 3000  Apartment / Unit / Flat   \n1   1715/220 Spencer Street Melbourne VIC 3000  Apartment / Unit / Flat   \n2  5801/648 Lonsdale Street Melbourne VIC 3000  Apartment / Unit / Flat   \n3        521/422 Collins St Melbourne VIC 3000  Apartment / Unit / Flat   \n4    603/199 William Street Melbourne VIC 3000  Apartment / Unit / Flat   \n\n           price  LT_resident_pcg  owner_pcg  family_pcg state  rooms  bath  \\\n0  $520 per week             12.0       28.0        27.0   VIC    1.0   1.0   \n1           $750             12.0       28.0        27.0   VIC    2.0   2.0   \n2           $800             12.0       20.0        34.0   VIC    2.0   2.0   \n3    $500 weekly             18.0       28.0        39.0   VIC    1.0   1.0   \n4           $700             22.0       29.0        24.0   VIC    2.0   2.0   \n\n   parking  ... Four persons in family Five persons in family  \\\n0      0.0  ...                  100.0                    6.0   \n1      1.0  ...                  100.0                    6.0   \n2      0.0  ...                  100.0                    6.0   \n3      0.0  ...                  100.0                    6.0   \n4      0.0  ...                  100.0                    6.0   \n\n   Six or more persons in family Separate house  \\\n0                            6.0           14.0   \n1                            6.0           14.0   \n2                            6.0           14.0   \n3                            6.0           14.0   \n4                            6.0           14.0   \n\n   Semi-detached house or Townhouse Flat or Apartment  \\\n0                              21.0           13278.0   \n1                              21.0           13278.0   \n2                              21.0           13278.0   \n3                              21.0           13278.0   \n4                              21.0           13278.0   \n\n   Non-residential properties  Total Suburb Dwellings  \\\n0                       123.0                 13443.0   \n1                       123.0                 13443.0   \n2                       123.0                 13443.0   \n3                       123.0                 13443.0   \n4                       123.0                 13443.0   \n\n                   coordinate  distance_to_melbourne_cbd_km  \n0  [-37.8150001, 144.9538708]                      0.884547  \n1   [-37.815781, 144.9529156]                      0.970252  \n2  [-37.8144537, 144.9534426]                      0.925663  \n3  [-37.8170971, 144.9601487]                      0.393584  \n4  [-37.8145716, 144.9573479]                      0.583106  \n\n[5 rows x 43 columns]",
      "text/html": "<div>\n<style scoped>\n    .dataframe tbody tr th:only-of-type {\n        vertical-align: middle;\n    }\n\n    .dataframe tbody tr th {\n        vertical-align: top;\n    }\n\n    .dataframe thead th {\n        text-align: right;\n    }\n</style>\n<table border=\"1\" class=\"dataframe\">\n  <thead>\n    <tr style=\"text-align: right;\">\n      <th></th>\n      <th>Location</th>\n      <th>type_property</th>\n      <th>price</th>\n      <th>LT_resident_pcg</th>\n      <th>owner_pcg</th>\n      <th>family_pcg</th>\n      <th>state</th>\n      <th>rooms</th>\n      <th>bath</th>\n      <th>parking</th>\n      <th>...</th>\n      <th>Four persons in family</th>\n      <th>Five persons in family</th>\n      <th>Six or more persons in family</th>\n      <th>Separate house</th>\n      <th>Semi-detached house or Townhouse</th>\n      <th>Flat or Apartment</th>\n      <th>Non-residential properties</th>\n      <th>Total Suburb Dwellings</th>\n      <th>coordinate</th>\n      <th>distance_to_melbourne_cbd_km</th>\n    </tr>\n  </thead>\n  <tbody>\n    <tr>\n      <th>0</th>\n      <td>4506/33 Rose Lane Melbourne VIC 3000</td>\n      <td>Apartment / Unit / Flat</td>\n      <td>$520 per week</td>\n      <td>12.0</td>\n      <td>28.0</td>\n      <td>27.0</td>\n      <td>VIC</td>\n      <td>1.0</td>\n      <td>1.0</td>\n      <td>0.0</td>\n      <td>...</td>\n      <td>100.0</td>\n      <td>6.0</td>\n      <td>6.0</td>\n      <td>14.0</td>\n      <td>21.0</td>\n      <td>13278.0</td>\n      <td>123.0</td>\n      <td>13443.0</td>\n      <td>[-37.8150001, 144.9538708]</td>\n      <td>0.884547</td>\n    </tr>\n    <tr>\n      <th>1</th>\n      <td>1715/220 Spencer Street Melbourne VIC 3000</td>\n      <td>Apartment / Unit / Flat</td>\n      <td>$750</td>\n      <td>12.0</td>\n      <td>28.0</td>\n      <td>27.0</td>\n      <td>VIC</td>\n      <td>2.0</td>\n      <td>2.0</td>\n      <td>1.0</td>\n      <td>...</td>\n      <td>100.0</td>\n      <td>6.0</td>\n      <td>6.0</td>\n      <td>14.0</td>\n      <td>21.0</td>\n      <td>13278.0</td>\n      <td>123.0</td>\n      <td>13443.0</td>\n      <td>[-37.815781, 144.9529156]</td>\n      <td>0.970252</td>\n    </tr>\n    <tr>\n      <th>2</th>\n      <td>5801/648 Lonsdale Street Melbourne VIC 3000</td>\n      <td>Apartment / Unit / Flat</td>\n      <td>$800</td>\n      <td>12.0</td>\n      <td>20.0</td>\n      <td>34.0</td>\n      <td>VIC</td>\n      <td>2.0</td>\n      <td>2.0</td>\n      <td>0.0</td>\n      <td>...</td>\n      <td>100.0</td>\n      <td>6.0</td>\n      <td>6.0</td>\n      <td>14.0</td>\n      <td>21.0</td>\n      <td>13278.0</td>\n      <td>123.0</td>\n      <td>13443.0</td>\n      <td>[-37.8144537, 144.9534426]</td>\n      <td>0.925663</td>\n    </tr>\n    <tr>\n      <th>3</th>\n      <td>521/422 Collins St Melbourne VIC 3000</td>\n      <td>Apartment / Unit / Flat</td>\n      <td>$500 weekly</td>\n      <td>18.0</td>\n      <td>28.0</td>\n      <td>39.0</td>\n      <td>VIC</td>\n      <td>1.0</td>\n      <td>1.0</td>\n      <td>0.0</td>\n      <td>...</td>\n      <td>100.0</td>\n      <td>6.0</td>\n      <td>6.0</td>\n      <td>14.0</td>\n      <td>21.0</td>\n      <td>13278.0</td>\n      <td>123.0</td>\n      <td>13443.0</td>\n      <td>[-37.8170971, 144.9601487]</td>\n      <td>0.393584</td>\n    </tr>\n    <tr>\n      <th>4</th>\n      <td>603/199 William Street Melbourne VIC 3000</td>\n      <td>Apartment / Unit / Flat</td>\n      <td>$700</td>\n      <td>22.0</td>\n      <td>29.0</td>\n      <td>24.0</td>\n      <td>VIC</td>\n      <td>2.0</td>\n      <td>2.0</td>\n      <td>0.0</td>\n      <td>...</td>\n      <td>100.0</td>\n      <td>6.0</td>\n      <td>6.0</td>\n      <td>14.0</td>\n      <td>21.0</td>\n      <td>13278.0</td>\n      <td>123.0</td>\n      <td>13443.0</td>\n      <td>[-37.8145716, 144.9573479]</td>\n      <td>0.583106</td>\n    </tr>\n  </tbody>\n</table>\n<p>5 rows × 43 columns</p>\n</div>"
     },
     "execution_count": 160,
     "metadata": {},
     "output_type": "execute_result"
    }
   ],
   "source": [
    "domain_abs.head()"
   ],
   "metadata": {
    "collapsed": false
   }
  },
  {
   "cell_type": "code",
   "execution_count": null,
   "outputs": [],
   "source": [],
   "metadata": {
    "collapsed": false
   }
  },
  {
   "cell_type": "markdown",
   "source": [
    "#### calculate km to shopping center"
   ],
   "metadata": {
    "collapsed": false
   }
  },
  {
   "cell_type": "code",
   "execution_count": 161,
   "outputs": [],
   "source": [
    "shopping_center_path = \"../data/raw/shopping_centers.csv\""
   ],
   "metadata": {
    "collapsed": false
   }
  },
  {
   "cell_type": "code",
   "execution_count": 162,
   "outputs": [
    {
     "data": {
      "text/plain": "                           name     state       city   longitude   latitude  \\\n0             206 Bourke Street  Victoria  Melbourne  144.966947 -37.812733   \n1                    670 Chapel  Victoria  Melbourne  144.996158 -37.837395   \n2  Acland Court Shopping Centre  Victoria   St Kilda  144.980617 -37.868967   \n3   Altona Gate Shopping Centre  Victoria  Melbourne  144.846270 -37.828989   \n4         Arena Shopping Centre  Victoria    Officer  145.435175 -38.064493   \n\n   num_store                                  geometry  \\\n0       14.0             POINT (144.966947 -37.812733)   \n1       28.0             POINT (144.996158 -37.837395)   \n2       11.0             POINT (144.980617 -37.868967)   \n3       63.0              POINT (144.84627 -37.828989)   \n4       30.0  POINT (145.43517539621 -38.064493171914)   \n\n                 SA2_NAME   SA2_CODE  \n0    Melbourne CBD - East  206041503  \n1     South Yarra - North  206061515  \n2         St Kilda - West  206051514  \n3            Altona North  213021343  \n4  Beaconsfield - Officer  212011546  ",
      "text/html": "<div>\n<style scoped>\n    .dataframe tbody tr th:only-of-type {\n        vertical-align: middle;\n    }\n\n    .dataframe tbody tr th {\n        vertical-align: top;\n    }\n\n    .dataframe thead th {\n        text-align: right;\n    }\n</style>\n<table border=\"1\" class=\"dataframe\">\n  <thead>\n    <tr style=\"text-align: right;\">\n      <th></th>\n      <th>name</th>\n      <th>state</th>\n      <th>city</th>\n      <th>longitude</th>\n      <th>latitude</th>\n      <th>num_store</th>\n      <th>geometry</th>\n      <th>SA2_NAME</th>\n      <th>SA2_CODE</th>\n    </tr>\n  </thead>\n  <tbody>\n    <tr>\n      <th>0</th>\n      <td>206 Bourke Street</td>\n      <td>Victoria</td>\n      <td>Melbourne</td>\n      <td>144.966947</td>\n      <td>-37.812733</td>\n      <td>14.0</td>\n      <td>POINT (144.966947 -37.812733)</td>\n      <td>Melbourne CBD - East</td>\n      <td>206041503</td>\n    </tr>\n    <tr>\n      <th>1</th>\n      <td>670 Chapel</td>\n      <td>Victoria</td>\n      <td>Melbourne</td>\n      <td>144.996158</td>\n      <td>-37.837395</td>\n      <td>28.0</td>\n      <td>POINT (144.996158 -37.837395)</td>\n      <td>South Yarra - North</td>\n      <td>206061515</td>\n    </tr>\n    <tr>\n      <th>2</th>\n      <td>Acland Court Shopping Centre</td>\n      <td>Victoria</td>\n      <td>St Kilda</td>\n      <td>144.980617</td>\n      <td>-37.868967</td>\n      <td>11.0</td>\n      <td>POINT (144.980617 -37.868967)</td>\n      <td>St Kilda - West</td>\n      <td>206051514</td>\n    </tr>\n    <tr>\n      <th>3</th>\n      <td>Altona Gate Shopping Centre</td>\n      <td>Victoria</td>\n      <td>Melbourne</td>\n      <td>144.846270</td>\n      <td>-37.828989</td>\n      <td>63.0</td>\n      <td>POINT (144.84627 -37.828989)</td>\n      <td>Altona North</td>\n      <td>213021343</td>\n    </tr>\n    <tr>\n      <th>4</th>\n      <td>Arena Shopping Centre</td>\n      <td>Victoria</td>\n      <td>Officer</td>\n      <td>145.435175</td>\n      <td>-38.064493</td>\n      <td>30.0</td>\n      <td>POINT (145.43517539621 -38.064493171914)</td>\n      <td>Beaconsfield - Officer</td>\n      <td>212011546</td>\n    </tr>\n  </tbody>\n</table>\n</div>"
     },
     "execution_count": 162,
     "metadata": {},
     "output_type": "execute_result"
    }
   ],
   "source": [
    "# read the shopping center file\n",
    "shopping_center = pd.read_csv(shopping_center_path)\n",
    "shopping_center.head()"
   ],
   "metadata": {
    "collapsed": false
   }
  },
  {
   "cell_type": "code",
   "execution_count": 163,
   "outputs": [
    {
     "data": {
      "text/plain": "                           name     state       city   longitude   latitude  \\\n0             206 Bourke Street  Victoria  Melbourne  144.966947 -37.812733   \n1                    670 Chapel  Victoria  Melbourne  144.996158 -37.837395   \n2  Acland Court Shopping Centre  Victoria   St Kilda  144.980617 -37.868967   \n3   Altona Gate Shopping Centre  Victoria  Melbourne  144.846270 -37.828989   \n4         Arena Shopping Centre  Victoria    Officer  145.435175 -38.064493   \n\n   num_store                                  geometry  \\\n0       14.0             POINT (144.966947 -37.812733)   \n1       28.0             POINT (144.996158 -37.837395)   \n2       11.0             POINT (144.980617 -37.868967)   \n3       63.0              POINT (144.84627 -37.828989)   \n4       30.0  POINT (145.43517539621 -38.064493171914)   \n\n                 SA2_NAME   SA2_CODE                           coordinate  \n0    Melbourne CBD - East  206041503             [-37.812733, 144.966947]  \n1     South Yarra - North  206061515             [-37.837395, 144.996158]  \n2         St Kilda - West  206051514             [-37.868967, 144.980617]  \n3            Altona North  213021343              [-37.828989, 144.84627]  \n4  Beaconsfield - Officer  212011546  [-38.064493171914, 145.43517539621]  ",
      "text/html": "<div>\n<style scoped>\n    .dataframe tbody tr th:only-of-type {\n        vertical-align: middle;\n    }\n\n    .dataframe tbody tr th {\n        vertical-align: top;\n    }\n\n    .dataframe thead th {\n        text-align: right;\n    }\n</style>\n<table border=\"1\" class=\"dataframe\">\n  <thead>\n    <tr style=\"text-align: right;\">\n      <th></th>\n      <th>name</th>\n      <th>state</th>\n      <th>city</th>\n      <th>longitude</th>\n      <th>latitude</th>\n      <th>num_store</th>\n      <th>geometry</th>\n      <th>SA2_NAME</th>\n      <th>SA2_CODE</th>\n      <th>coordinate</th>\n    </tr>\n  </thead>\n  <tbody>\n    <tr>\n      <th>0</th>\n      <td>206 Bourke Street</td>\n      <td>Victoria</td>\n      <td>Melbourne</td>\n      <td>144.966947</td>\n      <td>-37.812733</td>\n      <td>14.0</td>\n      <td>POINT (144.966947 -37.812733)</td>\n      <td>Melbourne CBD - East</td>\n      <td>206041503</td>\n      <td>[-37.812733, 144.966947]</td>\n    </tr>\n    <tr>\n      <th>1</th>\n      <td>670 Chapel</td>\n      <td>Victoria</td>\n      <td>Melbourne</td>\n      <td>144.996158</td>\n      <td>-37.837395</td>\n      <td>28.0</td>\n      <td>POINT (144.996158 -37.837395)</td>\n      <td>South Yarra - North</td>\n      <td>206061515</td>\n      <td>[-37.837395, 144.996158]</td>\n    </tr>\n    <tr>\n      <th>2</th>\n      <td>Acland Court Shopping Centre</td>\n      <td>Victoria</td>\n      <td>St Kilda</td>\n      <td>144.980617</td>\n      <td>-37.868967</td>\n      <td>11.0</td>\n      <td>POINT (144.980617 -37.868967)</td>\n      <td>St Kilda - West</td>\n      <td>206051514</td>\n      <td>[-37.868967, 144.980617]</td>\n    </tr>\n    <tr>\n      <th>3</th>\n      <td>Altona Gate Shopping Centre</td>\n      <td>Victoria</td>\n      <td>Melbourne</td>\n      <td>144.846270</td>\n      <td>-37.828989</td>\n      <td>63.0</td>\n      <td>POINT (144.84627 -37.828989)</td>\n      <td>Altona North</td>\n      <td>213021343</td>\n      <td>[-37.828989, 144.84627]</td>\n    </tr>\n    <tr>\n      <th>4</th>\n      <td>Arena Shopping Centre</td>\n      <td>Victoria</td>\n      <td>Officer</td>\n      <td>145.435175</td>\n      <td>-38.064493</td>\n      <td>30.0</td>\n      <td>POINT (145.43517539621 -38.064493171914)</td>\n      <td>Beaconsfield - Officer</td>\n      <td>212011546</td>\n      <td>[-38.064493171914, 145.43517539621]</td>\n    </tr>\n  </tbody>\n</table>\n</div>"
     },
     "execution_count": 163,
     "metadata": {},
     "output_type": "execute_result"
    }
   ],
   "source": [
    "# preprocess the geo location for the shopping center\n",
    "shopping_center['coordinate'] = shopping_center[['latitude', 'longitude']].apply(lambda x: [x['latitude'], x['longitude']], axis=1)\n",
    "shopping_center.head()"
   ],
   "metadata": {
    "collapsed": false
   }
  },
  {
   "cell_type": "code",
   "execution_count": 164,
   "outputs": [],
   "source": [
    "def find_nearest_shopping_center(property_coord):\n",
    "    '''\n",
    "    this function is to get the distance to nearest shopping center\n",
    "    :param property_coord:\n",
    "    :return nearest distance to shopping center in km:\n",
    "    '''\n",
    "    min_distance = float('inf')\n",
    "    for shop_coord in shopping_center['coordinate']:\n",
    "        distance = haversine_distance(property_coord[0], property_coord[1], shop_coord[0], shop_coord[1])\n",
    "        min_distance = min(min_distance, distance)\n",
    "    return min_distance\n",
    "\n"
   ],
   "metadata": {
    "collapsed": false
   }
  },
  {
   "cell_type": "code",
   "execution_count": 165,
   "outputs": [
    {
     "data": {
      "text/plain": "                                      Location            type_property  \\\n0         4506/33 Rose Lane Melbourne VIC 3000  Apartment / Unit / Flat   \n1   1715/220 Spencer Street Melbourne VIC 3000  Apartment / Unit / Flat   \n2  5801/648 Lonsdale Street Melbourne VIC 3000  Apartment / Unit / Flat   \n3        521/422 Collins St Melbourne VIC 3000  Apartment / Unit / Flat   \n4    603/199 William Street Melbourne VIC 3000  Apartment / Unit / Flat   \n\n           price  LT_resident_pcg  owner_pcg  family_pcg state  rooms  bath  \\\n0  $520 per week             12.0       28.0        27.0   VIC    1.0   1.0   \n1           $750             12.0       28.0        27.0   VIC    2.0   2.0   \n2           $800             12.0       20.0        34.0   VIC    2.0   2.0   \n3    $500 weekly             18.0       28.0        39.0   VIC    1.0   1.0   \n4           $700             22.0       29.0        24.0   VIC    2.0   2.0   \n\n   parking  ... Five persons in family Six or more persons in family  \\\n0      0.0  ...                    6.0                           6.0   \n1      1.0  ...                    6.0                           6.0   \n2      0.0  ...                    6.0                           6.0   \n3      0.0  ...                    6.0                           6.0   \n4      0.0  ...                    6.0                           6.0   \n\n   Separate house Semi-detached house or Townhouse  Flat or Apartment  \\\n0            14.0                             21.0            13278.0   \n1            14.0                             21.0            13278.0   \n2            14.0                             21.0            13278.0   \n3            14.0                             21.0            13278.0   \n4            14.0                             21.0            13278.0   \n\n  Non-residential properties  Total Suburb Dwellings  \\\n0                      123.0                 13443.0   \n1                      123.0                 13443.0   \n2                      123.0                 13443.0   \n3                      123.0                 13443.0   \n4                      123.0                 13443.0   \n\n                   coordinate  distance_to_melbourne_cbd_km  \\\n0  [-37.8150001, 144.9538708]                      0.884547   \n1   [-37.815781, 144.9529156]                      0.970252   \n2  [-37.8144537, 144.9534426]                      0.925663   \n3  [-37.8170971, 144.9601487]                      0.393584   \n4  [-37.8145716, 144.9573479]                      0.583106   \n\n   nearest_shopping_center_distance_km  \n0                             0.202829  \n1                             0.082822  \n2                             0.226635  \n3                             0.340323  \n4                             0.474756  \n\n[5 rows x 44 columns]",
      "text/html": "<div>\n<style scoped>\n    .dataframe tbody tr th:only-of-type {\n        vertical-align: middle;\n    }\n\n    .dataframe tbody tr th {\n        vertical-align: top;\n    }\n\n    .dataframe thead th {\n        text-align: right;\n    }\n</style>\n<table border=\"1\" class=\"dataframe\">\n  <thead>\n    <tr style=\"text-align: right;\">\n      <th></th>\n      <th>Location</th>\n      <th>type_property</th>\n      <th>price</th>\n      <th>LT_resident_pcg</th>\n      <th>owner_pcg</th>\n      <th>family_pcg</th>\n      <th>state</th>\n      <th>rooms</th>\n      <th>bath</th>\n      <th>parking</th>\n      <th>...</th>\n      <th>Five persons in family</th>\n      <th>Six or more persons in family</th>\n      <th>Separate house</th>\n      <th>Semi-detached house or Townhouse</th>\n      <th>Flat or Apartment</th>\n      <th>Non-residential properties</th>\n      <th>Total Suburb Dwellings</th>\n      <th>coordinate</th>\n      <th>distance_to_melbourne_cbd_km</th>\n      <th>nearest_shopping_center_distance_km</th>\n    </tr>\n  </thead>\n  <tbody>\n    <tr>\n      <th>0</th>\n      <td>4506/33 Rose Lane Melbourne VIC 3000</td>\n      <td>Apartment / Unit / Flat</td>\n      <td>$520 per week</td>\n      <td>12.0</td>\n      <td>28.0</td>\n      <td>27.0</td>\n      <td>VIC</td>\n      <td>1.0</td>\n      <td>1.0</td>\n      <td>0.0</td>\n      <td>...</td>\n      <td>6.0</td>\n      <td>6.0</td>\n      <td>14.0</td>\n      <td>21.0</td>\n      <td>13278.0</td>\n      <td>123.0</td>\n      <td>13443.0</td>\n      <td>[-37.8150001, 144.9538708]</td>\n      <td>0.884547</td>\n      <td>0.202829</td>\n    </tr>\n    <tr>\n      <th>1</th>\n      <td>1715/220 Spencer Street Melbourne VIC 3000</td>\n      <td>Apartment / Unit / Flat</td>\n      <td>$750</td>\n      <td>12.0</td>\n      <td>28.0</td>\n      <td>27.0</td>\n      <td>VIC</td>\n      <td>2.0</td>\n      <td>2.0</td>\n      <td>1.0</td>\n      <td>...</td>\n      <td>6.0</td>\n      <td>6.0</td>\n      <td>14.0</td>\n      <td>21.0</td>\n      <td>13278.0</td>\n      <td>123.0</td>\n      <td>13443.0</td>\n      <td>[-37.815781, 144.9529156]</td>\n      <td>0.970252</td>\n      <td>0.082822</td>\n    </tr>\n    <tr>\n      <th>2</th>\n      <td>5801/648 Lonsdale Street Melbourne VIC 3000</td>\n      <td>Apartment / Unit / Flat</td>\n      <td>$800</td>\n      <td>12.0</td>\n      <td>20.0</td>\n      <td>34.0</td>\n      <td>VIC</td>\n      <td>2.0</td>\n      <td>2.0</td>\n      <td>0.0</td>\n      <td>...</td>\n      <td>6.0</td>\n      <td>6.0</td>\n      <td>14.0</td>\n      <td>21.0</td>\n      <td>13278.0</td>\n      <td>123.0</td>\n      <td>13443.0</td>\n      <td>[-37.8144537, 144.9534426]</td>\n      <td>0.925663</td>\n      <td>0.226635</td>\n    </tr>\n    <tr>\n      <th>3</th>\n      <td>521/422 Collins St Melbourne VIC 3000</td>\n      <td>Apartment / Unit / Flat</td>\n      <td>$500 weekly</td>\n      <td>18.0</td>\n      <td>28.0</td>\n      <td>39.0</td>\n      <td>VIC</td>\n      <td>1.0</td>\n      <td>1.0</td>\n      <td>0.0</td>\n      <td>...</td>\n      <td>6.0</td>\n      <td>6.0</td>\n      <td>14.0</td>\n      <td>21.0</td>\n      <td>13278.0</td>\n      <td>123.0</td>\n      <td>13443.0</td>\n      <td>[-37.8170971, 144.9601487]</td>\n      <td>0.393584</td>\n      <td>0.340323</td>\n    </tr>\n    <tr>\n      <th>4</th>\n      <td>603/199 William Street Melbourne VIC 3000</td>\n      <td>Apartment / Unit / Flat</td>\n      <td>$700</td>\n      <td>22.0</td>\n      <td>29.0</td>\n      <td>24.0</td>\n      <td>VIC</td>\n      <td>2.0</td>\n      <td>2.0</td>\n      <td>0.0</td>\n      <td>...</td>\n      <td>6.0</td>\n      <td>6.0</td>\n      <td>14.0</td>\n      <td>21.0</td>\n      <td>13278.0</td>\n      <td>123.0</td>\n      <td>13443.0</td>\n      <td>[-37.8145716, 144.9573479]</td>\n      <td>0.583106</td>\n      <td>0.474756</td>\n    </tr>\n  </tbody>\n</table>\n<p>5 rows × 44 columns</p>\n</div>"
     },
     "execution_count": 165,
     "metadata": {},
     "output_type": "execute_result"
    }
   ],
   "source": [
    "# added the distance to the new column\n",
    "domain_abs['nearest_shopping_center_distance_km'] = domain_abs['coordinate'].apply(find_nearest_shopping_center)\n",
    "\n",
    "# print\n",
    "domain_abs.head()"
   ],
   "metadata": {
    "collapsed": false
   }
  },
  {
   "cell_type": "code",
   "execution_count": null,
   "outputs": [],
   "source": [],
   "metadata": {
    "collapsed": false
   }
  },
  {
   "cell_type": "markdown",
   "source": [
    "### calculate to nearest train station"
   ],
   "metadata": {
    "collapsed": false
   }
  },
  {
   "cell_type": "code",
   "execution_count": 181,
   "outputs": [],
   "source": [
    "import pandas as pd\n",
    "import re"
   ],
   "metadata": {
    "collapsed": false
   }
  },
  {
   "cell_type": "code",
   "execution_count": 167,
   "outputs": [
    {
     "data": {
      "text/plain": "   TRAIN_STOP_ID                                          STOP_NAME  \\\n0          19970             Royal Park Railway Station (Parkville)   \n1          19971  Flemington Bridge Railway Station (North Melbo...   \n2          19972         Macaulay Railway Station (North Melbourne)   \n3          19973   North Melbourne Railway Station (West Melbourne)   \n4          19974        Clifton Hill Railway Station (Clifton Hill)   \n\n                                         geometry         type  \n0  POINT (144.95230120600002 -37.781192972999975)  METRO_TRAIN  \n1    POINT (144.9393232120001 -37.78813998399994)  METRO_TRAIN  \n2   POINT (144.93616600400003 -37.79426700499994)  METRO_TRAIN  \n3   POINT (144.94257002900008 -37.80741897399997)  METRO_TRAIN  \n4   POINT (144.99541696000006 -37.78865703399998)  METRO_TRAIN  ",
      "text/html": "<div>\n<style scoped>\n    .dataframe tbody tr th:only-of-type {\n        vertical-align: middle;\n    }\n\n    .dataframe tbody tr th {\n        vertical-align: top;\n    }\n\n    .dataframe thead th {\n        text-align: right;\n    }\n</style>\n<table border=\"1\" class=\"dataframe\">\n  <thead>\n    <tr style=\"text-align: right;\">\n      <th></th>\n      <th>TRAIN_STOP_ID</th>\n      <th>STOP_NAME</th>\n      <th>geometry</th>\n      <th>type</th>\n    </tr>\n  </thead>\n  <tbody>\n    <tr>\n      <th>0</th>\n      <td>19970</td>\n      <td>Royal Park Railway Station (Parkville)</td>\n      <td>POINT (144.95230120600002 -37.781192972999975)</td>\n      <td>METRO_TRAIN</td>\n    </tr>\n    <tr>\n      <th>1</th>\n      <td>19971</td>\n      <td>Flemington Bridge Railway Station (North Melbo...</td>\n      <td>POINT (144.9393232120001 -37.78813998399994)</td>\n      <td>METRO_TRAIN</td>\n    </tr>\n    <tr>\n      <th>2</th>\n      <td>19972</td>\n      <td>Macaulay Railway Station (North Melbourne)</td>\n      <td>POINT (144.93616600400003 -37.79426700499994)</td>\n      <td>METRO_TRAIN</td>\n    </tr>\n    <tr>\n      <th>3</th>\n      <td>19973</td>\n      <td>North Melbourne Railway Station (West Melbourne)</td>\n      <td>POINT (144.94257002900008 -37.80741897399997)</td>\n      <td>METRO_TRAIN</td>\n    </tr>\n    <tr>\n      <th>4</th>\n      <td>19974</td>\n      <td>Clifton Hill Railway Station (Clifton Hill)</td>\n      <td>POINT (144.99541696000006 -37.78865703399998)</td>\n      <td>METRO_TRAIN</td>\n    </tr>\n  </tbody>\n</table>\n</div>"
     },
     "execution_count": 167,
     "metadata": {},
     "output_type": "execute_result"
    }
   ],
   "source": [
    "# load dataset\n",
    "train_station_path = \"../data/raw/train_stops.csv\"\n",
    "train_station = pd.read_csv(train_station_path)\n",
    "train_station.head()"
   ],
   "metadata": {
    "collapsed": false
   }
  },
  {
   "cell_type": "code",
   "execution_count": 185,
   "outputs": [],
   "source": [
    "# define a function to extract coordinates\n",
    "def extract_coordinates(point_str):\n",
    "    '''\n",
    "    this function is to extract coordinates\n",
    "    :param point_str:\n",
    "    :return longitude and latitude:\n",
    "    '''\n",
    "    # regex to search\n",
    "    match = re.search(r'\\((-?\\d+\\.\\d+)\\s+(-?\\d+\\.\\d+)\\)', point_str)\n",
    "    if match:\n",
    "        longitude = float(match.group(2))\n",
    "        latitude = float(match.group(1))\n",
    "        return (longitude, latitude)\n",
    "    else:\n",
    "        return None"
   ],
   "metadata": {
    "collapsed": false
   }
  },
  {
   "cell_type": "code",
   "execution_count": 186,
   "outputs": [
    {
     "data": {
      "text/plain": "   TRAIN_STOP_ID                                          STOP_NAME  \\\n0          19970             Royal Park Railway Station (Parkville)   \n1          19971  Flemington Bridge Railway Station (North Melbo...   \n2          19972         Macaulay Railway Station (North Melbourne)   \n3          19973   North Melbourne Railway Station (West Melbourne)   \n4          19974        Clifton Hill Railway Station (Clifton Hill)   \n\n                                         geometry         type  \\\n0  POINT (144.95230120600002 -37.781192972999975)  METRO_TRAIN   \n1    POINT (144.9393232120001 -37.78813998399994)  METRO_TRAIN   \n2   POINT (144.93616600400003 -37.79426700499994)  METRO_TRAIN   \n3   POINT (144.94257002900008 -37.80741897399997)  METRO_TRAIN   \n4   POINT (144.99541696000006 -37.78865703399998)  METRO_TRAIN   \n\n                       extracted_coordinates  \n0  (-37.781192972999975, 144.95230120600002)  \n1    (-37.78813998399994, 144.9393232120001)  \n2   (-37.79426700499994, 144.93616600400003)  \n3   (-37.80741897399997, 144.94257002900008)  \n4   (-37.78865703399998, 144.99541696000006)  ",
      "text/html": "<div>\n<style scoped>\n    .dataframe tbody tr th:only-of-type {\n        vertical-align: middle;\n    }\n\n    .dataframe tbody tr th {\n        vertical-align: top;\n    }\n\n    .dataframe thead th {\n        text-align: right;\n    }\n</style>\n<table border=\"1\" class=\"dataframe\">\n  <thead>\n    <tr style=\"text-align: right;\">\n      <th></th>\n      <th>TRAIN_STOP_ID</th>\n      <th>STOP_NAME</th>\n      <th>geometry</th>\n      <th>type</th>\n      <th>extracted_coordinates</th>\n    </tr>\n  </thead>\n  <tbody>\n    <tr>\n      <th>0</th>\n      <td>19970</td>\n      <td>Royal Park Railway Station (Parkville)</td>\n      <td>POINT (144.95230120600002 -37.781192972999975)</td>\n      <td>METRO_TRAIN</td>\n      <td>(-37.781192972999975, 144.95230120600002)</td>\n    </tr>\n    <tr>\n      <th>1</th>\n      <td>19971</td>\n      <td>Flemington Bridge Railway Station (North Melbo...</td>\n      <td>POINT (144.9393232120001 -37.78813998399994)</td>\n      <td>METRO_TRAIN</td>\n      <td>(-37.78813998399994, 144.9393232120001)</td>\n    </tr>\n    <tr>\n      <th>2</th>\n      <td>19972</td>\n      <td>Macaulay Railway Station (North Melbourne)</td>\n      <td>POINT (144.93616600400003 -37.79426700499994)</td>\n      <td>METRO_TRAIN</td>\n      <td>(-37.79426700499994, 144.93616600400003)</td>\n    </tr>\n    <tr>\n      <th>3</th>\n      <td>19973</td>\n      <td>North Melbourne Railway Station (West Melbourne)</td>\n      <td>POINT (144.94257002900008 -37.80741897399997)</td>\n      <td>METRO_TRAIN</td>\n      <td>(-37.80741897399997, 144.94257002900008)</td>\n    </tr>\n    <tr>\n      <th>4</th>\n      <td>19974</td>\n      <td>Clifton Hill Railway Station (Clifton Hill)</td>\n      <td>POINT (144.99541696000006 -37.78865703399998)</td>\n      <td>METRO_TRAIN</td>\n      <td>(-37.78865703399998, 144.99541696000006)</td>\n    </tr>\n  </tbody>\n</table>\n</div>"
     },
     "execution_count": 186,
     "metadata": {},
     "output_type": "execute_result"
    }
   ],
   "source": [
    "\n",
    "# add the geo location to a new column\n",
    "train_station['extracted_coordinates'] = train_station['geometry'].apply(extract_coordinates)\n",
    "\n",
    "# print\n",
    "train_station.head()\n"
   ],
   "metadata": {
    "collapsed": false
   }
  },
  {
   "cell_type": "code",
   "execution_count": 187,
   "outputs": [],
   "source": [
    "def find_nearest_train_statin(property_coord):\n",
    "    '''\n",
    "    this function is to find the nearest distance to the train station\n",
    "    :param property_coord:\n",
    "    :return nearest distance :\n",
    "    '''\n",
    "    min_distance = float('inf')\n",
    "    for train_coord in train_station['extracted_coordinates']:\n",
    "        distance = haversine_distance(property_coord[0], property_coord[1], train_coord[0], train_coord[1])\n",
    "        min_distance = min(min_distance, distance)\n",
    "    return min_distance"
   ],
   "metadata": {
    "collapsed": false
   }
  },
  {
   "cell_type": "code",
   "execution_count": 188,
   "outputs": [
    {
     "data": {
      "text/plain": "                                      Location            type_property  \\\n0         4506/33 Rose Lane Melbourne VIC 3000  Apartment / Unit / Flat   \n1   1715/220 Spencer Street Melbourne VIC 3000  Apartment / Unit / Flat   \n2  5801/648 Lonsdale Street Melbourne VIC 3000  Apartment / Unit / Flat   \n3        521/422 Collins St Melbourne VIC 3000  Apartment / Unit / Flat   \n4    603/199 William Street Melbourne VIC 3000  Apartment / Unit / Flat   \n\n           price  LT_resident_pcg  owner_pcg  family_pcg state  rooms  bath  \\\n0  $520 per week             12.0       28.0        27.0   VIC    1.0   1.0   \n1           $750             12.0       28.0        27.0   VIC    2.0   2.0   \n2           $800             12.0       20.0        34.0   VIC    2.0   2.0   \n3    $500 weekly             18.0       28.0        39.0   VIC    1.0   1.0   \n4           $700             22.0       29.0        24.0   VIC    2.0   2.0   \n\n   parking  ... Semi-detached house or Townhouse Flat or Apartment  \\\n0      0.0  ...                             21.0           13278.0   \n1      1.0  ...                             21.0           13278.0   \n2      0.0  ...                             21.0           13278.0   \n3      0.0  ...                             21.0           13278.0   \n4      0.0  ...                             21.0           13278.0   \n\n   Non-residential properties Total Suburb Dwellings  \\\n0                       123.0                13443.0   \n1                       123.0                13443.0   \n2                       123.0                13443.0   \n3                       123.0                13443.0   \n4                       123.0                13443.0   \n\n                   coordinate distance_to_melbourne_cbd_km  \\\n0  [-37.8150001, 144.9538708]                     0.884547   \n1   [-37.815781, 144.9529156]                     0.970252   \n2  [-37.8144537, 144.9534426]                     0.925663   \n3  [-37.8170971, 144.9601487]                     0.393584   \n4  [-37.8145716, 144.9573479]                     0.583106   \n\n   nearest_shopping_center_distance_km  nearest_park_distance_km  \\\n0                             0.202829                 29.641073   \n1                             0.082822                 29.661964   \n2                             0.226635                 29.706333   \n3                             0.340323                 29.054073   \n4                             0.474756                 29.415873   \n\n   nearest_tram_station_distance_km  nearest_train_station_distance_km  \n0                          0.135415                           0.370453  \n1                          0.070096                           0.273663  \n2                          0.114239                           0.336648  \n3                          0.036919                           0.613539  \n4                          0.120055                           0.324232  \n\n[5 rows x 47 columns]",
      "text/html": "<div>\n<style scoped>\n    .dataframe tbody tr th:only-of-type {\n        vertical-align: middle;\n    }\n\n    .dataframe tbody tr th {\n        vertical-align: top;\n    }\n\n    .dataframe thead th {\n        text-align: right;\n    }\n</style>\n<table border=\"1\" class=\"dataframe\">\n  <thead>\n    <tr style=\"text-align: right;\">\n      <th></th>\n      <th>Location</th>\n      <th>type_property</th>\n      <th>price</th>\n      <th>LT_resident_pcg</th>\n      <th>owner_pcg</th>\n      <th>family_pcg</th>\n      <th>state</th>\n      <th>rooms</th>\n      <th>bath</th>\n      <th>parking</th>\n      <th>...</th>\n      <th>Semi-detached house or Townhouse</th>\n      <th>Flat or Apartment</th>\n      <th>Non-residential properties</th>\n      <th>Total Suburb Dwellings</th>\n      <th>coordinate</th>\n      <th>distance_to_melbourne_cbd_km</th>\n      <th>nearest_shopping_center_distance_km</th>\n      <th>nearest_park_distance_km</th>\n      <th>nearest_tram_station_distance_km</th>\n      <th>nearest_train_station_distance_km</th>\n    </tr>\n  </thead>\n  <tbody>\n    <tr>\n      <th>0</th>\n      <td>4506/33 Rose Lane Melbourne VIC 3000</td>\n      <td>Apartment / Unit / Flat</td>\n      <td>$520 per week</td>\n      <td>12.0</td>\n      <td>28.0</td>\n      <td>27.0</td>\n      <td>VIC</td>\n      <td>1.0</td>\n      <td>1.0</td>\n      <td>0.0</td>\n      <td>...</td>\n      <td>21.0</td>\n      <td>13278.0</td>\n      <td>123.0</td>\n      <td>13443.0</td>\n      <td>[-37.8150001, 144.9538708]</td>\n      <td>0.884547</td>\n      <td>0.202829</td>\n      <td>29.641073</td>\n      <td>0.135415</td>\n      <td>0.370453</td>\n    </tr>\n    <tr>\n      <th>1</th>\n      <td>1715/220 Spencer Street Melbourne VIC 3000</td>\n      <td>Apartment / Unit / Flat</td>\n      <td>$750</td>\n      <td>12.0</td>\n      <td>28.0</td>\n      <td>27.0</td>\n      <td>VIC</td>\n      <td>2.0</td>\n      <td>2.0</td>\n      <td>1.0</td>\n      <td>...</td>\n      <td>21.0</td>\n      <td>13278.0</td>\n      <td>123.0</td>\n      <td>13443.0</td>\n      <td>[-37.815781, 144.9529156]</td>\n      <td>0.970252</td>\n      <td>0.082822</td>\n      <td>29.661964</td>\n      <td>0.070096</td>\n      <td>0.273663</td>\n    </tr>\n    <tr>\n      <th>2</th>\n      <td>5801/648 Lonsdale Street Melbourne VIC 3000</td>\n      <td>Apartment / Unit / Flat</td>\n      <td>$800</td>\n      <td>12.0</td>\n      <td>20.0</td>\n      <td>34.0</td>\n      <td>VIC</td>\n      <td>2.0</td>\n      <td>2.0</td>\n      <td>0.0</td>\n      <td>...</td>\n      <td>21.0</td>\n      <td>13278.0</td>\n      <td>123.0</td>\n      <td>13443.0</td>\n      <td>[-37.8144537, 144.9534426]</td>\n      <td>0.925663</td>\n      <td>0.226635</td>\n      <td>29.706333</td>\n      <td>0.114239</td>\n      <td>0.336648</td>\n    </tr>\n    <tr>\n      <th>3</th>\n      <td>521/422 Collins St Melbourne VIC 3000</td>\n      <td>Apartment / Unit / Flat</td>\n      <td>$500 weekly</td>\n      <td>18.0</td>\n      <td>28.0</td>\n      <td>39.0</td>\n      <td>VIC</td>\n      <td>1.0</td>\n      <td>1.0</td>\n      <td>0.0</td>\n      <td>...</td>\n      <td>21.0</td>\n      <td>13278.0</td>\n      <td>123.0</td>\n      <td>13443.0</td>\n      <td>[-37.8170971, 144.9601487]</td>\n      <td>0.393584</td>\n      <td>0.340323</td>\n      <td>29.054073</td>\n      <td>0.036919</td>\n      <td>0.613539</td>\n    </tr>\n    <tr>\n      <th>4</th>\n      <td>603/199 William Street Melbourne VIC 3000</td>\n      <td>Apartment / Unit / Flat</td>\n      <td>$700</td>\n      <td>22.0</td>\n      <td>29.0</td>\n      <td>24.0</td>\n      <td>VIC</td>\n      <td>2.0</td>\n      <td>2.0</td>\n      <td>0.0</td>\n      <td>...</td>\n      <td>21.0</td>\n      <td>13278.0</td>\n      <td>123.0</td>\n      <td>13443.0</td>\n      <td>[-37.8145716, 144.9573479]</td>\n      <td>0.583106</td>\n      <td>0.474756</td>\n      <td>29.415873</td>\n      <td>0.120055</td>\n      <td>0.324232</td>\n    </tr>\n  </tbody>\n</table>\n<p>5 rows × 47 columns</p>\n</div>"
     },
     "execution_count": 188,
     "metadata": {},
     "output_type": "execute_result"
    }
   ],
   "source": [
    "# add the distance to the new column\n",
    "domain_abs['nearest_train_station_distance_km'] = domain_abs['coordinate'].apply(find_nearest_train_statin)\n",
    "\n",
    "# print\n",
    "domain_abs.head()"
   ],
   "metadata": {
    "collapsed": false
   }
  },
  {
   "cell_type": "code",
   "execution_count": null,
   "outputs": [],
   "source": [],
   "metadata": {
    "collapsed": false
   }
  },
  {
   "cell_type": "markdown",
   "source": [
    "### Calculate distance to tram stop"
   ],
   "metadata": {
    "collapsed": false
   }
  },
  {
   "cell_type": "code",
   "execution_count": 172,
   "outputs": [
    {
     "data": {
      "text/plain": "   TRAM_STOP_ID   LATITUDE                                STOP_NAME  \\\n0         18730 -37.744359  134-Merribell Ave/Nicholson St (Coburg)   \n1         18732 -37.811375  44-Deepdene Park/Whitehorse Rd (Balwyn)   \n2         18733 -37.811750   45-Hardwicke St/Whitehorse Rd (Balwyn)   \n3         18734 -37.812242  46-Balwyn Cinema/Whitehorse Rd (Balwyn)   \n4         18735 -37.812919      47-Balwyn Rd/Whitehorse Rd (Balwyn)   \n\n    LONGITUDE TICKETZONE ROUTES_USING_STOP  \\\n0  144.977728          1                 1   \n1  145.068671          1               109   \n2  145.071785          1               109   \n3  145.075930          1               109   \n4  145.081524        1,2               109   \n\n                                        geometry  \n0  POINT (144.97772797000005 -37.74435902699997)  \n1  POINT (145.06867116800004 -37.81137501999996)  \n2      POINT (145.071785169 -37.811750049999944)  \n3   POINT (145.0759298480001 -37.81224199099995)  \n4  POINT (145.08152388700012 -37.81291897099993)  ",
      "text/html": "<div>\n<style scoped>\n    .dataframe tbody tr th:only-of-type {\n        vertical-align: middle;\n    }\n\n    .dataframe tbody tr th {\n        vertical-align: top;\n    }\n\n    .dataframe thead th {\n        text-align: right;\n    }\n</style>\n<table border=\"1\" class=\"dataframe\">\n  <thead>\n    <tr style=\"text-align: right;\">\n      <th></th>\n      <th>TRAM_STOP_ID</th>\n      <th>LATITUDE</th>\n      <th>STOP_NAME</th>\n      <th>LONGITUDE</th>\n      <th>TICKETZONE</th>\n      <th>ROUTES_USING_STOP</th>\n      <th>geometry</th>\n    </tr>\n  </thead>\n  <tbody>\n    <tr>\n      <th>0</th>\n      <td>18730</td>\n      <td>-37.744359</td>\n      <td>134-Merribell Ave/Nicholson St (Coburg)</td>\n      <td>144.977728</td>\n      <td>1</td>\n      <td>1</td>\n      <td>POINT (144.97772797000005 -37.74435902699997)</td>\n    </tr>\n    <tr>\n      <th>1</th>\n      <td>18732</td>\n      <td>-37.811375</td>\n      <td>44-Deepdene Park/Whitehorse Rd (Balwyn)</td>\n      <td>145.068671</td>\n      <td>1</td>\n      <td>109</td>\n      <td>POINT (145.06867116800004 -37.81137501999996)</td>\n    </tr>\n    <tr>\n      <th>2</th>\n      <td>18733</td>\n      <td>-37.811750</td>\n      <td>45-Hardwicke St/Whitehorse Rd (Balwyn)</td>\n      <td>145.071785</td>\n      <td>1</td>\n      <td>109</td>\n      <td>POINT (145.071785169 -37.811750049999944)</td>\n    </tr>\n    <tr>\n      <th>3</th>\n      <td>18734</td>\n      <td>-37.812242</td>\n      <td>46-Balwyn Cinema/Whitehorse Rd (Balwyn)</td>\n      <td>145.075930</td>\n      <td>1</td>\n      <td>109</td>\n      <td>POINT (145.0759298480001 -37.81224199099995)</td>\n    </tr>\n    <tr>\n      <th>4</th>\n      <td>18735</td>\n      <td>-37.812919</td>\n      <td>47-Balwyn Rd/Whitehorse Rd (Balwyn)</td>\n      <td>145.081524</td>\n      <td>1,2</td>\n      <td>109</td>\n      <td>POINT (145.08152388700012 -37.81291897099993)</td>\n    </tr>\n  </tbody>\n</table>\n</div>"
     },
     "execution_count": 172,
     "metadata": {},
     "output_type": "execute_result"
    }
   ],
   "source": [
    "# load the data\n",
    "tram_station_path = \"../data/raw/tram_stops.csv\"\n",
    "tram_station = pd.read_csv(tram_station_path)\n",
    "tram_station.head()"
   ],
   "metadata": {
    "collapsed": false
   }
  },
  {
   "cell_type": "code",
   "execution_count": 175,
   "outputs": [
    {
     "data": {
      "text/plain": "   TRAM_STOP_ID   LATITUDE                                STOP_NAME  \\\n0         18730 -37.744359  134-Merribell Ave/Nicholson St (Coburg)   \n1         18732 -37.811375  44-Deepdene Park/Whitehorse Rd (Balwyn)   \n2         18733 -37.811750   45-Hardwicke St/Whitehorse Rd (Balwyn)   \n3         18734 -37.812242  46-Balwyn Cinema/Whitehorse Rd (Balwyn)   \n4         18735 -37.812919      47-Balwyn Rd/Whitehorse Rd (Balwyn)   \n\n    LONGITUDE TICKETZONE ROUTES_USING_STOP  \\\n0  144.977728          1                 1   \n1  145.068671          1               109   \n2  145.071785          1               109   \n3  145.075930          1               109   \n4  145.081524        1,2               109   \n\n                                        geometry                coordinate  \n0  POINT (144.97772797000005 -37.74435902699997)  [-37.744359, 144.977728]  \n1  POINT (145.06867116800004 -37.81137501999996)  [-37.811375, 145.068671]  \n2      POINT (145.071785169 -37.811750049999944)   [-37.81175, 145.071785]  \n3   POINT (145.0759298480001 -37.81224199099995)   [-37.812242, 145.07593]  \n4  POINT (145.08152388700012 -37.81291897099993)  [-37.812919, 145.081524]  ",
      "text/html": "<div>\n<style scoped>\n    .dataframe tbody tr th:only-of-type {\n        vertical-align: middle;\n    }\n\n    .dataframe tbody tr th {\n        vertical-align: top;\n    }\n\n    .dataframe thead th {\n        text-align: right;\n    }\n</style>\n<table border=\"1\" class=\"dataframe\">\n  <thead>\n    <tr style=\"text-align: right;\">\n      <th></th>\n      <th>TRAM_STOP_ID</th>\n      <th>LATITUDE</th>\n      <th>STOP_NAME</th>\n      <th>LONGITUDE</th>\n      <th>TICKETZONE</th>\n      <th>ROUTES_USING_STOP</th>\n      <th>geometry</th>\n      <th>coordinate</th>\n    </tr>\n  </thead>\n  <tbody>\n    <tr>\n      <th>0</th>\n      <td>18730</td>\n      <td>-37.744359</td>\n      <td>134-Merribell Ave/Nicholson St (Coburg)</td>\n      <td>144.977728</td>\n      <td>1</td>\n      <td>1</td>\n      <td>POINT (144.97772797000005 -37.74435902699997)</td>\n      <td>[-37.744359, 144.977728]</td>\n    </tr>\n    <tr>\n      <th>1</th>\n      <td>18732</td>\n      <td>-37.811375</td>\n      <td>44-Deepdene Park/Whitehorse Rd (Balwyn)</td>\n      <td>145.068671</td>\n      <td>1</td>\n      <td>109</td>\n      <td>POINT (145.06867116800004 -37.81137501999996)</td>\n      <td>[-37.811375, 145.068671]</td>\n    </tr>\n    <tr>\n      <th>2</th>\n      <td>18733</td>\n      <td>-37.811750</td>\n      <td>45-Hardwicke St/Whitehorse Rd (Balwyn)</td>\n      <td>145.071785</td>\n      <td>1</td>\n      <td>109</td>\n      <td>POINT (145.071785169 -37.811750049999944)</td>\n      <td>[-37.81175, 145.071785]</td>\n    </tr>\n    <tr>\n      <th>3</th>\n      <td>18734</td>\n      <td>-37.812242</td>\n      <td>46-Balwyn Cinema/Whitehorse Rd (Balwyn)</td>\n      <td>145.075930</td>\n      <td>1</td>\n      <td>109</td>\n      <td>POINT (145.0759298480001 -37.81224199099995)</td>\n      <td>[-37.812242, 145.07593]</td>\n    </tr>\n    <tr>\n      <th>4</th>\n      <td>18735</td>\n      <td>-37.812919</td>\n      <td>47-Balwyn Rd/Whitehorse Rd (Balwyn)</td>\n      <td>145.081524</td>\n      <td>1,2</td>\n      <td>109</td>\n      <td>POINT (145.08152388700012 -37.81291897099993)</td>\n      <td>[-37.812919, 145.081524]</td>\n    </tr>\n  </tbody>\n</table>\n</div>"
     },
     "execution_count": 175,
     "metadata": {},
     "output_type": "execute_result"
    }
   ],
   "source": [
    "# get the coordinate\n",
    "tram_station['coordinate'] = tram_station[['LATITUDE', 'LONGITUDE']].apply(lambda x: [x['LATITUDE'], x['LONGITUDE']], axis=1)\n",
    "tram_station.head()"
   ],
   "metadata": {
    "collapsed": false
   }
  },
  {
   "cell_type": "code",
   "execution_count": 179,
   "outputs": [],
   "source": [
    "def find_nearest_tram_statin(property_coord):\n",
    "    '''\n",
    "    This function is to calculate the distance to the nearest tram station\n",
    "    :param property_coord:\n",
    "    :return nearest distance to the tram station in km:\n",
    "    '''\n",
    "    min_distance = float('inf')\n",
    "    for tram_coord in tram_station['coordinate']:\n",
    "        distance = haversine_distance(property_coord[0], property_coord[1], tram_coord[0], tram_coord[1])\n",
    "        min_distance = min(min_distance, distance)\n",
    "    return min_distance"
   ],
   "metadata": {
    "collapsed": false
   }
  },
  {
   "cell_type": "code",
   "execution_count": 180,
   "outputs": [
    {
     "data": {
      "text/plain": "                                      Location            type_property  \\\n0         4506/33 Rose Lane Melbourne VIC 3000  Apartment / Unit / Flat   \n1   1715/220 Spencer Street Melbourne VIC 3000  Apartment / Unit / Flat   \n2  5801/648 Lonsdale Street Melbourne VIC 3000  Apartment / Unit / Flat   \n3        521/422 Collins St Melbourne VIC 3000  Apartment / Unit / Flat   \n4    603/199 William Street Melbourne VIC 3000  Apartment / Unit / Flat   \n\n           price  LT_resident_pcg  owner_pcg  family_pcg state  rooms  bath  \\\n0  $520 per week             12.0       28.0        27.0   VIC    1.0   1.0   \n1           $750             12.0       28.0        27.0   VIC    2.0   2.0   \n2           $800             12.0       20.0        34.0   VIC    2.0   2.0   \n3    $500 weekly             18.0       28.0        39.0   VIC    1.0   1.0   \n4           $700             22.0       29.0        24.0   VIC    2.0   2.0   \n\n   parking  ... Separate house Semi-detached house or Townhouse  \\\n0      0.0  ...           14.0                             21.0   \n1      1.0  ...           14.0                             21.0   \n2      0.0  ...           14.0                             21.0   \n3      0.0  ...           14.0                             21.0   \n4      0.0  ...           14.0                             21.0   \n\n   Flat or Apartment Non-residential properties  Total Suburb Dwellings  \\\n0            13278.0                      123.0                 13443.0   \n1            13278.0                      123.0                 13443.0   \n2            13278.0                      123.0                 13443.0   \n3            13278.0                      123.0                 13443.0   \n4            13278.0                      123.0                 13443.0   \n\n                   coordinate  distance_to_melbourne_cbd_km  \\\n0  [-37.8150001, 144.9538708]                      0.884547   \n1   [-37.815781, 144.9529156]                      0.970252   \n2  [-37.8144537, 144.9534426]                      0.925663   \n3  [-37.8170971, 144.9601487]                      0.393584   \n4  [-37.8145716, 144.9573479]                      0.583106   \n\n   nearest_shopping_center_distance_km  nearest_park_distance_km  \\\n0                             0.202829                 29.641073   \n1                             0.082822                 29.661964   \n2                             0.226635                 29.706333   \n3                             0.340323                 29.054073   \n4                             0.474756                 29.415873   \n\n   nearest_tram_station_distance_km  \n0                          0.135415  \n1                          0.070096  \n2                          0.114239  \n3                          0.036919  \n4                          0.120055  \n\n[5 rows x 46 columns]",
      "text/html": "<div>\n<style scoped>\n    .dataframe tbody tr th:only-of-type {\n        vertical-align: middle;\n    }\n\n    .dataframe tbody tr th {\n        vertical-align: top;\n    }\n\n    .dataframe thead th {\n        text-align: right;\n    }\n</style>\n<table border=\"1\" class=\"dataframe\">\n  <thead>\n    <tr style=\"text-align: right;\">\n      <th></th>\n      <th>Location</th>\n      <th>type_property</th>\n      <th>price</th>\n      <th>LT_resident_pcg</th>\n      <th>owner_pcg</th>\n      <th>family_pcg</th>\n      <th>state</th>\n      <th>rooms</th>\n      <th>bath</th>\n      <th>parking</th>\n      <th>...</th>\n      <th>Separate house</th>\n      <th>Semi-detached house or Townhouse</th>\n      <th>Flat or Apartment</th>\n      <th>Non-residential properties</th>\n      <th>Total Suburb Dwellings</th>\n      <th>coordinate</th>\n      <th>distance_to_melbourne_cbd_km</th>\n      <th>nearest_shopping_center_distance_km</th>\n      <th>nearest_park_distance_km</th>\n      <th>nearest_tram_station_distance_km</th>\n    </tr>\n  </thead>\n  <tbody>\n    <tr>\n      <th>0</th>\n      <td>4506/33 Rose Lane Melbourne VIC 3000</td>\n      <td>Apartment / Unit / Flat</td>\n      <td>$520 per week</td>\n      <td>12.0</td>\n      <td>28.0</td>\n      <td>27.0</td>\n      <td>VIC</td>\n      <td>1.0</td>\n      <td>1.0</td>\n      <td>0.0</td>\n      <td>...</td>\n      <td>14.0</td>\n      <td>21.0</td>\n      <td>13278.0</td>\n      <td>123.0</td>\n      <td>13443.0</td>\n      <td>[-37.8150001, 144.9538708]</td>\n      <td>0.884547</td>\n      <td>0.202829</td>\n      <td>29.641073</td>\n      <td>0.135415</td>\n    </tr>\n    <tr>\n      <th>1</th>\n      <td>1715/220 Spencer Street Melbourne VIC 3000</td>\n      <td>Apartment / Unit / Flat</td>\n      <td>$750</td>\n      <td>12.0</td>\n      <td>28.0</td>\n      <td>27.0</td>\n      <td>VIC</td>\n      <td>2.0</td>\n      <td>2.0</td>\n      <td>1.0</td>\n      <td>...</td>\n      <td>14.0</td>\n      <td>21.0</td>\n      <td>13278.0</td>\n      <td>123.0</td>\n      <td>13443.0</td>\n      <td>[-37.815781, 144.9529156]</td>\n      <td>0.970252</td>\n      <td>0.082822</td>\n      <td>29.661964</td>\n      <td>0.070096</td>\n    </tr>\n    <tr>\n      <th>2</th>\n      <td>5801/648 Lonsdale Street Melbourne VIC 3000</td>\n      <td>Apartment / Unit / Flat</td>\n      <td>$800</td>\n      <td>12.0</td>\n      <td>20.0</td>\n      <td>34.0</td>\n      <td>VIC</td>\n      <td>2.0</td>\n      <td>2.0</td>\n      <td>0.0</td>\n      <td>...</td>\n      <td>14.0</td>\n      <td>21.0</td>\n      <td>13278.0</td>\n      <td>123.0</td>\n      <td>13443.0</td>\n      <td>[-37.8144537, 144.9534426]</td>\n      <td>0.925663</td>\n      <td>0.226635</td>\n      <td>29.706333</td>\n      <td>0.114239</td>\n    </tr>\n    <tr>\n      <th>3</th>\n      <td>521/422 Collins St Melbourne VIC 3000</td>\n      <td>Apartment / Unit / Flat</td>\n      <td>$500 weekly</td>\n      <td>18.0</td>\n      <td>28.0</td>\n      <td>39.0</td>\n      <td>VIC</td>\n      <td>1.0</td>\n      <td>1.0</td>\n      <td>0.0</td>\n      <td>...</td>\n      <td>14.0</td>\n      <td>21.0</td>\n      <td>13278.0</td>\n      <td>123.0</td>\n      <td>13443.0</td>\n      <td>[-37.8170971, 144.9601487]</td>\n      <td>0.393584</td>\n      <td>0.340323</td>\n      <td>29.054073</td>\n      <td>0.036919</td>\n    </tr>\n    <tr>\n      <th>4</th>\n      <td>603/199 William Street Melbourne VIC 3000</td>\n      <td>Apartment / Unit / Flat</td>\n      <td>$700</td>\n      <td>22.0</td>\n      <td>29.0</td>\n      <td>24.0</td>\n      <td>VIC</td>\n      <td>2.0</td>\n      <td>2.0</td>\n      <td>0.0</td>\n      <td>...</td>\n      <td>14.0</td>\n      <td>21.0</td>\n      <td>13278.0</td>\n      <td>123.0</td>\n      <td>13443.0</td>\n      <td>[-37.8145716, 144.9573479]</td>\n      <td>0.583106</td>\n      <td>0.474756</td>\n      <td>29.415873</td>\n      <td>0.120055</td>\n    </tr>\n  </tbody>\n</table>\n<p>5 rows × 46 columns</p>\n</div>"
     },
     "execution_count": 180,
     "metadata": {},
     "output_type": "execute_result"
    }
   ],
   "source": [
    "# add the distance to the new column\n",
    "domain_abs['nearest_tram_station_distance_km'] = domain_abs['coordinate'].apply(find_nearest_tram_statin)\n",
    "\n",
    "# print\n",
    "domain_abs.head()"
   ],
   "metadata": {
    "collapsed": false
   }
  },
  {
   "cell_type": "code",
   "execution_count": null,
   "outputs": [],
   "source": [],
   "metadata": {
    "collapsed": false
   }
  },
  {
   "cell_type": "markdown",
   "source": [
    "### Calculate distance to bus stop"
   ],
   "metadata": {
    "collapsed": false
   }
  },
  {
   "cell_type": "code",
   "execution_count": 189,
   "outputs": [
    {
     "data": {
      "text/plain": "   BUS_STOP_ID                                          STOP_NAME  \\\n0        23195                       Andrew St/Union St (Kilmore)   \n1        23197             Wellington Square SC/Queen St (Wallan)   \n2        23202              Aquamoves/Tom Collins Dr (Shepparton)   \n3        23224  West End Caravan Park/Murray Valley Hwy (Yarra...   \n4        23225                      Jane Rd/Fiona Dr (Yarrawonga)   \n\n                                        geometry          type  \n0  POINT (144.95227992500008 -37.29049199899998)  REGIONAL_BUS  \n1   POINT (144.9780188630001 -37.41299000999993)  REGIONAL_BUS  \n2   POINT (145.3944449050001 -36.38602702399993)  REGIONAL_BUS  \n3   POINT (145.9770469550001 -36.02217601499996)  REGIONAL_BUS  \n4  POINT (146.0259579330001 -36.006706975999975)  REGIONAL_BUS  ",
      "text/html": "<div>\n<style scoped>\n    .dataframe tbody tr th:only-of-type {\n        vertical-align: middle;\n    }\n\n    .dataframe tbody tr th {\n        vertical-align: top;\n    }\n\n    .dataframe thead th {\n        text-align: right;\n    }\n</style>\n<table border=\"1\" class=\"dataframe\">\n  <thead>\n    <tr style=\"text-align: right;\">\n      <th></th>\n      <th>BUS_STOP_ID</th>\n      <th>STOP_NAME</th>\n      <th>geometry</th>\n      <th>type</th>\n    </tr>\n  </thead>\n  <tbody>\n    <tr>\n      <th>0</th>\n      <td>23195</td>\n      <td>Andrew St/Union St (Kilmore)</td>\n      <td>POINT (144.95227992500008 -37.29049199899998)</td>\n      <td>REGIONAL_BUS</td>\n    </tr>\n    <tr>\n      <th>1</th>\n      <td>23197</td>\n      <td>Wellington Square SC/Queen St (Wallan)</td>\n      <td>POINT (144.9780188630001 -37.41299000999993)</td>\n      <td>REGIONAL_BUS</td>\n    </tr>\n    <tr>\n      <th>2</th>\n      <td>23202</td>\n      <td>Aquamoves/Tom Collins Dr (Shepparton)</td>\n      <td>POINT (145.3944449050001 -36.38602702399993)</td>\n      <td>REGIONAL_BUS</td>\n    </tr>\n    <tr>\n      <th>3</th>\n      <td>23224</td>\n      <td>West End Caravan Park/Murray Valley Hwy (Yarra...</td>\n      <td>POINT (145.9770469550001 -36.02217601499996)</td>\n      <td>REGIONAL_BUS</td>\n    </tr>\n    <tr>\n      <th>4</th>\n      <td>23225</td>\n      <td>Jane Rd/Fiona Dr (Yarrawonga)</td>\n      <td>POINT (146.0259579330001 -36.006706975999975)</td>\n      <td>REGIONAL_BUS</td>\n    </tr>\n  </tbody>\n</table>\n</div>"
     },
     "execution_count": 189,
     "metadata": {},
     "output_type": "execute_result"
    }
   ],
   "source": [
    "# load the data\n",
    "bus_station_path = \"../data/raw/bus_stops.csv\"\n",
    "bus_station = pd.read_csv(bus_station_path)\n",
    "bus_station.head()"
   ],
   "metadata": {
    "collapsed": false
   }
  },
  {
   "cell_type": "code",
   "execution_count": 190,
   "outputs": [
    {
     "data": {
      "text/plain": "   BUS_STOP_ID                                          STOP_NAME  \\\n0        23195                       Andrew St/Union St (Kilmore)   \n1        23197             Wellington Square SC/Queen St (Wallan)   \n2        23202              Aquamoves/Tom Collins Dr (Shepparton)   \n3        23224  West End Caravan Park/Murray Valley Hwy (Yarra...   \n4        23225                      Jane Rd/Fiona Dr (Yarrawonga)   \n\n                                        geometry          type  \\\n0  POINT (144.95227992500008 -37.29049199899998)  REGIONAL_BUS   \n1   POINT (144.9780188630001 -37.41299000999993)  REGIONAL_BUS   \n2   POINT (145.3944449050001 -36.38602702399993)  REGIONAL_BUS   \n3   POINT (145.9770469550001 -36.02217601499996)  REGIONAL_BUS   \n4  POINT (146.0259579330001 -36.006706975999975)  REGIONAL_BUS   \n\n                      extracted_coordinates  \n0  (-37.29049199899998, 144.95227992500008)  \n1   (-37.41299000999993, 144.9780188630001)  \n2   (-36.38602702399993, 145.3944449050001)  \n3   (-36.02217601499996, 145.9770469550001)  \n4  (-36.006706975999975, 146.0259579330001)  ",
      "text/html": "<div>\n<style scoped>\n    .dataframe tbody tr th:only-of-type {\n        vertical-align: middle;\n    }\n\n    .dataframe tbody tr th {\n        vertical-align: top;\n    }\n\n    .dataframe thead th {\n        text-align: right;\n    }\n</style>\n<table border=\"1\" class=\"dataframe\">\n  <thead>\n    <tr style=\"text-align: right;\">\n      <th></th>\n      <th>BUS_STOP_ID</th>\n      <th>STOP_NAME</th>\n      <th>geometry</th>\n      <th>type</th>\n      <th>extracted_coordinates</th>\n    </tr>\n  </thead>\n  <tbody>\n    <tr>\n      <th>0</th>\n      <td>23195</td>\n      <td>Andrew St/Union St (Kilmore)</td>\n      <td>POINT (144.95227992500008 -37.29049199899998)</td>\n      <td>REGIONAL_BUS</td>\n      <td>(-37.29049199899998, 144.95227992500008)</td>\n    </tr>\n    <tr>\n      <th>1</th>\n      <td>23197</td>\n      <td>Wellington Square SC/Queen St (Wallan)</td>\n      <td>POINT (144.9780188630001 -37.41299000999993)</td>\n      <td>REGIONAL_BUS</td>\n      <td>(-37.41299000999993, 144.9780188630001)</td>\n    </tr>\n    <tr>\n      <th>2</th>\n      <td>23202</td>\n      <td>Aquamoves/Tom Collins Dr (Shepparton)</td>\n      <td>POINT (145.3944449050001 -36.38602702399993)</td>\n      <td>REGIONAL_BUS</td>\n      <td>(-36.38602702399993, 145.3944449050001)</td>\n    </tr>\n    <tr>\n      <th>3</th>\n      <td>23224</td>\n      <td>West End Caravan Park/Murray Valley Hwy (Yarra...</td>\n      <td>POINT (145.9770469550001 -36.02217601499996)</td>\n      <td>REGIONAL_BUS</td>\n      <td>(-36.02217601499996, 145.9770469550001)</td>\n    </tr>\n    <tr>\n      <th>4</th>\n      <td>23225</td>\n      <td>Jane Rd/Fiona Dr (Yarrawonga)</td>\n      <td>POINT (146.0259579330001 -36.006706975999975)</td>\n      <td>REGIONAL_BUS</td>\n      <td>(-36.006706975999975, 146.0259579330001)</td>\n    </tr>\n  </tbody>\n</table>\n</div>"
     },
     "execution_count": 190,
     "metadata": {},
     "output_type": "execute_result"
    }
   ],
   "source": [
    "# add the distance to the new column\n",
    "\n",
    "bus_station['extracted_coordinates'] = bus_station['geometry'].apply(extract_coordinates)\n",
    "\n",
    "# print\n",
    "bus_station.head()"
   ],
   "metadata": {
    "collapsed": false
   }
  },
  {
   "cell_type": "code",
   "execution_count": 191,
   "outputs": [],
   "source": [
    "def find_nearest_bus_stop(property_coord):\n",
    "    '''\n",
    "    this function is to find the nearest distance to the bus stop\n",
    "    :param property_coord:\n",
    "    :return the nearest distance in km:\n",
    "    '''\n",
    "    min_distance = float('inf')\n",
    "    for bus_coord in bus_station['extracted_coordinates']:\n",
    "        distance = haversine_distance(property_coord[0], property_coord[1], bus_coord[0], bus_coord[1])\n",
    "        min_distance = min(min_distance, distance)\n",
    "    return min_distance\n"
   ],
   "metadata": {
    "collapsed": false
   }
  },
  {
   "cell_type": "code",
   "execution_count": 192,
   "outputs": [
    {
     "data": {
      "text/plain": "                                      Location            type_property  \\\n0         4506/33 Rose Lane Melbourne VIC 3000  Apartment / Unit / Flat   \n1   1715/220 Spencer Street Melbourne VIC 3000  Apartment / Unit / Flat   \n2  5801/648 Lonsdale Street Melbourne VIC 3000  Apartment / Unit / Flat   \n3        521/422 Collins St Melbourne VIC 3000  Apartment / Unit / Flat   \n4    603/199 William Street Melbourne VIC 3000  Apartment / Unit / Flat   \n\n           price  LT_resident_pcg  owner_pcg  family_pcg state  rooms  bath  \\\n0  $520 per week             12.0       28.0        27.0   VIC    1.0   1.0   \n1           $750             12.0       28.0        27.0   VIC    2.0   2.0   \n2           $800             12.0       20.0        34.0   VIC    2.0   2.0   \n3    $500 weekly             18.0       28.0        39.0   VIC    1.0   1.0   \n4           $700             22.0       29.0        24.0   VIC    2.0   2.0   \n\n   parking  ... Flat or Apartment Non-residential properties  \\\n0      0.0  ...           13278.0                      123.0   \n1      1.0  ...           13278.0                      123.0   \n2      0.0  ...           13278.0                      123.0   \n3      0.0  ...           13278.0                      123.0   \n4      0.0  ...           13278.0                      123.0   \n\n   Total Suburb Dwellings                  coordinate  \\\n0                 13443.0  [-37.8150001, 144.9538708]   \n1                 13443.0   [-37.815781, 144.9529156]   \n2                 13443.0  [-37.8144537, 144.9534426]   \n3                 13443.0  [-37.8170971, 144.9601487]   \n4                 13443.0  [-37.8145716, 144.9573479]   \n\n   distance_to_melbourne_cbd_km nearest_shopping_center_distance_km  \\\n0                      0.884547                            0.202829   \n1                      0.970252                            0.082822   \n2                      0.925663                            0.226635   \n3                      0.393584                            0.340323   \n4                      0.583106                            0.474756   \n\n   nearest_park_distance_km  nearest_tram_station_distance_km  \\\n0                 29.641073                          0.135415   \n1                 29.661964                          0.070096   \n2                 29.706333                          0.114239   \n3                 29.054073                          0.036919   \n4                 29.415873                          0.120055   \n\n   nearest_train_station_distance_km  nearest_bus_stop_distance_km  \n0                           0.370453                      0.135597  \n1                           0.273663                      0.087685  \n2                           0.336648                      0.126732  \n3                           0.613539                      0.112485  \n4                           0.324232                      0.080214  \n\n[5 rows x 48 columns]",
      "text/html": "<div>\n<style scoped>\n    .dataframe tbody tr th:only-of-type {\n        vertical-align: middle;\n    }\n\n    .dataframe tbody tr th {\n        vertical-align: top;\n    }\n\n    .dataframe thead th {\n        text-align: right;\n    }\n</style>\n<table border=\"1\" class=\"dataframe\">\n  <thead>\n    <tr style=\"text-align: right;\">\n      <th></th>\n      <th>Location</th>\n      <th>type_property</th>\n      <th>price</th>\n      <th>LT_resident_pcg</th>\n      <th>owner_pcg</th>\n      <th>family_pcg</th>\n      <th>state</th>\n      <th>rooms</th>\n      <th>bath</th>\n      <th>parking</th>\n      <th>...</th>\n      <th>Flat or Apartment</th>\n      <th>Non-residential properties</th>\n      <th>Total Suburb Dwellings</th>\n      <th>coordinate</th>\n      <th>distance_to_melbourne_cbd_km</th>\n      <th>nearest_shopping_center_distance_km</th>\n      <th>nearest_park_distance_km</th>\n      <th>nearest_tram_station_distance_km</th>\n      <th>nearest_train_station_distance_km</th>\n      <th>nearest_bus_stop_distance_km</th>\n    </tr>\n  </thead>\n  <tbody>\n    <tr>\n      <th>0</th>\n      <td>4506/33 Rose Lane Melbourne VIC 3000</td>\n      <td>Apartment / Unit / Flat</td>\n      <td>$520 per week</td>\n      <td>12.0</td>\n      <td>28.0</td>\n      <td>27.0</td>\n      <td>VIC</td>\n      <td>1.0</td>\n      <td>1.0</td>\n      <td>0.0</td>\n      <td>...</td>\n      <td>13278.0</td>\n      <td>123.0</td>\n      <td>13443.0</td>\n      <td>[-37.8150001, 144.9538708]</td>\n      <td>0.884547</td>\n      <td>0.202829</td>\n      <td>29.641073</td>\n      <td>0.135415</td>\n      <td>0.370453</td>\n      <td>0.135597</td>\n    </tr>\n    <tr>\n      <th>1</th>\n      <td>1715/220 Spencer Street Melbourne VIC 3000</td>\n      <td>Apartment / Unit / Flat</td>\n      <td>$750</td>\n      <td>12.0</td>\n      <td>28.0</td>\n      <td>27.0</td>\n      <td>VIC</td>\n      <td>2.0</td>\n      <td>2.0</td>\n      <td>1.0</td>\n      <td>...</td>\n      <td>13278.0</td>\n      <td>123.0</td>\n      <td>13443.0</td>\n      <td>[-37.815781, 144.9529156]</td>\n      <td>0.970252</td>\n      <td>0.082822</td>\n      <td>29.661964</td>\n      <td>0.070096</td>\n      <td>0.273663</td>\n      <td>0.087685</td>\n    </tr>\n    <tr>\n      <th>2</th>\n      <td>5801/648 Lonsdale Street Melbourne VIC 3000</td>\n      <td>Apartment / Unit / Flat</td>\n      <td>$800</td>\n      <td>12.0</td>\n      <td>20.0</td>\n      <td>34.0</td>\n      <td>VIC</td>\n      <td>2.0</td>\n      <td>2.0</td>\n      <td>0.0</td>\n      <td>...</td>\n      <td>13278.0</td>\n      <td>123.0</td>\n      <td>13443.0</td>\n      <td>[-37.8144537, 144.9534426]</td>\n      <td>0.925663</td>\n      <td>0.226635</td>\n      <td>29.706333</td>\n      <td>0.114239</td>\n      <td>0.336648</td>\n      <td>0.126732</td>\n    </tr>\n    <tr>\n      <th>3</th>\n      <td>521/422 Collins St Melbourne VIC 3000</td>\n      <td>Apartment / Unit / Flat</td>\n      <td>$500 weekly</td>\n      <td>18.0</td>\n      <td>28.0</td>\n      <td>39.0</td>\n      <td>VIC</td>\n      <td>1.0</td>\n      <td>1.0</td>\n      <td>0.0</td>\n      <td>...</td>\n      <td>13278.0</td>\n      <td>123.0</td>\n      <td>13443.0</td>\n      <td>[-37.8170971, 144.9601487]</td>\n      <td>0.393584</td>\n      <td>0.340323</td>\n      <td>29.054073</td>\n      <td>0.036919</td>\n      <td>0.613539</td>\n      <td>0.112485</td>\n    </tr>\n    <tr>\n      <th>4</th>\n      <td>603/199 William Street Melbourne VIC 3000</td>\n      <td>Apartment / Unit / Flat</td>\n      <td>$700</td>\n      <td>22.0</td>\n      <td>29.0</td>\n      <td>24.0</td>\n      <td>VIC</td>\n      <td>2.0</td>\n      <td>2.0</td>\n      <td>0.0</td>\n      <td>...</td>\n      <td>13278.0</td>\n      <td>123.0</td>\n      <td>13443.0</td>\n      <td>[-37.8145716, 144.9573479]</td>\n      <td>0.583106</td>\n      <td>0.474756</td>\n      <td>29.415873</td>\n      <td>0.120055</td>\n      <td>0.324232</td>\n      <td>0.080214</td>\n    </tr>\n  </tbody>\n</table>\n<p>5 rows × 48 columns</p>\n</div>"
     },
     "execution_count": 192,
     "metadata": {},
     "output_type": "execute_result"
    }
   ],
   "source": [
    "# add the distance to the new column\n",
    "domain_abs['nearest_bus_stop_distance_km'] = domain_abs['coordinate'].apply(find_nearest_bus_stop)\n",
    "\n",
    "# print\n",
    "domain_abs.head()"
   ],
   "metadata": {
    "collapsed": false
   }
  },
  {
   "cell_type": "code",
   "execution_count": null,
   "outputs": [],
   "source": [],
   "metadata": {
    "collapsed": false
   }
  },
  {
   "cell_type": "markdown",
   "source": [
    "### calculate distance to park"
   ],
   "metadata": {
    "collapsed": false
   }
  },
  {
   "cell_type": "code",
   "execution_count": 168,
   "outputs": [
    {
     "data": {
      "text/plain": "                                               name   latitude   longitude  \\\n0                           Brookvale Close Reserve -38.057068  145.368004   \n1  Ryelands Drive and Hillcrest Avenue Tree Reserve -38.017290  145.318246   \n2                          Hinrichsen Drive Reserve -38.014240  145.283707   \n3                                Lawson Way Reserve -37.976977  145.266181   \n4                          Western Way Tree Reserve -38.022186  145.296446   \n\n                                  address     area      suburb_name  \n0     50-52I Brookvale Close BEACONSFIELD   3819.0     BEACONSFIELD  \n1                  Ryelands Drive BERWICK   4679.0          BERWICK  \n2         127-129 Hinrichsen Drive HALLAM   1403.0           HALLAM  \n3  78-92I Heatherton Road ENDEAVOUR HILLS  11524.0  ENDEAVOUR HILLS  \n4       401I Princes Highway NARRE WARREN   8534.0     NARRE WARREN  ",
      "text/html": "<div>\n<style scoped>\n    .dataframe tbody tr th:only-of-type {\n        vertical-align: middle;\n    }\n\n    .dataframe tbody tr th {\n        vertical-align: top;\n    }\n\n    .dataframe thead th {\n        text-align: right;\n    }\n</style>\n<table border=\"1\" class=\"dataframe\">\n  <thead>\n    <tr style=\"text-align: right;\">\n      <th></th>\n      <th>name</th>\n      <th>latitude</th>\n      <th>longitude</th>\n      <th>address</th>\n      <th>area</th>\n      <th>suburb_name</th>\n    </tr>\n  </thead>\n  <tbody>\n    <tr>\n      <th>0</th>\n      <td>Brookvale Close Reserve</td>\n      <td>-38.057068</td>\n      <td>145.368004</td>\n      <td>50-52I Brookvale Close BEACONSFIELD</td>\n      <td>3819.0</td>\n      <td>BEACONSFIELD</td>\n    </tr>\n    <tr>\n      <th>1</th>\n      <td>Ryelands Drive and Hillcrest Avenue Tree Reserve</td>\n      <td>-38.017290</td>\n      <td>145.318246</td>\n      <td>Ryelands Drive BERWICK</td>\n      <td>4679.0</td>\n      <td>BERWICK</td>\n    </tr>\n    <tr>\n      <th>2</th>\n      <td>Hinrichsen Drive Reserve</td>\n      <td>-38.014240</td>\n      <td>145.283707</td>\n      <td>127-129 Hinrichsen Drive HALLAM</td>\n      <td>1403.0</td>\n      <td>HALLAM</td>\n    </tr>\n    <tr>\n      <th>3</th>\n      <td>Lawson Way Reserve</td>\n      <td>-37.976977</td>\n      <td>145.266181</td>\n      <td>78-92I Heatherton Road ENDEAVOUR HILLS</td>\n      <td>11524.0</td>\n      <td>ENDEAVOUR HILLS</td>\n    </tr>\n    <tr>\n      <th>4</th>\n      <td>Western Way Tree Reserve</td>\n      <td>-38.022186</td>\n      <td>145.296446</td>\n      <td>401I Princes Highway NARRE WARREN</td>\n      <td>8534.0</td>\n      <td>NARRE WARREN</td>\n    </tr>\n  </tbody>\n</table>\n</div>"
     },
     "execution_count": 168,
     "metadata": {},
     "output_type": "execute_result"
    }
   ],
   "source": [
    "# load the dataset\n",
    "park_path = \"../data/raw/finally_park.csv\"\n",
    "park_df = pd.read_csv(park_path)\n",
    "park_df.head()"
   ],
   "metadata": {
    "collapsed": false
   }
  },
  {
   "cell_type": "code",
   "execution_count": 169,
   "outputs": [
    {
     "data": {
      "text/plain": "                                               name   latitude   longitude  \\\n0                           Brookvale Close Reserve -38.057068  145.368004   \n1  Ryelands Drive and Hillcrest Avenue Tree Reserve -38.017290  145.318246   \n2                          Hinrichsen Drive Reserve -38.014240  145.283707   \n3                                Lawson Way Reserve -37.976977  145.266181   \n4                          Western Way Tree Reserve -38.022186  145.296446   \n\n                                  address     area      suburb_name  \\\n0     50-52I Brookvale Close BEACONSFIELD   3819.0     BEACONSFIELD   \n1                  Ryelands Drive BERWICK   4679.0          BERWICK   \n2         127-129 Hinrichsen Drive HALLAM   1403.0           HALLAM   \n3  78-92I Heatherton Road ENDEAVOUR HILLS  11524.0  ENDEAVOUR HILLS   \n4       401I Princes Highway NARRE WARREN   8534.0     NARRE WARREN   \n\n                               coordinate  \n0  [-38.05706828292311, 145.368004149094]  \n1    [-38.0172903001506, 145.31824611567]  \n2   [-38.0142400895596, 145.283707218519]  \n3    [-37.9769772942694, 145.26618127186]  \n4    [-38.0221864905952, 145.29644586981]  ",
      "text/html": "<div>\n<style scoped>\n    .dataframe tbody tr th:only-of-type {\n        vertical-align: middle;\n    }\n\n    .dataframe tbody tr th {\n        vertical-align: top;\n    }\n\n    .dataframe thead th {\n        text-align: right;\n    }\n</style>\n<table border=\"1\" class=\"dataframe\">\n  <thead>\n    <tr style=\"text-align: right;\">\n      <th></th>\n      <th>name</th>\n      <th>latitude</th>\n      <th>longitude</th>\n      <th>address</th>\n      <th>area</th>\n      <th>suburb_name</th>\n      <th>coordinate</th>\n    </tr>\n  </thead>\n  <tbody>\n    <tr>\n      <th>0</th>\n      <td>Brookvale Close Reserve</td>\n      <td>-38.057068</td>\n      <td>145.368004</td>\n      <td>50-52I Brookvale Close BEACONSFIELD</td>\n      <td>3819.0</td>\n      <td>BEACONSFIELD</td>\n      <td>[-38.05706828292311, 145.368004149094]</td>\n    </tr>\n    <tr>\n      <th>1</th>\n      <td>Ryelands Drive and Hillcrest Avenue Tree Reserve</td>\n      <td>-38.017290</td>\n      <td>145.318246</td>\n      <td>Ryelands Drive BERWICK</td>\n      <td>4679.0</td>\n      <td>BERWICK</td>\n      <td>[-38.0172903001506, 145.31824611567]</td>\n    </tr>\n    <tr>\n      <th>2</th>\n      <td>Hinrichsen Drive Reserve</td>\n      <td>-38.014240</td>\n      <td>145.283707</td>\n      <td>127-129 Hinrichsen Drive HALLAM</td>\n      <td>1403.0</td>\n      <td>HALLAM</td>\n      <td>[-38.0142400895596, 145.283707218519]</td>\n    </tr>\n    <tr>\n      <th>3</th>\n      <td>Lawson Way Reserve</td>\n      <td>-37.976977</td>\n      <td>145.266181</td>\n      <td>78-92I Heatherton Road ENDEAVOUR HILLS</td>\n      <td>11524.0</td>\n      <td>ENDEAVOUR HILLS</td>\n      <td>[-37.9769772942694, 145.26618127186]</td>\n    </tr>\n    <tr>\n      <th>4</th>\n      <td>Western Way Tree Reserve</td>\n      <td>-38.022186</td>\n      <td>145.296446</td>\n      <td>401I Princes Highway NARRE WARREN</td>\n      <td>8534.0</td>\n      <td>NARRE WARREN</td>\n      <td>[-38.0221864905952, 145.29644586981]</td>\n    </tr>\n  </tbody>\n</table>\n</div>"
     },
     "execution_count": 169,
     "metadata": {},
     "output_type": "execute_result"
    }
   ],
   "source": [
    "# get the coodinate\n",
    "park_df['coordinate'] = park_df[['latitude', 'longitude']].apply(lambda x: [x['latitude'], x['longitude']], axis=1)\n",
    "park_df.head()"
   ],
   "metadata": {
    "collapsed": false
   }
  },
  {
   "cell_type": "code",
   "execution_count": 170,
   "outputs": [],
   "source": [
    "def find_nearest_park(property_coord):\n",
    "    '''\n",
    "    this function is to get the distance to the nearest park\n",
    "    :param property_coord:\n",
    "    :return minimal distance in km:\n",
    "    '''\n",
    "    min_distance = float('inf')\n",
    "    for park_coord in park_df['coordinate']:\n",
    "        distance = haversine_distance(property_coord[0], property_coord[1], park_coord[0], park_coord[1])\n",
    "        min_distance = min(min_distance, distance)\n",
    "    return min_distance"
   ],
   "metadata": {
    "collapsed": false
   }
  },
  {
   "cell_type": "code",
   "execution_count": 171,
   "outputs": [
    {
     "data": {
      "text/plain": "                                      Location            type_property  \\\n0         4506/33 Rose Lane Melbourne VIC 3000  Apartment / Unit / Flat   \n1   1715/220 Spencer Street Melbourne VIC 3000  Apartment / Unit / Flat   \n2  5801/648 Lonsdale Street Melbourne VIC 3000  Apartment / Unit / Flat   \n3        521/422 Collins St Melbourne VIC 3000  Apartment / Unit / Flat   \n4    603/199 William Street Melbourne VIC 3000  Apartment / Unit / Flat   \n\n           price  LT_resident_pcg  owner_pcg  family_pcg state  rooms  bath  \\\n0  $520 per week             12.0       28.0        27.0   VIC    1.0   1.0   \n1           $750             12.0       28.0        27.0   VIC    2.0   2.0   \n2           $800             12.0       20.0        34.0   VIC    2.0   2.0   \n3    $500 weekly             18.0       28.0        39.0   VIC    1.0   1.0   \n4           $700             22.0       29.0        24.0   VIC    2.0   2.0   \n\n   parking  ... Six or more persons in family Separate house  \\\n0      0.0  ...                           6.0           14.0   \n1      1.0  ...                           6.0           14.0   \n2      0.0  ...                           6.0           14.0   \n3      0.0  ...                           6.0           14.0   \n4      0.0  ...                           6.0           14.0   \n\n   Semi-detached house or Townhouse Flat or Apartment  \\\n0                              21.0           13278.0   \n1                              21.0           13278.0   \n2                              21.0           13278.0   \n3                              21.0           13278.0   \n4                              21.0           13278.0   \n\n   Non-residential properties Total Suburb Dwellings  \\\n0                       123.0                13443.0   \n1                       123.0                13443.0   \n2                       123.0                13443.0   \n3                       123.0                13443.0   \n4                       123.0                13443.0   \n\n                   coordinate  distance_to_melbourne_cbd_km  \\\n0  [-37.8150001, 144.9538708]                      0.884547   \n1   [-37.815781, 144.9529156]                      0.970252   \n2  [-37.8144537, 144.9534426]                      0.925663   \n3  [-37.8170971, 144.9601487]                      0.393584   \n4  [-37.8145716, 144.9573479]                      0.583106   \n\n   nearest_shopping_center_distance_km  nearest_park_distance_km  \n0                             0.202829                 29.641073  \n1                             0.082822                 29.661964  \n2                             0.226635                 29.706333  \n3                             0.340323                 29.054073  \n4                             0.474756                 29.415873  \n\n[5 rows x 45 columns]",
      "text/html": "<div>\n<style scoped>\n    .dataframe tbody tr th:only-of-type {\n        vertical-align: middle;\n    }\n\n    .dataframe tbody tr th {\n        vertical-align: top;\n    }\n\n    .dataframe thead th {\n        text-align: right;\n    }\n</style>\n<table border=\"1\" class=\"dataframe\">\n  <thead>\n    <tr style=\"text-align: right;\">\n      <th></th>\n      <th>Location</th>\n      <th>type_property</th>\n      <th>price</th>\n      <th>LT_resident_pcg</th>\n      <th>owner_pcg</th>\n      <th>family_pcg</th>\n      <th>state</th>\n      <th>rooms</th>\n      <th>bath</th>\n      <th>parking</th>\n      <th>...</th>\n      <th>Six or more persons in family</th>\n      <th>Separate house</th>\n      <th>Semi-detached house or Townhouse</th>\n      <th>Flat or Apartment</th>\n      <th>Non-residential properties</th>\n      <th>Total Suburb Dwellings</th>\n      <th>coordinate</th>\n      <th>distance_to_melbourne_cbd_km</th>\n      <th>nearest_shopping_center_distance_km</th>\n      <th>nearest_park_distance_km</th>\n    </tr>\n  </thead>\n  <tbody>\n    <tr>\n      <th>0</th>\n      <td>4506/33 Rose Lane Melbourne VIC 3000</td>\n      <td>Apartment / Unit / Flat</td>\n      <td>$520 per week</td>\n      <td>12.0</td>\n      <td>28.0</td>\n      <td>27.0</td>\n      <td>VIC</td>\n      <td>1.0</td>\n      <td>1.0</td>\n      <td>0.0</td>\n      <td>...</td>\n      <td>6.0</td>\n      <td>14.0</td>\n      <td>21.0</td>\n      <td>13278.0</td>\n      <td>123.0</td>\n      <td>13443.0</td>\n      <td>[-37.8150001, 144.9538708]</td>\n      <td>0.884547</td>\n      <td>0.202829</td>\n      <td>29.641073</td>\n    </tr>\n    <tr>\n      <th>1</th>\n      <td>1715/220 Spencer Street Melbourne VIC 3000</td>\n      <td>Apartment / Unit / Flat</td>\n      <td>$750</td>\n      <td>12.0</td>\n      <td>28.0</td>\n      <td>27.0</td>\n      <td>VIC</td>\n      <td>2.0</td>\n      <td>2.0</td>\n      <td>1.0</td>\n      <td>...</td>\n      <td>6.0</td>\n      <td>14.0</td>\n      <td>21.0</td>\n      <td>13278.0</td>\n      <td>123.0</td>\n      <td>13443.0</td>\n      <td>[-37.815781, 144.9529156]</td>\n      <td>0.970252</td>\n      <td>0.082822</td>\n      <td>29.661964</td>\n    </tr>\n    <tr>\n      <th>2</th>\n      <td>5801/648 Lonsdale Street Melbourne VIC 3000</td>\n      <td>Apartment / Unit / Flat</td>\n      <td>$800</td>\n      <td>12.0</td>\n      <td>20.0</td>\n      <td>34.0</td>\n      <td>VIC</td>\n      <td>2.0</td>\n      <td>2.0</td>\n      <td>0.0</td>\n      <td>...</td>\n      <td>6.0</td>\n      <td>14.0</td>\n      <td>21.0</td>\n      <td>13278.0</td>\n      <td>123.0</td>\n      <td>13443.0</td>\n      <td>[-37.8144537, 144.9534426]</td>\n      <td>0.925663</td>\n      <td>0.226635</td>\n      <td>29.706333</td>\n    </tr>\n    <tr>\n      <th>3</th>\n      <td>521/422 Collins St Melbourne VIC 3000</td>\n      <td>Apartment / Unit / Flat</td>\n      <td>$500 weekly</td>\n      <td>18.0</td>\n      <td>28.0</td>\n      <td>39.0</td>\n      <td>VIC</td>\n      <td>1.0</td>\n      <td>1.0</td>\n      <td>0.0</td>\n      <td>...</td>\n      <td>6.0</td>\n      <td>14.0</td>\n      <td>21.0</td>\n      <td>13278.0</td>\n      <td>123.0</td>\n      <td>13443.0</td>\n      <td>[-37.8170971, 144.9601487]</td>\n      <td>0.393584</td>\n      <td>0.340323</td>\n      <td>29.054073</td>\n    </tr>\n    <tr>\n      <th>4</th>\n      <td>603/199 William Street Melbourne VIC 3000</td>\n      <td>Apartment / Unit / Flat</td>\n      <td>$700</td>\n      <td>22.0</td>\n      <td>29.0</td>\n      <td>24.0</td>\n      <td>VIC</td>\n      <td>2.0</td>\n      <td>2.0</td>\n      <td>0.0</td>\n      <td>...</td>\n      <td>6.0</td>\n      <td>14.0</td>\n      <td>21.0</td>\n      <td>13278.0</td>\n      <td>123.0</td>\n      <td>13443.0</td>\n      <td>[-37.8145716, 144.9573479]</td>\n      <td>0.583106</td>\n      <td>0.474756</td>\n      <td>29.415873</td>\n    </tr>\n  </tbody>\n</table>\n<p>5 rows × 45 columns</p>\n</div>"
     },
     "execution_count": 171,
     "metadata": {},
     "output_type": "execute_result"
    }
   ],
   "source": [
    "# add the distance to the new column\n",
    "domain_abs['nearest_park_distance_km'] = domain_abs['coordinate'].apply(find_nearest_park)\n",
    "\n",
    "# print\n",
    "domain_abs.head()"
   ],
   "metadata": {
    "collapsed": false
   }
  },
  {
   "cell_type": "code",
   "execution_count": null,
   "outputs": [],
   "source": [
    "print(domain_abs)"
   ],
   "metadata": {
    "collapsed": false
   }
  },
  {
   "cell_type": "markdown",
   "source": [
    "#### Calculate distance to schools"
   ],
   "metadata": {
    "collapsed": false
   }
  },
  {
   "cell_type": "code",
   "execution_count": 5,
   "outputs": [
    {
     "data": {
      "text/plain": "  Education_Sector                             School_Name School_Type  \\\n0       Government                 Alberton Primary School     Primary   \n1       Government  Allansford and District Primary School     Primary   \n2       Government                    Avoca Primary School     Primary   \n3       Government                   Avenel Primary School     Primary   \n4       Government               Warrandyte Primary School     Primary   \n\n       Address_Line_1 Address_Line_2 Address_Town Address_State  \\\n0   21 Thomson Street            NaN     Alberton           VIC   \n1        Frank Street            NaN   Allansford           VIC   \n2  118 Barnett Street            NaN        Avoca           VIC   \n3  40 Anderson Street            NaN       Avenel           VIC   \n4  5-11 Forbes Street            NaN   Warrandyte           VIC   \n\n   Address_Postcode          X         Y  \n0              3971  146.66660 -38.61771  \n1              3277  142.59039 -38.38628  \n2              3467  143.47565 -37.08450  \n3              3664  145.23472 -36.90137  \n4              3113  145.21398 -37.74268  ",
      "text/html": "<div>\n<style scoped>\n    .dataframe tbody tr th:only-of-type {\n        vertical-align: middle;\n    }\n\n    .dataframe tbody tr th {\n        vertical-align: top;\n    }\n\n    .dataframe thead th {\n        text-align: right;\n    }\n</style>\n<table border=\"1\" class=\"dataframe\">\n  <thead>\n    <tr style=\"text-align: right;\">\n      <th></th>\n      <th>Education_Sector</th>\n      <th>School_Name</th>\n      <th>School_Type</th>\n      <th>Address_Line_1</th>\n      <th>Address_Line_2</th>\n      <th>Address_Town</th>\n      <th>Address_State</th>\n      <th>Address_Postcode</th>\n      <th>X</th>\n      <th>Y</th>\n    </tr>\n  </thead>\n  <tbody>\n    <tr>\n      <th>0</th>\n      <td>Government</td>\n      <td>Alberton Primary School</td>\n      <td>Primary</td>\n      <td>21 Thomson Street</td>\n      <td>NaN</td>\n      <td>Alberton</td>\n      <td>VIC</td>\n      <td>3971</td>\n      <td>146.66660</td>\n      <td>-38.61771</td>\n    </tr>\n    <tr>\n      <th>1</th>\n      <td>Government</td>\n      <td>Allansford and District Primary School</td>\n      <td>Primary</td>\n      <td>Frank Street</td>\n      <td>NaN</td>\n      <td>Allansford</td>\n      <td>VIC</td>\n      <td>3277</td>\n      <td>142.59039</td>\n      <td>-38.38628</td>\n    </tr>\n    <tr>\n      <th>2</th>\n      <td>Government</td>\n      <td>Avoca Primary School</td>\n      <td>Primary</td>\n      <td>118 Barnett Street</td>\n      <td>NaN</td>\n      <td>Avoca</td>\n      <td>VIC</td>\n      <td>3467</td>\n      <td>143.47565</td>\n      <td>-37.08450</td>\n    </tr>\n    <tr>\n      <th>3</th>\n      <td>Government</td>\n      <td>Avenel Primary School</td>\n      <td>Primary</td>\n      <td>40 Anderson Street</td>\n      <td>NaN</td>\n      <td>Avenel</td>\n      <td>VIC</td>\n      <td>3664</td>\n      <td>145.23472</td>\n      <td>-36.90137</td>\n    </tr>\n    <tr>\n      <th>4</th>\n      <td>Government</td>\n      <td>Warrandyte Primary School</td>\n      <td>Primary</td>\n      <td>5-11 Forbes Street</td>\n      <td>NaN</td>\n      <td>Warrandyte</td>\n      <td>VIC</td>\n      <td>3113</td>\n      <td>145.21398</td>\n      <td>-37.74268</td>\n    </tr>\n  </tbody>\n</table>\n</div>"
     },
     "execution_count": 5,
     "metadata": {},
     "output_type": "execute_result"
    }
   ],
   "source": [
    "# load the dataset\n",
    "school_path = \"../data/raw/finally_school.csv\"\n",
    "school_df = pd.read_csv(school_path)\n",
    "school_df.head()"
   ],
   "metadata": {
    "collapsed": false
   }
  },
  {
   "cell_type": "code",
   "execution_count": 6,
   "outputs": [
    {
     "data": {
      "text/plain": "  Education_Sector                             School_Name School_Type  \\\n0       Government                 Alberton Primary School     Primary   \n1       Government  Allansford and District Primary School     Primary   \n2       Government                    Avoca Primary School     Primary   \n3       Government                   Avenel Primary School     Primary   \n4       Government               Warrandyte Primary School     Primary   \n\n       Address_Line_1 Address_Line_2 Address_Town Address_State  \\\n0   21 Thomson Street            NaN     Alberton           VIC   \n1        Frank Street            NaN   Allansford           VIC   \n2  118 Barnett Street            NaN        Avoca           VIC   \n3  40 Anderson Street            NaN       Avenel           VIC   \n4  5-11 Forbes Street            NaN   Warrandyte           VIC   \n\n   Address_Postcode          X         Y              coordinate  \n0              3971  146.66660 -38.61771   [-38.61771, 146.6666]  \n1              3277  142.59039 -38.38628  [-38.38628, 142.59039]  \n2              3467  143.47565 -37.08450   [-37.0845, 143.47565]  \n3              3664  145.23472 -36.90137  [-36.90137, 145.23472]  \n4              3113  145.21398 -37.74268  [-37.74268, 145.21398]  ",
      "text/html": "<div>\n<style scoped>\n    .dataframe tbody tr th:only-of-type {\n        vertical-align: middle;\n    }\n\n    .dataframe tbody tr th {\n        vertical-align: top;\n    }\n\n    .dataframe thead th {\n        text-align: right;\n    }\n</style>\n<table border=\"1\" class=\"dataframe\">\n  <thead>\n    <tr style=\"text-align: right;\">\n      <th></th>\n      <th>Education_Sector</th>\n      <th>School_Name</th>\n      <th>School_Type</th>\n      <th>Address_Line_1</th>\n      <th>Address_Line_2</th>\n      <th>Address_Town</th>\n      <th>Address_State</th>\n      <th>Address_Postcode</th>\n      <th>X</th>\n      <th>Y</th>\n      <th>coordinate</th>\n    </tr>\n  </thead>\n  <tbody>\n    <tr>\n      <th>0</th>\n      <td>Government</td>\n      <td>Alberton Primary School</td>\n      <td>Primary</td>\n      <td>21 Thomson Street</td>\n      <td>NaN</td>\n      <td>Alberton</td>\n      <td>VIC</td>\n      <td>3971</td>\n      <td>146.66660</td>\n      <td>-38.61771</td>\n      <td>[-38.61771, 146.6666]</td>\n    </tr>\n    <tr>\n      <th>1</th>\n      <td>Government</td>\n      <td>Allansford and District Primary School</td>\n      <td>Primary</td>\n      <td>Frank Street</td>\n      <td>NaN</td>\n      <td>Allansford</td>\n      <td>VIC</td>\n      <td>3277</td>\n      <td>142.59039</td>\n      <td>-38.38628</td>\n      <td>[-38.38628, 142.59039]</td>\n    </tr>\n    <tr>\n      <th>2</th>\n      <td>Government</td>\n      <td>Avoca Primary School</td>\n      <td>Primary</td>\n      <td>118 Barnett Street</td>\n      <td>NaN</td>\n      <td>Avoca</td>\n      <td>VIC</td>\n      <td>3467</td>\n      <td>143.47565</td>\n      <td>-37.08450</td>\n      <td>[-37.0845, 143.47565]</td>\n    </tr>\n    <tr>\n      <th>3</th>\n      <td>Government</td>\n      <td>Avenel Primary School</td>\n      <td>Primary</td>\n      <td>40 Anderson Street</td>\n      <td>NaN</td>\n      <td>Avenel</td>\n      <td>VIC</td>\n      <td>3664</td>\n      <td>145.23472</td>\n      <td>-36.90137</td>\n      <td>[-36.90137, 145.23472]</td>\n    </tr>\n    <tr>\n      <th>4</th>\n      <td>Government</td>\n      <td>Warrandyte Primary School</td>\n      <td>Primary</td>\n      <td>5-11 Forbes Street</td>\n      <td>NaN</td>\n      <td>Warrandyte</td>\n      <td>VIC</td>\n      <td>3113</td>\n      <td>145.21398</td>\n      <td>-37.74268</td>\n      <td>[-37.74268, 145.21398]</td>\n    </tr>\n  </tbody>\n</table>\n</div>"
     },
     "execution_count": 6,
     "metadata": {},
     "output_type": "execute_result"
    }
   ],
   "source": [
    "# get the coordinate\n",
    "school_df['coordinate'] = school_df[['Y', 'X']].apply(lambda x: [x['Y'], x['X']], axis=1)\n",
    "school_df.head()"
   ],
   "metadata": {
    "collapsed": false
   }
  },
  {
   "cell_type": "code",
   "execution_count": 7,
   "outputs": [],
   "source": [
    "school_df.to_csv('../data/raw/school_geo.csv')"
   ],
   "metadata": {
    "collapsed": false
   }
  },
  {
   "cell_type": "code",
   "execution_count": 196,
   "outputs": [],
   "source": [
    "def find_nearest_school(property_coord):\n",
    "    '''\n",
    "    this function is to get the distance to the nearest school\n",
    "    :param property_coord:\n",
    "    :return minimal distance in km:\n",
    "    '''\n",
    "    min_distance = float('inf')\n",
    "    for school_coord in school_df['coordinate']:\n",
    "        distance = haversine_distance(property_coord[0], property_coord[1], school_coord[0], school_coord[1])\n",
    "        min_distance = min(min_distance, distance)\n",
    "    return min_distance\n"
   ],
   "metadata": {
    "collapsed": false
   }
  },
  {
   "cell_type": "code",
   "execution_count": 197,
   "outputs": [
    {
     "data": {
      "text/plain": "                                      Location            type_property  \\\n0         4506/33 Rose Lane Melbourne VIC 3000  Apartment / Unit / Flat   \n1   1715/220 Spencer Street Melbourne VIC 3000  Apartment / Unit / Flat   \n2  5801/648 Lonsdale Street Melbourne VIC 3000  Apartment / Unit / Flat   \n3        521/422 Collins St Melbourne VIC 3000  Apartment / Unit / Flat   \n4    603/199 William Street Melbourne VIC 3000  Apartment / Unit / Flat   \n\n           price  LT_resident_pcg  owner_pcg  family_pcg state  rooms  bath  \\\n0  $520 per week             12.0       28.0        27.0   VIC    1.0   1.0   \n1           $750             12.0       28.0        27.0   VIC    2.0   2.0   \n2           $800             12.0       20.0        34.0   VIC    2.0   2.0   \n3    $500 weekly             18.0       28.0        39.0   VIC    1.0   1.0   \n4           $700             22.0       29.0        24.0   VIC    2.0   2.0   \n\n   parking  ... Non-residential properties Total Suburb Dwellings  \\\n0      0.0  ...                      123.0                13443.0   \n1      1.0  ...                      123.0                13443.0   \n2      0.0  ...                      123.0                13443.0   \n3      0.0  ...                      123.0                13443.0   \n4      0.0  ...                      123.0                13443.0   \n\n                   coordinate distance_to_melbourne_cbd_km  \\\n0  [-37.8150001, 144.9538708]                     0.884547   \n1   [-37.815781, 144.9529156]                     0.970252   \n2  [-37.8144537, 144.9534426]                     0.925663   \n3  [-37.8170971, 144.9601487]                     0.393584   \n4  [-37.8145716, 144.9573479]                     0.583106   \n\n   nearest_shopping_center_distance_km nearest_park_distance_km  \\\n0                             0.202829                29.641073   \n1                             0.082822                29.661964   \n2                             0.226635                29.706333   \n3                             0.340323                29.054073   \n4                             0.474756                29.415873   \n\n   nearest_tram_station_distance_km  nearest_train_station_distance_km  \\\n0                          0.135415                           0.370453   \n1                          0.070096                           0.273663   \n2                          0.114239                           0.336648   \n3                          0.036919                           0.613539   \n4                          0.120055                           0.324232   \n\n   nearest_bus_stop_distance_km  nearest_school_distance_km  \n0                      0.135597                    0.239541  \n1                      0.087685                    0.296386  \n2                      0.126732                    0.193919  \n3                      0.112485                    0.356671  \n4                      0.080214                    0.242857  \n\n[5 rows x 49 columns]",
      "text/html": "<div>\n<style scoped>\n    .dataframe tbody tr th:only-of-type {\n        vertical-align: middle;\n    }\n\n    .dataframe tbody tr th {\n        vertical-align: top;\n    }\n\n    .dataframe thead th {\n        text-align: right;\n    }\n</style>\n<table border=\"1\" class=\"dataframe\">\n  <thead>\n    <tr style=\"text-align: right;\">\n      <th></th>\n      <th>Location</th>\n      <th>type_property</th>\n      <th>price</th>\n      <th>LT_resident_pcg</th>\n      <th>owner_pcg</th>\n      <th>family_pcg</th>\n      <th>state</th>\n      <th>rooms</th>\n      <th>bath</th>\n      <th>parking</th>\n      <th>...</th>\n      <th>Non-residential properties</th>\n      <th>Total Suburb Dwellings</th>\n      <th>coordinate</th>\n      <th>distance_to_melbourne_cbd_km</th>\n      <th>nearest_shopping_center_distance_km</th>\n      <th>nearest_park_distance_km</th>\n      <th>nearest_tram_station_distance_km</th>\n      <th>nearest_train_station_distance_km</th>\n      <th>nearest_bus_stop_distance_km</th>\n      <th>nearest_school_distance_km</th>\n    </tr>\n  </thead>\n  <tbody>\n    <tr>\n      <th>0</th>\n      <td>4506/33 Rose Lane Melbourne VIC 3000</td>\n      <td>Apartment / Unit / Flat</td>\n      <td>$520 per week</td>\n      <td>12.0</td>\n      <td>28.0</td>\n      <td>27.0</td>\n      <td>VIC</td>\n      <td>1.0</td>\n      <td>1.0</td>\n      <td>0.0</td>\n      <td>...</td>\n      <td>123.0</td>\n      <td>13443.0</td>\n      <td>[-37.8150001, 144.9538708]</td>\n      <td>0.884547</td>\n      <td>0.202829</td>\n      <td>29.641073</td>\n      <td>0.135415</td>\n      <td>0.370453</td>\n      <td>0.135597</td>\n      <td>0.239541</td>\n    </tr>\n    <tr>\n      <th>1</th>\n      <td>1715/220 Spencer Street Melbourne VIC 3000</td>\n      <td>Apartment / Unit / Flat</td>\n      <td>$750</td>\n      <td>12.0</td>\n      <td>28.0</td>\n      <td>27.0</td>\n      <td>VIC</td>\n      <td>2.0</td>\n      <td>2.0</td>\n      <td>1.0</td>\n      <td>...</td>\n      <td>123.0</td>\n      <td>13443.0</td>\n      <td>[-37.815781, 144.9529156]</td>\n      <td>0.970252</td>\n      <td>0.082822</td>\n      <td>29.661964</td>\n      <td>0.070096</td>\n      <td>0.273663</td>\n      <td>0.087685</td>\n      <td>0.296386</td>\n    </tr>\n    <tr>\n      <th>2</th>\n      <td>5801/648 Lonsdale Street Melbourne VIC 3000</td>\n      <td>Apartment / Unit / Flat</td>\n      <td>$800</td>\n      <td>12.0</td>\n      <td>20.0</td>\n      <td>34.0</td>\n      <td>VIC</td>\n      <td>2.0</td>\n      <td>2.0</td>\n      <td>0.0</td>\n      <td>...</td>\n      <td>123.0</td>\n      <td>13443.0</td>\n      <td>[-37.8144537, 144.9534426]</td>\n      <td>0.925663</td>\n      <td>0.226635</td>\n      <td>29.706333</td>\n      <td>0.114239</td>\n      <td>0.336648</td>\n      <td>0.126732</td>\n      <td>0.193919</td>\n    </tr>\n    <tr>\n      <th>3</th>\n      <td>521/422 Collins St Melbourne VIC 3000</td>\n      <td>Apartment / Unit / Flat</td>\n      <td>$500 weekly</td>\n      <td>18.0</td>\n      <td>28.0</td>\n      <td>39.0</td>\n      <td>VIC</td>\n      <td>1.0</td>\n      <td>1.0</td>\n      <td>0.0</td>\n      <td>...</td>\n      <td>123.0</td>\n      <td>13443.0</td>\n      <td>[-37.8170971, 144.9601487]</td>\n      <td>0.393584</td>\n      <td>0.340323</td>\n      <td>29.054073</td>\n      <td>0.036919</td>\n      <td>0.613539</td>\n      <td>0.112485</td>\n      <td>0.356671</td>\n    </tr>\n    <tr>\n      <th>4</th>\n      <td>603/199 William Street Melbourne VIC 3000</td>\n      <td>Apartment / Unit / Flat</td>\n      <td>$700</td>\n      <td>22.0</td>\n      <td>29.0</td>\n      <td>24.0</td>\n      <td>VIC</td>\n      <td>2.0</td>\n      <td>2.0</td>\n      <td>0.0</td>\n      <td>...</td>\n      <td>123.0</td>\n      <td>13443.0</td>\n      <td>[-37.8145716, 144.9573479]</td>\n      <td>0.583106</td>\n      <td>0.474756</td>\n      <td>29.415873</td>\n      <td>0.120055</td>\n      <td>0.324232</td>\n      <td>0.080214</td>\n      <td>0.242857</td>\n    </tr>\n  </tbody>\n</table>\n<p>5 rows × 49 columns</p>\n</div>"
     },
     "execution_count": 197,
     "metadata": {},
     "output_type": "execute_result"
    }
   ],
   "source": [
    "# add the distance to the new column\n",
    "domain_abs['nearest_school_distance_km'] = domain_abs['coordinate'].apply(find_nearest_school)\n",
    "\n",
    "# print\n",
    "domain_abs.head()"
   ],
   "metadata": {
    "collapsed": false
   }
  },
  {
   "cell_type": "markdown",
   "source": [
    "#### Save the file"
   ],
   "metadata": {
    "collapsed": false
   }
  },
  {
   "cell_type": "code",
   "execution_count": 138,
   "outputs": [],
   "source": [
    "# domain_abs.to_csv('../data/raw/tmp_with_cbd_dist.csv')"
   ],
   "metadata": {
    "collapsed": false
   }
  },
  {
   "cell_type": "code",
   "execution_count": 198,
   "outputs": [],
   "source": [
    "domain_abs.to_csv('../data/raw/property_to_dist.csv')"
   ],
   "metadata": {
    "collapsed": false
   }
  },
  {
   "cell_type": "code",
   "execution_count": null,
   "outputs": [],
   "source": [],
   "metadata": {
    "collapsed": false
   }
  },
  {
   "cell_type": "markdown",
   "source": [
    "### Join with income"
   ],
   "metadata": {
    "collapsed": false
   }
  },
  {
   "cell_type": "code",
   "execution_count": 205,
   "outputs": [
    {
     "data": {
      "text/plain": "          suburb  Weekly Income($)\n0     Canterbury            2352.0\n1  Park Orchards            2329.0\n2     Wonga Park            2221.0\n3       Brighton            2200.0\n4     Camberwell            2122.0",
      "text/html": "<div>\n<style scoped>\n    .dataframe tbody tr th:only-of-type {\n        vertical-align: middle;\n    }\n\n    .dataframe tbody tr th {\n        vertical-align: top;\n    }\n\n    .dataframe thead th {\n        text-align: right;\n    }\n</style>\n<table border=\"1\" class=\"dataframe\">\n  <thead>\n    <tr style=\"text-align: right;\">\n      <th></th>\n      <th>suburb</th>\n      <th>Weekly Income($)</th>\n    </tr>\n  </thead>\n  <tbody>\n    <tr>\n      <th>0</th>\n      <td>Canterbury</td>\n      <td>2352.0</td>\n    </tr>\n    <tr>\n      <th>1</th>\n      <td>Park Orchards</td>\n      <td>2329.0</td>\n    </tr>\n    <tr>\n      <th>2</th>\n      <td>Wonga Park</td>\n      <td>2221.0</td>\n    </tr>\n    <tr>\n      <th>3</th>\n      <td>Brighton</td>\n      <td>2200.0</td>\n    </tr>\n    <tr>\n      <th>4</th>\n      <td>Camberwell</td>\n      <td>2122.0</td>\n    </tr>\n  </tbody>\n</table>\n</div>"
     },
     "execution_count": 205,
     "metadata": {},
     "output_type": "execute_result"
    }
   ],
   "source": [
    "# load the income data\n",
    "income_path = \"../data/raw/ABS_data/income_suburb.csv\"\n",
    "income_df = pd.read_csv(income_path)\n",
    "income_df.head()"
   ],
   "metadata": {
    "collapsed": false
   }
  },
  {
   "cell_type": "code",
   "execution_count": 206,
   "outputs": [
    {
     "data": {
      "text/plain": "      SAL_NAME21  Weekly Income($)\n0     Canterbury            2352.0\n1  Park Orchards            2329.0\n2     Wonga Park            2221.0\n3       Brighton            2200.0\n4     Camberwell            2122.0",
      "text/html": "<div>\n<style scoped>\n    .dataframe tbody tr th:only-of-type {\n        vertical-align: middle;\n    }\n\n    .dataframe tbody tr th {\n        vertical-align: top;\n    }\n\n    .dataframe thead th {\n        text-align: right;\n    }\n</style>\n<table border=\"1\" class=\"dataframe\">\n  <thead>\n    <tr style=\"text-align: right;\">\n      <th></th>\n      <th>SAL_NAME21</th>\n      <th>Weekly Income($)</th>\n    </tr>\n  </thead>\n  <tbody>\n    <tr>\n      <th>0</th>\n      <td>Canterbury</td>\n      <td>2352.0</td>\n    </tr>\n    <tr>\n      <th>1</th>\n      <td>Park Orchards</td>\n      <td>2329.0</td>\n    </tr>\n    <tr>\n      <th>2</th>\n      <td>Wonga Park</td>\n      <td>2221.0</td>\n    </tr>\n    <tr>\n      <th>3</th>\n      <td>Brighton</td>\n      <td>2200.0</td>\n    </tr>\n    <tr>\n      <th>4</th>\n      <td>Camberwell</td>\n      <td>2122.0</td>\n    </tr>\n  </tbody>\n</table>\n</div>"
     },
     "execution_count": 206,
     "metadata": {},
     "output_type": "execute_result"
    }
   ],
   "source": [
    "income_df = income_df.rename(columns={'suburb': 'SAL_NAME21'})\n",
    "income_df.head()"
   ],
   "metadata": {
    "collapsed": false
   }
  },
  {
   "cell_type": "code",
   "execution_count": 207,
   "outputs": [
    {
     "data": {
      "text/plain": "                                      Location            type_property  \\\n0         4506/33 Rose Lane Melbourne VIC 3000  Apartment / Unit / Flat   \n1   1715/220 Spencer Street Melbourne VIC 3000  Apartment / Unit / Flat   \n2  5801/648 Lonsdale Street Melbourne VIC 3000  Apartment / Unit / Flat   \n3        521/422 Collins St Melbourne VIC 3000  Apartment / Unit / Flat   \n4    603/199 William Street Melbourne VIC 3000  Apartment / Unit / Flat   \n\n           price  LT_resident_pcg  owner_pcg  family_pcg state  rooms  bath  \\\n0  $520 per week             12.0       28.0        27.0   VIC    1.0   1.0   \n1           $750             12.0       28.0        27.0   VIC    2.0   2.0   \n2           $800             12.0       20.0        34.0   VIC    2.0   2.0   \n3    $500 weekly             18.0       28.0        39.0   VIC    1.0   1.0   \n4           $700             22.0       29.0        24.0   VIC    2.0   2.0   \n\n   parking  ... Total Suburb Dwellings                  coordinate  \\\n0      0.0  ...                13443.0  [-37.8150001, 144.9538708]   \n1      1.0  ...                13443.0   [-37.815781, 144.9529156]   \n2      0.0  ...                13443.0  [-37.8144537, 144.9534426]   \n3      0.0  ...                13443.0  [-37.8170971, 144.9601487]   \n4      0.0  ...                13443.0  [-37.8145716, 144.9573479]   \n\n   distance_to_melbourne_cbd_km nearest_shopping_center_distance_km  \\\n0                      0.884547                            0.202829   \n1                      0.970252                            0.082822   \n2                      0.925663                            0.226635   \n3                      0.393584                            0.340323   \n4                      0.583106                            0.474756   \n\n   nearest_park_distance_km nearest_tram_station_distance_km  \\\n0                 29.641073                         0.135415   \n1                 29.661964                         0.070096   \n2                 29.706333                         0.114239   \n3                 29.054073                         0.036919   \n4                 29.415873                         0.120055   \n\n   nearest_train_station_distance_km  nearest_bus_stop_distance_km  \\\n0                           0.370453                      0.135597   \n1                           0.273663                      0.087685   \n2                           0.336648                      0.126732   \n3                           0.613539                      0.112485   \n4                           0.324232                      0.080214   \n\n   nearest_school_distance_km  Weekly Income($)  \n0                    0.239541             994.0  \n1                    0.296386             994.0  \n2                    0.193919             994.0  \n3                    0.356671             994.0  \n4                    0.242857             994.0  \n\n[5 rows x 50 columns]",
      "text/html": "<div>\n<style scoped>\n    .dataframe tbody tr th:only-of-type {\n        vertical-align: middle;\n    }\n\n    .dataframe tbody tr th {\n        vertical-align: top;\n    }\n\n    .dataframe thead th {\n        text-align: right;\n    }\n</style>\n<table border=\"1\" class=\"dataframe\">\n  <thead>\n    <tr style=\"text-align: right;\">\n      <th></th>\n      <th>Location</th>\n      <th>type_property</th>\n      <th>price</th>\n      <th>LT_resident_pcg</th>\n      <th>owner_pcg</th>\n      <th>family_pcg</th>\n      <th>state</th>\n      <th>rooms</th>\n      <th>bath</th>\n      <th>parking</th>\n      <th>...</th>\n      <th>Total Suburb Dwellings</th>\n      <th>coordinate</th>\n      <th>distance_to_melbourne_cbd_km</th>\n      <th>nearest_shopping_center_distance_km</th>\n      <th>nearest_park_distance_km</th>\n      <th>nearest_tram_station_distance_km</th>\n      <th>nearest_train_station_distance_km</th>\n      <th>nearest_bus_stop_distance_km</th>\n      <th>nearest_school_distance_km</th>\n      <th>Weekly Income($)</th>\n    </tr>\n  </thead>\n  <tbody>\n    <tr>\n      <th>0</th>\n      <td>4506/33 Rose Lane Melbourne VIC 3000</td>\n      <td>Apartment / Unit / Flat</td>\n      <td>$520 per week</td>\n      <td>12.0</td>\n      <td>28.0</td>\n      <td>27.0</td>\n      <td>VIC</td>\n      <td>1.0</td>\n      <td>1.0</td>\n      <td>0.0</td>\n      <td>...</td>\n      <td>13443.0</td>\n      <td>[-37.8150001, 144.9538708]</td>\n      <td>0.884547</td>\n      <td>0.202829</td>\n      <td>29.641073</td>\n      <td>0.135415</td>\n      <td>0.370453</td>\n      <td>0.135597</td>\n      <td>0.239541</td>\n      <td>994.0</td>\n    </tr>\n    <tr>\n      <th>1</th>\n      <td>1715/220 Spencer Street Melbourne VIC 3000</td>\n      <td>Apartment / Unit / Flat</td>\n      <td>$750</td>\n      <td>12.0</td>\n      <td>28.0</td>\n      <td>27.0</td>\n      <td>VIC</td>\n      <td>2.0</td>\n      <td>2.0</td>\n      <td>1.0</td>\n      <td>...</td>\n      <td>13443.0</td>\n      <td>[-37.815781, 144.9529156]</td>\n      <td>0.970252</td>\n      <td>0.082822</td>\n      <td>29.661964</td>\n      <td>0.070096</td>\n      <td>0.273663</td>\n      <td>0.087685</td>\n      <td>0.296386</td>\n      <td>994.0</td>\n    </tr>\n    <tr>\n      <th>2</th>\n      <td>5801/648 Lonsdale Street Melbourne VIC 3000</td>\n      <td>Apartment / Unit / Flat</td>\n      <td>$800</td>\n      <td>12.0</td>\n      <td>20.0</td>\n      <td>34.0</td>\n      <td>VIC</td>\n      <td>2.0</td>\n      <td>2.0</td>\n      <td>0.0</td>\n      <td>...</td>\n      <td>13443.0</td>\n      <td>[-37.8144537, 144.9534426]</td>\n      <td>0.925663</td>\n      <td>0.226635</td>\n      <td>29.706333</td>\n      <td>0.114239</td>\n      <td>0.336648</td>\n      <td>0.126732</td>\n      <td>0.193919</td>\n      <td>994.0</td>\n    </tr>\n    <tr>\n      <th>3</th>\n      <td>521/422 Collins St Melbourne VIC 3000</td>\n      <td>Apartment / Unit / Flat</td>\n      <td>$500 weekly</td>\n      <td>18.0</td>\n      <td>28.0</td>\n      <td>39.0</td>\n      <td>VIC</td>\n      <td>1.0</td>\n      <td>1.0</td>\n      <td>0.0</td>\n      <td>...</td>\n      <td>13443.0</td>\n      <td>[-37.8170971, 144.9601487]</td>\n      <td>0.393584</td>\n      <td>0.340323</td>\n      <td>29.054073</td>\n      <td>0.036919</td>\n      <td>0.613539</td>\n      <td>0.112485</td>\n      <td>0.356671</td>\n      <td>994.0</td>\n    </tr>\n    <tr>\n      <th>4</th>\n      <td>603/199 William Street Melbourne VIC 3000</td>\n      <td>Apartment / Unit / Flat</td>\n      <td>$700</td>\n      <td>22.0</td>\n      <td>29.0</td>\n      <td>24.0</td>\n      <td>VIC</td>\n      <td>2.0</td>\n      <td>2.0</td>\n      <td>0.0</td>\n      <td>...</td>\n      <td>13443.0</td>\n      <td>[-37.8145716, 144.9573479]</td>\n      <td>0.583106</td>\n      <td>0.474756</td>\n      <td>29.415873</td>\n      <td>0.120055</td>\n      <td>0.324232</td>\n      <td>0.080214</td>\n      <td>0.242857</td>\n      <td>994.0</td>\n    </tr>\n  </tbody>\n</table>\n<p>5 rows × 50 columns</p>\n</div>"
     },
     "execution_count": 207,
     "metadata": {},
     "output_type": "execute_result"
    }
   ],
   "source": [
    "final_df = pd.merge(domain_abs, income_df, on='SAL_NAME21', how='outer')\n",
    "final_df.head()"
   ],
   "metadata": {
    "collapsed": false
   }
  },
  {
   "cell_type": "markdown",
   "source": [
    "### Save the file\n"
   ],
   "metadata": {
    "collapsed": false
   }
  },
  {
   "cell_type": "code",
   "execution_count": 208,
   "outputs": [],
   "source": [
    "final_df.to_csv('../data/raw/final_data_1.csv')\n"
   ],
   "metadata": {
    "collapsed": false
   }
  },
  {
   "cell_type": "code",
   "execution_count": null,
   "outputs": [],
   "source": [],
   "metadata": {
    "collapsed": false
   }
  }
 ],
 "metadata": {
  "kernelspec": {
   "display_name": "Python 3",
   "language": "python",
   "name": "python3"
  },
  "language_info": {
   "codemirror_mode": {
    "name": "ipython",
    "version": 2
   },
   "file_extension": ".py",
   "mimetype": "text/x-python",
   "name": "python",
   "nbconvert_exporter": "python",
   "pygments_lexer": "ipython2",
   "version": "2.7.6"
  }
 },
 "nbformat": 4,
 "nbformat_minor": 0
}
