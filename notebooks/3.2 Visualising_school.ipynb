{
 "cells": [
  {
   "cell_type": "markdown",
   "id": "329c8254-cb35-47f9-8860-5e7ebd8be62a",
   "metadata": {},
   "source": [
    "# Visualisation of school count in each suburb \n",
    "\n",
    "This notebook will generate visualisation of number of school in each suburb"
   ]
  },
  {
   "cell_type": "code",
   "execution_count": 1,
   "id": "52003293-75af-4581-bdf6-ad53ac60e4be",
   "metadata": {},
   "outputs": [],
   "source": [
    "import pandas as pd\n",
    "import geopandas as gpd\n",
    "import folium"
   ]
  },
  {
   "cell_type": "markdown",
   "id": "d6213b79-3616-4767-a639-e74ebc2d35da",
   "metadata": {},
   "source": [
    "### Read in the data"
   ]
  },
  {
   "cell_type": "code",
   "execution_count": 2,
   "id": "5cd7eb95-0cfb-466d-8f14-7fad7341a772",
   "metadata": {},
   "outputs": [],
   "source": [
    "# read the listing file that contain school information\n",
    "listing = pd.read_csv('../data/raw/SCHOOL&PARK_count_with_SA2_with_SCHOOL&PARK_count.csv')"
   ]
  },
  {
   "cell_type": "code",
   "execution_count": 3,
   "id": "e6dc1787-9200-478f-bc11-75ea345d9f7d",
   "metadata": {},
   "outputs": [
    {
     "data": {
      "text/plain": [
       "Index(['Location', 'type_property', 'price', 'LT_resident_pcg', 'owner_pcg',\n",
       "       'family_pcg', 'state', 'rooms', 'bath', 'parking', 'link', 'public_1',\n",
       "       'public_1_dis', 'public_2', 'public_2_dis', 'private_1',\n",
       "       'private_1_dis', 'pulic_1_dis', 'pulic_2_dis', 'rent', 'is_furnished',\n",
       "       'latitude', 'longitude', 'geometry', 'SA2_NAME', 'SA2_CODE',\n",
       "       'SAL_NAME21', 'SAL_CODE', 'SA2_NAME21', 'SA2_CODE21', 'METRO_TRAIN',\n",
       "       'REGIONAL_TRAIN', 'Tram_Count', 'METRO_BUS', 'REGIONAL_BUS',\n",
       "       'REGIONAL_COACH', 'SKYBUS', 'SAL_NAME', 'School_Count', 'Park_Count'],\n",
       "      dtype='object')"
      ]
     },
     "execution_count": 3,
     "metadata": {},
     "output_type": "execute_result"
    }
   ],
   "source": [
    "listing.columns"
   ]
  },
  {
   "cell_type": "code",
   "execution_count": 4,
   "id": "c1ecabcf-b906-4457-8d84-2e6a314efb6f",
   "metadata": {},
   "outputs": [],
   "source": [
    "school_count = listing[['SAL_NAME21', 'SAL_CODE', 'School_Count']]"
   ]
  },
  {
   "cell_type": "code",
   "execution_count": 5,
   "id": "111331d0-9f2e-4421-b2d9-8e3e0d407ac4",
   "metadata": {
    "scrolled": true
   },
   "outputs": [],
   "source": [
    "# drop duplicate \n",
    "school_count = school_count.drop_duplicates() "
   ]
  },
  {
   "cell_type": "code",
   "execution_count": 6,
   "id": "233bc06b-21e3-4c53-bd7e-2b417c21bd42",
   "metadata": {},
   "outputs": [],
   "source": [
    "# replace nan column with 0\n",
    "school_count = school_count.fillna(0)\n"
   ]
  },
  {
   "cell_type": "code",
   "execution_count": 7,
   "id": "4834d618-2b46-41be-a8de-c416d818c91e",
   "metadata": {},
   "outputs": [],
   "source": [
    "# rename column\n",
    "school_count.rename(columns = {\"SAL_CODE\": \"SAL_CODE21\"}, inplace = True)"
   ]
  },
  {
   "cell_type": "code",
   "execution_count": 8,
   "id": "63e3a6d5-e8cc-4ed7-acce-d21c94d4f631",
   "metadata": {},
   "outputs": [],
   "source": [
    "# Path to the SAL files\n",
    "SAL_file_path = \"../data/raw/victoria_region_gdf/SAL_region_gdf.geojson\"\n",
    "\n",
    "# read the SAL file\n",
    "SAL_gdf = gpd.read_file(SAL_file_path)"
   ]
  },
  {
   "cell_type": "code",
   "execution_count": 9,
   "id": "cdc9c46a-435a-4cff-9848-70ae35152062",
   "metadata": {},
   "outputs": [],
   "source": [
    "# change the type of the file\n",
    "SAL_gdf['SAL_CODE21'] = SAL_gdf['SAL_CODE21'].astype('int')"
   ]
  },
  {
   "cell_type": "code",
   "execution_count": 10,
   "id": "afdfeacd-1b8e-4138-9628-fc7e72639202",
   "metadata": {},
   "outputs": [],
   "source": [
    "# create a JSON object about location and their respective geomtry\n",
    "geoJSON = SAL_gdf[['SAL_CODE21', 'geometry']].to_json()"
   ]
  },
  {
   "cell_type": "code",
   "execution_count": 11,
   "id": "f7205f1a-ee9f-4ed7-86ee-bcd963f8a738",
   "metadata": {},
   "outputs": [],
   "source": [
    "# fill in 0 for the suburbs not in the list, if not in the list, 0 school\n",
    "school_count = pd.merge(school_count, SAL_gdf, on = 'SAL_CODE21', how = 'right')"
   ]
  },
  {
   "cell_type": "code",
   "execution_count": 12,
   "id": "2600033a-10ce-432a-932a-9991f823b8a0",
   "metadata": {},
   "outputs": [
    {
     "data": {
      "text/html": [
       "<div>\n",
       "<style scoped>\n",
       "    .dataframe tbody tr th:only-of-type {\n",
       "        vertical-align: middle;\n",
       "    }\n",
       "\n",
       "    .dataframe tbody tr th {\n",
       "        vertical-align: top;\n",
       "    }\n",
       "\n",
       "    .dataframe thead th {\n",
       "        text-align: right;\n",
       "    }\n",
       "</style>\n",
       "<table border=\"1\" class=\"dataframe\">\n",
       "  <thead>\n",
       "    <tr style=\"text-align: right;\">\n",
       "      <th></th>\n",
       "      <th>SAL_NAME21_y</th>\n",
       "      <th>SAL_CODE21</th>\n",
       "      <th>School_Count</th>\n",
       "    </tr>\n",
       "  </thead>\n",
       "  <tbody>\n",
       "    <tr>\n",
       "      <th>0</th>\n",
       "      <td>Abbeyard</td>\n",
       "      <td>20001.0</td>\n",
       "      <td>0.0</td>\n",
       "    </tr>\n",
       "    <tr>\n",
       "      <th>1</th>\n",
       "      <td>Abbotsford</td>\n",
       "      <td>20002.0</td>\n",
       "      <td>2.0</td>\n",
       "    </tr>\n",
       "    <tr>\n",
       "      <th>2</th>\n",
       "      <td>Aberfeldie</td>\n",
       "      <td>20003.0</td>\n",
       "      <td>4.0</td>\n",
       "    </tr>\n",
       "    <tr>\n",
       "      <th>3</th>\n",
       "      <td>Aberfeldy</td>\n",
       "      <td>20004.0</td>\n",
       "      <td>0.0</td>\n",
       "    </tr>\n",
       "    <tr>\n",
       "      <th>4</th>\n",
       "      <td>Acheron</td>\n",
       "      <td>20005.0</td>\n",
       "      <td>0.0</td>\n",
       "    </tr>\n",
       "    <tr>\n",
       "      <th>...</th>\n",
       "      <td>...</td>\n",
       "      <td>...</td>\n",
       "      <td>...</td>\n",
       "    </tr>\n",
       "    <tr>\n",
       "      <th>2939</th>\n",
       "      <td>Yundool</td>\n",
       "      <td>22940.0</td>\n",
       "      <td>0.0</td>\n",
       "    </tr>\n",
       "    <tr>\n",
       "      <th>2940</th>\n",
       "      <td>Yuroke</td>\n",
       "      <td>22941.0</td>\n",
       "      <td>0.0</td>\n",
       "    </tr>\n",
       "    <tr>\n",
       "      <th>2941</th>\n",
       "      <td>Yuulong</td>\n",
       "      <td>22942.0</td>\n",
       "      <td>0.0</td>\n",
       "    </tr>\n",
       "    <tr>\n",
       "      <th>2942</th>\n",
       "      <td>Zeerust</td>\n",
       "      <td>22943.0</td>\n",
       "      <td>0.0</td>\n",
       "    </tr>\n",
       "    <tr>\n",
       "      <th>2943</th>\n",
       "      <td>Zumsteins</td>\n",
       "      <td>22944.0</td>\n",
       "      <td>0.0</td>\n",
       "    </tr>\n",
       "  </tbody>\n",
       "</table>\n",
       "<p>2944 rows × 3 columns</p>\n",
       "</div>"
      ],
      "text/plain": [
       "     SAL_NAME21_y  SAL_CODE21  School_Count\n",
       "0        Abbeyard     20001.0           0.0\n",
       "1     Abbotsford      20002.0           2.0\n",
       "2      Aberfeldie     20003.0           4.0\n",
       "3       Aberfeldy     20004.0           0.0\n",
       "4         Acheron     20005.0           0.0\n",
       "...           ...         ...           ...\n",
       "2939      Yundool     22940.0           0.0\n",
       "2940       Yuroke     22941.0           0.0\n",
       "2941      Yuulong     22942.0           0.0\n",
       "2942      Zeerust     22943.0           0.0\n",
       "2943    Zumsteins     22944.0           0.0\n",
       "\n",
       "[2944 rows x 3 columns]"
      ]
     },
     "execution_count": 12,
     "metadata": {},
     "output_type": "execute_result"
    }
   ],
   "source": [
    "# feature selection\n",
    "sal_school_count = school_count[['SAL_NAME21_y', 'SAL_CODE21', 'School_Count']].fillna(0)\n",
    "sal_school_count"
   ]
  },
  {
   "cell_type": "code",
   "execution_count": 13,
   "id": "a48d891e-c6de-45e0-9590-0b0b1f893e1a",
   "metadata": {},
   "outputs": [
    {
     "data": {
      "text/html": [
       "<div>\n",
       "<style scoped>\n",
       "    .dataframe tbody tr th:only-of-type {\n",
       "        vertical-align: middle;\n",
       "    }\n",
       "\n",
       "    .dataframe tbody tr th {\n",
       "        vertical-align: top;\n",
       "    }\n",
       "\n",
       "    .dataframe thead th {\n",
       "        text-align: right;\n",
       "    }\n",
       "</style>\n",
       "<table border=\"1\" class=\"dataframe\">\n",
       "  <thead>\n",
       "    <tr style=\"text-align: right;\">\n",
       "      <th></th>\n",
       "      <th>SAL_NAME21_y</th>\n",
       "      <th>SAL_CODE21</th>\n",
       "      <th>School_Count</th>\n",
       "    </tr>\n",
       "  </thead>\n",
       "  <tbody>\n",
       "    <tr>\n",
       "      <th>2749</th>\n",
       "      <td>Werribee</td>\n",
       "      <td>22750.0</td>\n",
       "      <td>15.0</td>\n",
       "    </tr>\n",
       "    <tr>\n",
       "      <th>946</th>\n",
       "      <td>Frankston</td>\n",
       "      <td>20947.0</td>\n",
       "      <td>15.0</td>\n",
       "    </tr>\n",
       "    <tr>\n",
       "      <th>2390</th>\n",
       "      <td>Sunbury</td>\n",
       "      <td>22391.0</td>\n",
       "      <td>14.0</td>\n",
       "    </tr>\n",
       "    <tr>\n",
       "      <th>2160</th>\n",
       "      <td>Reservoir</td>\n",
       "      <td>22161.0</td>\n",
       "      <td>14.0</td>\n",
       "    </tr>\n",
       "    <tr>\n",
       "      <th>1012</th>\n",
       "      <td>Glen Waverley</td>\n",
       "      <td>21013.0</td>\n",
       "      <td>13.0</td>\n",
       "    </tr>\n",
       "  </tbody>\n",
       "</table>\n",
       "</div>"
      ],
      "text/plain": [
       "       SAL_NAME21_y  SAL_CODE21  School_Count\n",
       "2749       Werribee     22750.0          15.0\n",
       "946       Frankston     20947.0          15.0\n",
       "2390        Sunbury     22391.0          14.0\n",
       "2160     Reservoir      22161.0          14.0\n",
       "1012  Glen Waverley     21013.0          13.0"
      ]
     },
     "execution_count": 13,
     "metadata": {},
     "output_type": "execute_result"
    }
   ],
   "source": [
    "# the top 5 suburbs with the most school\n",
    "top5 = sal_school_count.sort_values(by = 'School_Count', ascending = False)[0:5]\n",
    "top5"
   ]
  },
  {
   "cell_type": "code",
   "execution_count": 14,
   "id": "dfcd3646-5aae-4584-a435-164ff2af09ad",
   "metadata": {},
   "outputs": [],
   "source": [
    "# change the type of the code column\n",
    "SAL_gdf['SAL_CODE21'] = SAL_gdf['SAL_CODE21'].astype('int')"
   ]
  },
  {
   "cell_type": "code",
   "execution_count": 15,
   "id": "e3d6e548-68ce-4579-8ada-4a7ce7888632",
   "metadata": {},
   "outputs": [
    {
     "data": {
      "text/html": [
       "<div>\n",
       "<style scoped>\n",
       "    .dataframe tbody tr th:only-of-type {\n",
       "        vertical-align: middle;\n",
       "    }\n",
       "\n",
       "    .dataframe tbody tr th {\n",
       "        vertical-align: top;\n",
       "    }\n",
       "\n",
       "    .dataframe thead th {\n",
       "        text-align: right;\n",
       "    }\n",
       "</style>\n",
       "<table border=\"1\" class=\"dataframe\">\n",
       "  <thead>\n",
       "    <tr style=\"text-align: right;\">\n",
       "      <th></th>\n",
       "      <th>SAL_NAME21_y</th>\n",
       "      <th>SAL_CODE21</th>\n",
       "      <th>School_Count</th>\n",
       "      <th>SAL_NAME21</th>\n",
       "      <th>SHAPE_Area</th>\n",
       "      <th>geometry</th>\n",
       "    </tr>\n",
       "  </thead>\n",
       "  <tbody>\n",
       "    <tr>\n",
       "      <th>0</th>\n",
       "      <td>Werribee</td>\n",
       "      <td>22750.0</td>\n",
       "      <td>15.0</td>\n",
       "      <td>Werribee</td>\n",
       "      <td>0.004393</td>\n",
       "      <td>POLYGON ((144.67539 -37.91386, 144.67262 -37.9...</td>\n",
       "    </tr>\n",
       "    <tr>\n",
       "      <th>1</th>\n",
       "      <td>Frankston</td>\n",
       "      <td>20947.0</td>\n",
       "      <td>15.0</td>\n",
       "      <td>Frankston</td>\n",
       "      <td>0.002033</td>\n",
       "      <td>POLYGON ((145.16317 -38.13236, 145.16351 -38.1...</td>\n",
       "    </tr>\n",
       "    <tr>\n",
       "      <th>2</th>\n",
       "      <td>Sunbury</td>\n",
       "      <td>22391.0</td>\n",
       "      <td>14.0</td>\n",
       "      <td>Sunbury</td>\n",
       "      <td>0.013481</td>\n",
       "      <td>POLYGON ((144.71079 -37.48236, 144.71112 -37.4...</td>\n",
       "    </tr>\n",
       "    <tr>\n",
       "      <th>3</th>\n",
       "      <td>Reservoir</td>\n",
       "      <td>22161.0</td>\n",
       "      <td>14.0</td>\n",
       "      <td>Reservoir</td>\n",
       "      <td>0.001944</td>\n",
       "      <td>POLYGON ((145.02209 -37.71516, 145.02201 -37.7...</td>\n",
       "    </tr>\n",
       "    <tr>\n",
       "      <th>4</th>\n",
       "      <td>Glen Waverley</td>\n",
       "      <td>21013.0</td>\n",
       "      <td>13.0</td>\n",
       "      <td>Glen Waverley</td>\n",
       "      <td>0.001725</td>\n",
       "      <td>POLYGON ((145.16448 -37.86142, 145.16514 -37.8...</td>\n",
       "    </tr>\n",
       "  </tbody>\n",
       "</table>\n",
       "</div>"
      ],
      "text/plain": [
       "    SAL_NAME21_y  SAL_CODE21  School_Count     SAL_NAME21  SHAPE_Area  \\\n",
       "0       Werribee     22750.0          15.0       Werribee    0.004393   \n",
       "1      Frankston     20947.0          15.0      Frankston    0.002033   \n",
       "2        Sunbury     22391.0          14.0        Sunbury    0.013481   \n",
       "3     Reservoir      22161.0          14.0     Reservoir     0.001944   \n",
       "4  Glen Waverley     21013.0          13.0  Glen Waverley    0.001725   \n",
       "\n",
       "                                            geometry  \n",
       "0  POLYGON ((144.67539 -37.91386, 144.67262 -37.9...  \n",
       "1  POLYGON ((145.16317 -38.13236, 145.16351 -38.1...  \n",
       "2  POLYGON ((144.71079 -37.48236, 144.71112 -37.4...  \n",
       "3  POLYGON ((145.02209 -37.71516, 145.02201 -37.7...  \n",
       "4  POLYGON ((145.16448 -37.86142, 145.16514 -37.8...  "
      ]
     },
     "execution_count": 15,
     "metadata": {},
     "output_type": "execute_result"
    }
   ],
   "source": [
    "# inner join to get the shape of all the regions in top 5 \n",
    "top5 = pd.merge(top5, SAL_gdf, on = 'SAL_CODE21', how = 'inner')\n",
    "top5"
   ]
  },
  {
   "cell_type": "code",
   "execution_count": 16,
   "id": "6af620db-45cc-4f05-933a-6d108345ff43",
   "metadata": {},
   "outputs": [],
   "source": [
    "# get the centroid for labelling\n",
    "top5['centroid'] = top5['geometry'].apply(lambda x: (x.centroid.y, x.centroid.x))"
   ]
  },
  {
   "cell_type": "code",
   "execution_count": 17,
   "id": "84885225-5aa8-4489-b454-a74c93b415be",
   "metadata": {},
   "outputs": [
    {
     "data": {
      "text/plain": [
       "<folium.features.Choropleth at 0x7f149b9f2d70>"
      ]
     },
     "execution_count": 17,
     "metadata": {},
     "output_type": "execute_result"
    }
   ],
   "source": [
    "# plot the price map for number of school\n",
    "m1 = folium.Map(location=[-37.8136, 144.9631], tiles=\"Stamen Terrain\", zoom_start=10)\n",
    "\n",
    "folium.Choropleth(\n",
    "    geo_data=geoJSON,\n",
    "    data=sal_school_count,\n",
    "    columns = ['SAL_CODE21','School_Count'],\n",
    "    key_on='properties.SAL_CODE21',  \n",
    "    fill_color='YlOrRd', \n",
    "    fill_opacity=0.7,\n",
    "    line_opacity=0.2,\n",
    "    legend_name='number of school',\n",
    ").add_to(m1)\n"
   ]
  },
  {
   "cell_type": "code",
   "execution_count": 18,
   "id": "7d289e17-4d11-484d-a73f-c9d179c6fb30",
   "metadata": {},
   "outputs": [],
   "source": [
    "for zone_name, coord in top5[['SAL_NAME21_y', 'centroid']].values:\n",
    "    folium.Marker(\n",
    "        location=coord, \n",
    "        tooltip=folium.Tooltip(zone_name, permanent=True, direction=\"below\")\n",
    "    ).add_to(m1)\n",
    "\n",
    "# File size will be too large if display the map\n",
    "#m1"
   ]
  },
  {
   "cell_type": "code",
   "execution_count": 19,
   "id": "5cd02931-8c6b-486f-b569-0e990cdb5cb3",
   "metadata": {},
   "outputs": [],
   "source": [
    "m1.save('../plots/School_per_SAL_region.html')\n"
   ]
  },
  {
   "cell_type": "code",
   "execution_count": null,
   "id": "74f2a325-4f06-43be-a6c6-abec97aa2b2d",
   "metadata": {},
   "outputs": [],
   "source": []
  }
 ],
 "metadata": {
  "kernelspec": {
   "display_name": "Python 3 (ipykernel)",
   "language": "python",
   "name": "python3"
  },
  "language_info": {
   "codemirror_mode": {
    "name": "ipython",
    "version": 3
   },
   "file_extension": ".py",
   "mimetype": "text/x-python",
   "name": "python",
   "nbconvert_exporter": "python",
   "pygments_lexer": "ipython3",
   "version": "3.10.6"
  }
 },
 "nbformat": 4,
 "nbformat_minor": 5
}
