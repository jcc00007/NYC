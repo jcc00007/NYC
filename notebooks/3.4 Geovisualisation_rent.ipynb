{
 "cells": [
  {
   "cell_type": "code",
   "execution_count": 1,
   "id": "749c3f83-6fe0-4696-a43b-42771aac4164",
   "metadata": {},
   "outputs": [
    {
     "name": "stderr",
     "output_type": "stream",
     "text": [
      "/Users/sunnywu/Library/Python/3.9/lib/python/site-packages/urllib3/__init__.py:34: NotOpenSSLWarning: urllib3 v2.0 only supports OpenSSL 1.1.1+, currently the 'ssl' module is compiled with 'LibreSSL 2.8.3'. See: https://github.com/urllib3/urllib3/issues/3020\n",
      "  warnings.warn(\n"
     ]
    }
   ],
   "source": [
    "import pandas as pd\n",
    "import geopandas as gpd\n",
    "from shapely.geometry import Point\n",
    "import folium\n",
    "import numpy as np"
   ]
  },
  {
   "cell_type": "markdown",
   "id": "183cd307-dafb-4d9c-8f26-8f57509c64a1",
   "metadata": {},
   "source": [
    "# Read the Relevant Datasets"
   ]
  },
  {
   "cell_type": "code",
   "execution_count": 2,
   "id": "b72e970e-4ba3-4d81-939f-4a7836f770ce",
   "metadata": {},
   "outputs": [],
   "source": [
    "# read the listing data file\n",
    "listings = gpd.read_file('../data/curated/listings_suburbs_SA2.shp')"
   ]
  },
  {
   "cell_type": "code",
   "execution_count": 3,
   "id": "4ce23778-7556-4144-9695-c280f9b0cad3",
   "metadata": {},
   "outputs": [],
   "source": [
    "# read the shape file for SAL regions\n",
    "suburbs = gpd.read_file(\"../data/landing/SAL_2021_AUST_GDA2020_SHP/SAL_2021_AUST_GDA2020.shp\")"
   ]
  },
  {
   "cell_type": "code",
   "execution_count": 4,
   "id": "42a95d5c-c58d-4238-ac8e-9190aab984a0",
   "metadata": {},
   "outputs": [],
   "source": [
    "# read the shape file for SA2 regions\n",
    "SA2 = gpd.read_file(\"../data/landing/SA2_2021_AUST_SHP_GDA2020/SA2_2021_AUST_GDA2020.shp\")"
   ]
  },
  {
   "cell_type": "code",
   "execution_count": 5,
   "id": "def1d922-e5e8-46ff-9ce3-1bee70273389",
   "metadata": {},
   "outputs": [],
   "source": [
    "# select the subset that we care about for the SA2\n",
    "SA2 = SA2.loc[SA2['STE_NAME21']=='Victoria']\n",
    "SA2 = SA2[['SA2_CODE21', 'SA2_NAME21', 'geometry']]"
   ]
  },
  {
   "cell_type": "code",
   "execution_count": 6,
   "id": "4ce20a82-e335-4de1-82a5-d58e2bb1655f",
   "metadata": {},
   "outputs": [],
   "source": [
    "# select the subset that we care about for the SAL \n",
    "suburbs = suburbs.loc[suburbs['STE_NAME21']=='Victoria']\n",
    "suburbs = suburbs[['SAL_CODE21', 'SAL_NAME21', 'geometry']]"
   ]
  },
  {
   "cell_type": "markdown",
   "id": "ca261339-0d2b-42a6-add6-6652c470615b",
   "metadata": {},
   "source": [
    "## plot the median rental price for each SA2 region"
   ]
  },
  {
   "cell_type": "code",
   "execution_count": 7,
   "id": "558e8db1-c36a-4417-ba1a-2191e6c0e4a6",
   "metadata": {},
   "outputs": [
    {
     "name": "stderr",
     "output_type": "stream",
     "text": [
      "/var/folders/_9/rb9s3yd952d26d6ytbnwjc3h0000gn/T/ipykernel_32536/255880823.py:2: FutureWarning: The default value of numeric_only in DataFrameGroupBy.median is deprecated. In a future version, numeric_only will default to False. Either specify numeric_only or select only columns which should be valid for the function.\n",
      "  rent_price = pd.DataFrame(listings.groupby('SA2_NAME').median()['rent'])\n"
     ]
    }
   ],
   "source": [
    "# median rent price for each region\n",
    "rent_price = pd.DataFrame(listings.groupby('SA2_NAME').median()['rent'])"
   ]
  },
  {
   "cell_type": "code",
   "execution_count": 8,
   "id": "f4449c86-08da-45a7-b0f5-19756921ed15",
   "metadata": {},
   "outputs": [],
   "source": [
    "# take the log of rent price for a better plotting\n",
    "rent_price['rent'] = np.log(rent_price['rent'])"
   ]
  },
  {
   "cell_type": "code",
   "execution_count": 9,
   "id": "ac64450b-40f7-4c78-b3d6-abdbf146680e",
   "metadata": {},
   "outputs": [],
   "source": [
    "# set the index\n",
    "rent_price['SA2'] = rent_price.index\n",
    "rent_price.index = range(rent_price.shape[0])"
   ]
  },
  {
   "cell_type": "code",
   "execution_count": 10,
   "id": "8a856c2c-72b1-4040-8e0d-f503bf5e42c8",
   "metadata": {},
   "outputs": [],
   "source": [
    "rent_price_merged = SA2.merge(rent_price, left_on = \"SA2_NAME21\", right_on = \"SA2\", how ='inner')"
   ]
  },
  {
   "cell_type": "code",
   "execution_count": 11,
   "id": "e69bcb14-429e-4abc-80d3-d5573c66cce7",
   "metadata": {},
   "outputs": [],
   "source": [
    "# create a JSON object about location and their respective geomtry\n",
    "geoJSON = SA2[['SA2_NAME21', 'geometry']].to_json()"
   ]
  },
  {
   "cell_type": "code",
   "execution_count": 12,
   "id": "7905a99e-67d9-49a5-876e-bd304ff1b042",
   "metadata": {},
   "outputs": [],
   "source": [
    "# plot the price map for residence\n",
    "m1 = folium.Map(location=[-37.8136, 144.9631], tiles=\"Stamen Terrain\", zoom_start=10)\n",
    "\n",
    "folium.Choropleth(\n",
    "    geo_data=geoJSON,\n",
    "    data=rent_price,\n",
    "    columns = ['SA2','rent'],\n",
    "    key_on='properties.SA2_NAME21',  \n",
    "    fill_color='YlOrRd', \n",
    "    fill_opacity=0.7,\n",
    "    line_opacity=0.2,\n",
    "    legend_name='log of median rent price',\n",
    ").add_to(m1)\n",
    "\n",
    "m1.save('../plots/rent_price_SA2.html')"
   ]
  },
  {
   "cell_type": "code",
   "execution_count": 13,
   "id": "bc419f8a-ffb1-46fe-8ad4-ec64cf52ec26",
   "metadata": {},
   "outputs": [],
   "source": [
    "# fill the studios that does not have a room feature to default 1\n",
    "listings['rooms'].fillna(1, inplace=True)"
   ]
  },
  {
   "cell_type": "code",
   "execution_count": 14,
   "id": "2a42c6c6-d35d-447f-80b4-2b9d5eee1a76",
   "metadata": {},
   "outputs": [],
   "source": [
    "# make a new column that calculate the mean rent price per room\n",
    "listings['per_room'] = np.log(listings['rent']/listings['rooms'])"
   ]
  },
  {
   "cell_type": "code",
   "execution_count": 15,
   "id": "eb467853-cd9c-4ddc-a9e5-39e447af3883",
   "metadata": {},
   "outputs": [
    {
     "name": "stderr",
     "output_type": "stream",
     "text": [
      "/var/folders/_9/rb9s3yd952d26d6ytbnwjc3h0000gn/T/ipykernel_32536/4250100687.py:2: FutureWarning: The default value of numeric_only in DataFrameGroupBy.median is deprecated. In a future version, numeric_only will default to False. Either specify numeric_only or select only columns which should be valid for the function.\n",
      "  rent_price = pd.DataFrame(listings.groupby('SA2_NAME').median()['per_room'])\n"
     ]
    }
   ],
   "source": [
    "# median rent price for each region\n",
    "rent_price = pd.DataFrame(listings.groupby('SA2_NAME').median()['per_room'])"
   ]
  },
  {
   "cell_type": "code",
   "execution_count": 16,
   "id": "91fe785a-1ec2-4b33-9891-2682321f5a09",
   "metadata": {},
   "outputs": [],
   "source": [
    "# set the index\n",
    "rent_price['SA2'] = rent_price.index\n",
    "rent_price.index = range(rent_price.shape[0])"
   ]
  },
  {
   "cell_type": "code",
   "execution_count": 17,
   "id": "1e84ee47-ce35-4ceb-a241-4a79d9b342e1",
   "metadata": {},
   "outputs": [],
   "source": [
    "rent_price_merged = SA2.merge(rent_price, left_on = \"SA2_NAME21\", right_on = \"SA2\", how ='inner')"
   ]
  },
  {
   "cell_type": "code",
   "execution_count": 18,
   "id": "22537335-7fe3-49c2-a219-0a67a7f80c2c",
   "metadata": {},
   "outputs": [],
   "source": [
    "# plot the price map for residence\n",
    "m2 = folium.Map(location=[-37.8136, 144.9631], tiles=\"Stamen Terrain\", zoom_start=10)\n",
    "\n",
    "folium.Choropleth(\n",
    "    geo_data=geoJSON,\n",
    "    data=rent_price,\n",
    "    columns = ['SA2','per_room'],\n",
    "    key_on='properties.SA2_NAME21',  \n",
    "    fill_color='YlOrRd', \n",
    "    fill_opacity=0.7,\n",
    "    line_opacity=0.2,\n",
    "    legend_name='log of median rent per room price',\n",
    ").add_to(m2)\n",
    "\n",
    "m2.save('../plots/rent_price_pr_SA2.html')"
   ]
  }
 ],
 "metadata": {
  "kernelspec": {
   "display_name": "Python 3 (ipykernel)",
   "language": "python",
   "name": "python3"
  },
  "language_info": {
   "codemirror_mode": {
    "name": "ipython",
    "version": 3
   },
   "file_extension": ".py",
   "mimetype": "text/x-python",
   "name": "python",
   "nbconvert_exporter": "python",
   "pygments_lexer": "ipython3",
   "version": "3.9.6"
  }
 },
 "nbformat": 4,
 "nbformat_minor": 5
}
