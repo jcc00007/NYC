{
 "cells": [
  {
   "cell_type": "markdown",
   "id": "927af2a2-a85e-4b7b-bf39-82462eedb98c",
   "metadata": {},
   "source": [
    "# Crime rate visualisation at each SAL \n",
    "\n",
    "This notebook will generate a map that display the crime rate of indvidual suburb "
   ]
  },
  {
   "cell_type": "code",
   "execution_count": 1,
   "id": "1f042d75-2293-4fef-907a-8b7210c61988",
   "metadata": {},
   "outputs": [],
   "source": [
    "import pandas as pd\n",
    "import geopandas as gpd\n",
    "import folium"
   ]
  },
  {
   "cell_type": "code",
   "execution_count": 2,
   "id": "394615a7-c8dd-419c-9543-a6325524909c",
   "metadata": {},
   "outputs": [],
   "source": [
    "crime_df = pd.read_csv(\"../data/curated/crime_rate.csv\")"
   ]
  },
  {
   "cell_type": "code",
   "execution_count": 3,
   "id": "e1afe330-c5a0-43b1-a8cf-b7781017b61b",
   "metadata": {
    "scrolled": true
   },
   "outputs": [
    {
     "data": {
      "text/html": [
       "<div>\n",
       "<style scoped>\n",
       "    .dataframe tbody tr th:only-of-type {\n",
       "        vertical-align: middle;\n",
       "    }\n",
       "\n",
       "    .dataframe tbody tr th {\n",
       "        vertical-align: top;\n",
       "    }\n",
       "\n",
       "    .dataframe thead th {\n",
       "        text-align: right;\n",
       "    }\n",
       "</style>\n",
       "<table border=\"1\" class=\"dataframe\">\n",
       "  <thead>\n",
       "    <tr style=\"text-align: right;\">\n",
       "      <th></th>\n",
       "      <th>SAL_NAME21_x</th>\n",
       "      <th>SAL_CODE21</th>\n",
       "      <th>crime_rate</th>\n",
       "    </tr>\n",
       "  </thead>\n",
       "  <tbody>\n",
       "    <tr>\n",
       "      <th>0</th>\n",
       "      <td>Abbeyard</td>\n",
       "      <td>20001</td>\n",
       "      <td>0.054822</td>\n",
       "    </tr>\n",
       "    <tr>\n",
       "      <th>1</th>\n",
       "      <td>Abbotsford</td>\n",
       "      <td>20002</td>\n",
       "      <td>0.227735</td>\n",
       "    </tr>\n",
       "    <tr>\n",
       "      <th>2</th>\n",
       "      <td>Aberfeldie</td>\n",
       "      <td>20003</td>\n",
       "      <td>0.012223</td>\n",
       "    </tr>\n",
       "    <tr>\n",
       "      <th>3</th>\n",
       "      <td>Aberfeldy</td>\n",
       "      <td>20004</td>\n",
       "      <td>0.054822</td>\n",
       "    </tr>\n",
       "    <tr>\n",
       "      <th>4</th>\n",
       "      <td>Acheron</td>\n",
       "      <td>20005</td>\n",
       "      <td>0.054822</td>\n",
       "    </tr>\n",
       "    <tr>\n",
       "      <th>...</th>\n",
       "      <td>...</td>\n",
       "      <td>...</td>\n",
       "      <td>...</td>\n",
       "    </tr>\n",
       "    <tr>\n",
       "      <th>2939</th>\n",
       "      <td>Yundool</td>\n",
       "      <td>22940</td>\n",
       "      <td>0.054822</td>\n",
       "    </tr>\n",
       "    <tr>\n",
       "      <th>2940</th>\n",
       "      <td>Yuroke</td>\n",
       "      <td>22941</td>\n",
       "      <td>0.054822</td>\n",
       "    </tr>\n",
       "    <tr>\n",
       "      <th>2941</th>\n",
       "      <td>Yuulong</td>\n",
       "      <td>22942</td>\n",
       "      <td>0.054822</td>\n",
       "    </tr>\n",
       "    <tr>\n",
       "      <th>2942</th>\n",
       "      <td>Zeerust</td>\n",
       "      <td>22943</td>\n",
       "      <td>0.054822</td>\n",
       "    </tr>\n",
       "    <tr>\n",
       "      <th>2943</th>\n",
       "      <td>Zumsteins</td>\n",
       "      <td>22944</td>\n",
       "      <td>0.054822</td>\n",
       "    </tr>\n",
       "  </tbody>\n",
       "</table>\n",
       "<p>2944 rows × 3 columns</p>\n",
       "</div>"
      ],
      "text/plain": [
       "     SAL_NAME21_x  SAL_CODE21  crime_rate\n",
       "0        Abbeyard       20001    0.054822\n",
       "1     Abbotsford        20002    0.227735\n",
       "2      Aberfeldie       20003    0.012223\n",
       "3       Aberfeldy       20004    0.054822\n",
       "4         Acheron       20005    0.054822\n",
       "...           ...         ...         ...\n",
       "2939      Yundool       22940    0.054822\n",
       "2940       Yuroke       22941    0.054822\n",
       "2941      Yuulong       22942    0.054822\n",
       "2942      Zeerust       22943    0.054822\n",
       "2943    Zumsteins       22944    0.054822\n",
       "\n",
       "[2944 rows x 3 columns]"
      ]
     },
     "execution_count": 3,
     "metadata": {},
     "output_type": "execute_result"
    }
   ],
   "source": [
    "### Rename the incident recorded to number of crime incident\n",
    "crime_df = crime_df.rename(columns={'SAL_CODE': 'SAL_CODE21'})\n",
    "crime_df"
   ]
  },
  {
   "cell_type": "markdown",
   "id": "31537dd3-70b1-4420-a575-8c68883863bf",
   "metadata": {},
   "source": [
    "### Import SAL geo data"
   ]
  },
  {
   "cell_type": "code",
   "execution_count": 4,
   "id": "e3351b71-dc5b-4f99-b499-0ae542ba3747",
   "metadata": {},
   "outputs": [],
   "source": [
    "# Read SAL gdf\n",
    "SAL_gdf = gpd.read_file(\"../data/raw/victoria_region_gdf/SAL_region_gdf.geojson\")\n",
    "# remove null\n",
    "SAL_gdf = SAL_gdf.dropna()"
   ]
  },
  {
   "cell_type": "markdown",
   "id": "ef0fc013-cb56-4fdb-834b-ec2341609861",
   "metadata": {},
   "source": [
    "# Visualise it!"
   ]
  },
  {
   "cell_type": "code",
   "execution_count": 5,
   "id": "913b9cb7-51d5-496c-90b2-8239d6b9ea46",
   "metadata": {},
   "outputs": [
    {
     "name": "stdout",
     "output_type": "stream",
     "text": [
      "{\"type\": \"FeatureCollection\", \"features\": [{\"id\": \"0\", \"type\": \"Feature\", \"properties\": {\"SAL_CODE21\": \"20001\"}, \"geometry\": {\"type\": \"Polygon\", \"coordinates\": [[[146.89823840500003, -37.046023841999954], [146.89946546400006, -37.048662812999964], [146.8993791040001, -37.048770832999935], [146.89915\n"
     ]
    }
   ],
   "source": [
    "# create a JSON \n",
    "geoJSON = SAL_gdf[['SAL_CODE21', 'geometry']].to_json()\n",
    "\n",
    "# print the first 300 chars of the json\n",
    "print(geoJSON[:300])"
   ]
  },
  {
   "cell_type": "code",
   "execution_count": 6,
   "id": "8690ff46-a80d-4cdd-9347-37f87c1794a6",
   "metadata": {},
   "outputs": [
    {
     "data": {
      "text/plain": [
       "<folium.features.Choropleth at 0x7f1fb95612d0>"
      ]
     },
     "execution_count": 6,
     "metadata": {},
     "output_type": "execute_result"
    }
   ],
   "source": [
    "m = folium.Map(location=[-36.9848, 143.3906], tiles=\"Stamen Terrain\", zoom_start=7)\n",
    "\n",
    "# refer to the folium documentations on more information on how to plot aggregated data.\n",
    "c = folium.Choropleth(\n",
    "    geo_data=geoJSON, # geoJSON \n",
    "    name='choropleth', # name of plot\n",
    "    data=crime_df.reset_index(), # data source\n",
    "    columns=['SAL_CODE21','crime_rate'], # the columns required\n",
    "    key_on='properties.SAL_CODE21', # this is from the geoJSON's properties\n",
    "    fill_color='YlOrRd', # color scheme\n",
    "    nan_fill_color='black',\n",
    "    legend_name='crime rate'\n",
    ")\n",
    "\n",
    "c.add_to(m)\n",
    "# FILE SIZE TOO big to show \n",
    "#m\n"
   ]
  },
  {
   "cell_type": "code",
   "execution_count": 7,
   "id": "0422f2e1-6ba0-4019-b069-511e3548c136",
   "metadata": {},
   "outputs": [
    {
     "data": {
      "text/html": [
       "<div>\n",
       "<style scoped>\n",
       "    .dataframe tbody tr th:only-of-type {\n",
       "        vertical-align: middle;\n",
       "    }\n",
       "\n",
       "    .dataframe tbody tr th {\n",
       "        vertical-align: top;\n",
       "    }\n",
       "\n",
       "    .dataframe thead th {\n",
       "        text-align: right;\n",
       "    }\n",
       "</style>\n",
       "<table border=\"1\" class=\"dataframe\">\n",
       "  <thead>\n",
       "    <tr style=\"text-align: right;\">\n",
       "      <th></th>\n",
       "      <th>SAL_NAME21_x</th>\n",
       "      <th>SAL_CODE21</th>\n",
       "      <th>crime_rate</th>\n",
       "    </tr>\n",
       "  </thead>\n",
       "  <tbody>\n",
       "    <tr>\n",
       "      <th>1639</th>\n",
       "      <td>Melbourne</td>\n",
       "      <td>21640</td>\n",
       "      <td>1.403177</td>\n",
       "    </tr>\n",
       "    <tr>\n",
       "      <th>706</th>\n",
       "      <td>Dandenong</td>\n",
       "      <td>20707</td>\n",
       "      <td>0.772469</td>\n",
       "    </tr>\n",
       "    <tr>\n",
       "      <th>1681</th>\n",
       "      <td>Mildura</td>\n",
       "      <td>21682</td>\n",
       "      <td>0.578357</td>\n",
       "    </tr>\n",
       "    <tr>\n",
       "      <th>2394</th>\n",
       "      <td>Sunshine</td>\n",
       "      <td>22395</td>\n",
       "      <td>0.573904</td>\n",
       "    </tr>\n",
       "    <tr>\n",
       "      <th>2160</th>\n",
       "      <td>Reservoir</td>\n",
       "      <td>22161</td>\n",
       "      <td>0.544711</td>\n",
       "    </tr>\n",
       "  </tbody>\n",
       "</table>\n",
       "</div>"
      ],
      "text/plain": [
       "     SAL_NAME21_x  SAL_CODE21  crime_rate\n",
       "1639    Melbourne       21640    1.403177\n",
       "706     Dandenong       20707    0.772469\n",
       "1681      Mildura       21682    0.578357\n",
       "2394    Sunshine        22395    0.573904\n",
       "2160   Reservoir        22161    0.544711"
      ]
     },
     "execution_count": 7,
     "metadata": {},
     "output_type": "execute_result"
    }
   ],
   "source": [
    "sorted_df = crime_df.sort_values(by='crime_rate', ascending=False)\n",
    "sorted_df.head(5)"
   ]
  },
  {
   "cell_type": "markdown",
   "id": "4b02eb1c-6a0f-40a7-a0bc-7484a8d51a7b",
   "metadata": {},
   "source": [
    "### Create centroid for each region"
   ]
  },
  {
   "cell_type": "code",
   "execution_count": 8,
   "id": "33e9936b-cf70-4d33-a317-cce767ac4a01",
   "metadata": {},
   "outputs": [
    {
     "data": {
      "text/html": [
       "<div>\n",
       "<style scoped>\n",
       "    .dataframe tbody tr th:only-of-type {\n",
       "        vertical-align: middle;\n",
       "    }\n",
       "\n",
       "    .dataframe tbody tr th {\n",
       "        vertical-align: top;\n",
       "    }\n",
       "\n",
       "    .dataframe thead th {\n",
       "        text-align: right;\n",
       "    }\n",
       "</style>\n",
       "<table border=\"1\" class=\"dataframe\">\n",
       "  <thead>\n",
       "    <tr style=\"text-align: right;\">\n",
       "      <th></th>\n",
       "      <th>SAL_NAME21</th>\n",
       "      <th>SAL_CODE21</th>\n",
       "      <th>centroid</th>\n",
       "    </tr>\n",
       "  </thead>\n",
       "  <tbody>\n",
       "    <tr>\n",
       "      <th>0</th>\n",
       "      <td>Abbeyard</td>\n",
       "      <td>20001</td>\n",
       "      <td>(-37.01941875010008, 146.7691121313647)</td>\n",
       "    </tr>\n",
       "    <tr>\n",
       "      <th>1</th>\n",
       "      <td>Abbotsford</td>\n",
       "      <td>20002</td>\n",
       "      <td>(-37.80458484450762, 144.99976768739876)</td>\n",
       "    </tr>\n",
       "    <tr>\n",
       "      <th>2</th>\n",
       "      <td>Aberfeldie</td>\n",
       "      <td>20003</td>\n",
       "      <td>(-37.75957575055507, 144.89740380057304)</td>\n",
       "    </tr>\n",
       "    <tr>\n",
       "      <th>3</th>\n",
       "      <td>Aberfeldy</td>\n",
       "      <td>20004</td>\n",
       "      <td>(-37.699788425368155, 146.37843544613273)</td>\n",
       "    </tr>\n",
       "    <tr>\n",
       "      <th>4</th>\n",
       "      <td>Acheron</td>\n",
       "      <td>20005</td>\n",
       "      <td>(-37.2689324082219, 145.69931893264342)</td>\n",
       "    </tr>\n",
       "  </tbody>\n",
       "</table>\n",
       "</div>"
      ],
      "text/plain": [
       "    SAL_NAME21 SAL_CODE21                                   centroid\n",
       "0     Abbeyard      20001    (-37.01941875010008, 146.7691121313647)\n",
       "1  Abbotsford       20002   (-37.80458484450762, 144.99976768739876)\n",
       "2   Aberfeldie      20003   (-37.75957575055507, 144.89740380057304)\n",
       "3    Aberfeldy      20004  (-37.699788425368155, 146.37843544613273)\n",
       "4      Acheron      20005    (-37.2689324082219, 145.69931893264342)"
      ]
     },
     "execution_count": 8,
     "metadata": {},
     "output_type": "execute_result"
    }
   ],
   "source": [
    "# (y, x) since we wanta (lat, long)\n",
    "SAL_gdf['centroid'] = SAL_gdf['geometry'].apply(lambda x: (x.centroid.y, x.centroid.x))\n",
    "SAL_gdf[['SAL_NAME21', 'SAL_CODE21', 'centroid']].head()"
   ]
  },
  {
   "cell_type": "code",
   "execution_count": 9,
   "id": "23e5fc15-4560-48ac-afe6-e8a4eda633c6",
   "metadata": {},
   "outputs": [
    {
     "data": {
      "text/html": [
       "<div>\n",
       "<style scoped>\n",
       "    .dataframe tbody tr th:only-of-type {\n",
       "        vertical-align: middle;\n",
       "    }\n",
       "\n",
       "    .dataframe tbody tr th {\n",
       "        vertical-align: top;\n",
       "    }\n",
       "\n",
       "    .dataframe thead th {\n",
       "        text-align: right;\n",
       "    }\n",
       "</style>\n",
       "<table border=\"1\" class=\"dataframe\">\n",
       "  <thead>\n",
       "    <tr style=\"text-align: right;\">\n",
       "      <th></th>\n",
       "      <th>SAL_NAME21</th>\n",
       "      <th>SAL_CODE21</th>\n",
       "      <th>SHAPE_Area</th>\n",
       "      <th>geometry</th>\n",
       "      <th>centroid</th>\n",
       "    </tr>\n",
       "  </thead>\n",
       "  <tbody>\n",
       "    <tr>\n",
       "      <th>706</th>\n",
       "      <td>Dandenong</td>\n",
       "      <td>20707</td>\n",
       "      <td>0.001167</td>\n",
       "      <td>POLYGON ((145.22037 -37.97068, 145.22084 -37.9...</td>\n",
       "      <td>(-37.98501237517496, 145.21187676839475)</td>\n",
       "    </tr>\n",
       "    <tr>\n",
       "      <th>1639</th>\n",
       "      <td>Melbourne</td>\n",
       "      <td>21640</td>\n",
       "      <td>0.000674</td>\n",
       "      <td>POLYGON ((144.96885 -37.80728, 144.97094 -37.8...</td>\n",
       "      <td>(-37.824913473838265, 144.97149704743745)</td>\n",
       "    </tr>\n",
       "    <tr>\n",
       "      <th>1681</th>\n",
       "      <td>Mildura</td>\n",
       "      <td>21682</td>\n",
       "      <td>0.007634</td>\n",
       "      <td>POLYGON ((142.16341 -34.17638, 142.16348 -34.1...</td>\n",
       "      <td>(-34.208414403179525, 142.12420858453862)</td>\n",
       "    </tr>\n",
       "    <tr>\n",
       "      <th>2160</th>\n",
       "      <td>Reservoir</td>\n",
       "      <td>22161</td>\n",
       "      <td>0.001944</td>\n",
       "      <td>POLYGON ((145.02209 -37.71516, 145.02201 -37.7...</td>\n",
       "      <td>(-37.7121549498847, 145.0068399920836)</td>\n",
       "    </tr>\n",
       "    <tr>\n",
       "      <th>2394</th>\n",
       "      <td>Sunshine</td>\n",
       "      <td>22395</td>\n",
       "      <td>0.000484</td>\n",
       "      <td>POLYGON ((144.83923 -37.79692, 144.84076 -37.7...</td>\n",
       "      <td>(-37.789308675988536, 144.83425757187496)</td>\n",
       "    </tr>\n",
       "  </tbody>\n",
       "</table>\n",
       "</div>"
      ],
      "text/plain": [
       "      SAL_NAME21 SAL_CODE21  SHAPE_Area  \\\n",
       "706    Dandenong      20707    0.001167   \n",
       "1639   Melbourne      21640    0.000674   \n",
       "1681     Mildura      21682    0.007634   \n",
       "2160  Reservoir       22161    0.001944   \n",
       "2394   Sunshine       22395    0.000484   \n",
       "\n",
       "                                               geometry  \\\n",
       "706   POLYGON ((145.22037 -37.97068, 145.22084 -37.9...   \n",
       "1639  POLYGON ((144.96885 -37.80728, 144.97094 -37.8...   \n",
       "1681  POLYGON ((142.16341 -34.17638, 142.16348 -34.1...   \n",
       "2160  POLYGON ((145.02209 -37.71516, 145.02201 -37.7...   \n",
       "2394  POLYGON ((144.83923 -37.79692, 144.84076 -37.7...   \n",
       "\n",
       "                                       centroid  \n",
       "706    (-37.98501237517496, 145.21187676839475)  \n",
       "1639  (-37.824913473838265, 144.97149704743745)  \n",
       "1681  (-34.208414403179525, 142.12420858453862)  \n",
       "2160     (-37.7121549498847, 145.0068399920836)  \n",
       "2394  (-37.789308675988536, 144.83425757187496)  "
      ]
     },
     "execution_count": 9,
     "metadata": {},
     "output_type": "execute_result"
    }
   ],
   "source": [
    "# Top 5 suburb's SAL_CODE21 \n",
    "values_to_find = ['21640', '20707', '21682', '22395', '22161']\n",
    "\n",
    "# Use boolean indexing to filter rows where column 'x' contains the values from the list\n",
    "filtered_rows = SAL_gdf[SAL_gdf['SAL_CODE21'].isin(values_to_find)]\n",
    "filtered_rows"
   ]
  },
  {
   "cell_type": "code",
   "execution_count": 10,
   "id": "f1983390-bda1-412c-8f64-b2253cc66ecc",
   "metadata": {},
   "outputs": [],
   "source": [
    "for SAL_NAME21, coord in filtered_rows[['SAL_NAME21', 'centroid']].values:\n",
    "    folium.Marker(\n",
    "        location=coord, \n",
    "        tooltip=folium.Tooltip(SAL_NAME21, permanent=True, direction=\"below\")\n",
    "    ).add_to(m)\n",
    "\n",
    "\n",
    "# # we will not diplay the html map/visual due to the file size \n",
    "# m"
   ]
  },
  {
   "cell_type": "code",
   "execution_count": 11,
   "id": "eae991a8-f0d1-44af-a0ea-5e19fae31d67",
   "metadata": {},
   "outputs": [],
   "source": [
    "m.save('../plots/crime_rate_visual.html')\n"
   ]
  },
  {
   "cell_type": "code",
   "execution_count": null,
   "id": "ebada50d-68bf-4f9c-8e27-57084a0a82be",
   "metadata": {},
   "outputs": [],
   "source": []
  }
 ],
 "metadata": {
  "kernelspec": {
   "display_name": "Python 3 (ipykernel)",
   "language": "python",
   "name": "python3"
  },
  "language_info": {
   "codemirror_mode": {
    "name": "ipython",
    "version": 3
   },
   "file_extension": ".py",
   "mimetype": "text/x-python",
   "name": "python",
   "nbconvert_exporter": "python",
   "pygments_lexer": "ipython3",
   "version": "3.10.6"
  }
 },
 "nbformat": 4,
 "nbformat_minor": 5
}
