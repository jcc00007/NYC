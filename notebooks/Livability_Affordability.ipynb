{
 "cells": [
  {
   "cell_type": "markdown",
   "id": "ae16d275",
   "metadata": {},
   "source": [
    "# Livabiltiy and affordability\n",
    "\n",
    "This notebook is to define livability and affordability scores, and make predictions on the top 10 suburbs in Victoria based on the scores"
   ]
  },
  {
   "cell_type": "markdown",
   "id": "1286d125",
   "metadata": {},
   "source": [
    "#### Import packages"
   ]
  },
  {
   "cell_type": "code",
   "execution_count": 1,
   "id": "53891e15",
   "metadata": {},
   "outputs": [
    {
     "name": "stderr",
     "output_type": "stream",
     "text": [
      "/Users/sunnywu/Library/Python/3.9/lib/python/site-packages/urllib3/__init__.py:34: NotOpenSSLWarning: urllib3 v2.0 only supports OpenSSL 1.1.1+, currently the 'ssl' module is compiled with 'LibreSSL 2.8.3'. See: https://github.com/urllib3/urllib3/issues/3020\n",
      "  warnings.warn(\n"
     ]
    }
   ],
   "source": [
    "import pandas as pd\n",
    "import matplotlib.pyplot as plt\n",
    "import numpy as np\n",
    "import geopandas as gpd\n",
    "import folium"
   ]
  },
  {
   "cell_type": "markdown",
   "id": "4cdd345a",
   "metadata": {},
   "source": [
    "### read the files"
   ]
  },
  {
   "cell_type": "code",
   "execution_count": 2,
   "id": "2a013c13-2476-4571-b7c6-2bb457df0353",
   "metadata": {},
   "outputs": [],
   "source": [
    "# Read the file for rent prices\n",
    "rent = pd.read_csv(\"../data/curated/final_drop_pcg.csv\")"
   ]
  },
  {
   "cell_type": "code",
   "execution_count": 3,
   "id": "fcfd9a39-4242-4267-8ecc-b2963788f89c",
   "metadata": {},
   "outputs": [],
   "source": [
    "###### Read crime rate \n",
    "crime_rate = pd.read_csv(\"../data/curated/crime_rate.csv\")"
   ]
  },
  {
   "cell_type": "markdown",
   "id": "97ae36f6",
   "metadata": {},
   "source": [
    "### Join with the crime data"
   ]
  },
  {
   "cell_type": "code",
   "execution_count": 4,
   "id": "9acdfc0f-63fb-4dcf-979e-4eedcf811207",
   "metadata": {},
   "outputs": [],
   "source": [
    "# select the relevant columns\n",
    "crime_rate = crime_rate[['SAL_CODE', 'crime_rate']]"
   ]
  },
  {
   "cell_type": "code",
   "execution_count": 5,
   "id": "3b1a593d-d26b-446a-9452-4c288ddbcf9a",
   "metadata": {},
   "outputs": [
    {
     "data": {
      "text/html": [
       "<div>\n",
       "<style scoped>\n",
       "    .dataframe tbody tr th:only-of-type {\n",
       "        vertical-align: middle;\n",
       "    }\n",
       "\n",
       "    .dataframe tbody tr th {\n",
       "        vertical-align: top;\n",
       "    }\n",
       "\n",
       "    .dataframe thead th {\n",
       "        text-align: right;\n",
       "    }\n",
       "</style>\n",
       "<table border=\"1\" class=\"dataframe\">\n",
       "  <thead>\n",
       "    <tr style=\"text-align: right;\">\n",
       "      <th></th>\n",
       "      <th>SAL_CODE</th>\n",
       "      <th>crime_rate</th>\n",
       "    </tr>\n",
       "  </thead>\n",
       "  <tbody>\n",
       "    <tr>\n",
       "      <th>0</th>\n",
       "      <td>20002</td>\n",
       "      <td>0.227735</td>\n",
       "    </tr>\n",
       "    <tr>\n",
       "      <th>1</th>\n",
       "      <td>20003</td>\n",
       "      <td>0.054822</td>\n",
       "    </tr>\n",
       "    <tr>\n",
       "      <th>2</th>\n",
       "      <td>20011</td>\n",
       "      <td>0.044528</td>\n",
       "    </tr>\n",
       "    <tr>\n",
       "      <th>3</th>\n",
       "      <td>20013</td>\n",
       "      <td>0.011613</td>\n",
       "    </tr>\n",
       "    <tr>\n",
       "      <th>4</th>\n",
       "      <td>20015</td>\n",
       "      <td>0.254085</td>\n",
       "    </tr>\n",
       "    <tr>\n",
       "      <th>...</th>\n",
       "      <td>...</td>\n",
       "      <td>...</td>\n",
       "    </tr>\n",
       "    <tr>\n",
       "      <th>748</th>\n",
       "      <td>22916</td>\n",
       "      <td>0.005469</td>\n",
       "    </tr>\n",
       "    <tr>\n",
       "      <th>749</th>\n",
       "      <td>22917</td>\n",
       "      <td>0.124611</td>\n",
       "    </tr>\n",
       "    <tr>\n",
       "      <th>750</th>\n",
       "      <td>22919</td>\n",
       "      <td>0.096439</td>\n",
       "    </tr>\n",
       "    <tr>\n",
       "      <th>751</th>\n",
       "      <td>22924</td>\n",
       "      <td>0.074300</td>\n",
       "    </tr>\n",
       "    <tr>\n",
       "      <th>752</th>\n",
       "      <td>22934</td>\n",
       "      <td>0.054822</td>\n",
       "    </tr>\n",
       "  </tbody>\n",
       "</table>\n",
       "<p>753 rows × 2 columns</p>\n",
       "</div>"
      ],
      "text/plain": [
       "     SAL_CODE  crime_rate\n",
       "0       20002    0.227735\n",
       "1       20003    0.054822\n",
       "2       20011    0.044528\n",
       "3       20013    0.011613\n",
       "4       20015    0.254085\n",
       "..        ...         ...\n",
       "748     22916    0.005469\n",
       "749     22917    0.124611\n",
       "750     22919    0.096439\n",
       "751     22924    0.074300\n",
       "752     22934    0.054822\n",
       "\n",
       "[753 rows x 2 columns]"
      ]
     },
     "execution_count": 5,
     "metadata": {},
     "output_type": "execute_result"
    }
   ],
   "source": [
    "crime_rate"
   ]
  },
  {
   "cell_type": "code",
   "execution_count": 6,
   "id": "430af7f4-5b9b-4687-bcf2-3fdaf66db03f",
   "metadata": {},
   "outputs": [],
   "source": [
    "# join rent and crime rate \n",
    "rent = rent.merge(crime_rate, left_on='SAL_CODE', right_on='SAL_CODE', how='left')"
   ]
  },
  {
   "cell_type": "code",
   "execution_count": 7,
   "id": "e539cdcf-78dc-4b32-b273-f56bf43e4ac7",
   "metadata": {},
   "outputs": [
    {
     "data": {
      "text/plain": [
       "Index(['Location', 'type_property', 'price', 'state', 'rooms', 'bath',\n",
       "       'parking', 'link', 'public_1', 'public_1_dis', 'public_2',\n",
       "       'public_2_dis', 'private_1', 'private_1_dis', 'pulic_1_dis',\n",
       "       'pulic_2_dis', 'rent', 'is_furnished', 'latitude', 'longitude',\n",
       "       'geometry', 'SA2_NAME', 'SA2_CODE', 'SAL_NAME21', 'SAL_CODE',\n",
       "       'Immediate Family', 'Extended Family', 'Total Suburb Population',\n",
       "       'Two persons in family', 'Three persons in family',\n",
       "       'Four persons in family', 'Five persons in family',\n",
       "       'Six or more persons in family', 'Separate house',\n",
       "       'Semi-detached house or Townhouse', 'Flat or Apartment',\n",
       "       'Non-residential properties', 'Total Suburb Dwellings', 'coordinate',\n",
       "       'distance_to_melbourne_cbd_km', 'nearest_shopping_center_distance_km',\n",
       "       'nearest_tram_station_distance_km', 'nearest_train_station_distance_km',\n",
       "       'nearest_bus_stop_distance_km', 'nearest_school_distance_km',\n",
       "       'crime_rate'],\n",
       "      dtype='object')"
      ]
     },
     "execution_count": 7,
     "metadata": {},
     "output_type": "execute_result"
    }
   ],
   "source": [
    "rent.columns"
   ]
  },
  {
   "cell_type": "markdown",
   "id": "d62f2640",
   "metadata": {},
   "source": [
    "## Define livability score and affordability score"
   ]
  },
  {
   "cell_type": "code",
   "execution_count": 8,
   "id": "883605ed-d1e8-47de-b46f-20e87fa7dc5b",
   "metadata": {},
   "outputs": [],
   "source": [
    "# calculate livability without crime and affordability as defined\n",
    "rent['liveability'] = 5/(rent['nearest_shopping_center_distance_km'] + rent['nearest_tram_station_distance_km'] + rent['nearest_train_station_distance_km'] + rent['nearest_bus_stop_distance_km'] + rent['nearest_school_distance_km'])\n",
    "rent['affordability'] = 1/(rent['rent']/(rent['rooms'] + 0.5 * rent['bath'] + 0.3 * rent['parking']))"
   ]
  },
  {
   "cell_type": "code",
   "execution_count": 9,
   "id": "e7bb4b24-9e95-4a77-8ab5-51722f9b4daa",
   "metadata": {},
   "outputs": [],
   "source": [
    "# select the relevant columns for visualisation\n",
    "rent = rent[['SAL_NAME21', 'crime_rate', 'liveability', 'affordability']]"
   ]
  },
  {
   "cell_type": "markdown",
   "id": "d89b2be7-00a8-4b7b-a433-0c278827d73d",
   "metadata": {},
   "source": [
    "If a suburb has less than 5 listings, we won't consider the livability of that suburb since 1. It's hard for renters to rent a property in that suburb given the limited demand and the calculated livability/affordability could be very bias to a single property or two and does not reflect the actual renting conditions of that suburb"
   ]
  },
  {
   "cell_type": "code",
   "execution_count": 10,
   "id": "2cb7d0ea-c285-49e4-bd17-a3a432d75c6b",
   "metadata": {},
   "outputs": [],
   "source": [
    "# the most livable suburbs that have more than 5 listings available\n",
    "rent_afford = rent.groupby('SAL_NAME21').median().loc[rent.groupby('SAL_NAME21').count()['liveability']>=5][['crime_rate', 'liveability', 'affordability']]"
   ]
  },
  {
   "cell_type": "code",
   "execution_count": 11,
   "id": "3e306ea5-6226-4fc9-95f2-3c3f3f9b3405",
   "metadata": {},
   "outputs": [],
   "source": [
    "# scale crime rate\n",
    "rent_afford['crime_rate_scaled'] = (rent_afford['crime_rate']-rent_afford['crime_rate'].min())/(rent_afford['crime_rate'].max()-rent_afford['crime_rate'].min()) + 1"
   ]
  },
  {
   "cell_type": "code",
   "execution_count": 12,
   "id": "51fc834b-73be-4e20-aef7-eb2fce14cce7",
   "metadata": {},
   "outputs": [],
   "source": [
    "# scale livability and affordability and adding crime to livability\n",
    "rent_afford['liveability_scaled'] = ((rent_afford['liveability'] - rent_afford['liveability'].min())/(rent_afford['liveability'].max()-rent_afford['liveability'].min()))/np.power(rent_afford['crime_rate_scaled'], 0.5) + 1 \n",
    "rent_afford['affordability_scaled'] = (rent_afford['affordability'] - rent_afford['affordability'].min())/(rent_afford['affordability'].max()-rent_afford['affordability'].min()) + 1"
   ]
  },
  {
   "cell_type": "code",
   "execution_count": 13,
   "id": "fe291b3a-4f3b-4e8a-a768-1c1b3685776b",
   "metadata": {},
   "outputs": [
    {
     "data": {
      "text/html": [
       "<div>\n",
       "<style scoped>\n",
       "    .dataframe tbody tr th:only-of-type {\n",
       "        vertical-align: middle;\n",
       "    }\n",
       "\n",
       "    .dataframe tbody tr th {\n",
       "        vertical-align: top;\n",
       "    }\n",
       "\n",
       "    .dataframe thead th {\n",
       "        text-align: right;\n",
       "    }\n",
       "</style>\n",
       "<table border=\"1\" class=\"dataframe\">\n",
       "  <thead>\n",
       "    <tr style=\"text-align: right;\">\n",
       "      <th></th>\n",
       "      <th>crime_rate</th>\n",
       "      <th>liveability</th>\n",
       "      <th>affordability</th>\n",
       "      <th>crime_rate_scaled</th>\n",
       "      <th>liveability_scaled</th>\n",
       "      <th>affordability_scaled</th>\n",
       "      <th>combine</th>\n",
       "    </tr>\n",
       "    <tr>\n",
       "      <th>SAL_NAME21</th>\n",
       "      <th></th>\n",
       "      <th></th>\n",
       "      <th></th>\n",
       "      <th></th>\n",
       "      <th></th>\n",
       "      <th></th>\n",
       "      <th></th>\n",
       "    </tr>\n",
       "  </thead>\n",
       "  <tbody>\n",
       "    <tr>\n",
       "      <th>Kingsbury</th>\n",
       "      <td>0.054822</td>\n",
       "      <td>0.816727</td>\n",
       "      <td>0.012400</td>\n",
       "      <td>1.031983</td>\n",
       "      <td>1.209878</td>\n",
       "      <td>1.964000</td>\n",
       "      <td>2.000000</td>\n",
       "    </tr>\n",
       "    <tr>\n",
       "      <th>Prahran</th>\n",
       "      <td>0.054822</td>\n",
       "      <td>2.784739</td>\n",
       "      <td>0.004308</td>\n",
       "      <td>1.031983</td>\n",
       "      <td>1.720291</td>\n",
       "      <td>1.073846</td>\n",
       "      <td>1.910944</td>\n",
       "    </tr>\n",
       "    <tr>\n",
       "      <th>South Yarra</th>\n",
       "      <td>0.353561</td>\n",
       "      <td>3.093931</td>\n",
       "      <td>0.004012</td>\n",
       "      <td>1.246455</td>\n",
       "      <td>1.728365</td>\n",
       "      <td>1.041341</td>\n",
       "      <td>1.903921</td>\n",
       "    </tr>\n",
       "    <tr>\n",
       "      <th>Melbourne</th>\n",
       "      <td>1.403177</td>\n",
       "      <td>3.803004</td>\n",
       "      <td>0.003704</td>\n",
       "      <td>2.000000</td>\n",
       "      <td>1.707107</td>\n",
       "      <td>1.007407</td>\n",
       "      <td>1.849342</td>\n",
       "    </tr>\n",
       "    <tr>\n",
       "      <th>Box Hill (Vic.)</th>\n",
       "      <td>0.054822</td>\n",
       "      <td>2.430719</td>\n",
       "      <td>0.005357</td>\n",
       "      <td>1.031983</td>\n",
       "      <td>1.628474</td>\n",
       "      <td>1.189286</td>\n",
       "      <td>1.843395</td>\n",
       "    </tr>\n",
       "    <tr>\n",
       "      <th>Delacombe</th>\n",
       "      <td>0.054822</td>\n",
       "      <td>0.047273</td>\n",
       "      <td>0.012727</td>\n",
       "      <td>1.031983</td>\n",
       "      <td>1.010316</td>\n",
       "      <td>2.000000</td>\n",
       "      <td>1.836200</td>\n",
       "    </tr>\n",
       "    <tr>\n",
       "      <th>Winter Valley</th>\n",
       "      <td>0.033052</td>\n",
       "      <td>0.044843</td>\n",
       "      <td>0.012444</td>\n",
       "      <td>1.016354</td>\n",
       "      <td>1.009760</td>\n",
       "      <td>1.968889</td>\n",
       "      <td>1.798861</td>\n",
       "    </tr>\n",
       "    <tr>\n",
       "      <th>Smythes Creek</th>\n",
       "      <td>0.054822</td>\n",
       "      <td>0.044276</td>\n",
       "      <td>0.012444</td>\n",
       "      <td>1.031983</td>\n",
       "      <td>1.009539</td>\n",
       "      <td>1.968889</td>\n",
       "      <td>1.798646</td>\n",
       "    </tr>\n",
       "    <tr>\n",
       "      <th>Footscray</th>\n",
       "      <td>0.054822</td>\n",
       "      <td>2.255064</td>\n",
       "      <td>0.005625</td>\n",
       "      <td>1.031983</td>\n",
       "      <td>1.582917</td>\n",
       "      <td>1.218750</td>\n",
       "      <td>1.794795</td>\n",
       "    </tr>\n",
       "    <tr>\n",
       "      <th>Mambourin</th>\n",
       "      <td>0.130656</td>\n",
       "      <td>0.147792</td>\n",
       "      <td>0.012174</td>\n",
       "      <td>1.086426</td>\n",
       "      <td>1.035463</td>\n",
       "      <td>1.939130</td>\n",
       "      <td>1.789198</td>\n",
       "    </tr>\n",
       "  </tbody>\n",
       "</table>\n",
       "</div>"
      ],
      "text/plain": [
       "                 crime_rate  liveability  affordability  crime_rate_scaled  \\\n",
       "SAL_NAME21                                                                   \n",
       "Kingsbury          0.054822     0.816727       0.012400           1.031983   \n",
       "Prahran            0.054822     2.784739       0.004308           1.031983   \n",
       "South Yarra        0.353561     3.093931       0.004012           1.246455   \n",
       "Melbourne          1.403177     3.803004       0.003704           2.000000   \n",
       "Box Hill (Vic.)    0.054822     2.430719       0.005357           1.031983   \n",
       "Delacombe          0.054822     0.047273       0.012727           1.031983   \n",
       "Winter Valley      0.033052     0.044843       0.012444           1.016354   \n",
       "Smythes Creek      0.054822     0.044276       0.012444           1.031983   \n",
       "Footscray          0.054822     2.255064       0.005625           1.031983   \n",
       "Mambourin          0.130656     0.147792       0.012174           1.086426   \n",
       "\n",
       "                 liveability_scaled  affordability_scaled   combine  \n",
       "SAL_NAME21                                                           \n",
       "Kingsbury                  1.209878              1.964000  2.000000  \n",
       "Prahran                    1.720291              1.073846  1.910944  \n",
       "South Yarra                1.728365              1.041341  1.903921  \n",
       "Melbourne                  1.707107              1.007407  1.849342  \n",
       "Box Hill (Vic.)            1.628474              1.189286  1.843395  \n",
       "Delacombe                  1.010316              2.000000  1.836200  \n",
       "Winter Valley              1.009760              1.968889  1.798861  \n",
       "Smythes Creek              1.009539              1.968889  1.798646  \n",
       "Footscray                  1.582917              1.218750  1.794795  \n",
       "Mambourin                  1.035463              1.939130  1.789198  "
      ]
     },
     "execution_count": 13,
     "metadata": {},
     "output_type": "execute_result"
    }
   ],
   "source": [
    "# the rmsq sum of livability and affordability to combine the two\n",
    "rent_afford['combine'] = np.sqrt(1.6*(rent_afford['liveability_scaled'])**2 + (rent_afford['affordability_scaled'])**2)\n",
    "rent_afford['combine'] = (rent_afford['combine']-rent_afford['combine'].min())/(rent_afford['combine'].max()-rent_afford['combine'].min()) + 1\n",
    "rent_afford.sort_values('combine', ascending=False)[0:10]"
   ]
  },
  {
   "cell_type": "code",
   "execution_count": 14,
   "id": "566503fe-f8c7-4406-b0b7-00afe44a5ad7",
   "metadata": {},
   "outputs": [],
   "source": [
    "afford_top10 = rent_afford.sort_values('combine', ascending=False)[0:10]"
   ]
  },
  {
   "cell_type": "code",
   "execution_count": 15,
   "id": "426c4920-7bbc-460d-8d28-c50b6f90dbd7",
   "metadata": {},
   "outputs": [],
   "source": [
    "afford_top10 = afford_top10.sort_values('combine', ascending=True)"
   ]
  },
  {
   "cell_type": "code",
   "execution_count": 16,
   "id": "23cb7c52-a0ac-4ca6-977b-f29f2d517ea2",
   "metadata": {},
   "outputs": [],
   "source": [
    "afford_top10 = afford_top10[['liveability_scaled', 'affordability_scaled', 'combine']]"
   ]
  },
  {
   "cell_type": "markdown",
   "id": "03f5bdce",
   "metadata": {},
   "source": [
    "### Visualisation"
   ]
  },
  {
   "cell_type": "code",
   "execution_count": 17,
   "id": "0661d403-79c0-4f04-8806-c0b905bcc19b",
   "metadata": {},
   "outputs": [
    {
     "data": {
      "image/png": "[encoded data removed]",
      "text/plain": [
       "<Figure size 640x480 with 1 Axes>"
      ]
     },
     "metadata": {},
     "output_type": "display_data"
    }
   ],
   "source": [
    "# visualisation\n",
    "afford_top10.plot(kind='barh', width=0.8, color = ['skyblue','lavender','orange'])  \n",
    "\n",
    "plt.title('Most Livable and Affordable Suburbs')\n",
    "plt.ylabel('Suburb')\n",
    "plt.xlabel('Score')\n",
    "plt.tight_layout()\n",
    "plt.legend(['livability','affordability','combined_score'], loc = 'lower right')\n",
    "plt.savefig('../plots/most_livable_and_affordable_suburbs')\n",
    "plt.show()"
   ]
  },
  {
   "cell_type": "markdown",
   "id": "628b2dc9-23b7-492a-80c5-d6510c86db7b",
   "metadata": {},
   "source": [
    "# Geovisualisation"
   ]
  },
  {
   "cell_type": "code",
   "execution_count": 18,
   "id": "bf5689f6-0237-412d-a110-37ea5d9fdee1",
   "metadata": {},
   "outputs": [],
   "source": [
    "# Path to the SAL files\n",
    "SAL_file_path = '../data/landing/SAL_2021_AUST_GDA2020_SHP/SAL_2021_AUST_GDA2020.shp'\n",
    "# Read the GeoPandas DataFrame from the specified file\n",
    "SAL_region_gdf = gpd.read_file(SAL_file_path)"
   ]
  },
  {
   "cell_type": "code",
   "execution_count": 19,
   "id": "56a7d816-a183-4e30-a54c-67cd6c61396b",
   "metadata": {},
   "outputs": [],
   "source": [
    "# Select the relevant states\n",
    "SAL_region_gdf = SAL_region_gdf.loc[SAL_region_gdf['STE_NAME21']=='Victoria']"
   ]
  },
  {
   "cell_type": "code",
   "execution_count": 20,
   "id": "bff4399e-101e-4002-b458-0c30058cc038",
   "metadata": {},
   "outputs": [],
   "source": [
    "# create a JSON object about location and their respective geomtry\n",
    "geoJSON = SAL_region_gdf[['SAL_NAME21', 'geometry']].to_json()"
   ]
  },
  {
   "cell_type": "markdown",
   "id": "bf5ac019-1618-431c-85a5-9e48be6f6dd6",
   "metadata": {},
   "source": [
    "## Top 10 livable subrubs"
   ]
  },
  {
   "cell_type": "code",
   "execution_count": 21,
   "id": "bf78927d-a2a5-4466-afc6-924b67a0a5fb",
   "metadata": {},
   "outputs": [],
   "source": [
    "# most livable suburbs\n",
    "top10_livable = rent_afford.sort_values('liveability_scaled', ascending=False)[0:10]"
   ]
  },
  {
   "cell_type": "code",
   "execution_count": 22,
   "id": "132524f8-d77c-4d67-a24d-8ffc42f403c8",
   "metadata": {},
   "outputs": [],
   "source": [
    "# get the geo for top 10 \n",
    "top10_livable = pd.merge(top10_livable, SAL_region_gdf, on = 'SAL_NAME21', how = 'inner')"
   ]
  },
  {
   "cell_type": "code",
   "execution_count": 23,
   "id": "bd4e5830-7e78-42cb-b5e4-471e22d2692a",
   "metadata": {},
   "outputs": [],
   "source": [
    "# get the centroid for each suburb for visualisation\n",
    "top10_livable['centroid'] = top10_livable['geometry'].apply(lambda x: (x.centroid.y, x.centroid.x))"
   ]
  },
  {
   "cell_type": "code",
   "execution_count": 24,
   "id": "08de8fbe-7910-4271-9078-55d5ceb03f5d",
   "metadata": {},
   "outputs": [],
   "source": [
    "# plot the map for most livable\n",
    "m1 = folium.Map(location=[-37.8136, 144.9631], tiles=\"Stamen Terrain\", zoom_start=10)\n",
    "\n",
    "folium.Choropleth(\n",
    "    geo_data=geoJSON,\n",
    "    name='top 10 suburbs',\n",
    "    fill_color='yellow',\n",
    ").add_to(m1)\n",
    "\n",
    "# add the label for top suburbs\n",
    "for zone_name, coord in top10_livable[['SAL_NAME21', 'centroid']].values:\n",
    "    folium.Marker(\n",
    "        location=coord, \n",
    "        tooltip=folium.Tooltip(zone_name, permanent=True, direction=\"right\")\n",
    "    ).add_to(m1)\n",
    "m1.save('../plots/livable_geo.html')"
   ]
  },
  {
   "cell_type": "markdown",
   "id": "104aab96-3c66-4778-bbaa-e70246bbc2e8",
   "metadata": {},
   "source": [
    "## TOP 10 affordable suburbs"
   ]
  },
  {
   "cell_type": "code",
   "execution_count": 25,
   "id": "5ef17e4b-0abd-48ec-9242-e13eee216e84",
   "metadata": {},
   "outputs": [],
   "source": [
    "# most affordable suburbs\n",
    "top10_affordable = rent_afford.sort_values('affordability_scaled', ascending=False)[0:10]"
   ]
  },
  {
   "cell_type": "code",
   "execution_count": 26,
   "id": "09baae0e-ae96-4e2f-b42e-0c7023d9c05f",
   "metadata": {},
   "outputs": [],
   "source": [
    "# get the geo for top 10 \n",
    "top10_affordable = pd.merge(top10_affordable, SAL_region_gdf, on = 'SAL_NAME21', how = 'inner')"
   ]
  },
  {
   "cell_type": "code",
   "execution_count": 27,
   "id": "c18b2e76-b2be-46d8-b760-32b8d8007e30",
   "metadata": {},
   "outputs": [],
   "source": [
    "# get the centroid for each suburb for visualisation\n",
    "top10_affordable['centroid'] = top10_affordable['geometry'].apply(lambda x: (x.centroid.y, x.centroid.x))"
   ]
  },
  {
   "cell_type": "code",
   "execution_count": 28,
   "id": "a432612d-e9dd-444f-8a21-4e6e9a9dca6d",
   "metadata": {},
   "outputs": [],
   "source": [
    "# plot the map for most affordable\n",
    "m1 = folium.Map(location=[-37.8136, 144.9631], tiles=\"Stamen Terrain\", zoom_start=10)\n",
    "\n",
    "folium.Choropleth(\n",
    "    geo_data=geoJSON,\n",
    "    name='top 10 suburbs',\n",
    "    fill_color='yellow',\n",
    ").add_to(m1)\n",
    "\n",
    "# add the label for top suburbs\n",
    "for zone_name, coord in top10_affordable[['SAL_NAME21', 'centroid']].values:\n",
    "    folium.Marker(\n",
    "        location=coord, \n",
    "        tooltip=folium.Tooltip(zone_name, permanent=True, direction=\"below\")\n",
    "    ).add_to(m1)\n",
    "m1.save('../plots/affordable_geo.html')"
   ]
  },
  {
   "cell_type": "markdown",
   "id": "0d7d0324-b6cc-4a0a-a060-88538fc65eba",
   "metadata": {},
   "source": [
    "## Combined"
   ]
  },
  {
   "cell_type": "code",
   "execution_count": 29,
   "id": "96506268-9ca7-4b59-b239-f6a67953d76d",
   "metadata": {},
   "outputs": [],
   "source": [
    "# most livable suburbs\n",
    "top10_combine = rent_afford.sort_values('combine', ascending=False)[0:10]"
   ]
  },
  {
   "cell_type": "code",
   "execution_count": 30,
   "id": "b37fece1-6b42-43c0-b5dd-e6923c28960d",
   "metadata": {},
   "outputs": [],
   "source": [
    "# get the geo for top 10 \n",
    "top10_combine = pd.merge(top10_combine, SAL_region_gdf, on = 'SAL_NAME21', how = 'inner')"
   ]
  },
  {
   "cell_type": "code",
   "execution_count": 31,
   "id": "61ba5569-8ce6-4773-aee5-8f94302d5039",
   "metadata": {},
   "outputs": [],
   "source": [
    "# get the centroid for each suburb for visualisation\n",
    "top10_combine['centroid'] = top10_combine['geometry'].apply(lambda x: (x.centroid.y, x.centroid.x))"
   ]
  },
  {
   "cell_type": "code",
   "execution_count": 32,
   "id": "5b284ea9-69cb-4adc-8c20-01979ce1f491",
   "metadata": {},
   "outputs": [],
   "source": [
    "# plot the map for highest combine score\n",
    "m1 = folium.Map(location=[-37.8136, 144.9631], tiles=\"Stamen Terrain\", zoom_start=10)\n",
    "\n",
    "folium.Choropleth(\n",
    "    geo_data=geoJSON,\n",
    "    name='top 10 suburbs',\n",
    "    fill_color='yellow',\n",
    ").add_to(m1)\n",
    "\n",
    "# add the label for top suburbs\n",
    "for zone_name, coord in top10_combine[['SAL_NAME21', 'centroid']].values:\n",
    "    folium.Marker(\n",
    "        location=coord, \n",
    "        tooltip=folium.Tooltip(zone_name, permanent=True, direction=\"below\")\n",
    "    ).add_to(m1)\n",
    "m1.save('../plots/affordable_geo.html')"
   ]
  },
  {
   "cell_type": "code",
   "execution_count": null,
   "id": "4e412f0e-8b13-4555-9335-cde91c19853a",
   "metadata": {},
   "outputs": [],
   "source": []
  }
 ],
 "metadata": {
  "kernelspec": {
   "display_name": "Python 3",
   "language": "python",
   "name": "python3"
  },
  "language_info": {
   "codemirror_mode": {
    "name": "ipython",
    "version": 3
   },
   "file_extension": ".py",
   "mimetype": "text/x-python",
   "name": "python",
   "nbconvert_exporter": "python",
   "pygments_lexer": "ipython3",
   "version": "3.9.17"
  },
  "toc": {
   "base_numbering": 1,
   "nav_menu": {},
   "number_sections": true,
   "sideBar": true,
   "skip_h1_title": false,
   "title_cell": "Table of Contents",
   "title_sidebar": "Contents",
   "toc_cell": false,
   "toc_position": {},
   "toc_section_display": true,
   "toc_window_display": false
  }
 },
 "nbformat": 4,
 "nbformat_minor": 5
}
