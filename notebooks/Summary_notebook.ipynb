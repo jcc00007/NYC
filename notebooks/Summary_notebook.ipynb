{
 "cells": [
  {
   "cell_type": "markdown",
   "metadata": {},
   "source": [
    "# Summary Notebook\n",
    "\n",
    "This notebook contains a \"Table of contents\" and display plots that are relevant to the project.\n",
    "\n"
   ]
  },
  {
   "cell_type": "code",
   "execution_count": 2,
   "metadata": {},
   "outputs": [],
   "source": [
    "# import image module\n",
    "from IPython.display import Image, HTML, display"
   ]
  },
  {
   "cell_type": "markdown",
   "metadata": {
    "jupyter": {
     "outputs_hidden": false
    }
   },
   "source": [
    "# TABLE OF CONTENTS <a name='TOC' />\n",
    "This industry project aims to predict rental prices for both residential properties and apartments throughout Victoria, Australia.\n",
    "\n",
    "We analysed the internal and external features and used the most important features to build the model and make the predictions.\n",
    "\n",
    "We defined our livability and affordability score, to predict the most livable and affordable housing.\n",
    "\n",
    "\n",
    "\n",
    "## **I. Research Area 1 - Preprocess Datasets**\n",
    "\n",
    "\n",
    "\n",
    "[Domain](1.1%20Preprocessing_domain_1.ipynb#section_id4)\n",
    "<a id='section_id4'></a>\n",
    "\n",
    "\n",
    "[Domain_2](1.2%20Preprocessing_domain_2.ipynb#section_id5)\n",
    "<a id='section_id5'></a>\n",
    "\n",
    "[Population_density](1.3%20Preprocessing_population_density.ipynb#section_id6)\n",
    "<a id='section_id6'></a>\n",
    "\n",
    "[Population_count](1.4%20Preprocessing_population_household.ipynb#section_id7)\n",
    "<a id='section_id7'></a>\n",
    "\n",
    "[Dwelling](1.5%20Preprocessing_dwelling.ipynb#section_id8)\n",
    "<a id='section_id8'></a>\n",
    "\n",
    "[Income](1.6%20Preprocessing_income.ipynb#section_id9)\n",
    "<a id='section_id9'></a>\n",
    "\n",
    "[School](1.7%20Preprocessing_school.ipynb#section_id10)\n",
    "<a id='section_id10'></a>\n",
    "\n",
    "[Inflation](1.8%20Preprocessing_inflation.ipynb#section_id11)\n",
    "<a id='section_id11'></a>\n",
    "\n",
    "[Postcode](1.10%20Preprocessing_postcode.ipynb#section_id12)\n",
    "<a id='section_id12'></a>\n",
    "\n",
    "[Park](1.11%20Preprocessing_park.ipynb#section_id13)\n",
    "<a id='section_id13'></a>\n",
    "\n",
    "\n",
    "[SA2](1.12%20Preprocessing_SA2.ipynb#section_id14)\n",
    "<a id='section_id14'></a>\n",
    "\n",
    "[Shopping_center](1.13%20Preprocessing_shopping_center.ipynb#section_id15)\n",
    "<a id='section_id15'></a>\n",
    "\n",
    "[Crime](1.14%20Preprocessing_crime.ipynb#section_id16)\n",
    "<a id='section_id16'></a>\n",
    "\n",
    "\n",
    "[Public_transport](1.15%20Preprocessing_public_transport.ipynb#section_id17)\n",
    "<a id='section_id17'></a>\n",
    "\n",
    "\n",
    "[PTV_aggregation](1.16%20Preprocessing_aggregating_PTV.ipynb#section_id18)\n",
    "<a id='section_id18'></a>\n",
    "\n",
    "\n",
    "[Suburb_shapefile](1.17%20Preprocessing_suburb_shapefile.ipynb#section_id19)\n",
    "<a id='section_id19'></a>\n",
    "\n",
    "\n",
    "[SA2_to_SAL](1.18%20Preprocessing_SA2_to_SAL.ipynb#section_id20)\n",
    "<a id='section_id20'></a>\n",
    "\n",
    "\n",
    "\n",
    "## **II. Research Area 2 - Analysis datasets**\n",
    "\n",
    "\n",
    "[External_ABS](2.1%20Analysing_ABS.ipynb#section_id21)\n",
    "<a id='section_id21'></a>\n",
    "\n",
    "[External_rental](2.2%20Analysing_rental.ipynb#section_id22)\n",
    "<a id='section_id22'></a>\n",
    "\n",
    "[External_park](2.3%20Analysing_rental.ipynb#section_id23)\n",
    "<a id='section_id23'></a>\n",
    "\n",
    "[Crime_SA2](2.4%20Preliminary_Visualisation_Crime_SA2.ipynb#section_id24)\n",
    "<a id='section_id24'></a>\n",
    "\n",
    "[Crime_SAL](2.5%20Preliminary_Visualisation_Crime_SAL.ipynb#section_id25)\n",
    "<a id='section_id25'></a>\n",
    "\n",
    "\n",
    "[Crime_rate](2.6%20Analysing_crime_rate.ipynb#section_id26)\n",
    "<a id='section_id26'></a>\n",
    "\n",
    "[Public_transport](2.7%20Analysing_public_transport.ipynb#section_id27)\n",
    "<a id='section_id27'></a>\n",
    "\n",
    "\n",
    "[Calculate_distance](2.8%20Calculating_distance.ipynb#section_id28)\n",
    "<a id='section_id28'></a>\n",
    "\n",
    "\n",
    "\n",
    "## **III. Research Area 3 - Graphical Analysis**\n",
    "\n",
    "[Public_transport](3.1%20Visualising_public_transport.ipynb#section_id29)\n",
    "<a id='section_id29'></a>\n",
    "\n",
    "[School](3.2%20Visualising_school.ipynb#section_id30)\n",
    "<a id='section_id30'></a>\n",
    "\n",
    "[Rent](3.4%20Geovisualisation_rent.ipynb#section_id31)\n",
    "<a id='section_id31'></a>\n",
    "\n",
    "[Crime](3.5%20Geovisualisation_crime_final.ipynb#section_id32)\n",
    "<a id='section_id32'></a>\n",
    "\n",
    "\n",
    "\n",
    "\n",
    "\n",
    "\n",
    "\n",
    "## **IV. Research Area 4 - Modelling for Explaining Predicted Rental Prices**\n",
    "[Rregression](../models/Regression.ipynb#section_id3)\n",
    "<a id='section_id3'></a>\n",
    "\n",
    "[Time_Series](../models/Time%20Series%20Regression.ipynb#section_id1)\n",
    "<a id='section_id1'></a>\n",
    "\n",
    "\n",
    "\n",
    "## **V. Research Area 5 -  Forecasting Top 10 Suburbs with Highest Rental Growth**\n",
    "\n",
    "[Rental_Growth](../models/Time%20Series%20Regression.ipynb#section_id1)\n",
    "<a id='section_id1'></a>\n",
    "\n",
    "\n",
    "## **VI. Research Area 6 - Determining top 10 most livable and affordable suburbs in Victoria**\n",
    "[Livability_Affordability](Livability_Affordability.ipynb#section_id2)\n",
    "<a id='section_id2'></a>\n",
    "\n",
    "\n"
   ]
  },
  {
   "cell_type": "markdown",
   "metadata": {
    "jupyter": {
     "outputs_hidden": false
    }
   },
   "source": [
    "# Graphical Analysis\n",
    "\n",
    "## Aim\n",
    "Do a preliminary visualisation of several internal and external attributes to obtain an insight of what attributes are important in explaining the rental prices for both residential properties and apartments throughout Victoria."
   ]
  },
  {
   "cell_type": "markdown",
   "metadata": {},
   "source": [
    "# Geovisualisation"
   ]
  },
  {
   "cell_type": "markdown",
   "metadata": {},
   "source": [
    "## Median Rental Prices per property by SA2"
   ]
  },
  {
   "cell_type": "code",
   "execution_count": 20,
   "metadata": {},
   "outputs": [
    {
     "data": {
      "text/html": [
       "<img src=\"../plots/rental_greater_melbourne_geo.png\" width=\"500\" height=\"300\"/>"
      ],
      "text/plain": [
       "<IPython.core.display.Image object>"
      ]
     },
     "execution_count": 20,
     "metadata": {},
     "output_type": "execute_result"
    }
   ],
   "source": [
    "Image(url = '../plots/rental_greater_melbourne_geo.png', width = 500, height = 300)"
   ]
  },
  {
   "cell_type": "code",
   "execution_count": 21,
   "metadata": {},
   "outputs": [
    {
     "data": {
      "text/html": [
       "<img src=\"../plots/rental_victoria_geo.png\" width=\"500\" height=\"300\"/>"
      ],
      "text/plain": [
       "<IPython.core.display.Image object>"
      ]
     },
     "execution_count": 21,
     "metadata": {},
     "output_type": "execute_result"
    }
   ],
   "source": [
    "Image(url = '../plots/rental_victoria_geo.png', width = 500, height = 300)"
   ]
  },
  {
   "cell_type": "markdown",
   "metadata": {},
   "source": [
    "##  Median Rental Prices per room by SA2  <a name='bookmarkGA1' />\n"
   ]
  },
  {
   "cell_type": "code",
   "execution_count": 17,
   "metadata": {},
   "outputs": [
    {
     "data": {
      "text/html": [
       "<img src=\"../plots/rental_pr_greater_melbourne_geo.png\" width=\"500\" height=\"300\"/>"
      ],
      "text/plain": [
       "<IPython.core.display.Image object>"
      ]
     },
     "execution_count": 17,
     "metadata": {},
     "output_type": "execute_result"
    }
   ],
   "source": [
    "Image(url = '../plots/rental_pr_greater_melbourne_geo.png', width = 500, height = 300)"
   ]
  },
  {
   "cell_type": "code",
   "execution_count": 19,
   "metadata": {},
   "outputs": [
    {
     "data": {
      "text/html": [
       "<img src=\"../plots/rental_pr_victoria_geo.png\" width=\"500\" height=\"300\"/>"
      ],
      "text/plain": [
       "<IPython.core.display.Image object>"
      ]
     },
     "execution_count": 19,
     "metadata": {},
     "output_type": "execute_result"
    }
   ],
   "source": [
    "Image(url = '../plots/rental_pr_victoria_geo.png', width = 500, height = 300)"
   ]
  },
  {
   "cell_type": "markdown",
   "metadata": {},
   "source": [
    "## Public transport station count im each SAL(suburb)"
   ]
  },
  {
   "cell_type": "code",
   "execution_count": 15,
   "metadata": {},
   "outputs": [
    {
     "data": {
      "text/html": [
       "<img src=\"../plots/Public_transport_station_count.PNG\" width=\"500\" height=\"300\"/>"
      ],
      "text/plain": [
       "<IPython.core.display.Image object>"
      ]
     },
     "execution_count": 15,
     "metadata": {},
     "output_type": "execute_result"
    }
   ],
   "source": [
    "Image(url = '../plots/Public_transport_station_count.PNG', width = 500, height = 300)"
   ]
  },
  {
   "cell_type": "markdown",
   "metadata": {},
   "source": [
    "## School count per SAL(suburb)"
   ]
  },
  {
   "cell_type": "code",
   "execution_count": 14,
   "metadata": {},
   "outputs": [
    {
     "data": {
      "text/html": [
       "<img src=\"../plots/School_count_per_SAL.PNG\" width=\"500\" height=\"300\"/>"
      ],
      "text/plain": [
       "<IPython.core.display.Image object>"
      ]
     },
     "execution_count": 14,
     "metadata": {},
     "output_type": "execute_result"
    }
   ],
   "source": [
    "Image(url = '../plots/School_count_per_SAL.PNG', width = 500, height = 300)"
   ]
  },
  {
   "cell_type": "markdown",
   "metadata": {},
   "source": [
    "## Top 5 suburbs with the highest crime rate"
   ]
  },
  {
   "cell_type": "code",
   "execution_count": 11,
   "metadata": {},
   "outputs": [
    {
     "data": {
      "text/html": [
       "<img src=\"../plots/Crime_rate_per_SAL.png\" width=\"500\" height=\"300\"/>"
      ],
      "text/plain": [
       "<IPython.core.display.Image object>"
      ]
     },
     "execution_count": 11,
     "metadata": {},
     "output_type": "execute_result"
    }
   ],
   "source": [
    "Image(url = '../plots/Crime_rate_per_SAL.png', width = 500, height = 300)\n"
   ]
  },
  {
   "cell_type": "markdown",
   "metadata": {},
   "source": [
    "## Top 10 suburb rent price growth rate from 2023 to 2026"
   ]
  },
  {
   "cell_type": "code",
   "execution_count": 13,
   "metadata": {},
   "outputs": [
    {
     "data": {
      "text/html": [
       "<img src=\"../plots/predicted_growth_rate.png\" width=\"500\" height=\"300\"/>"
      ],
      "text/plain": [
       "<IPython.core.display.Image object>"
      ]
     },
     "execution_count": 13,
     "metadata": {},
     "output_type": "execute_result"
    }
   ],
   "source": [
    "Image(url = '../plots/predicted_growth_rate.png', width = 500, height = 300)"
   ]
  },
  {
   "cell_type": "code",
   "execution_count": 14,
   "metadata": {},
   "outputs": [
    {
     "data": {
      "text/html": [
       "<img src=\"../plots/time_series_rent_growth.png\" width=\"500\" height=\"300\"/>"
      ],
      "text/plain": [
       "<IPython.core.display.Image object>"
      ]
     },
     "execution_count": 14,
     "metadata": {},
     "output_type": "execute_result"
    }
   ],
   "source": [
    "Image(url = '../plots/time_series_rent_growth.png', width = 500, height = 300)"
   ]
  },
  {
   "cell_type": "markdown",
   "metadata": {},
   "source": [
    "## Top 10 Suburb Population Density Growth 2023-2026"
   ]
  },
  {
   "cell_type": "code",
   "execution_count": 16,
   "metadata": {},
   "outputs": [
    {
     "data": {
      "text/html": [
       "<img src=\"../plots/predicted_density_growth.png\" width=\"500\" height=\"300\"/>"
      ],
      "text/plain": [
       "<IPython.core.display.Image object>"
      ]
     },
     "execution_count": 16,
     "metadata": {},
     "output_type": "execute_result"
    }
   ],
   "source": [
    "Image(url = '../plots/predicted_density_growth.png', width = 500, height = 300)"
   ]
  },
  {
   "cell_type": "markdown",
   "metadata": {},
   "source": [
    "## Most livable"
   ]
  },
  {
   "cell_type": "code",
   "execution_count": 12,
   "metadata": {},
   "outputs": [
    {
     "data": {
      "text/html": [
       "<img src=\"../plots/livable_geo.png\" width=\"500\" height=\"300\"/>"
      ],
      "text/plain": [
       "<IPython.core.display.Image object>"
      ]
     },
     "execution_count": 12,
     "metadata": {},
     "output_type": "execute_result"
    }
   ],
   "source": [
    "Image(url = '../plots/livable_geo.png', width = 500, height = 300)"
   ]
  },
  {
   "cell_type": "markdown",
   "metadata": {},
   "source": [
    "## Most affordable"
   ]
  },
  {
   "cell_type": "code",
   "execution_count": 13,
   "metadata": {},
   "outputs": [
    {
     "data": {
      "text/html": [
       "<img src=\"../plots/affordable_geo.png\" width=\"500\" height=\"300\"/>"
      ],
      "text/plain": [
       "<IPython.core.display.Image object>"
      ]
     },
     "execution_count": 13,
     "metadata": {},
     "output_type": "execute_result"
    }
   ],
   "source": [
    "Image(url = '../plots/affordable_geo.png', width = 500, height = 300)"
   ]
  },
  {
   "cell_type": "code",
   "execution_count": null,
   "metadata": {},
   "outputs": [],
   "source": []
  }
 ],
 "metadata": {
  "kernelspec": {
   "display_name": "Python 3",
   "language": "python",
   "name": "python3"
  },
  "language_info": {
   "codemirror_mode": {
    "name": "ipython",
    "version": 3
   },
   "file_extension": ".py",
   "mimetype": "text/x-python",
   "name": "python",
   "nbconvert_exporter": "python",
   "pygments_lexer": "ipython3",
   "version": "3.9.17"
  },
  "toc": {
   "base_numbering": 1,
   "nav_menu": {},
   "number_sections": true,
   "sideBar": true,
   "skip_h1_title": false,
   "title_cell": "Table of Contents",
   "title_sidebar": "Contents",
   "toc_cell": false,
   "toc_position": {},
   "toc_section_display": true,
   "toc_window_display": false
  }
 },
 "nbformat": 4,
 "nbformat_minor": 4
}
